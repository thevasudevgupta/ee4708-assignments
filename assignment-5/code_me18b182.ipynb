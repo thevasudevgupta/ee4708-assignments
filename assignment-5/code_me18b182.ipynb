{
 "cells": [
  {
   "cell_type": "code",
   "execution_count": 1,
   "metadata": {},
   "outputs": [],
   "source": [
    "import re\n",
    "import numpy as np\n",
    "import pandas as pd\n",
    "\n",
    "from sklearn import tree\n",
    "from sklearn.ensemble import RandomForestClassifier\n",
    "from sklearn.model_selection import KFold, cross_val_score, StratifiedKFold\n",
    "from sklearn.metrics import make_scorer, accuracy_score, f1_score, matthews_corrcoef\n",
    "from sklearn.preprocessing import OrdinalEncoder, LabelEncoder"
   ]
  },
  {
   "cell_type": "code",
   "execution_count": 2,
   "metadata": {},
   "outputs": [
    {
     "data": {
      "text/html": [
       "        <script type=\"text/javascript\">\n",
       "        window.PlotlyConfig = {MathJaxConfig: 'local'};\n",
       "        if (window.MathJax) {MathJax.Hub.Config({SVG: {font: \"STIX-Web\"}});}\n",
       "        if (typeof require !== 'undefined') {\n",
       "        require.undef(\"plotly\");\n",
       "        requirejs.config({\n",
       "            paths: {\n",
       "                'plotly': ['https://cdn.plot.ly/plotly-2.4.2.min']\n",
       "            }\n",
       "        });\n",
       "        require(['plotly'], function(Plotly) {\n",
       "            window._Plotly = Plotly;\n",
       "        });\n",
       "        }\n",
       "        </script>\n",
       "        "
      ]
     },
     "metadata": {},
     "output_type": "display_data"
    },
    {
     "data": {
      "text/html": [
       "        <script type=\"text/javascript\">\n",
       "        window.PlotlyConfig = {MathJaxConfig: 'local'};\n",
       "        if (window.MathJax) {MathJax.Hub.Config({SVG: {font: \"STIX-Web\"}});}\n",
       "        if (typeof require !== 'undefined') {\n",
       "        require.undef(\"plotly\");\n",
       "        requirejs.config({\n",
       "            paths: {\n",
       "                'plotly': ['https://cdn.plot.ly/plotly-2.4.2.min']\n",
       "            }\n",
       "        });\n",
       "        require(['plotly'], function(Plotly) {\n",
       "            window._Plotly = Plotly;\n",
       "        });\n",
       "        }\n",
       "        </script>\n",
       "        "
      ]
     },
     "metadata": {},
     "output_type": "display_data"
    }
   ],
   "source": [
    "%matplotlib inline \n",
    "\n",
    "import matplotlib.pyplot as plt\n",
    "import seaborn as sns\n",
    "sns.set_style('darkgrid')\n",
    "import cufflinks as cf\n",
    "import chart_studio.plotly as py\n",
    "import plotly.express as px\n",
    "import plotly.graph_objects as go\n",
    "import plotly.figure_factory as ff\n",
    "from plotly.subplots import make_subplots\n",
    "import plotly.io as pio\n",
    "\n",
    "from plotly.offline import download_plotlyjs, init_notebook_mode, plot, iplot\n",
    "init_notebook_mode(connected=True)\n",
    "cf.go_offline()"
   ]
  },
  {
   "cell_type": "code",
   "execution_count": 3,
   "metadata": {},
   "outputs": [
    {
     "data": {
      "text/plain": [
       "(1728, 7)"
      ]
     },
     "execution_count": 3,
     "metadata": {},
     "output_type": "execute_result"
    }
   ],
   "source": [
    "car_df = pd.read_csv(\"car_evaluation.csv\", index_col= None, header=None)\n",
    "car_df.shape"
   ]
  },
  {
   "cell_type": "code",
   "execution_count": 4,
   "metadata": {},
   "outputs": [
    {
     "data": {
      "text/html": [
       "<div>\n",
       "<style scoped>\n",
       "    .dataframe tbody tr th:only-of-type {\n",
       "        vertical-align: middle;\n",
       "    }\n",
       "\n",
       "    .dataframe tbody tr th {\n",
       "        vertical-align: top;\n",
       "    }\n",
       "\n",
       "    .dataframe thead th {\n",
       "        text-align: right;\n",
       "    }\n",
       "</style>\n",
       "<table border=\"1\" class=\"dataframe\">\n",
       "  <thead>\n",
       "    <tr style=\"text-align: right;\">\n",
       "      <th></th>\n",
       "      <th>0</th>\n",
       "      <th>1</th>\n",
       "      <th>2</th>\n",
       "      <th>3</th>\n",
       "      <th>4</th>\n",
       "      <th>5</th>\n",
       "      <th>6</th>\n",
       "    </tr>\n",
       "  </thead>\n",
       "  <tbody>\n",
       "    <tr>\n",
       "      <th>0</th>\n",
       "      <td>vhigh</td>\n",
       "      <td>vhigh</td>\n",
       "      <td>2</td>\n",
       "      <td>2</td>\n",
       "      <td>small</td>\n",
       "      <td>low</td>\n",
       "      <td>unacc</td>\n",
       "    </tr>\n",
       "    <tr>\n",
       "      <th>1</th>\n",
       "      <td>vhigh</td>\n",
       "      <td>vhigh</td>\n",
       "      <td>2</td>\n",
       "      <td>2</td>\n",
       "      <td>small</td>\n",
       "      <td>med</td>\n",
       "      <td>unacc</td>\n",
       "    </tr>\n",
       "    <tr>\n",
       "      <th>2</th>\n",
       "      <td>vhigh</td>\n",
       "      <td>vhigh</td>\n",
       "      <td>2</td>\n",
       "      <td>2</td>\n",
       "      <td>small</td>\n",
       "      <td>high</td>\n",
       "      <td>unacc</td>\n",
       "    </tr>\n",
       "    <tr>\n",
       "      <th>3</th>\n",
       "      <td>vhigh</td>\n",
       "      <td>vhigh</td>\n",
       "      <td>2</td>\n",
       "      <td>2</td>\n",
       "      <td>med</td>\n",
       "      <td>low</td>\n",
       "      <td>unacc</td>\n",
       "    </tr>\n",
       "    <tr>\n",
       "      <th>4</th>\n",
       "      <td>vhigh</td>\n",
       "      <td>vhigh</td>\n",
       "      <td>2</td>\n",
       "      <td>2</td>\n",
       "      <td>med</td>\n",
       "      <td>med</td>\n",
       "      <td>unacc</td>\n",
       "    </tr>\n",
       "  </tbody>\n",
       "</table>\n",
       "</div>"
      ],
      "text/plain": [
       "       0      1  2  3      4     5      6\n",
       "0  vhigh  vhigh  2  2  small   low  unacc\n",
       "1  vhigh  vhigh  2  2  small   med  unacc\n",
       "2  vhigh  vhigh  2  2  small  high  unacc\n",
       "3  vhigh  vhigh  2  2    med   low  unacc\n",
       "4  vhigh  vhigh  2  2    med   med  unacc"
      ]
     },
     "execution_count": 4,
     "metadata": {},
     "output_type": "execute_result"
    }
   ],
   "source": [
    "car_df.head()"
   ]
  },
  {
   "cell_type": "code",
   "execution_count": 5,
   "metadata": {},
   "outputs": [],
   "source": [
    "coln_map = dict({0:\"Price\",\n",
    "                 1:\"Maintenance\",\n",
    "                 2:\"NumDoors\",\n",
    "                 3:\"NumPersons\",\n",
    "                 4:\"LugBoot\",\n",
    "                 5:\"Safety\",\n",
    "                 6:\"Class\"})\n",
    "car_df.rename(columns = coln_map, inplace=True)"
   ]
  },
  {
   "cell_type": "code",
   "execution_count": 6,
   "metadata": {},
   "outputs": [
    {
     "data": {
      "text/html": [
       "<div>\n",
       "<style scoped>\n",
       "    .dataframe tbody tr th:only-of-type {\n",
       "        vertical-align: middle;\n",
       "    }\n",
       "\n",
       "    .dataframe tbody tr th {\n",
       "        vertical-align: top;\n",
       "    }\n",
       "\n",
       "    .dataframe thead th {\n",
       "        text-align: right;\n",
       "    }\n",
       "</style>\n",
       "<table border=\"1\" class=\"dataframe\">\n",
       "  <thead>\n",
       "    <tr style=\"text-align: right;\">\n",
       "      <th></th>\n",
       "      <th>Price</th>\n",
       "      <th>Maintenance</th>\n",
       "      <th>NumDoors</th>\n",
       "      <th>NumPersons</th>\n",
       "      <th>LugBoot</th>\n",
       "      <th>Safety</th>\n",
       "      <th>Class</th>\n",
       "    </tr>\n",
       "  </thead>\n",
       "  <tbody>\n",
       "    <tr>\n",
       "      <th>0</th>\n",
       "      <td>vhigh</td>\n",
       "      <td>vhigh</td>\n",
       "      <td>2</td>\n",
       "      <td>2</td>\n",
       "      <td>small</td>\n",
       "      <td>low</td>\n",
       "      <td>unacc</td>\n",
       "    </tr>\n",
       "    <tr>\n",
       "      <th>1</th>\n",
       "      <td>vhigh</td>\n",
       "      <td>vhigh</td>\n",
       "      <td>2</td>\n",
       "      <td>2</td>\n",
       "      <td>small</td>\n",
       "      <td>med</td>\n",
       "      <td>unacc</td>\n",
       "    </tr>\n",
       "    <tr>\n",
       "      <th>2</th>\n",
       "      <td>vhigh</td>\n",
       "      <td>vhigh</td>\n",
       "      <td>2</td>\n",
       "      <td>2</td>\n",
       "      <td>small</td>\n",
       "      <td>high</td>\n",
       "      <td>unacc</td>\n",
       "    </tr>\n",
       "    <tr>\n",
       "      <th>3</th>\n",
       "      <td>vhigh</td>\n",
       "      <td>vhigh</td>\n",
       "      <td>2</td>\n",
       "      <td>2</td>\n",
       "      <td>med</td>\n",
       "      <td>low</td>\n",
       "      <td>unacc</td>\n",
       "    </tr>\n",
       "    <tr>\n",
       "      <th>4</th>\n",
       "      <td>vhigh</td>\n",
       "      <td>vhigh</td>\n",
       "      <td>2</td>\n",
       "      <td>2</td>\n",
       "      <td>med</td>\n",
       "      <td>med</td>\n",
       "      <td>unacc</td>\n",
       "    </tr>\n",
       "  </tbody>\n",
       "</table>\n",
       "</div>"
      ],
      "text/plain": [
       "   Price Maintenance NumDoors NumPersons LugBoot Safety  Class\n",
       "0  vhigh       vhigh        2          2   small    low  unacc\n",
       "1  vhigh       vhigh        2          2   small    med  unacc\n",
       "2  vhigh       vhigh        2          2   small   high  unacc\n",
       "3  vhigh       vhigh        2          2     med    low  unacc\n",
       "4  vhigh       vhigh        2          2     med    med  unacc"
      ]
     },
     "execution_count": 6,
     "metadata": {},
     "output_type": "execute_result"
    }
   ],
   "source": [
    "car_df.head()"
   ]
  },
  {
   "cell_type": "markdown",
   "metadata": {},
   "source": [
    "#### Column Nomenclature\n",
    "\n",
    "1. **Price** - Buying price\n",
    "2. **Maintenance** - Cost of maintenance\n",
    "3. **NumDoors** - Number of doors\n",
    "4. **NumPersons** - Capacity of the car (in terms of the number of people it can carry)\n",
    "5. **LugBoot** - Size of the luggage boot\n",
    "6. **Safety** - Estimated safety of the car"
   ]
  },
  {
   "cell_type": "code",
   "execution_count": 7,
   "metadata": {},
   "outputs": [
    {
     "name": "stdout",
     "output_type": "stream",
     "text": [
      "<class 'pandas.core.frame.DataFrame'>\n",
      "RangeIndex: 1728 entries, 0 to 1727\n",
      "Data columns (total 7 columns):\n",
      " #   Column       Non-Null Count  Dtype \n",
      "---  ------       --------------  ----- \n",
      " 0   Price        1728 non-null   object\n",
      " 1   Maintenance  1728 non-null   object\n",
      " 2   NumDoors     1728 non-null   object\n",
      " 3   NumPersons   1728 non-null   object\n",
      " 4   LugBoot      1728 non-null   object\n",
      " 5   Safety       1728 non-null   object\n",
      " 6   Class        1728 non-null   object\n",
      "dtypes: object(7)\n",
      "memory usage: 94.6+ KB\n"
     ]
    }
   ],
   "source": [
    "car_df.info()"
   ]
  },
  {
   "cell_type": "code",
   "execution_count": 8,
   "metadata": {
    "scrolled": true
   },
   "outputs": [
    {
     "data": {
      "text/plain": [
       "high     432\n",
       "med      432\n",
       "vhigh    432\n",
       "low      432\n",
       "Name: Price, dtype: int64"
      ]
     },
     "execution_count": 8,
     "metadata": {},
     "output_type": "execute_result"
    }
   ],
   "source": [
    "car_df.Price.value_counts()"
   ]
  },
  {
   "cell_type": "code",
   "execution_count": 9,
   "metadata": {
    "scrolled": true
   },
   "outputs": [
    {
     "data": {
      "text/plain": [
       "high     432\n",
       "med      432\n",
       "vhigh    432\n",
       "low      432\n",
       "Name: Maintenance, dtype: int64"
      ]
     },
     "execution_count": 9,
     "metadata": {},
     "output_type": "execute_result"
    }
   ],
   "source": [
    "car_df.Maintenance.value_counts()"
   ]
  },
  {
   "cell_type": "code",
   "execution_count": 10,
   "metadata": {
    "scrolled": true
   },
   "outputs": [
    {
     "data": {
      "text/plain": [
       "5more    432\n",
       "3        432\n",
       "2        432\n",
       "4        432\n",
       "Name: NumDoors, dtype: int64"
      ]
     },
     "execution_count": 10,
     "metadata": {},
     "output_type": "execute_result"
    }
   ],
   "source": [
    "car_df.NumDoors.value_counts()"
   ]
  },
  {
   "cell_type": "code",
   "execution_count": 11,
   "metadata": {},
   "outputs": [
    {
     "data": {
      "text/plain": [
       "more    576\n",
       "2       576\n",
       "4       576\n",
       "Name: NumPersons, dtype: int64"
      ]
     },
     "execution_count": 11,
     "metadata": {},
     "output_type": "execute_result"
    }
   ],
   "source": [
    "car_df.NumPersons.value_counts()"
   ]
  },
  {
   "cell_type": "code",
   "execution_count": 12,
   "metadata": {},
   "outputs": [
    {
     "data": {
      "text/plain": [
       "big      576\n",
       "med      576\n",
       "small    576\n",
       "Name: LugBoot, dtype: int64"
      ]
     },
     "execution_count": 12,
     "metadata": {},
     "output_type": "execute_result"
    }
   ],
   "source": [
    "car_df.LugBoot.value_counts()"
   ]
  },
  {
   "cell_type": "code",
   "execution_count": 13,
   "metadata": {},
   "outputs": [
    {
     "data": {
      "text/plain": [
       "high    576\n",
       "med     576\n",
       "low     576\n",
       "Name: Safety, dtype: int64"
      ]
     },
     "execution_count": 13,
     "metadata": {},
     "output_type": "execute_result"
    }
   ],
   "source": [
    "car_df.Safety.value_counts()"
   ]
  },
  {
   "cell_type": "code",
   "execution_count": 14,
   "metadata": {
    "scrolled": true
   },
   "outputs": [
    {
     "data": {
      "text/plain": [
       "unacc    1210\n",
       "acc       384\n",
       "good       69\n",
       "vgood      65\n",
       "Name: Class, dtype: int64"
      ]
     },
     "execution_count": 14,
     "metadata": {},
     "output_type": "execute_result"
    }
   ],
   "source": [
    "car_df.Class.value_counts()"
   ]
  },
  {
   "cell_type": "code",
   "execution_count": 15,
   "metadata": {},
   "outputs": [],
   "source": [
    "class_frac = car_df.Class.value_counts()/len(car_df.Class)"
   ]
  },
  {
   "cell_type": "code",
   "execution_count": 16,
   "metadata": {},
   "outputs": [
    {
     "data": {
      "application/vnd.plotly.v1+json": {
       "config": {
        "plotlyServerURL": "https://plot.ly"
       },
       "data": [
        {
         "hole": 0.4,
         "insidetextfont": {
          "color": "white",
          "family": "Arial",
          "size": 14
         },
         "labels": [
          "Unacceptable",
          "Acceptable",
          "Good",
          "Very Good"
         ],
         "type": "pie",
         "values": [
          0.7002314814814815,
          0.2222222222222222,
          0.03993055555555555,
          0.03761574074074074
         ]
        }
       ],
       "layout": {
        "height": 450,
        "legend": {
         "font": {
          "color": "black",
          "family": "Arial",
          "size": 14
         }
        },
        "template": {
         "data": {
          "bar": [
           {
            "error_x": {
             "color": "#2a3f5f"
            },
            "error_y": {
             "color": "#2a3f5f"
            },
            "marker": {
             "line": {
              "color": "#E5ECF6",
              "width": 0.5
             },
             "pattern": {
              "fillmode": "overlay",
              "size": 10,
              "solidity": 0.2
             }
            },
            "type": "bar"
           }
          ],
          "barpolar": [
           {
            "marker": {
             "line": {
              "color": "#E5ECF6",
              "width": 0.5
             },
             "pattern": {
              "fillmode": "overlay",
              "size": 10,
              "solidity": 0.2
             }
            },
            "type": "barpolar"
           }
          ],
          "carpet": [
           {
            "aaxis": {
             "endlinecolor": "#2a3f5f",
             "gridcolor": "white",
             "linecolor": "white",
             "minorgridcolor": "white",
             "startlinecolor": "#2a3f5f"
            },
            "baxis": {
             "endlinecolor": "#2a3f5f",
             "gridcolor": "white",
             "linecolor": "white",
             "minorgridcolor": "white",
             "startlinecolor": "#2a3f5f"
            },
            "type": "carpet"
           }
          ],
          "choropleth": [
           {
            "colorbar": {
             "outlinewidth": 0,
             "ticks": ""
            },
            "type": "choropleth"
           }
          ],
          "contour": [
           {
            "colorbar": {
             "outlinewidth": 0,
             "ticks": ""
            },
            "colorscale": [
             [
              0,
              "#0d0887"
             ],
             [
              0.1111111111111111,
              "#46039f"
             ],
             [
              0.2222222222222222,
              "#7201a8"
             ],
             [
              0.3333333333333333,
              "#9c179e"
             ],
             [
              0.4444444444444444,
              "#bd3786"
             ],
             [
              0.5555555555555556,
              "#d8576b"
             ],
             [
              0.6666666666666666,
              "#ed7953"
             ],
             [
              0.7777777777777778,
              "#fb9f3a"
             ],
             [
              0.8888888888888888,
              "#fdca26"
             ],
             [
              1,
              "#f0f921"
             ]
            ],
            "type": "contour"
           }
          ],
          "contourcarpet": [
           {
            "colorbar": {
             "outlinewidth": 0,
             "ticks": ""
            },
            "type": "contourcarpet"
           }
          ],
          "heatmap": [
           {
            "colorbar": {
             "outlinewidth": 0,
             "ticks": ""
            },
            "colorscale": [
             [
              0,
              "#0d0887"
             ],
             [
              0.1111111111111111,
              "#46039f"
             ],
             [
              0.2222222222222222,
              "#7201a8"
             ],
             [
              0.3333333333333333,
              "#9c179e"
             ],
             [
              0.4444444444444444,
              "#bd3786"
             ],
             [
              0.5555555555555556,
              "#d8576b"
             ],
             [
              0.6666666666666666,
              "#ed7953"
             ],
             [
              0.7777777777777778,
              "#fb9f3a"
             ],
             [
              0.8888888888888888,
              "#fdca26"
             ],
             [
              1,
              "#f0f921"
             ]
            ],
            "type": "heatmap"
           }
          ],
          "heatmapgl": [
           {
            "colorbar": {
             "outlinewidth": 0,
             "ticks": ""
            },
            "colorscale": [
             [
              0,
              "#0d0887"
             ],
             [
              0.1111111111111111,
              "#46039f"
             ],
             [
              0.2222222222222222,
              "#7201a8"
             ],
             [
              0.3333333333333333,
              "#9c179e"
             ],
             [
              0.4444444444444444,
              "#bd3786"
             ],
             [
              0.5555555555555556,
              "#d8576b"
             ],
             [
              0.6666666666666666,
              "#ed7953"
             ],
             [
              0.7777777777777778,
              "#fb9f3a"
             ],
             [
              0.8888888888888888,
              "#fdca26"
             ],
             [
              1,
              "#f0f921"
             ]
            ],
            "type": "heatmapgl"
           }
          ],
          "histogram": [
           {
            "marker": {
             "pattern": {
              "fillmode": "overlay",
              "size": 10,
              "solidity": 0.2
             }
            },
            "type": "histogram"
           }
          ],
          "histogram2d": [
           {
            "colorbar": {
             "outlinewidth": 0,
             "ticks": ""
            },
            "colorscale": [
             [
              0,
              "#0d0887"
             ],
             [
              0.1111111111111111,
              "#46039f"
             ],
             [
              0.2222222222222222,
              "#7201a8"
             ],
             [
              0.3333333333333333,
              "#9c179e"
             ],
             [
              0.4444444444444444,
              "#bd3786"
             ],
             [
              0.5555555555555556,
              "#d8576b"
             ],
             [
              0.6666666666666666,
              "#ed7953"
             ],
             [
              0.7777777777777778,
              "#fb9f3a"
             ],
             [
              0.8888888888888888,
              "#fdca26"
             ],
             [
              1,
              "#f0f921"
             ]
            ],
            "type": "histogram2d"
           }
          ],
          "histogram2dcontour": [
           {
            "colorbar": {
             "outlinewidth": 0,
             "ticks": ""
            },
            "colorscale": [
             [
              0,
              "#0d0887"
             ],
             [
              0.1111111111111111,
              "#46039f"
             ],
             [
              0.2222222222222222,
              "#7201a8"
             ],
             [
              0.3333333333333333,
              "#9c179e"
             ],
             [
              0.4444444444444444,
              "#bd3786"
             ],
             [
              0.5555555555555556,
              "#d8576b"
             ],
             [
              0.6666666666666666,
              "#ed7953"
             ],
             [
              0.7777777777777778,
              "#fb9f3a"
             ],
             [
              0.8888888888888888,
              "#fdca26"
             ],
             [
              1,
              "#f0f921"
             ]
            ],
            "type": "histogram2dcontour"
           }
          ],
          "mesh3d": [
           {
            "colorbar": {
             "outlinewidth": 0,
             "ticks": ""
            },
            "type": "mesh3d"
           }
          ],
          "parcoords": [
           {
            "line": {
             "colorbar": {
              "outlinewidth": 0,
              "ticks": ""
             }
            },
            "type": "parcoords"
           }
          ],
          "pie": [
           {
            "automargin": true,
            "type": "pie"
           }
          ],
          "scatter": [
           {
            "marker": {
             "colorbar": {
              "outlinewidth": 0,
              "ticks": ""
             }
            },
            "type": "scatter"
           }
          ],
          "scatter3d": [
           {
            "line": {
             "colorbar": {
              "outlinewidth": 0,
              "ticks": ""
             }
            },
            "marker": {
             "colorbar": {
              "outlinewidth": 0,
              "ticks": ""
             }
            },
            "type": "scatter3d"
           }
          ],
          "scattercarpet": [
           {
            "marker": {
             "colorbar": {
              "outlinewidth": 0,
              "ticks": ""
             }
            },
            "type": "scattercarpet"
           }
          ],
          "scattergeo": [
           {
            "marker": {
             "colorbar": {
              "outlinewidth": 0,
              "ticks": ""
             }
            },
            "type": "scattergeo"
           }
          ],
          "scattergl": [
           {
            "marker": {
             "colorbar": {
              "outlinewidth": 0,
              "ticks": ""
             }
            },
            "type": "scattergl"
           }
          ],
          "scattermapbox": [
           {
            "marker": {
             "colorbar": {
              "outlinewidth": 0,
              "ticks": ""
             }
            },
            "type": "scattermapbox"
           }
          ],
          "scatterpolar": [
           {
            "marker": {
             "colorbar": {
              "outlinewidth": 0,
              "ticks": ""
             }
            },
            "type": "scatterpolar"
           }
          ],
          "scatterpolargl": [
           {
            "marker": {
             "colorbar": {
              "outlinewidth": 0,
              "ticks": ""
             }
            },
            "type": "scatterpolargl"
           }
          ],
          "scatterternary": [
           {
            "marker": {
             "colorbar": {
              "outlinewidth": 0,
              "ticks": ""
             }
            },
            "type": "scatterternary"
           }
          ],
          "surface": [
           {
            "colorbar": {
             "outlinewidth": 0,
             "ticks": ""
            },
            "colorscale": [
             [
              0,
              "#0d0887"
             ],
             [
              0.1111111111111111,
              "#46039f"
             ],
             [
              0.2222222222222222,
              "#7201a8"
             ],
             [
              0.3333333333333333,
              "#9c179e"
             ],
             [
              0.4444444444444444,
              "#bd3786"
             ],
             [
              0.5555555555555556,
              "#d8576b"
             ],
             [
              0.6666666666666666,
              "#ed7953"
             ],
             [
              0.7777777777777778,
              "#fb9f3a"
             ],
             [
              0.8888888888888888,
              "#fdca26"
             ],
             [
              1,
              "#f0f921"
             ]
            ],
            "type": "surface"
           }
          ],
          "table": [
           {
            "cells": {
             "fill": {
              "color": "#EBF0F8"
             },
             "line": {
              "color": "white"
             }
            },
            "header": {
             "fill": {
              "color": "#C8D4E3"
             },
             "line": {
              "color": "white"
             }
            },
            "type": "table"
           }
          ]
         },
         "layout": {
          "annotationdefaults": {
           "arrowcolor": "#2a3f5f",
           "arrowhead": 0,
           "arrowwidth": 1
          },
          "autotypenumbers": "strict",
          "coloraxis": {
           "colorbar": {
            "outlinewidth": 0,
            "ticks": ""
           }
          },
          "colorscale": {
           "diverging": [
            [
             0,
             "#8e0152"
            ],
            [
             0.1,
             "#c51b7d"
            ],
            [
             0.2,
             "#de77ae"
            ],
            [
             0.3,
             "#f1b6da"
            ],
            [
             0.4,
             "#fde0ef"
            ],
            [
             0.5,
             "#f7f7f7"
            ],
            [
             0.6,
             "#e6f5d0"
            ],
            [
             0.7,
             "#b8e186"
            ],
            [
             0.8,
             "#7fbc41"
            ],
            [
             0.9,
             "#4d9221"
            ],
            [
             1,
             "#276419"
            ]
           ],
           "sequential": [
            [
             0,
             "#0d0887"
            ],
            [
             0.1111111111111111,
             "#46039f"
            ],
            [
             0.2222222222222222,
             "#7201a8"
            ],
            [
             0.3333333333333333,
             "#9c179e"
            ],
            [
             0.4444444444444444,
             "#bd3786"
            ],
            [
             0.5555555555555556,
             "#d8576b"
            ],
            [
             0.6666666666666666,
             "#ed7953"
            ],
            [
             0.7777777777777778,
             "#fb9f3a"
            ],
            [
             0.8888888888888888,
             "#fdca26"
            ],
            [
             1,
             "#f0f921"
            ]
           ],
           "sequentialminus": [
            [
             0,
             "#0d0887"
            ],
            [
             0.1111111111111111,
             "#46039f"
            ],
            [
             0.2222222222222222,
             "#7201a8"
            ],
            [
             0.3333333333333333,
             "#9c179e"
            ],
            [
             0.4444444444444444,
             "#bd3786"
            ],
            [
             0.5555555555555556,
             "#d8576b"
            ],
            [
             0.6666666666666666,
             "#ed7953"
            ],
            [
             0.7777777777777778,
             "#fb9f3a"
            ],
            [
             0.8888888888888888,
             "#fdca26"
            ],
            [
             1,
             "#f0f921"
            ]
           ]
          },
          "colorway": [
           "#636efa",
           "#EF553B",
           "#00cc96",
           "#ab63fa",
           "#FFA15A",
           "#19d3f3",
           "#FF6692",
           "#B6E880",
           "#FF97FF",
           "#FECB52"
          ],
          "font": {
           "color": "#2a3f5f"
          },
          "geo": {
           "bgcolor": "white",
           "lakecolor": "white",
           "landcolor": "#E5ECF6",
           "showlakes": true,
           "showland": true,
           "subunitcolor": "white"
          },
          "hoverlabel": {
           "align": "left"
          },
          "hovermode": "closest",
          "mapbox": {
           "style": "light"
          },
          "paper_bgcolor": "white",
          "plot_bgcolor": "#E5ECF6",
          "polar": {
           "angularaxis": {
            "gridcolor": "white",
            "linecolor": "white",
            "ticks": ""
           },
           "bgcolor": "#E5ECF6",
           "radialaxis": {
            "gridcolor": "white",
            "linecolor": "white",
            "ticks": ""
           }
          },
          "scene": {
           "xaxis": {
            "backgroundcolor": "#E5ECF6",
            "gridcolor": "white",
            "gridwidth": 2,
            "linecolor": "white",
            "showbackground": true,
            "ticks": "",
            "zerolinecolor": "white"
           },
           "yaxis": {
            "backgroundcolor": "#E5ECF6",
            "gridcolor": "white",
            "gridwidth": 2,
            "linecolor": "white",
            "showbackground": true,
            "ticks": "",
            "zerolinecolor": "white"
           },
           "zaxis": {
            "backgroundcolor": "#E5ECF6",
            "gridcolor": "white",
            "gridwidth": 2,
            "linecolor": "white",
            "showbackground": true,
            "ticks": "",
            "zerolinecolor": "white"
           }
          },
          "shapedefaults": {
           "line": {
            "color": "#2a3f5f"
           }
          },
          "ternary": {
           "aaxis": {
            "gridcolor": "white",
            "linecolor": "white",
            "ticks": ""
           },
           "baxis": {
            "gridcolor": "white",
            "linecolor": "white",
            "ticks": ""
           },
           "bgcolor": "#E5ECF6",
           "caxis": {
            "gridcolor": "white",
            "linecolor": "white",
            "ticks": ""
           }
          },
          "title": {
           "x": 0.05
          },
          "xaxis": {
           "automargin": true,
           "gridcolor": "white",
           "linecolor": "white",
           "ticks": "",
           "title": {
            "standoff": 15
           },
           "zerolinecolor": "white",
           "zerolinewidth": 2
          },
          "yaxis": {
           "automargin": true,
           "gridcolor": "white",
           "linecolor": "white",
           "ticks": "",
           "title": {
            "standoff": 15
           },
           "zerolinecolor": "white",
           "zerolinewidth": 2
          }
         }
        },
        "title": {
         "font": {
          "color": "darkred",
          "family": "Arial",
          "size": 20
         },
         "text": "Class Distribution",
         "x": 0.45,
         "y": 0.85
        },
        "width": 600
       }
      },
      "image/png": "[encoded data removed]",
      "text/html": [
       "<div>                            <div id=\"e868304c-df1f-4591-b0a4-90204dedda1a\" class=\"plotly-graph-div\" style=\"height:450px; width:600px;\"></div>            <script type=\"text/javascript\">                require([\"plotly\"], function(Plotly) {                    window.PLOTLYENV=window.PLOTLYENV || {};                                    if (document.getElementById(\"e868304c-df1f-4591-b0a4-90204dedda1a\")) {                    Plotly.newPlot(                        \"e868304c-df1f-4591-b0a4-90204dedda1a\",                        [{\"hole\":0.4,\"insidetextfont\":{\"color\":\"white\",\"family\":\"Arial\",\"size\":14},\"labels\":[\"Unacceptable\",\"Acceptable\",\"Good\",\"Very Good\"],\"type\":\"pie\",\"values\":[0.7002314814814815,0.2222222222222222,0.03993055555555555,0.03761574074074074]}],                        {\"height\":450,\"legend\":{\"font\":{\"color\":\"black\",\"family\":\"Arial\",\"size\":14}},\"template\":{\"data\":{\"bar\":[{\"error_x\":{\"color\":\"#2a3f5f\"},\"error_y\":{\"color\":\"#2a3f5f\"},\"marker\":{\"line\":{\"color\":\"#E5ECF6\",\"width\":0.5},\"pattern\":{\"fillmode\":\"overlay\",\"size\":10,\"solidity\":0.2}},\"type\":\"bar\"}],\"barpolar\":[{\"marker\":{\"line\":{\"color\":\"#E5ECF6\",\"width\":0.5},\"pattern\":{\"fillmode\":\"overlay\",\"size\":10,\"solidity\":0.2}},\"type\":\"barpolar\"}],\"carpet\":[{\"aaxis\":{\"endlinecolor\":\"#2a3f5f\",\"gridcolor\":\"white\",\"linecolor\":\"white\",\"minorgridcolor\":\"white\",\"startlinecolor\":\"#2a3f5f\"},\"baxis\":{\"endlinecolor\":\"#2a3f5f\",\"gridcolor\":\"white\",\"linecolor\":\"white\",\"minorgridcolor\":\"white\",\"startlinecolor\":\"#2a3f5f\"},\"type\":\"carpet\"}],\"choropleth\":[{\"colorbar\":{\"outlinewidth\":0,\"ticks\":\"\"},\"type\":\"choropleth\"}],\"contour\":[{\"colorbar\":{\"outlinewidth\":0,\"ticks\":\"\"},\"colorscale\":[[0.0,\"#0d0887\"],[0.1111111111111111,\"#46039f\"],[0.2222222222222222,\"#7201a8\"],[0.3333333333333333,\"#9c179e\"],[0.4444444444444444,\"#bd3786\"],[0.5555555555555556,\"#d8576b\"],[0.6666666666666666,\"#ed7953\"],[0.7777777777777778,\"#fb9f3a\"],[0.8888888888888888,\"#fdca26\"],[1.0,\"#f0f921\"]],\"type\":\"contour\"}],\"contourcarpet\":[{\"colorbar\":{\"outlinewidth\":0,\"ticks\":\"\"},\"type\":\"contourcarpet\"}],\"heatmap\":[{\"colorbar\":{\"outlinewidth\":0,\"ticks\":\"\"},\"colorscale\":[[0.0,\"#0d0887\"],[0.1111111111111111,\"#46039f\"],[0.2222222222222222,\"#7201a8\"],[0.3333333333333333,\"#9c179e\"],[0.4444444444444444,\"#bd3786\"],[0.5555555555555556,\"#d8576b\"],[0.6666666666666666,\"#ed7953\"],[0.7777777777777778,\"#fb9f3a\"],[0.8888888888888888,\"#fdca26\"],[1.0,\"#f0f921\"]],\"type\":\"heatmap\"}],\"heatmapgl\":[{\"colorbar\":{\"outlinewidth\":0,\"ticks\":\"\"},\"colorscale\":[[0.0,\"#0d0887\"],[0.1111111111111111,\"#46039f\"],[0.2222222222222222,\"#7201a8\"],[0.3333333333333333,\"#9c179e\"],[0.4444444444444444,\"#bd3786\"],[0.5555555555555556,\"#d8576b\"],[0.6666666666666666,\"#ed7953\"],[0.7777777777777778,\"#fb9f3a\"],[0.8888888888888888,\"#fdca26\"],[1.0,\"#f0f921\"]],\"type\":\"heatmapgl\"}],\"histogram\":[{\"marker\":{\"pattern\":{\"fillmode\":\"overlay\",\"size\":10,\"solidity\":0.2}},\"type\":\"histogram\"}],\"histogram2d\":[{\"colorbar\":{\"outlinewidth\":0,\"ticks\":\"\"},\"colorscale\":[[0.0,\"#0d0887\"],[0.1111111111111111,\"#46039f\"],[0.2222222222222222,\"#7201a8\"],[0.3333333333333333,\"#9c179e\"],[0.4444444444444444,\"#bd3786\"],[0.5555555555555556,\"#d8576b\"],[0.6666666666666666,\"#ed7953\"],[0.7777777777777778,\"#fb9f3a\"],[0.8888888888888888,\"#fdca26\"],[1.0,\"#f0f921\"]],\"type\":\"histogram2d\"}],\"histogram2dcontour\":[{\"colorbar\":{\"outlinewidth\":0,\"ticks\":\"\"},\"colorscale\":[[0.0,\"#0d0887\"],[0.1111111111111111,\"#46039f\"],[0.2222222222222222,\"#7201a8\"],[0.3333333333333333,\"#9c179e\"],[0.4444444444444444,\"#bd3786\"],[0.5555555555555556,\"#d8576b\"],[0.6666666666666666,\"#ed7953\"],[0.7777777777777778,\"#fb9f3a\"],[0.8888888888888888,\"#fdca26\"],[1.0,\"#f0f921\"]],\"type\":\"histogram2dcontour\"}],\"mesh3d\":[{\"colorbar\":{\"outlinewidth\":0,\"ticks\":\"\"},\"type\":\"mesh3d\"}],\"parcoords\":[{\"line\":{\"colorbar\":{\"outlinewidth\":0,\"ticks\":\"\"}},\"type\":\"parcoords\"}],\"pie\":[{\"automargin\":true,\"type\":\"pie\"}],\"scatter\":[{\"marker\":{\"colorbar\":{\"outlinewidth\":0,\"ticks\":\"\"}},\"type\":\"scatter\"}],\"scatter3d\":[{\"line\":{\"colorbar\":{\"outlinewidth\":0,\"ticks\":\"\"}},\"marker\":{\"colorbar\":{\"outlinewidth\":0,\"ticks\":\"\"}},\"type\":\"scatter3d\"}],\"scattercarpet\":[{\"marker\":{\"colorbar\":{\"outlinewidth\":0,\"ticks\":\"\"}},\"type\":\"scattercarpet\"}],\"scattergeo\":[{\"marker\":{\"colorbar\":{\"outlinewidth\":0,\"ticks\":\"\"}},\"type\":\"scattergeo\"}],\"scattergl\":[{\"marker\":{\"colorbar\":{\"outlinewidth\":0,\"ticks\":\"\"}},\"type\":\"scattergl\"}],\"scattermapbox\":[{\"marker\":{\"colorbar\":{\"outlinewidth\":0,\"ticks\":\"\"}},\"type\":\"scattermapbox\"}],\"scatterpolar\":[{\"marker\":{\"colorbar\":{\"outlinewidth\":0,\"ticks\":\"\"}},\"type\":\"scatterpolar\"}],\"scatterpolargl\":[{\"marker\":{\"colorbar\":{\"outlinewidth\":0,\"ticks\":\"\"}},\"type\":\"scatterpolargl\"}],\"scatterternary\":[{\"marker\":{\"colorbar\":{\"outlinewidth\":0,\"ticks\":\"\"}},\"type\":\"scatterternary\"}],\"surface\":[{\"colorbar\":{\"outlinewidth\":0,\"ticks\":\"\"},\"colorscale\":[[0.0,\"#0d0887\"],[0.1111111111111111,\"#46039f\"],[0.2222222222222222,\"#7201a8\"],[0.3333333333333333,\"#9c179e\"],[0.4444444444444444,\"#bd3786\"],[0.5555555555555556,\"#d8576b\"],[0.6666666666666666,\"#ed7953\"],[0.7777777777777778,\"#fb9f3a\"],[0.8888888888888888,\"#fdca26\"],[1.0,\"#f0f921\"]],\"type\":\"surface\"}],\"table\":[{\"cells\":{\"fill\":{\"color\":\"#EBF0F8\"},\"line\":{\"color\":\"white\"}},\"header\":{\"fill\":{\"color\":\"#C8D4E3\"},\"line\":{\"color\":\"white\"}},\"type\":\"table\"}]},\"layout\":{\"annotationdefaults\":{\"arrowcolor\":\"#2a3f5f\",\"arrowhead\":0,\"arrowwidth\":1},\"autotypenumbers\":\"strict\",\"coloraxis\":{\"colorbar\":{\"outlinewidth\":0,\"ticks\":\"\"}},\"colorscale\":{\"diverging\":[[0,\"#8e0152\"],[0.1,\"#c51b7d\"],[0.2,\"#de77ae\"],[0.3,\"#f1b6da\"],[0.4,\"#fde0ef\"],[0.5,\"#f7f7f7\"],[0.6,\"#e6f5d0\"],[0.7,\"#b8e186\"],[0.8,\"#7fbc41\"],[0.9,\"#4d9221\"],[1,\"#276419\"]],\"sequential\":[[0.0,\"#0d0887\"],[0.1111111111111111,\"#46039f\"],[0.2222222222222222,\"#7201a8\"],[0.3333333333333333,\"#9c179e\"],[0.4444444444444444,\"#bd3786\"],[0.5555555555555556,\"#d8576b\"],[0.6666666666666666,\"#ed7953\"],[0.7777777777777778,\"#fb9f3a\"],[0.8888888888888888,\"#fdca26\"],[1.0,\"#f0f921\"]],\"sequentialminus\":[[0.0,\"#0d0887\"],[0.1111111111111111,\"#46039f\"],[0.2222222222222222,\"#7201a8\"],[0.3333333333333333,\"#9c179e\"],[0.4444444444444444,\"#bd3786\"],[0.5555555555555556,\"#d8576b\"],[0.6666666666666666,\"#ed7953\"],[0.7777777777777778,\"#fb9f3a\"],[0.8888888888888888,\"#fdca26\"],[1.0,\"#f0f921\"]]},\"colorway\":[\"#636efa\",\"#EF553B\",\"#00cc96\",\"#ab63fa\",\"#FFA15A\",\"#19d3f3\",\"#FF6692\",\"#B6E880\",\"#FF97FF\",\"#FECB52\"],\"font\":{\"color\":\"#2a3f5f\"},\"geo\":{\"bgcolor\":\"white\",\"lakecolor\":\"white\",\"landcolor\":\"#E5ECF6\",\"showlakes\":true,\"showland\":true,\"subunitcolor\":\"white\"},\"hoverlabel\":{\"align\":\"left\"},\"hovermode\":\"closest\",\"mapbox\":{\"style\":\"light\"},\"paper_bgcolor\":\"white\",\"plot_bgcolor\":\"#E5ECF6\",\"polar\":{\"angularaxis\":{\"gridcolor\":\"white\",\"linecolor\":\"white\",\"ticks\":\"\"},\"bgcolor\":\"#E5ECF6\",\"radialaxis\":{\"gridcolor\":\"white\",\"linecolor\":\"white\",\"ticks\":\"\"}},\"scene\":{\"xaxis\":{\"backgroundcolor\":\"#E5ECF6\",\"gridcolor\":\"white\",\"gridwidth\":2,\"linecolor\":\"white\",\"showbackground\":true,\"ticks\":\"\",\"zerolinecolor\":\"white\"},\"yaxis\":{\"backgroundcolor\":\"#E5ECF6\",\"gridcolor\":\"white\",\"gridwidth\":2,\"linecolor\":\"white\",\"showbackground\":true,\"ticks\":\"\",\"zerolinecolor\":\"white\"},\"zaxis\":{\"backgroundcolor\":\"#E5ECF6\",\"gridcolor\":\"white\",\"gridwidth\":2,\"linecolor\":\"white\",\"showbackground\":true,\"ticks\":\"\",\"zerolinecolor\":\"white\"}},\"shapedefaults\":{\"line\":{\"color\":\"#2a3f5f\"}},\"ternary\":{\"aaxis\":{\"gridcolor\":\"white\",\"linecolor\":\"white\",\"ticks\":\"\"},\"baxis\":{\"gridcolor\":\"white\",\"linecolor\":\"white\",\"ticks\":\"\"},\"bgcolor\":\"#E5ECF6\",\"caxis\":{\"gridcolor\":\"white\",\"linecolor\":\"white\",\"ticks\":\"\"}},\"title\":{\"x\":0.05},\"xaxis\":{\"automargin\":true,\"gridcolor\":\"white\",\"linecolor\":\"white\",\"ticks\":\"\",\"title\":{\"standoff\":15},\"zerolinecolor\":\"white\",\"zerolinewidth\":2},\"yaxis\":{\"automargin\":true,\"gridcolor\":\"white\",\"linecolor\":\"white\",\"ticks\":\"\",\"title\":{\"standoff\":15},\"zerolinecolor\":\"white\",\"zerolinewidth\":2}}},\"title\":{\"font\":{\"color\":\"darkred\",\"family\":\"Arial\",\"size\":20},\"text\":\"Class Distribution\",\"x\":0.45,\"y\":0.85},\"width\":600},                        {\"responsive\": true}                    ).then(function(){\n",
       "                            \n",
       "var gd = document.getElementById('e868304c-df1f-4591-b0a4-90204dedda1a');\n",
       "var x = new MutationObserver(function (mutations, observer) {{\n",
       "        var display = window.getComputedStyle(gd).display;\n",
       "        if (!display || display === 'none') {{\n",
       "            console.log([gd, 'removed!']);\n",
       "            Plotly.purge(gd);\n",
       "            observer.disconnect();\n",
       "        }}\n",
       "}});\n",
       "\n",
       "// Listen for the removal of the full notebook cells\n",
       "var notebookContainer = gd.closest('#notebook-container');\n",
       "if (notebookContainer) {{\n",
       "    x.observe(notebookContainer, {childList: true});\n",
       "}}\n",
       "\n",
       "// Listen for the clearing of the current output cell\n",
       "var outputEl = gd.closest('.output');\n",
       "if (outputEl) {{\n",
       "    x.observe(outputEl, {childList: true});\n",
       "}}\n",
       "\n",
       "                        })                };                });            </script>        </div>"
      ]
     },
     "metadata": {},
     "output_type": "display_data"
    }
   ],
   "source": [
    "fg = go.Figure(layout=go.Layout(height=450, width=600))\n",
    "\n",
    "fg.add_trace(go.Pie(values=class_frac,\n",
    "                    labels=[\"Unacceptable\", \"Acceptable\", \"Good\", \"Very Good\"],\n",
    "                    hole=0.4,\n",
    "                    insidetextfont=dict(family=\"Arial\", size=14, color=\"white\"),\n",
    "#                     pull=[0, 0.04]\n",
    "                     ))\n",
    "fg.update_layout(title_text = 'Class Distribution',\n",
    "                 title_font = dict(size=20, family='Arial', color='darkred'),\n",
    "                 title_x=0.45,\n",
    "                 title_y=0.85,\n",
    "                 legend = dict(font = dict(family = \"Arial\", size = 14, color = \"black\")))\n",
    "\n",
    "fg.show()"
   ]
  },
  {
   "cell_type": "code",
   "execution_count": 17,
   "metadata": {},
   "outputs": [
    {
     "data": {
      "text/plain": [
       "['#0d0887',\n",
       " '#46039f',\n",
       " '#7201a8',\n",
       " '#9c179e',\n",
       " '#bd3786',\n",
       " '#d8576b',\n",
       " '#ed7953',\n",
       " '#fb9f3a',\n",
       " '#fdca26',\n",
       " '#f0f921']"
      ]
     },
     "execution_count": 17,
     "metadata": {},
     "output_type": "execute_result"
    }
   ],
   "source": [
    "['#0d0887', '#46039f', '#7201a8', '#9c179e', '#bd3786', '#d8576b', '#ed7953', '#fb9f3a', '#fdca26', '#f0f921']"
   ]
  },
  {
   "cell_type": "code",
   "execution_count": 18,
   "metadata": {},
   "outputs": [
    {
     "data": {
      "application/vnd.plotly.v1+json": {
       "config": {
        "plotlyServerURL": "https://plot.ly"
       },
       "data": [
        {
         "marker": {
          "color": "#fb9f3a"
         },
         "name": "Low",
         "type": "histogram",
         "x": [
          "unacc",
          "unacc",
          "unacc",
          "unacc",
          "unacc",
          "unacc",
          "unacc",
          "unacc",
          "unacc",
          "unacc",
          "unacc",
          "acc",
          "unacc",
          "unacc",
          "acc",
          "unacc",
          "acc",
          "acc",
          "unacc",
          "unacc",
          "unacc",
          "unacc",
          "unacc",
          "acc",
          "unacc",
          "acc",
          "acc",
          "unacc",
          "unacc",
          "unacc",
          "unacc",
          "unacc",
          "unacc",
          "unacc",
          "unacc",
          "unacc",
          "unacc",
          "unacc",
          "acc",
          "unacc",
          "unacc",
          "acc",
          "unacc",
          "acc",
          "acc",
          "unacc",
          "unacc",
          "acc",
          "unacc",
          "acc",
          "acc",
          "unacc",
          "acc",
          "acc",
          "unacc",
          "unacc",
          "unacc",
          "unacc",
          "unacc",
          "unacc",
          "unacc",
          "unacc",
          "unacc",
          "unacc",
          "unacc",
          "acc",
          "unacc",
          "acc",
          "acc",
          "unacc",
          "acc",
          "acc",
          "unacc",
          "unacc",
          "acc",
          "unacc",
          "acc",
          "acc",
          "unacc",
          "acc",
          "acc",
          "unacc",
          "unacc",
          "unacc",
          "unacc",
          "unacc",
          "unacc",
          "unacc",
          "unacc",
          "unacc",
          "unacc",
          "unacc",
          "acc",
          "unacc",
          "acc",
          "acc",
          "unacc",
          "acc",
          "acc",
          "unacc",
          "unacc",
          "acc",
          "unacc",
          "acc",
          "acc",
          "unacc",
          "acc",
          "acc",
          "unacc",
          "unacc",
          "unacc",
          "unacc",
          "unacc",
          "unacc",
          "unacc",
          "unacc",
          "unacc",
          "unacc",
          "acc",
          "acc",
          "unacc",
          "acc",
          "acc",
          "unacc",
          "acc",
          "vgood",
          "unacc",
          "unacc",
          "unacc",
          "unacc",
          "acc",
          "acc",
          "unacc",
          "acc",
          "vgood",
          "unacc",
          "unacc",
          "unacc",
          "unacc",
          "unacc",
          "unacc",
          "unacc",
          "unacc",
          "unacc",
          "unacc",
          "acc",
          "acc",
          "unacc",
          "acc",
          "acc",
          "unacc",
          "acc",
          "vgood",
          "unacc",
          "acc",
          "acc",
          "unacc",
          "acc",
          "vgood",
          "unacc",
          "acc",
          "vgood",
          "unacc",
          "unacc",
          "unacc",
          "unacc",
          "unacc",
          "unacc",
          "unacc",
          "unacc",
          "unacc",
          "unacc",
          "acc",
          "acc",
          "unacc",
          "acc",
          "vgood",
          "unacc",
          "acc",
          "vgood",
          "unacc",
          "acc",
          "acc",
          "unacc",
          "acc",
          "vgood",
          "unacc",
          "acc",
          "vgood",
          "unacc",
          "unacc",
          "unacc",
          "unacc",
          "unacc",
          "unacc",
          "unacc",
          "unacc",
          "unacc",
          "unacc",
          "acc",
          "acc",
          "unacc",
          "acc",
          "vgood",
          "unacc",
          "acc",
          "vgood",
          "unacc",
          "acc",
          "acc",
          "unacc",
          "acc",
          "vgood",
          "unacc",
          "acc",
          "vgood",
          "unacc",
          "unacc",
          "unacc",
          "unacc",
          "unacc",
          "unacc",
          "unacc",
          "unacc",
          "unacc",
          "unacc",
          "acc",
          "good",
          "unacc",
          "acc",
          "good",
          "unacc",
          "good",
          "vgood",
          "unacc",
          "unacc",
          "unacc",
          "unacc",
          "acc",
          "good",
          "unacc",
          "good",
          "vgood",
          "unacc",
          "unacc",
          "unacc",
          "unacc",
          "unacc",
          "unacc",
          "unacc",
          "unacc",
          "unacc",
          "unacc",
          "acc",
          "good",
          "unacc",
          "acc",
          "good",
          "unacc",
          "good",
          "vgood",
          "unacc",
          "acc",
          "good",
          "unacc",
          "good",
          "vgood",
          "unacc",
          "good",
          "vgood",
          "unacc",
          "unacc",
          "unacc",
          "unacc",
          "unacc",
          "unacc",
          "unacc",
          "unacc",
          "unacc",
          "unacc",
          "acc",
          "good",
          "unacc",
          "good",
          "vgood",
          "unacc",
          "good",
          "vgood",
          "unacc",
          "acc",
          "good",
          "unacc",
          "good",
          "vgood",
          "unacc",
          "good",
          "vgood",
          "unacc",
          "unacc",
          "unacc",
          "unacc",
          "unacc",
          "unacc",
          "unacc",
          "unacc",
          "unacc",
          "unacc",
          "acc",
          "good",
          "unacc",
          "good",
          "vgood",
          "unacc",
          "good",
          "vgood",
          "unacc",
          "acc",
          "good",
          "unacc",
          "good",
          "vgood",
          "unacc",
          "good",
          "vgood",
          "unacc",
          "unacc",
          "unacc",
          "unacc",
          "unacc",
          "unacc",
          "unacc",
          "unacc",
          "unacc",
          "unacc",
          "acc",
          "good",
          "unacc",
          "acc",
          "good",
          "unacc",
          "good",
          "vgood",
          "unacc",
          "unacc",
          "unacc",
          "unacc",
          "acc",
          "good",
          "unacc",
          "good",
          "vgood",
          "unacc",
          "unacc",
          "unacc",
          "unacc",
          "unacc",
          "unacc",
          "unacc",
          "unacc",
          "unacc",
          "unacc",
          "acc",
          "good",
          "unacc",
          "acc",
          "good",
          "unacc",
          "good",
          "vgood",
          "unacc",
          "acc",
          "good",
          "unacc",
          "good",
          "vgood",
          "unacc",
          "good",
          "vgood",
          "unacc",
          "unacc",
          "unacc",
          "unacc",
          "unacc",
          "unacc",
          "unacc",
          "unacc",
          "unacc",
          "unacc",
          "acc",
          "good",
          "unacc",
          "good",
          "vgood",
          "unacc",
          "good",
          "vgood",
          "unacc",
          "acc",
          "good",
          "unacc",
          "good",
          "vgood",
          "unacc",
          "good",
          "vgood",
          "unacc",
          "unacc",
          "unacc",
          "unacc",
          "unacc",
          "unacc",
          "unacc",
          "unacc",
          "unacc",
          "unacc",
          "acc",
          "good",
          "unacc",
          "good",
          "vgood",
          "unacc",
          "good",
          "vgood",
          "unacc",
          "acc",
          "good",
          "unacc",
          "good",
          "vgood",
          "unacc",
          "good",
          "vgood"
         ]
        },
        {
         "marker": {
          "color": "#d8576b"
         },
         "name": "Medium",
         "type": "histogram",
         "x": [
          "unacc",
          "unacc",
          "unacc",
          "unacc",
          "unacc",
          "unacc",
          "unacc",
          "unacc",
          "unacc",
          "unacc",
          "unacc",
          "acc",
          "unacc",
          "unacc",
          "acc",
          "unacc",
          "acc",
          "acc",
          "unacc",
          "unacc",
          "unacc",
          "unacc",
          "unacc",
          "acc",
          "unacc",
          "acc",
          "acc",
          "unacc",
          "unacc",
          "unacc",
          "unacc",
          "unacc",
          "unacc",
          "unacc",
          "unacc",
          "unacc",
          "unacc",
          "unacc",
          "acc",
          "unacc",
          "unacc",
          "acc",
          "unacc",
          "acc",
          "acc",
          "unacc",
          "unacc",
          "acc",
          "unacc",
          "acc",
          "acc",
          "unacc",
          "acc",
          "acc",
          "unacc",
          "unacc",
          "unacc",
          "unacc",
          "unacc",
          "unacc",
          "unacc",
          "unacc",
          "unacc",
          "unacc",
          "unacc",
          "acc",
          "unacc",
          "acc",
          "acc",
          "unacc",
          "acc",
          "acc",
          "unacc",
          "unacc",
          "acc",
          "unacc",
          "acc",
          "acc",
          "unacc",
          "acc",
          "acc",
          "unacc",
          "unacc",
          "unacc",
          "unacc",
          "unacc",
          "unacc",
          "unacc",
          "unacc",
          "unacc",
          "unacc",
          "unacc",
          "acc",
          "unacc",
          "acc",
          "acc",
          "unacc",
          "acc",
          "acc",
          "unacc",
          "unacc",
          "acc",
          "unacc",
          "acc",
          "acc",
          "unacc",
          "acc",
          "acc",
          "unacc",
          "unacc",
          "unacc",
          "unacc",
          "unacc",
          "unacc",
          "unacc",
          "unacc",
          "unacc",
          "unacc",
          "unacc",
          "acc",
          "unacc",
          "unacc",
          "acc",
          "unacc",
          "acc",
          "acc",
          "unacc",
          "unacc",
          "unacc",
          "unacc",
          "unacc",
          "acc",
          "unacc",
          "acc",
          "acc",
          "unacc",
          "unacc",
          "unacc",
          "unacc",
          "unacc",
          "unacc",
          "unacc",
          "unacc",
          "unacc",
          "unacc",
          "unacc",
          "acc",
          "unacc",
          "unacc",
          "acc",
          "unacc",
          "acc",
          "acc",
          "unacc",
          "unacc",
          "acc",
          "unacc",
          "acc",
          "acc",
          "unacc",
          "acc",
          "acc",
          "unacc",
          "unacc",
          "unacc",
          "unacc",
          "unacc",
          "unacc",
          "unacc",
          "unacc",
          "unacc",
          "unacc",
          "unacc",
          "acc",
          "unacc",
          "acc",
          "acc",
          "unacc",
          "acc",
          "acc",
          "unacc",
          "unacc",
          "acc",
          "unacc",
          "acc",
          "acc",
          "unacc",
          "acc",
          "acc",
          "unacc",
          "unacc",
          "unacc",
          "unacc",
          "unacc",
          "unacc",
          "unacc",
          "unacc",
          "unacc",
          "unacc",
          "unacc",
          "acc",
          "unacc",
          "acc",
          "acc",
          "unacc",
          "acc",
          "acc",
          "unacc",
          "unacc",
          "acc",
          "unacc",
          "acc",
          "acc",
          "unacc",
          "acc",
          "acc",
          "unacc",
          "unacc",
          "unacc",
          "unacc",
          "unacc",
          "unacc",
          "unacc",
          "unacc",
          "unacc",
          "unacc",
          "acc",
          "acc",
          "unacc",
          "acc",
          "acc",
          "unacc",
          "acc",
          "vgood",
          "unacc",
          "unacc",
          "unacc",
          "unacc",
          "acc",
          "acc",
          "unacc",
          "acc",
          "vgood",
          "unacc",
          "unacc",
          "unacc",
          "unacc",
          "unacc",
          "unacc",
          "unacc",
          "unacc",
          "unacc",
          "unacc",
          "acc",
          "acc",
          "unacc",
          "acc",
          "acc",
          "unacc",
          "acc",
          "vgood",
          "unacc",
          "acc",
          "acc",
          "unacc",
          "acc",
          "vgood",
          "unacc",
          "acc",
          "vgood",
          "unacc",
          "unacc",
          "unacc",
          "unacc",
          "unacc",
          "unacc",
          "unacc",
          "unacc",
          "unacc",
          "unacc",
          "acc",
          "acc",
          "unacc",
          "acc",
          "vgood",
          "unacc",
          "acc",
          "vgood",
          "unacc",
          "acc",
          "acc",
          "unacc",
          "acc",
          "vgood",
          "unacc",
          "acc",
          "vgood",
          "unacc",
          "unacc",
          "unacc",
          "unacc",
          "unacc",
          "unacc",
          "unacc",
          "unacc",
          "unacc",
          "unacc",
          "acc",
          "acc",
          "unacc",
          "acc",
          "vgood",
          "unacc",
          "acc",
          "vgood",
          "unacc",
          "acc",
          "acc",
          "unacc",
          "acc",
          "vgood",
          "unacc",
          "acc",
          "vgood",
          "unacc",
          "unacc",
          "unacc",
          "unacc",
          "unacc",
          "unacc",
          "unacc",
          "unacc",
          "unacc",
          "unacc",
          "acc",
          "good",
          "unacc",
          "acc",
          "good",
          "unacc",
          "good",
          "vgood",
          "unacc",
          "unacc",
          "unacc",
          "unacc",
          "acc",
          "good",
          "unacc",
          "good",
          "vgood",
          "unacc",
          "unacc",
          "unacc",
          "unacc",
          "unacc",
          "unacc",
          "unacc",
          "unacc",
          "unacc",
          "unacc",
          "acc",
          "good",
          "unacc",
          "acc",
          "good",
          "unacc",
          "good",
          "vgood",
          "unacc",
          "acc",
          "good",
          "unacc",
          "good",
          "vgood",
          "unacc",
          "good",
          "vgood",
          "unacc",
          "unacc",
          "unacc",
          "unacc",
          "unacc",
          "unacc",
          "unacc",
          "unacc",
          "unacc",
          "unacc",
          "acc",
          "good",
          "unacc",
          "good",
          "vgood",
          "unacc",
          "good",
          "vgood",
          "unacc",
          "acc",
          "good",
          "unacc",
          "good",
          "vgood",
          "unacc",
          "good",
          "vgood",
          "unacc",
          "unacc",
          "unacc",
          "unacc",
          "unacc",
          "unacc",
          "unacc",
          "unacc",
          "unacc",
          "unacc",
          "acc",
          "good",
          "unacc",
          "good",
          "vgood",
          "unacc",
          "good",
          "vgood",
          "unacc",
          "acc",
          "good",
          "unacc",
          "good",
          "vgood",
          "unacc",
          "good",
          "vgood"
         ]
        },
        {
         "marker": {
          "color": "#9c179e"
         },
         "name": "High",
         "type": "histogram",
         "x": [
          "unacc",
          "unacc",
          "unacc",
          "unacc",
          "unacc",
          "unacc",
          "unacc",
          "unacc",
          "unacc",
          "unacc",
          "unacc",
          "unacc",
          "unacc",
          "unacc",
          "unacc",
          "unacc",
          "unacc",
          "unacc",
          "unacc",
          "unacc",
          "unacc",
          "unacc",
          "unacc",
          "unacc",
          "unacc",
          "unacc",
          "unacc",
          "unacc",
          "unacc",
          "unacc",
          "unacc",
          "unacc",
          "unacc",
          "unacc",
          "unacc",
          "unacc",
          "unacc",
          "unacc",
          "unacc",
          "unacc",
          "unacc",
          "unacc",
          "unacc",
          "unacc",
          "unacc",
          "unacc",
          "unacc",
          "unacc",
          "unacc",
          "unacc",
          "unacc",
          "unacc",
          "unacc",
          "unacc",
          "unacc",
          "unacc",
          "unacc",
          "unacc",
          "unacc",
          "unacc",
          "unacc",
          "unacc",
          "unacc",
          "unacc",
          "unacc",
          "unacc",
          "unacc",
          "unacc",
          "unacc",
          "unacc",
          "unacc",
          "unacc",
          "unacc",
          "unacc",
          "unacc",
          "unacc",
          "unacc",
          "unacc",
          "unacc",
          "unacc",
          "unacc",
          "unacc",
          "unacc",
          "unacc",
          "unacc",
          "unacc",
          "unacc",
          "unacc",
          "unacc",
          "unacc",
          "unacc",
          "unacc",
          "unacc",
          "unacc",
          "unacc",
          "unacc",
          "unacc",
          "unacc",
          "unacc",
          "unacc",
          "unacc",
          "unacc",
          "unacc",
          "unacc",
          "unacc",
          "unacc",
          "unacc",
          "unacc",
          "unacc",
          "unacc",
          "unacc",
          "unacc",
          "unacc",
          "unacc",
          "unacc",
          "unacc",
          "unacc",
          "unacc",
          "unacc",
          "acc",
          "unacc",
          "unacc",
          "acc",
          "unacc",
          "acc",
          "acc",
          "unacc",
          "unacc",
          "unacc",
          "unacc",
          "unacc",
          "acc",
          "unacc",
          "acc",
          "acc",
          "unacc",
          "unacc",
          "unacc",
          "unacc",
          "unacc",
          "unacc",
          "unacc",
          "unacc",
          "unacc",
          "unacc",
          "unacc",
          "acc",
          "unacc",
          "unacc",
          "acc",
          "unacc",
          "acc",
          "acc",
          "unacc",
          "unacc",
          "acc",
          "unacc",
          "acc",
          "acc",
          "unacc",
          "acc",
          "acc",
          "unacc",
          "unacc",
          "unacc",
          "unacc",
          "unacc",
          "unacc",
          "unacc",
          "unacc",
          "unacc",
          "unacc",
          "unacc",
          "acc",
          "unacc",
          "acc",
          "acc",
          "unacc",
          "acc",
          "acc",
          "unacc",
          "unacc",
          "acc",
          "unacc",
          "acc",
          "acc",
          "unacc",
          "acc",
          "acc",
          "unacc",
          "unacc",
          "unacc",
          "unacc",
          "unacc",
          "unacc",
          "unacc",
          "unacc",
          "unacc",
          "unacc",
          "unacc",
          "acc",
          "unacc",
          "acc",
          "acc",
          "unacc",
          "acc",
          "acc",
          "unacc",
          "unacc",
          "acc",
          "unacc",
          "acc",
          "acc",
          "unacc",
          "acc",
          "acc",
          "unacc",
          "unacc",
          "unacc",
          "unacc",
          "unacc",
          "unacc",
          "unacc",
          "unacc",
          "unacc",
          "unacc",
          "unacc",
          "acc",
          "unacc",
          "unacc",
          "acc",
          "unacc",
          "acc",
          "acc",
          "unacc",
          "unacc",
          "unacc",
          "unacc",
          "unacc",
          "acc",
          "unacc",
          "acc",
          "acc",
          "unacc",
          "unacc",
          "unacc",
          "unacc",
          "unacc",
          "unacc",
          "unacc",
          "unacc",
          "unacc",
          "unacc",
          "unacc",
          "acc",
          "unacc",
          "unacc",
          "acc",
          "unacc",
          "acc",
          "acc",
          "unacc",
          "unacc",
          "acc",
          "unacc",
          "acc",
          "acc",
          "unacc",
          "acc",
          "acc",
          "unacc",
          "unacc",
          "unacc",
          "unacc",
          "unacc",
          "unacc",
          "unacc",
          "unacc",
          "unacc",
          "unacc",
          "unacc",
          "acc",
          "unacc",
          "acc",
          "acc",
          "unacc",
          "acc",
          "acc",
          "unacc",
          "unacc",
          "acc",
          "unacc",
          "acc",
          "acc",
          "unacc",
          "acc",
          "acc",
          "unacc",
          "unacc",
          "unacc",
          "unacc",
          "unacc",
          "unacc",
          "unacc",
          "unacc",
          "unacc",
          "unacc",
          "unacc",
          "acc",
          "unacc",
          "acc",
          "acc",
          "unacc",
          "acc",
          "acc",
          "unacc",
          "unacc",
          "acc",
          "unacc",
          "acc",
          "acc",
          "unacc",
          "acc",
          "acc",
          "unacc",
          "unacc",
          "unacc",
          "unacc",
          "unacc",
          "unacc",
          "unacc",
          "unacc",
          "unacc",
          "unacc",
          "unacc",
          "acc",
          "unacc",
          "unacc",
          "acc",
          "unacc",
          "acc",
          "acc",
          "unacc",
          "unacc",
          "unacc",
          "unacc",
          "unacc",
          "acc",
          "unacc",
          "acc",
          "acc",
          "unacc",
          "unacc",
          "unacc",
          "unacc",
          "unacc",
          "unacc",
          "unacc",
          "unacc",
          "unacc",
          "unacc",
          "unacc",
          "acc",
          "unacc",
          "unacc",
          "acc",
          "unacc",
          "acc",
          "acc",
          "unacc",
          "unacc",
          "acc",
          "unacc",
          "acc",
          "acc",
          "unacc",
          "acc",
          "acc",
          "unacc",
          "unacc",
          "unacc",
          "unacc",
          "unacc",
          "unacc",
          "unacc",
          "unacc",
          "unacc",
          "unacc",
          "unacc",
          "acc",
          "unacc",
          "acc",
          "acc",
          "unacc",
          "acc",
          "acc",
          "unacc",
          "unacc",
          "acc",
          "unacc",
          "acc",
          "acc",
          "unacc",
          "acc",
          "acc",
          "unacc",
          "unacc",
          "unacc",
          "unacc",
          "unacc",
          "unacc",
          "unacc",
          "unacc",
          "unacc",
          "unacc",
          "unacc",
          "acc",
          "unacc",
          "acc",
          "acc",
          "unacc",
          "acc",
          "acc",
          "unacc",
          "unacc",
          "acc",
          "unacc",
          "acc",
          "acc",
          "unacc",
          "acc",
          "acc"
         ]
        },
        {
         "marker": {
          "color": "#7201a8"
         },
         "name": "Very High",
         "type": "histogram",
         "x": [
          "unacc",
          "unacc",
          "unacc",
          "unacc",
          "unacc",
          "unacc",
          "unacc",
          "unacc",
          "unacc",
          "unacc",
          "unacc",
          "unacc",
          "unacc",
          "unacc",
          "unacc",
          "unacc",
          "unacc",
          "unacc",
          "unacc",
          "unacc",
          "unacc",
          "unacc",
          "unacc",
          "unacc",
          "unacc",
          "unacc",
          "unacc",
          "unacc",
          "unacc",
          "unacc",
          "unacc",
          "unacc",
          "unacc",
          "unacc",
          "unacc",
          "unacc",
          "unacc",
          "unacc",
          "unacc",
          "unacc",
          "unacc",
          "unacc",
          "unacc",
          "unacc",
          "unacc",
          "unacc",
          "unacc",
          "unacc",
          "unacc",
          "unacc",
          "unacc",
          "unacc",
          "unacc",
          "unacc",
          "unacc",
          "unacc",
          "unacc",
          "unacc",
          "unacc",
          "unacc",
          "unacc",
          "unacc",
          "unacc",
          "unacc",
          "unacc",
          "unacc",
          "unacc",
          "unacc",
          "unacc",
          "unacc",
          "unacc",
          "unacc",
          "unacc",
          "unacc",
          "unacc",
          "unacc",
          "unacc",
          "unacc",
          "unacc",
          "unacc",
          "unacc",
          "unacc",
          "unacc",
          "unacc",
          "unacc",
          "unacc",
          "unacc",
          "unacc",
          "unacc",
          "unacc",
          "unacc",
          "unacc",
          "unacc",
          "unacc",
          "unacc",
          "unacc",
          "unacc",
          "unacc",
          "unacc",
          "unacc",
          "unacc",
          "unacc",
          "unacc",
          "unacc",
          "unacc",
          "unacc",
          "unacc",
          "unacc",
          "unacc",
          "unacc",
          "unacc",
          "unacc",
          "unacc",
          "unacc",
          "unacc",
          "unacc",
          "unacc",
          "unacc",
          "unacc",
          "unacc",
          "unacc",
          "unacc",
          "unacc",
          "unacc",
          "unacc",
          "unacc",
          "unacc",
          "unacc",
          "unacc",
          "unacc",
          "unacc",
          "unacc",
          "unacc",
          "unacc",
          "unacc",
          "unacc",
          "unacc",
          "unacc",
          "unacc",
          "unacc",
          "unacc",
          "unacc",
          "unacc",
          "unacc",
          "unacc",
          "unacc",
          "unacc",
          "unacc",
          "unacc",
          "unacc",
          "unacc",
          "unacc",
          "unacc",
          "unacc",
          "unacc",
          "unacc",
          "unacc",
          "unacc",
          "unacc",
          "unacc",
          "unacc",
          "unacc",
          "unacc",
          "unacc",
          "unacc",
          "unacc",
          "unacc",
          "unacc",
          "unacc",
          "unacc",
          "unacc",
          "unacc",
          "unacc",
          "unacc",
          "unacc",
          "unacc",
          "unacc",
          "unacc",
          "unacc",
          "unacc",
          "unacc",
          "unacc",
          "unacc",
          "unacc",
          "unacc",
          "unacc",
          "unacc",
          "unacc",
          "unacc",
          "unacc",
          "unacc",
          "unacc",
          "unacc",
          "unacc",
          "unacc",
          "unacc",
          "unacc",
          "unacc",
          "unacc",
          "unacc",
          "unacc",
          "unacc",
          "unacc",
          "unacc",
          "unacc",
          "unacc",
          "unacc",
          "unacc",
          "unacc",
          "unacc",
          "unacc",
          "unacc",
          "unacc",
          "unacc",
          "unacc",
          "unacc",
          "unacc",
          "unacc",
          "unacc",
          "unacc",
          "unacc",
          "unacc",
          "unacc",
          "unacc",
          "unacc",
          "unacc",
          "unacc",
          "acc",
          "unacc",
          "unacc",
          "acc",
          "unacc",
          "acc",
          "acc",
          "unacc",
          "unacc",
          "unacc",
          "unacc",
          "unacc",
          "acc",
          "unacc",
          "acc",
          "acc",
          "unacc",
          "unacc",
          "unacc",
          "unacc",
          "unacc",
          "unacc",
          "unacc",
          "unacc",
          "unacc",
          "unacc",
          "unacc",
          "acc",
          "unacc",
          "unacc",
          "acc",
          "unacc",
          "acc",
          "acc",
          "unacc",
          "unacc",
          "acc",
          "unacc",
          "acc",
          "acc",
          "unacc",
          "acc",
          "acc",
          "unacc",
          "unacc",
          "unacc",
          "unacc",
          "unacc",
          "unacc",
          "unacc",
          "unacc",
          "unacc",
          "unacc",
          "unacc",
          "acc",
          "unacc",
          "acc",
          "acc",
          "unacc",
          "acc",
          "acc",
          "unacc",
          "unacc",
          "acc",
          "unacc",
          "acc",
          "acc",
          "unacc",
          "acc",
          "acc",
          "unacc",
          "unacc",
          "unacc",
          "unacc",
          "unacc",
          "unacc",
          "unacc",
          "unacc",
          "unacc",
          "unacc",
          "unacc",
          "acc",
          "unacc",
          "acc",
          "acc",
          "unacc",
          "acc",
          "acc",
          "unacc",
          "unacc",
          "acc",
          "unacc",
          "acc",
          "acc",
          "unacc",
          "acc",
          "acc",
          "unacc",
          "unacc",
          "unacc",
          "unacc",
          "unacc",
          "unacc",
          "unacc",
          "unacc",
          "unacc",
          "unacc",
          "unacc",
          "acc",
          "unacc",
          "unacc",
          "acc",
          "unacc",
          "acc",
          "acc",
          "unacc",
          "unacc",
          "unacc",
          "unacc",
          "unacc",
          "acc",
          "unacc",
          "acc",
          "acc",
          "unacc",
          "unacc",
          "unacc",
          "unacc",
          "unacc",
          "unacc",
          "unacc",
          "unacc",
          "unacc",
          "unacc",
          "unacc",
          "acc",
          "unacc",
          "unacc",
          "acc",
          "unacc",
          "acc",
          "acc",
          "unacc",
          "unacc",
          "acc",
          "unacc",
          "acc",
          "acc",
          "unacc",
          "acc",
          "acc",
          "unacc",
          "unacc",
          "unacc",
          "unacc",
          "unacc",
          "unacc",
          "unacc",
          "unacc",
          "unacc",
          "unacc",
          "unacc",
          "acc",
          "unacc",
          "acc",
          "acc",
          "unacc",
          "acc",
          "acc",
          "unacc",
          "unacc",
          "acc",
          "unacc",
          "acc",
          "acc",
          "unacc",
          "acc",
          "acc",
          "unacc",
          "unacc",
          "unacc",
          "unacc",
          "unacc",
          "unacc",
          "unacc",
          "unacc",
          "unacc",
          "unacc",
          "unacc",
          "acc",
          "unacc",
          "acc",
          "acc",
          "unacc",
          "acc",
          "acc",
          "unacc",
          "unacc",
          "acc",
          "unacc",
          "acc",
          "acc",
          "unacc",
          "acc",
          "acc"
         ]
        }
       ],
       "layout": {
        "height": 550,
        "legend": {
         "font": {
          "color": "black",
          "family": "Arial",
          "size": 16
         }
        },
        "template": {
         "data": {
          "bar": [
           {
            "error_x": {
             "color": "#2a3f5f"
            },
            "error_y": {
             "color": "#2a3f5f"
            },
            "marker": {
             "line": {
              "color": "#E5ECF6",
              "width": 0.5
             },
             "pattern": {
              "fillmode": "overlay",
              "size": 10,
              "solidity": 0.2
             }
            },
            "type": "bar"
           }
          ],
          "barpolar": [
           {
            "marker": {
             "line": {
              "color": "#E5ECF6",
              "width": 0.5
             },
             "pattern": {
              "fillmode": "overlay",
              "size": 10,
              "solidity": 0.2
             }
            },
            "type": "barpolar"
           }
          ],
          "carpet": [
           {
            "aaxis": {
             "endlinecolor": "#2a3f5f",
             "gridcolor": "white",
             "linecolor": "white",
             "minorgridcolor": "white",
             "startlinecolor": "#2a3f5f"
            },
            "baxis": {
             "endlinecolor": "#2a3f5f",
             "gridcolor": "white",
             "linecolor": "white",
             "minorgridcolor": "white",
             "startlinecolor": "#2a3f5f"
            },
            "type": "carpet"
           }
          ],
          "choropleth": [
           {
            "colorbar": {
             "outlinewidth": 0,
             "ticks": ""
            },
            "type": "choropleth"
           }
          ],
          "contour": [
           {
            "colorbar": {
             "outlinewidth": 0,
             "ticks": ""
            },
            "colorscale": [
             [
              0,
              "#0d0887"
             ],
             [
              0.1111111111111111,
              "#46039f"
             ],
             [
              0.2222222222222222,
              "#7201a8"
             ],
             [
              0.3333333333333333,
              "#9c179e"
             ],
             [
              0.4444444444444444,
              "#bd3786"
             ],
             [
              0.5555555555555556,
              "#d8576b"
             ],
             [
              0.6666666666666666,
              "#ed7953"
             ],
             [
              0.7777777777777778,
              "#fb9f3a"
             ],
             [
              0.8888888888888888,
              "#fdca26"
             ],
             [
              1,
              "#f0f921"
             ]
            ],
            "type": "contour"
           }
          ],
          "contourcarpet": [
           {
            "colorbar": {
             "outlinewidth": 0,
             "ticks": ""
            },
            "type": "contourcarpet"
           }
          ],
          "heatmap": [
           {
            "colorbar": {
             "outlinewidth": 0,
             "ticks": ""
            },
            "colorscale": [
             [
              0,
              "#0d0887"
             ],
             [
              0.1111111111111111,
              "#46039f"
             ],
             [
              0.2222222222222222,
              "#7201a8"
             ],
             [
              0.3333333333333333,
              "#9c179e"
             ],
             [
              0.4444444444444444,
              "#bd3786"
             ],
             [
              0.5555555555555556,
              "#d8576b"
             ],
             [
              0.6666666666666666,
              "#ed7953"
             ],
             [
              0.7777777777777778,
              "#fb9f3a"
             ],
             [
              0.8888888888888888,
              "#fdca26"
             ],
             [
              1,
              "#f0f921"
             ]
            ],
            "type": "heatmap"
           }
          ],
          "heatmapgl": [
           {
            "colorbar": {
             "outlinewidth": 0,
             "ticks": ""
            },
            "colorscale": [
             [
              0,
              "#0d0887"
             ],
             [
              0.1111111111111111,
              "#46039f"
             ],
             [
              0.2222222222222222,
              "#7201a8"
             ],
             [
              0.3333333333333333,
              "#9c179e"
             ],
             [
              0.4444444444444444,
              "#bd3786"
             ],
             [
              0.5555555555555556,
              "#d8576b"
             ],
             [
              0.6666666666666666,
              "#ed7953"
             ],
             [
              0.7777777777777778,
              "#fb9f3a"
             ],
             [
              0.8888888888888888,
              "#fdca26"
             ],
             [
              1,
              "#f0f921"
             ]
            ],
            "type": "heatmapgl"
           }
          ],
          "histogram": [
           {
            "marker": {
             "pattern": {
              "fillmode": "overlay",
              "size": 10,
              "solidity": 0.2
             }
            },
            "type": "histogram"
           }
          ],
          "histogram2d": [
           {
            "colorbar": {
             "outlinewidth": 0,
             "ticks": ""
            },
            "colorscale": [
             [
              0,
              "#0d0887"
             ],
             [
              0.1111111111111111,
              "#46039f"
             ],
             [
              0.2222222222222222,
              "#7201a8"
             ],
             [
              0.3333333333333333,
              "#9c179e"
             ],
             [
              0.4444444444444444,
              "#bd3786"
             ],
             [
              0.5555555555555556,
              "#d8576b"
             ],
             [
              0.6666666666666666,
              "#ed7953"
             ],
             [
              0.7777777777777778,
              "#fb9f3a"
             ],
             [
              0.8888888888888888,
              "#fdca26"
             ],
             [
              1,
              "#f0f921"
             ]
            ],
            "type": "histogram2d"
           }
          ],
          "histogram2dcontour": [
           {
            "colorbar": {
             "outlinewidth": 0,
             "ticks": ""
            },
            "colorscale": [
             [
              0,
              "#0d0887"
             ],
             [
              0.1111111111111111,
              "#46039f"
             ],
             [
              0.2222222222222222,
              "#7201a8"
             ],
             [
              0.3333333333333333,
              "#9c179e"
             ],
             [
              0.4444444444444444,
              "#bd3786"
             ],
             [
              0.5555555555555556,
              "#d8576b"
             ],
             [
              0.6666666666666666,
              "#ed7953"
             ],
             [
              0.7777777777777778,
              "#fb9f3a"
             ],
             [
              0.8888888888888888,
              "#fdca26"
             ],
             [
              1,
              "#f0f921"
             ]
            ],
            "type": "histogram2dcontour"
           }
          ],
          "mesh3d": [
           {
            "colorbar": {
             "outlinewidth": 0,
             "ticks": ""
            },
            "type": "mesh3d"
           }
          ],
          "parcoords": [
           {
            "line": {
             "colorbar": {
              "outlinewidth": 0,
              "ticks": ""
             }
            },
            "type": "parcoords"
           }
          ],
          "pie": [
           {
            "automargin": true,
            "type": "pie"
           }
          ],
          "scatter": [
           {
            "marker": {
             "colorbar": {
              "outlinewidth": 0,
              "ticks": ""
             }
            },
            "type": "scatter"
           }
          ],
          "scatter3d": [
           {
            "line": {
             "colorbar": {
              "outlinewidth": 0,
              "ticks": ""
             }
            },
            "marker": {
             "colorbar": {
              "outlinewidth": 0,
              "ticks": ""
             }
            },
            "type": "scatter3d"
           }
          ],
          "scattercarpet": [
           {
            "marker": {
             "colorbar": {
              "outlinewidth": 0,
              "ticks": ""
             }
            },
            "type": "scattercarpet"
           }
          ],
          "scattergeo": [
           {
            "marker": {
             "colorbar": {
              "outlinewidth": 0,
              "ticks": ""
             }
            },
            "type": "scattergeo"
           }
          ],
          "scattergl": [
           {
            "marker": {
             "colorbar": {
              "outlinewidth": 0,
              "ticks": ""
             }
            },
            "type": "scattergl"
           }
          ],
          "scattermapbox": [
           {
            "marker": {
             "colorbar": {
              "outlinewidth": 0,
              "ticks": ""
             }
            },
            "type": "scattermapbox"
           }
          ],
          "scatterpolar": [
           {
            "marker": {
             "colorbar": {
              "outlinewidth": 0,
              "ticks": ""
             }
            },
            "type": "scatterpolar"
           }
          ],
          "scatterpolargl": [
           {
            "marker": {
             "colorbar": {
              "outlinewidth": 0,
              "ticks": ""
             }
            },
            "type": "scatterpolargl"
           }
          ],
          "scatterternary": [
           {
            "marker": {
             "colorbar": {
              "outlinewidth": 0,
              "ticks": ""
             }
            },
            "type": "scatterternary"
           }
          ],
          "surface": [
           {
            "colorbar": {
             "outlinewidth": 0,
             "ticks": ""
            },
            "colorscale": [
             [
              0,
              "#0d0887"
             ],
             [
              0.1111111111111111,
              "#46039f"
             ],
             [
              0.2222222222222222,
              "#7201a8"
             ],
             [
              0.3333333333333333,
              "#9c179e"
             ],
             [
              0.4444444444444444,
              "#bd3786"
             ],
             [
              0.5555555555555556,
              "#d8576b"
             ],
             [
              0.6666666666666666,
              "#ed7953"
             ],
             [
              0.7777777777777778,
              "#fb9f3a"
             ],
             [
              0.8888888888888888,
              "#fdca26"
             ],
             [
              1,
              "#f0f921"
             ]
            ],
            "type": "surface"
           }
          ],
          "table": [
           {
            "cells": {
             "fill": {
              "color": "#EBF0F8"
             },
             "line": {
              "color": "white"
             }
            },
            "header": {
             "fill": {
              "color": "#C8D4E3"
             },
             "line": {
              "color": "white"
             }
            },
            "type": "table"
           }
          ]
         },
         "layout": {
          "annotationdefaults": {
           "arrowcolor": "#2a3f5f",
           "arrowhead": 0,
           "arrowwidth": 1
          },
          "autotypenumbers": "strict",
          "coloraxis": {
           "colorbar": {
            "outlinewidth": 0,
            "ticks": ""
           }
          },
          "colorscale": {
           "diverging": [
            [
             0,
             "#8e0152"
            ],
            [
             0.1,
             "#c51b7d"
            ],
            [
             0.2,
             "#de77ae"
            ],
            [
             0.3,
             "#f1b6da"
            ],
            [
             0.4,
             "#fde0ef"
            ],
            [
             0.5,
             "#f7f7f7"
            ],
            [
             0.6,
             "#e6f5d0"
            ],
            [
             0.7,
             "#b8e186"
            ],
            [
             0.8,
             "#7fbc41"
            ],
            [
             0.9,
             "#4d9221"
            ],
            [
             1,
             "#276419"
            ]
           ],
           "sequential": [
            [
             0,
             "#0d0887"
            ],
            [
             0.1111111111111111,
             "#46039f"
            ],
            [
             0.2222222222222222,
             "#7201a8"
            ],
            [
             0.3333333333333333,
             "#9c179e"
            ],
            [
             0.4444444444444444,
             "#bd3786"
            ],
            [
             0.5555555555555556,
             "#d8576b"
            ],
            [
             0.6666666666666666,
             "#ed7953"
            ],
            [
             0.7777777777777778,
             "#fb9f3a"
            ],
            [
             0.8888888888888888,
             "#fdca26"
            ],
            [
             1,
             "#f0f921"
            ]
           ],
           "sequentialminus": [
            [
             0,
             "#0d0887"
            ],
            [
             0.1111111111111111,
             "#46039f"
            ],
            [
             0.2222222222222222,
             "#7201a8"
            ],
            [
             0.3333333333333333,
             "#9c179e"
            ],
            [
             0.4444444444444444,
             "#bd3786"
            ],
            [
             0.5555555555555556,
             "#d8576b"
            ],
            [
             0.6666666666666666,
             "#ed7953"
            ],
            [
             0.7777777777777778,
             "#fb9f3a"
            ],
            [
             0.8888888888888888,
             "#fdca26"
            ],
            [
             1,
             "#f0f921"
            ]
           ]
          },
          "colorway": [
           "#636efa",
           "#EF553B",
           "#00cc96",
           "#ab63fa",
           "#FFA15A",
           "#19d3f3",
           "#FF6692",
           "#B6E880",
           "#FF97FF",
           "#FECB52"
          ],
          "font": {
           "color": "#2a3f5f"
          },
          "geo": {
           "bgcolor": "white",
           "lakecolor": "white",
           "landcolor": "#E5ECF6",
           "showlakes": true,
           "showland": true,
           "subunitcolor": "white"
          },
          "hoverlabel": {
           "align": "left"
          },
          "hovermode": "closest",
          "mapbox": {
           "style": "light"
          },
          "paper_bgcolor": "white",
          "plot_bgcolor": "#E5ECF6",
          "polar": {
           "angularaxis": {
            "gridcolor": "white",
            "linecolor": "white",
            "ticks": ""
           },
           "bgcolor": "#E5ECF6",
           "radialaxis": {
            "gridcolor": "white",
            "linecolor": "white",
            "ticks": ""
           }
          },
          "scene": {
           "xaxis": {
            "backgroundcolor": "#E5ECF6",
            "gridcolor": "white",
            "gridwidth": 2,
            "linecolor": "white",
            "showbackground": true,
            "ticks": "",
            "zerolinecolor": "white"
           },
           "yaxis": {
            "backgroundcolor": "#E5ECF6",
            "gridcolor": "white",
            "gridwidth": 2,
            "linecolor": "white",
            "showbackground": true,
            "ticks": "",
            "zerolinecolor": "white"
           },
           "zaxis": {
            "backgroundcolor": "#E5ECF6",
            "gridcolor": "white",
            "gridwidth": 2,
            "linecolor": "white",
            "showbackground": true,
            "ticks": "",
            "zerolinecolor": "white"
           }
          },
          "shapedefaults": {
           "line": {
            "color": "#2a3f5f"
           }
          },
          "ternary": {
           "aaxis": {
            "gridcolor": "white",
            "linecolor": "white",
            "ticks": ""
           },
           "baxis": {
            "gridcolor": "white",
            "linecolor": "white",
            "ticks": ""
           },
           "bgcolor": "#E5ECF6",
           "caxis": {
            "gridcolor": "white",
            "linecolor": "white",
            "ticks": ""
           }
          },
          "title": {
           "x": 0.05
          },
          "xaxis": {
           "automargin": true,
           "gridcolor": "white",
           "linecolor": "white",
           "ticks": "",
           "title": {
            "standoff": 15
           },
           "zerolinecolor": "white",
           "zerolinewidth": 2
          },
          "yaxis": {
           "automargin": true,
           "gridcolor": "white",
           "linecolor": "white",
           "ticks": "",
           "title": {
            "standoff": 15
           },
           "zerolinecolor": "white",
           "zerolinewidth": 2
          }
         }
        },
        "title": {
         "font": {
          "color": "darkred",
          "family": "Arial",
          "size": 20
         },
         "text": "Car Price",
         "x": 0.45,
         "y": 0.875
        },
        "width": 800,
        "xaxis": {
         "autorange": true,
         "range": [
          -0.5,
          3.5
         ],
         "showticklabels": true,
         "tickfont": {
          "color": "black",
          "family": "Arial",
          "size": 16
         },
         "tickmode": "array",
         "ticktext": [
          "Unacceptable",
          "Acceptable",
          "Good",
          "Very Good"
         ],
         "tickvals": [
          "unacc",
          "acc",
          "good",
          "vgood"
         ],
         "title": {
          "text": "Condition"
         },
         "type": "category"
        },
        "yaxis": {
         "autorange": true,
         "range": [
          0,
          378.94736842105266
         ],
         "tickfont": {
          "color": "black",
          "family": "Arial",
          "size": 16
         },
         "title": {
          "text": "Number of Cars"
         }
        }
       }
      },
      "image/png": "[encoded data removed]",
      "text/html": [
       "<div>                            <div id=\"dd6ef8d2-a39c-4374-9609-fe20cbd9392d\" class=\"plotly-graph-div\" style=\"height:550px; width:800px;\"></div>            <script type=\"text/javascript\">                require([\"plotly\"], function(Plotly) {                    window.PLOTLYENV=window.PLOTLYENV || {};                                    if (document.getElementById(\"dd6ef8d2-a39c-4374-9609-fe20cbd9392d\")) {                    Plotly.newPlot(                        \"dd6ef8d2-a39c-4374-9609-fe20cbd9392d\",                        [{\"marker\":{\"color\":\"#fb9f3a\"},\"name\":\"Low\",\"type\":\"histogram\",\"x\":[\"unacc\",\"unacc\",\"unacc\",\"unacc\",\"unacc\",\"unacc\",\"unacc\",\"unacc\",\"unacc\",\"unacc\",\"unacc\",\"acc\",\"unacc\",\"unacc\",\"acc\",\"unacc\",\"acc\",\"acc\",\"unacc\",\"unacc\",\"unacc\",\"unacc\",\"unacc\",\"acc\",\"unacc\",\"acc\",\"acc\",\"unacc\",\"unacc\",\"unacc\",\"unacc\",\"unacc\",\"unacc\",\"unacc\",\"unacc\",\"unacc\",\"unacc\",\"unacc\",\"acc\",\"unacc\",\"unacc\",\"acc\",\"unacc\",\"acc\",\"acc\",\"unacc\",\"unacc\",\"acc\",\"unacc\",\"acc\",\"acc\",\"unacc\",\"acc\",\"acc\",\"unacc\",\"unacc\",\"unacc\",\"unacc\",\"unacc\",\"unacc\",\"unacc\",\"unacc\",\"unacc\",\"unacc\",\"unacc\",\"acc\",\"unacc\",\"acc\",\"acc\",\"unacc\",\"acc\",\"acc\",\"unacc\",\"unacc\",\"acc\",\"unacc\",\"acc\",\"acc\",\"unacc\",\"acc\",\"acc\",\"unacc\",\"unacc\",\"unacc\",\"unacc\",\"unacc\",\"unacc\",\"unacc\",\"unacc\",\"unacc\",\"unacc\",\"unacc\",\"acc\",\"unacc\",\"acc\",\"acc\",\"unacc\",\"acc\",\"acc\",\"unacc\",\"unacc\",\"acc\",\"unacc\",\"acc\",\"acc\",\"unacc\",\"acc\",\"acc\",\"unacc\",\"unacc\",\"unacc\",\"unacc\",\"unacc\",\"unacc\",\"unacc\",\"unacc\",\"unacc\",\"unacc\",\"acc\",\"acc\",\"unacc\",\"acc\",\"acc\",\"unacc\",\"acc\",\"vgood\",\"unacc\",\"unacc\",\"unacc\",\"unacc\",\"acc\",\"acc\",\"unacc\",\"acc\",\"vgood\",\"unacc\",\"unacc\",\"unacc\",\"unacc\",\"unacc\",\"unacc\",\"unacc\",\"unacc\",\"unacc\",\"unacc\",\"acc\",\"acc\",\"unacc\",\"acc\",\"acc\",\"unacc\",\"acc\",\"vgood\",\"unacc\",\"acc\",\"acc\",\"unacc\",\"acc\",\"vgood\",\"unacc\",\"acc\",\"vgood\",\"unacc\",\"unacc\",\"unacc\",\"unacc\",\"unacc\",\"unacc\",\"unacc\",\"unacc\",\"unacc\",\"unacc\",\"acc\",\"acc\",\"unacc\",\"acc\",\"vgood\",\"unacc\",\"acc\",\"vgood\",\"unacc\",\"acc\",\"acc\",\"unacc\",\"acc\",\"vgood\",\"unacc\",\"acc\",\"vgood\",\"unacc\",\"unacc\",\"unacc\",\"unacc\",\"unacc\",\"unacc\",\"unacc\",\"unacc\",\"unacc\",\"unacc\",\"acc\",\"acc\",\"unacc\",\"acc\",\"vgood\",\"unacc\",\"acc\",\"vgood\",\"unacc\",\"acc\",\"acc\",\"unacc\",\"acc\",\"vgood\",\"unacc\",\"acc\",\"vgood\",\"unacc\",\"unacc\",\"unacc\",\"unacc\",\"unacc\",\"unacc\",\"unacc\",\"unacc\",\"unacc\",\"unacc\",\"acc\",\"good\",\"unacc\",\"acc\",\"good\",\"unacc\",\"good\",\"vgood\",\"unacc\",\"unacc\",\"unacc\",\"unacc\",\"acc\",\"good\",\"unacc\",\"good\",\"vgood\",\"unacc\",\"unacc\",\"unacc\",\"unacc\",\"unacc\",\"unacc\",\"unacc\",\"unacc\",\"unacc\",\"unacc\",\"acc\",\"good\",\"unacc\",\"acc\",\"good\",\"unacc\",\"good\",\"vgood\",\"unacc\",\"acc\",\"good\",\"unacc\",\"good\",\"vgood\",\"unacc\",\"good\",\"vgood\",\"unacc\",\"unacc\",\"unacc\",\"unacc\",\"unacc\",\"unacc\",\"unacc\",\"unacc\",\"unacc\",\"unacc\",\"acc\",\"good\",\"unacc\",\"good\",\"vgood\",\"unacc\",\"good\",\"vgood\",\"unacc\",\"acc\",\"good\",\"unacc\",\"good\",\"vgood\",\"unacc\",\"good\",\"vgood\",\"unacc\",\"unacc\",\"unacc\",\"unacc\",\"unacc\",\"unacc\",\"unacc\",\"unacc\",\"unacc\",\"unacc\",\"acc\",\"good\",\"unacc\",\"good\",\"vgood\",\"unacc\",\"good\",\"vgood\",\"unacc\",\"acc\",\"good\",\"unacc\",\"good\",\"vgood\",\"unacc\",\"good\",\"vgood\",\"unacc\",\"unacc\",\"unacc\",\"unacc\",\"unacc\",\"unacc\",\"unacc\",\"unacc\",\"unacc\",\"unacc\",\"acc\",\"good\",\"unacc\",\"acc\",\"good\",\"unacc\",\"good\",\"vgood\",\"unacc\",\"unacc\",\"unacc\",\"unacc\",\"acc\",\"good\",\"unacc\",\"good\",\"vgood\",\"unacc\",\"unacc\",\"unacc\",\"unacc\",\"unacc\",\"unacc\",\"unacc\",\"unacc\",\"unacc\",\"unacc\",\"acc\",\"good\",\"unacc\",\"acc\",\"good\",\"unacc\",\"good\",\"vgood\",\"unacc\",\"acc\",\"good\",\"unacc\",\"good\",\"vgood\",\"unacc\",\"good\",\"vgood\",\"unacc\",\"unacc\",\"unacc\",\"unacc\",\"unacc\",\"unacc\",\"unacc\",\"unacc\",\"unacc\",\"unacc\",\"acc\",\"good\",\"unacc\",\"good\",\"vgood\",\"unacc\",\"good\",\"vgood\",\"unacc\",\"acc\",\"good\",\"unacc\",\"good\",\"vgood\",\"unacc\",\"good\",\"vgood\",\"unacc\",\"unacc\",\"unacc\",\"unacc\",\"unacc\",\"unacc\",\"unacc\",\"unacc\",\"unacc\",\"unacc\",\"acc\",\"good\",\"unacc\",\"good\",\"vgood\",\"unacc\",\"good\",\"vgood\",\"unacc\",\"acc\",\"good\",\"unacc\",\"good\",\"vgood\",\"unacc\",\"good\",\"vgood\"]},{\"marker\":{\"color\":\"#d8576b\"},\"name\":\"Medium\",\"type\":\"histogram\",\"x\":[\"unacc\",\"unacc\",\"unacc\",\"unacc\",\"unacc\",\"unacc\",\"unacc\",\"unacc\",\"unacc\",\"unacc\",\"unacc\",\"acc\",\"unacc\",\"unacc\",\"acc\",\"unacc\",\"acc\",\"acc\",\"unacc\",\"unacc\",\"unacc\",\"unacc\",\"unacc\",\"acc\",\"unacc\",\"acc\",\"acc\",\"unacc\",\"unacc\",\"unacc\",\"unacc\",\"unacc\",\"unacc\",\"unacc\",\"unacc\",\"unacc\",\"unacc\",\"unacc\",\"acc\",\"unacc\",\"unacc\",\"acc\",\"unacc\",\"acc\",\"acc\",\"unacc\",\"unacc\",\"acc\",\"unacc\",\"acc\",\"acc\",\"unacc\",\"acc\",\"acc\",\"unacc\",\"unacc\",\"unacc\",\"unacc\",\"unacc\",\"unacc\",\"unacc\",\"unacc\",\"unacc\",\"unacc\",\"unacc\",\"acc\",\"unacc\",\"acc\",\"acc\",\"unacc\",\"acc\",\"acc\",\"unacc\",\"unacc\",\"acc\",\"unacc\",\"acc\",\"acc\",\"unacc\",\"acc\",\"acc\",\"unacc\",\"unacc\",\"unacc\",\"unacc\",\"unacc\",\"unacc\",\"unacc\",\"unacc\",\"unacc\",\"unacc\",\"unacc\",\"acc\",\"unacc\",\"acc\",\"acc\",\"unacc\",\"acc\",\"acc\",\"unacc\",\"unacc\",\"acc\",\"unacc\",\"acc\",\"acc\",\"unacc\",\"acc\",\"acc\",\"unacc\",\"unacc\",\"unacc\",\"unacc\",\"unacc\",\"unacc\",\"unacc\",\"unacc\",\"unacc\",\"unacc\",\"unacc\",\"acc\",\"unacc\",\"unacc\",\"acc\",\"unacc\",\"acc\",\"acc\",\"unacc\",\"unacc\",\"unacc\",\"unacc\",\"unacc\",\"acc\",\"unacc\",\"acc\",\"acc\",\"unacc\",\"unacc\",\"unacc\",\"unacc\",\"unacc\",\"unacc\",\"unacc\",\"unacc\",\"unacc\",\"unacc\",\"unacc\",\"acc\",\"unacc\",\"unacc\",\"acc\",\"unacc\",\"acc\",\"acc\",\"unacc\",\"unacc\",\"acc\",\"unacc\",\"acc\",\"acc\",\"unacc\",\"acc\",\"acc\",\"unacc\",\"unacc\",\"unacc\",\"unacc\",\"unacc\",\"unacc\",\"unacc\",\"unacc\",\"unacc\",\"unacc\",\"unacc\",\"acc\",\"unacc\",\"acc\",\"acc\",\"unacc\",\"acc\",\"acc\",\"unacc\",\"unacc\",\"acc\",\"unacc\",\"acc\",\"acc\",\"unacc\",\"acc\",\"acc\",\"unacc\",\"unacc\",\"unacc\",\"unacc\",\"unacc\",\"unacc\",\"unacc\",\"unacc\",\"unacc\",\"unacc\",\"unacc\",\"acc\",\"unacc\",\"acc\",\"acc\",\"unacc\",\"acc\",\"acc\",\"unacc\",\"unacc\",\"acc\",\"unacc\",\"acc\",\"acc\",\"unacc\",\"acc\",\"acc\",\"unacc\",\"unacc\",\"unacc\",\"unacc\",\"unacc\",\"unacc\",\"unacc\",\"unacc\",\"unacc\",\"unacc\",\"acc\",\"acc\",\"unacc\",\"acc\",\"acc\",\"unacc\",\"acc\",\"vgood\",\"unacc\",\"unacc\",\"unacc\",\"unacc\",\"acc\",\"acc\",\"unacc\",\"acc\",\"vgood\",\"unacc\",\"unacc\",\"unacc\",\"unacc\",\"unacc\",\"unacc\",\"unacc\",\"unacc\",\"unacc\",\"unacc\",\"acc\",\"acc\",\"unacc\",\"acc\",\"acc\",\"unacc\",\"acc\",\"vgood\",\"unacc\",\"acc\",\"acc\",\"unacc\",\"acc\",\"vgood\",\"unacc\",\"acc\",\"vgood\",\"unacc\",\"unacc\",\"unacc\",\"unacc\",\"unacc\",\"unacc\",\"unacc\",\"unacc\",\"unacc\",\"unacc\",\"acc\",\"acc\",\"unacc\",\"acc\",\"vgood\",\"unacc\",\"acc\",\"vgood\",\"unacc\",\"acc\",\"acc\",\"unacc\",\"acc\",\"vgood\",\"unacc\",\"acc\",\"vgood\",\"unacc\",\"unacc\",\"unacc\",\"unacc\",\"unacc\",\"unacc\",\"unacc\",\"unacc\",\"unacc\",\"unacc\",\"acc\",\"acc\",\"unacc\",\"acc\",\"vgood\",\"unacc\",\"acc\",\"vgood\",\"unacc\",\"acc\",\"acc\",\"unacc\",\"acc\",\"vgood\",\"unacc\",\"acc\",\"vgood\",\"unacc\",\"unacc\",\"unacc\",\"unacc\",\"unacc\",\"unacc\",\"unacc\",\"unacc\",\"unacc\",\"unacc\",\"acc\",\"good\",\"unacc\",\"acc\",\"good\",\"unacc\",\"good\",\"vgood\",\"unacc\",\"unacc\",\"unacc\",\"unacc\",\"acc\",\"good\",\"unacc\",\"good\",\"vgood\",\"unacc\",\"unacc\",\"unacc\",\"unacc\",\"unacc\",\"unacc\",\"unacc\",\"unacc\",\"unacc\",\"unacc\",\"acc\",\"good\",\"unacc\",\"acc\",\"good\",\"unacc\",\"good\",\"vgood\",\"unacc\",\"acc\",\"good\",\"unacc\",\"good\",\"vgood\",\"unacc\",\"good\",\"vgood\",\"unacc\",\"unacc\",\"unacc\",\"unacc\",\"unacc\",\"unacc\",\"unacc\",\"unacc\",\"unacc\",\"unacc\",\"acc\",\"good\",\"unacc\",\"good\",\"vgood\",\"unacc\",\"good\",\"vgood\",\"unacc\",\"acc\",\"good\",\"unacc\",\"good\",\"vgood\",\"unacc\",\"good\",\"vgood\",\"unacc\",\"unacc\",\"unacc\",\"unacc\",\"unacc\",\"unacc\",\"unacc\",\"unacc\",\"unacc\",\"unacc\",\"acc\",\"good\",\"unacc\",\"good\",\"vgood\",\"unacc\",\"good\",\"vgood\",\"unacc\",\"acc\",\"good\",\"unacc\",\"good\",\"vgood\",\"unacc\",\"good\",\"vgood\"]},{\"marker\":{\"color\":\"#9c179e\"},\"name\":\"High\",\"type\":\"histogram\",\"x\":[\"unacc\",\"unacc\",\"unacc\",\"unacc\",\"unacc\",\"unacc\",\"unacc\",\"unacc\",\"unacc\",\"unacc\",\"unacc\",\"unacc\",\"unacc\",\"unacc\",\"unacc\",\"unacc\",\"unacc\",\"unacc\",\"unacc\",\"unacc\",\"unacc\",\"unacc\",\"unacc\",\"unacc\",\"unacc\",\"unacc\",\"unacc\",\"unacc\",\"unacc\",\"unacc\",\"unacc\",\"unacc\",\"unacc\",\"unacc\",\"unacc\",\"unacc\",\"unacc\",\"unacc\",\"unacc\",\"unacc\",\"unacc\",\"unacc\",\"unacc\",\"unacc\",\"unacc\",\"unacc\",\"unacc\",\"unacc\",\"unacc\",\"unacc\",\"unacc\",\"unacc\",\"unacc\",\"unacc\",\"unacc\",\"unacc\",\"unacc\",\"unacc\",\"unacc\",\"unacc\",\"unacc\",\"unacc\",\"unacc\",\"unacc\",\"unacc\",\"unacc\",\"unacc\",\"unacc\",\"unacc\",\"unacc\",\"unacc\",\"unacc\",\"unacc\",\"unacc\",\"unacc\",\"unacc\",\"unacc\",\"unacc\",\"unacc\",\"unacc\",\"unacc\",\"unacc\",\"unacc\",\"unacc\",\"unacc\",\"unacc\",\"unacc\",\"unacc\",\"unacc\",\"unacc\",\"unacc\",\"unacc\",\"unacc\",\"unacc\",\"unacc\",\"unacc\",\"unacc\",\"unacc\",\"unacc\",\"unacc\",\"unacc\",\"unacc\",\"unacc\",\"unacc\",\"unacc\",\"unacc\",\"unacc\",\"unacc\",\"unacc\",\"unacc\",\"unacc\",\"unacc\",\"unacc\",\"unacc\",\"unacc\",\"unacc\",\"unacc\",\"unacc\",\"unacc\",\"acc\",\"unacc\",\"unacc\",\"acc\",\"unacc\",\"acc\",\"acc\",\"unacc\",\"unacc\",\"unacc\",\"unacc\",\"unacc\",\"acc\",\"unacc\",\"acc\",\"acc\",\"unacc\",\"unacc\",\"unacc\",\"unacc\",\"unacc\",\"unacc\",\"unacc\",\"unacc\",\"unacc\",\"unacc\",\"unacc\",\"acc\",\"unacc\",\"unacc\",\"acc\",\"unacc\",\"acc\",\"acc\",\"unacc\",\"unacc\",\"acc\",\"unacc\",\"acc\",\"acc\",\"unacc\",\"acc\",\"acc\",\"unacc\",\"unacc\",\"unacc\",\"unacc\",\"unacc\",\"unacc\",\"unacc\",\"unacc\",\"unacc\",\"unacc\",\"unacc\",\"acc\",\"unacc\",\"acc\",\"acc\",\"unacc\",\"acc\",\"acc\",\"unacc\",\"unacc\",\"acc\",\"unacc\",\"acc\",\"acc\",\"unacc\",\"acc\",\"acc\",\"unacc\",\"unacc\",\"unacc\",\"unacc\",\"unacc\",\"unacc\",\"unacc\",\"unacc\",\"unacc\",\"unacc\",\"unacc\",\"acc\",\"unacc\",\"acc\",\"acc\",\"unacc\",\"acc\",\"acc\",\"unacc\",\"unacc\",\"acc\",\"unacc\",\"acc\",\"acc\",\"unacc\",\"acc\",\"acc\",\"unacc\",\"unacc\",\"unacc\",\"unacc\",\"unacc\",\"unacc\",\"unacc\",\"unacc\",\"unacc\",\"unacc\",\"unacc\",\"acc\",\"unacc\",\"unacc\",\"acc\",\"unacc\",\"acc\",\"acc\",\"unacc\",\"unacc\",\"unacc\",\"unacc\",\"unacc\",\"acc\",\"unacc\",\"acc\",\"acc\",\"unacc\",\"unacc\",\"unacc\",\"unacc\",\"unacc\",\"unacc\",\"unacc\",\"unacc\",\"unacc\",\"unacc\",\"unacc\",\"acc\",\"unacc\",\"unacc\",\"acc\",\"unacc\",\"acc\",\"acc\",\"unacc\",\"unacc\",\"acc\",\"unacc\",\"acc\",\"acc\",\"unacc\",\"acc\",\"acc\",\"unacc\",\"unacc\",\"unacc\",\"unacc\",\"unacc\",\"unacc\",\"unacc\",\"unacc\",\"unacc\",\"unacc\",\"unacc\",\"acc\",\"unacc\",\"acc\",\"acc\",\"unacc\",\"acc\",\"acc\",\"unacc\",\"unacc\",\"acc\",\"unacc\",\"acc\",\"acc\",\"unacc\",\"acc\",\"acc\",\"unacc\",\"unacc\",\"unacc\",\"unacc\",\"unacc\",\"unacc\",\"unacc\",\"unacc\",\"unacc\",\"unacc\",\"unacc\",\"acc\",\"unacc\",\"acc\",\"acc\",\"unacc\",\"acc\",\"acc\",\"unacc\",\"unacc\",\"acc\",\"unacc\",\"acc\",\"acc\",\"unacc\",\"acc\",\"acc\",\"unacc\",\"unacc\",\"unacc\",\"unacc\",\"unacc\",\"unacc\",\"unacc\",\"unacc\",\"unacc\",\"unacc\",\"unacc\",\"acc\",\"unacc\",\"unacc\",\"acc\",\"unacc\",\"acc\",\"acc\",\"unacc\",\"unacc\",\"unacc\",\"unacc\",\"unacc\",\"acc\",\"unacc\",\"acc\",\"acc\",\"unacc\",\"unacc\",\"unacc\",\"unacc\",\"unacc\",\"unacc\",\"unacc\",\"unacc\",\"unacc\",\"unacc\",\"unacc\",\"acc\",\"unacc\",\"unacc\",\"acc\",\"unacc\",\"acc\",\"acc\",\"unacc\",\"unacc\",\"acc\",\"unacc\",\"acc\",\"acc\",\"unacc\",\"acc\",\"acc\",\"unacc\",\"unacc\",\"unacc\",\"unacc\",\"unacc\",\"unacc\",\"unacc\",\"unacc\",\"unacc\",\"unacc\",\"unacc\",\"acc\",\"unacc\",\"acc\",\"acc\",\"unacc\",\"acc\",\"acc\",\"unacc\",\"unacc\",\"acc\",\"unacc\",\"acc\",\"acc\",\"unacc\",\"acc\",\"acc\",\"unacc\",\"unacc\",\"unacc\",\"unacc\",\"unacc\",\"unacc\",\"unacc\",\"unacc\",\"unacc\",\"unacc\",\"unacc\",\"acc\",\"unacc\",\"acc\",\"acc\",\"unacc\",\"acc\",\"acc\",\"unacc\",\"unacc\",\"acc\",\"unacc\",\"acc\",\"acc\",\"unacc\",\"acc\",\"acc\"]},{\"marker\":{\"color\":\"#7201a8\"},\"name\":\"Very High\",\"type\":\"histogram\",\"x\":[\"unacc\",\"unacc\",\"unacc\",\"unacc\",\"unacc\",\"unacc\",\"unacc\",\"unacc\",\"unacc\",\"unacc\",\"unacc\",\"unacc\",\"unacc\",\"unacc\",\"unacc\",\"unacc\",\"unacc\",\"unacc\",\"unacc\",\"unacc\",\"unacc\",\"unacc\",\"unacc\",\"unacc\",\"unacc\",\"unacc\",\"unacc\",\"unacc\",\"unacc\",\"unacc\",\"unacc\",\"unacc\",\"unacc\",\"unacc\",\"unacc\",\"unacc\",\"unacc\",\"unacc\",\"unacc\",\"unacc\",\"unacc\",\"unacc\",\"unacc\",\"unacc\",\"unacc\",\"unacc\",\"unacc\",\"unacc\",\"unacc\",\"unacc\",\"unacc\",\"unacc\",\"unacc\",\"unacc\",\"unacc\",\"unacc\",\"unacc\",\"unacc\",\"unacc\",\"unacc\",\"unacc\",\"unacc\",\"unacc\",\"unacc\",\"unacc\",\"unacc\",\"unacc\",\"unacc\",\"unacc\",\"unacc\",\"unacc\",\"unacc\",\"unacc\",\"unacc\",\"unacc\",\"unacc\",\"unacc\",\"unacc\",\"unacc\",\"unacc\",\"unacc\",\"unacc\",\"unacc\",\"unacc\",\"unacc\",\"unacc\",\"unacc\",\"unacc\",\"unacc\",\"unacc\",\"unacc\",\"unacc\",\"unacc\",\"unacc\",\"unacc\",\"unacc\",\"unacc\",\"unacc\",\"unacc\",\"unacc\",\"unacc\",\"unacc\",\"unacc\",\"unacc\",\"unacc\",\"unacc\",\"unacc\",\"unacc\",\"unacc\",\"unacc\",\"unacc\",\"unacc\",\"unacc\",\"unacc\",\"unacc\",\"unacc\",\"unacc\",\"unacc\",\"unacc\",\"unacc\",\"unacc\",\"unacc\",\"unacc\",\"unacc\",\"unacc\",\"unacc\",\"unacc\",\"unacc\",\"unacc\",\"unacc\",\"unacc\",\"unacc\",\"unacc\",\"unacc\",\"unacc\",\"unacc\",\"unacc\",\"unacc\",\"unacc\",\"unacc\",\"unacc\",\"unacc\",\"unacc\",\"unacc\",\"unacc\",\"unacc\",\"unacc\",\"unacc\",\"unacc\",\"unacc\",\"unacc\",\"unacc\",\"unacc\",\"unacc\",\"unacc\",\"unacc\",\"unacc\",\"unacc\",\"unacc\",\"unacc\",\"unacc\",\"unacc\",\"unacc\",\"unacc\",\"unacc\",\"unacc\",\"unacc\",\"unacc\",\"unacc\",\"unacc\",\"unacc\",\"unacc\",\"unacc\",\"unacc\",\"unacc\",\"unacc\",\"unacc\",\"unacc\",\"unacc\",\"unacc\",\"unacc\",\"unacc\",\"unacc\",\"unacc\",\"unacc\",\"unacc\",\"unacc\",\"unacc\",\"unacc\",\"unacc\",\"unacc\",\"unacc\",\"unacc\",\"unacc\",\"unacc\",\"unacc\",\"unacc\",\"unacc\",\"unacc\",\"unacc\",\"unacc\",\"unacc\",\"unacc\",\"unacc\",\"unacc\",\"unacc\",\"unacc\",\"unacc\",\"unacc\",\"unacc\",\"unacc\",\"unacc\",\"unacc\",\"unacc\",\"unacc\",\"unacc\",\"unacc\",\"unacc\",\"unacc\",\"unacc\",\"unacc\",\"unacc\",\"unacc\",\"unacc\",\"unacc\",\"unacc\",\"unacc\",\"acc\",\"unacc\",\"unacc\",\"acc\",\"unacc\",\"acc\",\"acc\",\"unacc\",\"unacc\",\"unacc\",\"unacc\",\"unacc\",\"acc\",\"unacc\",\"acc\",\"acc\",\"unacc\",\"unacc\",\"unacc\",\"unacc\",\"unacc\",\"unacc\",\"unacc\",\"unacc\",\"unacc\",\"unacc\",\"unacc\",\"acc\",\"unacc\",\"unacc\",\"acc\",\"unacc\",\"acc\",\"acc\",\"unacc\",\"unacc\",\"acc\",\"unacc\",\"acc\",\"acc\",\"unacc\",\"acc\",\"acc\",\"unacc\",\"unacc\",\"unacc\",\"unacc\",\"unacc\",\"unacc\",\"unacc\",\"unacc\",\"unacc\",\"unacc\",\"unacc\",\"acc\",\"unacc\",\"acc\",\"acc\",\"unacc\",\"acc\",\"acc\",\"unacc\",\"unacc\",\"acc\",\"unacc\",\"acc\",\"acc\",\"unacc\",\"acc\",\"acc\",\"unacc\",\"unacc\",\"unacc\",\"unacc\",\"unacc\",\"unacc\",\"unacc\",\"unacc\",\"unacc\",\"unacc\",\"unacc\",\"acc\",\"unacc\",\"acc\",\"acc\",\"unacc\",\"acc\",\"acc\",\"unacc\",\"unacc\",\"acc\",\"unacc\",\"acc\",\"acc\",\"unacc\",\"acc\",\"acc\",\"unacc\",\"unacc\",\"unacc\",\"unacc\",\"unacc\",\"unacc\",\"unacc\",\"unacc\",\"unacc\",\"unacc\",\"unacc\",\"acc\",\"unacc\",\"unacc\",\"acc\",\"unacc\",\"acc\",\"acc\",\"unacc\",\"unacc\",\"unacc\",\"unacc\",\"unacc\",\"acc\",\"unacc\",\"acc\",\"acc\",\"unacc\",\"unacc\",\"unacc\",\"unacc\",\"unacc\",\"unacc\",\"unacc\",\"unacc\",\"unacc\",\"unacc\",\"unacc\",\"acc\",\"unacc\",\"unacc\",\"acc\",\"unacc\",\"acc\",\"acc\",\"unacc\",\"unacc\",\"acc\",\"unacc\",\"acc\",\"acc\",\"unacc\",\"acc\",\"acc\",\"unacc\",\"unacc\",\"unacc\",\"unacc\",\"unacc\",\"unacc\",\"unacc\",\"unacc\",\"unacc\",\"unacc\",\"unacc\",\"acc\",\"unacc\",\"acc\",\"acc\",\"unacc\",\"acc\",\"acc\",\"unacc\",\"unacc\",\"acc\",\"unacc\",\"acc\",\"acc\",\"unacc\",\"acc\",\"acc\",\"unacc\",\"unacc\",\"unacc\",\"unacc\",\"unacc\",\"unacc\",\"unacc\",\"unacc\",\"unacc\",\"unacc\",\"unacc\",\"acc\",\"unacc\",\"acc\",\"acc\",\"unacc\",\"acc\",\"acc\",\"unacc\",\"unacc\",\"acc\",\"unacc\",\"acc\",\"acc\",\"unacc\",\"acc\",\"acc\"]}],                        {\"height\":550,\"legend\":{\"font\":{\"color\":\"black\",\"family\":\"Arial\",\"size\":16}},\"template\":{\"data\":{\"bar\":[{\"error_x\":{\"color\":\"#2a3f5f\"},\"error_y\":{\"color\":\"#2a3f5f\"},\"marker\":{\"line\":{\"color\":\"#E5ECF6\",\"width\":0.5},\"pattern\":{\"fillmode\":\"overlay\",\"size\":10,\"solidity\":0.2}},\"type\":\"bar\"}],\"barpolar\":[{\"marker\":{\"line\":{\"color\":\"#E5ECF6\",\"width\":0.5},\"pattern\":{\"fillmode\":\"overlay\",\"size\":10,\"solidity\":0.2}},\"type\":\"barpolar\"}],\"carpet\":[{\"aaxis\":{\"endlinecolor\":\"#2a3f5f\",\"gridcolor\":\"white\",\"linecolor\":\"white\",\"minorgridcolor\":\"white\",\"startlinecolor\":\"#2a3f5f\"},\"baxis\":{\"endlinecolor\":\"#2a3f5f\",\"gridcolor\":\"white\",\"linecolor\":\"white\",\"minorgridcolor\":\"white\",\"startlinecolor\":\"#2a3f5f\"},\"type\":\"carpet\"}],\"choropleth\":[{\"colorbar\":{\"outlinewidth\":0,\"ticks\":\"\"},\"type\":\"choropleth\"}],\"contour\":[{\"colorbar\":{\"outlinewidth\":0,\"ticks\":\"\"},\"colorscale\":[[0.0,\"#0d0887\"],[0.1111111111111111,\"#46039f\"],[0.2222222222222222,\"#7201a8\"],[0.3333333333333333,\"#9c179e\"],[0.4444444444444444,\"#bd3786\"],[0.5555555555555556,\"#d8576b\"],[0.6666666666666666,\"#ed7953\"],[0.7777777777777778,\"#fb9f3a\"],[0.8888888888888888,\"#fdca26\"],[1.0,\"#f0f921\"]],\"type\":\"contour\"}],\"contourcarpet\":[{\"colorbar\":{\"outlinewidth\":0,\"ticks\":\"\"},\"type\":\"contourcarpet\"}],\"heatmap\":[{\"colorbar\":{\"outlinewidth\":0,\"ticks\":\"\"},\"colorscale\":[[0.0,\"#0d0887\"],[0.1111111111111111,\"#46039f\"],[0.2222222222222222,\"#7201a8\"],[0.3333333333333333,\"#9c179e\"],[0.4444444444444444,\"#bd3786\"],[0.5555555555555556,\"#d8576b\"],[0.6666666666666666,\"#ed7953\"],[0.7777777777777778,\"#fb9f3a\"],[0.8888888888888888,\"#fdca26\"],[1.0,\"#f0f921\"]],\"type\":\"heatmap\"}],\"heatmapgl\":[{\"colorbar\":{\"outlinewidth\":0,\"ticks\":\"\"},\"colorscale\":[[0.0,\"#0d0887\"],[0.1111111111111111,\"#46039f\"],[0.2222222222222222,\"#7201a8\"],[0.3333333333333333,\"#9c179e\"],[0.4444444444444444,\"#bd3786\"],[0.5555555555555556,\"#d8576b\"],[0.6666666666666666,\"#ed7953\"],[0.7777777777777778,\"#fb9f3a\"],[0.8888888888888888,\"#fdca26\"],[1.0,\"#f0f921\"]],\"type\":\"heatmapgl\"}],\"histogram\":[{\"marker\":{\"pattern\":{\"fillmode\":\"overlay\",\"size\":10,\"solidity\":0.2}},\"type\":\"histogram\"}],\"histogram2d\":[{\"colorbar\":{\"outlinewidth\":0,\"ticks\":\"\"},\"colorscale\":[[0.0,\"#0d0887\"],[0.1111111111111111,\"#46039f\"],[0.2222222222222222,\"#7201a8\"],[0.3333333333333333,\"#9c179e\"],[0.4444444444444444,\"#bd3786\"],[0.5555555555555556,\"#d8576b\"],[0.6666666666666666,\"#ed7953\"],[0.7777777777777778,\"#fb9f3a\"],[0.8888888888888888,\"#fdca26\"],[1.0,\"#f0f921\"]],\"type\":\"histogram2d\"}],\"histogram2dcontour\":[{\"colorbar\":{\"outlinewidth\":0,\"ticks\":\"\"},\"colorscale\":[[0.0,\"#0d0887\"],[0.1111111111111111,\"#46039f\"],[0.2222222222222222,\"#7201a8\"],[0.3333333333333333,\"#9c179e\"],[0.4444444444444444,\"#bd3786\"],[0.5555555555555556,\"#d8576b\"],[0.6666666666666666,\"#ed7953\"],[0.7777777777777778,\"#fb9f3a\"],[0.8888888888888888,\"#fdca26\"],[1.0,\"#f0f921\"]],\"type\":\"histogram2dcontour\"}],\"mesh3d\":[{\"colorbar\":{\"outlinewidth\":0,\"ticks\":\"\"},\"type\":\"mesh3d\"}],\"parcoords\":[{\"line\":{\"colorbar\":{\"outlinewidth\":0,\"ticks\":\"\"}},\"type\":\"parcoords\"}],\"pie\":[{\"automargin\":true,\"type\":\"pie\"}],\"scatter\":[{\"marker\":{\"colorbar\":{\"outlinewidth\":0,\"ticks\":\"\"}},\"type\":\"scatter\"}],\"scatter3d\":[{\"line\":{\"colorbar\":{\"outlinewidth\":0,\"ticks\":\"\"}},\"marker\":{\"colorbar\":{\"outlinewidth\":0,\"ticks\":\"\"}},\"type\":\"scatter3d\"}],\"scattercarpet\":[{\"marker\":{\"colorbar\":{\"outlinewidth\":0,\"ticks\":\"\"}},\"type\":\"scattercarpet\"}],\"scattergeo\":[{\"marker\":{\"colorbar\":{\"outlinewidth\":0,\"ticks\":\"\"}},\"type\":\"scattergeo\"}],\"scattergl\":[{\"marker\":{\"colorbar\":{\"outlinewidth\":0,\"ticks\":\"\"}},\"type\":\"scattergl\"}],\"scattermapbox\":[{\"marker\":{\"colorbar\":{\"outlinewidth\":0,\"ticks\":\"\"}},\"type\":\"scattermapbox\"}],\"scatterpolar\":[{\"marker\":{\"colorbar\":{\"outlinewidth\":0,\"ticks\":\"\"}},\"type\":\"scatterpolar\"}],\"scatterpolargl\":[{\"marker\":{\"colorbar\":{\"outlinewidth\":0,\"ticks\":\"\"}},\"type\":\"scatterpolargl\"}],\"scatterternary\":[{\"marker\":{\"colorbar\":{\"outlinewidth\":0,\"ticks\":\"\"}},\"type\":\"scatterternary\"}],\"surface\":[{\"colorbar\":{\"outlinewidth\":0,\"ticks\":\"\"},\"colorscale\":[[0.0,\"#0d0887\"],[0.1111111111111111,\"#46039f\"],[0.2222222222222222,\"#7201a8\"],[0.3333333333333333,\"#9c179e\"],[0.4444444444444444,\"#bd3786\"],[0.5555555555555556,\"#d8576b\"],[0.6666666666666666,\"#ed7953\"],[0.7777777777777778,\"#fb9f3a\"],[0.8888888888888888,\"#fdca26\"],[1.0,\"#f0f921\"]],\"type\":\"surface\"}],\"table\":[{\"cells\":{\"fill\":{\"color\":\"#EBF0F8\"},\"line\":{\"color\":\"white\"}},\"header\":{\"fill\":{\"color\":\"#C8D4E3\"},\"line\":{\"color\":\"white\"}},\"type\":\"table\"}]},\"layout\":{\"annotationdefaults\":{\"arrowcolor\":\"#2a3f5f\",\"arrowhead\":0,\"arrowwidth\":1},\"autotypenumbers\":\"strict\",\"coloraxis\":{\"colorbar\":{\"outlinewidth\":0,\"ticks\":\"\"}},\"colorscale\":{\"diverging\":[[0,\"#8e0152\"],[0.1,\"#c51b7d\"],[0.2,\"#de77ae\"],[0.3,\"#f1b6da\"],[0.4,\"#fde0ef\"],[0.5,\"#f7f7f7\"],[0.6,\"#e6f5d0\"],[0.7,\"#b8e186\"],[0.8,\"#7fbc41\"],[0.9,\"#4d9221\"],[1,\"#276419\"]],\"sequential\":[[0.0,\"#0d0887\"],[0.1111111111111111,\"#46039f\"],[0.2222222222222222,\"#7201a8\"],[0.3333333333333333,\"#9c179e\"],[0.4444444444444444,\"#bd3786\"],[0.5555555555555556,\"#d8576b\"],[0.6666666666666666,\"#ed7953\"],[0.7777777777777778,\"#fb9f3a\"],[0.8888888888888888,\"#fdca26\"],[1.0,\"#f0f921\"]],\"sequentialminus\":[[0.0,\"#0d0887\"],[0.1111111111111111,\"#46039f\"],[0.2222222222222222,\"#7201a8\"],[0.3333333333333333,\"#9c179e\"],[0.4444444444444444,\"#bd3786\"],[0.5555555555555556,\"#d8576b\"],[0.6666666666666666,\"#ed7953\"],[0.7777777777777778,\"#fb9f3a\"],[0.8888888888888888,\"#fdca26\"],[1.0,\"#f0f921\"]]},\"colorway\":[\"#636efa\",\"#EF553B\",\"#00cc96\",\"#ab63fa\",\"#FFA15A\",\"#19d3f3\",\"#FF6692\",\"#B6E880\",\"#FF97FF\",\"#FECB52\"],\"font\":{\"color\":\"#2a3f5f\"},\"geo\":{\"bgcolor\":\"white\",\"lakecolor\":\"white\",\"landcolor\":\"#E5ECF6\",\"showlakes\":true,\"showland\":true,\"subunitcolor\":\"white\"},\"hoverlabel\":{\"align\":\"left\"},\"hovermode\":\"closest\",\"mapbox\":{\"style\":\"light\"},\"paper_bgcolor\":\"white\",\"plot_bgcolor\":\"#E5ECF6\",\"polar\":{\"angularaxis\":{\"gridcolor\":\"white\",\"linecolor\":\"white\",\"ticks\":\"\"},\"bgcolor\":\"#E5ECF6\",\"radialaxis\":{\"gridcolor\":\"white\",\"linecolor\":\"white\",\"ticks\":\"\"}},\"scene\":{\"xaxis\":{\"backgroundcolor\":\"#E5ECF6\",\"gridcolor\":\"white\",\"gridwidth\":2,\"linecolor\":\"white\",\"showbackground\":true,\"ticks\":\"\",\"zerolinecolor\":\"white\"},\"yaxis\":{\"backgroundcolor\":\"#E5ECF6\",\"gridcolor\":\"white\",\"gridwidth\":2,\"linecolor\":\"white\",\"showbackground\":true,\"ticks\":\"\",\"zerolinecolor\":\"white\"},\"zaxis\":{\"backgroundcolor\":\"#E5ECF6\",\"gridcolor\":\"white\",\"gridwidth\":2,\"linecolor\":\"white\",\"showbackground\":true,\"ticks\":\"\",\"zerolinecolor\":\"white\"}},\"shapedefaults\":{\"line\":{\"color\":\"#2a3f5f\"}},\"ternary\":{\"aaxis\":{\"gridcolor\":\"white\",\"linecolor\":\"white\",\"ticks\":\"\"},\"baxis\":{\"gridcolor\":\"white\",\"linecolor\":\"white\",\"ticks\":\"\"},\"bgcolor\":\"#E5ECF6\",\"caxis\":{\"gridcolor\":\"white\",\"linecolor\":\"white\",\"ticks\":\"\"}},\"title\":{\"x\":0.05},\"xaxis\":{\"automargin\":true,\"gridcolor\":\"white\",\"linecolor\":\"white\",\"ticks\":\"\",\"title\":{\"standoff\":15},\"zerolinecolor\":\"white\",\"zerolinewidth\":2},\"yaxis\":{\"automargin\":true,\"gridcolor\":\"white\",\"linecolor\":\"white\",\"ticks\":\"\",\"title\":{\"standoff\":15},\"zerolinecolor\":\"white\",\"zerolinewidth\":2}}},\"title\":{\"font\":{\"color\":\"darkred\",\"family\":\"Arial\",\"size\":20},\"text\":\"Car Price\",\"x\":0.45,\"y\":0.875},\"width\":800,\"xaxis\":{\"showticklabels\":true,\"tickfont\":{\"color\":\"black\",\"family\":\"Arial\",\"size\":16},\"tickmode\":\"array\",\"ticktext\":[\"Unacceptable\",\"Acceptable\",\"Good\",\"Very Good\"],\"tickvals\":[\"unacc\",\"acc\",\"good\",\"vgood\"],\"title\":{\"text\":\"Condition\"}},\"yaxis\":{\"tickfont\":{\"color\":\"black\",\"family\":\"Arial\",\"size\":16},\"title\":{\"text\":\"Number of Cars\"}}},                        {\"responsive\": true}                    ).then(function(){\n",
       "                            \n",
       "var gd = document.getElementById('dd6ef8d2-a39c-4374-9609-fe20cbd9392d');\n",
       "var x = new MutationObserver(function (mutations, observer) {{\n",
       "        var display = window.getComputedStyle(gd).display;\n",
       "        if (!display || display === 'none') {{\n",
       "            console.log([gd, 'removed!']);\n",
       "            Plotly.purge(gd);\n",
       "            observer.disconnect();\n",
       "        }}\n",
       "}});\n",
       "\n",
       "// Listen for the removal of the full notebook cells\n",
       "var notebookContainer = gd.closest('#notebook-container');\n",
       "if (notebookContainer) {{\n",
       "    x.observe(notebookContainer, {childList: true});\n",
       "}}\n",
       "\n",
       "// Listen for the clearing of the current output cell\n",
       "var outputEl = gd.closest('.output');\n",
       "if (outputEl) {{\n",
       "    x.observe(outputEl, {childList: true});\n",
       "}}\n",
       "\n",
       "                        })                };                });            </script>        </div>"
      ]
     },
     "metadata": {},
     "output_type": "display_data"
    }
   ],
   "source": [
    "fg3 = go.Figure(layout=go.Layout(height=550, width=800))\n",
    "\n",
    "fg3.add_trace(go.Histogram(x=car_df.loc[car_df.Price==\"low\", \"Class\"],\n",
    "                           name = \"Low\",\n",
    "                           marker=dict(color=\"#fb9f3a\")))\n",
    "fg3.add_trace(go.Histogram(x=car_df.loc[car_df.Price==\"med\", \"Class\"],\n",
    "                           name = \"Medium\",\n",
    "                           marker=dict(color=\"#d8576b\")))\n",
    "fg3.add_trace(go.Histogram(x=car_df.loc[car_df.Price==\"high\", \"Class\"],\n",
    "                           name = \"High\",\n",
    "                           marker=dict(color=\"#9c179e\")))\n",
    "fg3.add_trace(go.Histogram(x=car_df.loc[car_df.Price==\"vhigh\", \"Class\"],\n",
    "                           name = \"Very High\",\n",
    "                           marker=dict(color=\"#7201a8\")))\n",
    "\n",
    "fg3.update_xaxes(title_text=\"Condition\", \n",
    "                 showticklabels=True, \n",
    "                 tickmode=\"array\",\n",
    "                 tickvals=[\"unacc\", \"acc\", \"good\", \"vgood\"],\n",
    "                 ticktext=[\"Unacceptable\", \"Acceptable\", \"Good\", \"Very Good\"],\n",
    "                 tickfont=dict(family=\"Arial\", size=16, color=\"black\"))\n",
    "\n",
    "fg3.update_yaxes(title_text=\"Number of Cars\", tickfont=dict(family=\"Arial\", size=16, color=\"black\"))\n",
    "\n",
    "fg3.update_layout(legend = dict(font = dict(family = \"Arial\", size = 16, color=\"black\")),\n",
    "                  title_text = 'Car Price',\n",
    "                  title_font = dict(size=20, family='Arial', color='darkred'),\n",
    "                  title_x=0.45,\n",
    "                  title_y=0.875)\n",
    "\n",
    "fg3.show()"
   ]
  },
  {
   "cell_type": "code",
   "execution_count": 19,
   "metadata": {},
   "outputs": [
    {
     "data": {
      "application/vnd.plotly.v1+json": {
       "config": {
        "plotlyServerURL": "https://plot.ly"
       },
       "data": [
        {
         "marker": {
          "color": "#fb9f3a"
         },
         "name": "Low",
         "type": "histogram",
         "x": [
          "unacc",
          "unacc",
          "unacc",
          "unacc",
          "unacc",
          "unacc",
          "unacc",
          "unacc",
          "unacc",
          "unacc",
          "unacc",
          "acc",
          "unacc",
          "unacc",
          "acc",
          "unacc",
          "acc",
          "acc",
          "unacc",
          "unacc",
          "unacc",
          "unacc",
          "unacc",
          "acc",
          "unacc",
          "acc",
          "acc",
          "unacc",
          "unacc",
          "unacc",
          "unacc",
          "unacc",
          "unacc",
          "unacc",
          "unacc",
          "unacc",
          "unacc",
          "unacc",
          "acc",
          "unacc",
          "unacc",
          "acc",
          "unacc",
          "acc",
          "acc",
          "unacc",
          "unacc",
          "acc",
          "unacc",
          "acc",
          "acc",
          "unacc",
          "acc",
          "acc",
          "unacc",
          "unacc",
          "unacc",
          "unacc",
          "unacc",
          "unacc",
          "unacc",
          "unacc",
          "unacc",
          "unacc",
          "unacc",
          "acc",
          "unacc",
          "acc",
          "acc",
          "unacc",
          "acc",
          "acc",
          "unacc",
          "unacc",
          "acc",
          "unacc",
          "acc",
          "acc",
          "unacc",
          "acc",
          "acc",
          "unacc",
          "unacc",
          "unacc",
          "unacc",
          "unacc",
          "unacc",
          "unacc",
          "unacc",
          "unacc",
          "unacc",
          "unacc",
          "acc",
          "unacc",
          "acc",
          "acc",
          "unacc",
          "acc",
          "acc",
          "unacc",
          "unacc",
          "acc",
          "unacc",
          "acc",
          "acc",
          "unacc",
          "acc",
          "acc",
          "unacc",
          "unacc",
          "unacc",
          "unacc",
          "unacc",
          "unacc",
          "unacc",
          "unacc",
          "unacc",
          "unacc",
          "unacc",
          "acc",
          "unacc",
          "unacc",
          "acc",
          "unacc",
          "acc",
          "acc",
          "unacc",
          "unacc",
          "unacc",
          "unacc",
          "unacc",
          "acc",
          "unacc",
          "acc",
          "acc",
          "unacc",
          "unacc",
          "unacc",
          "unacc",
          "unacc",
          "unacc",
          "unacc",
          "unacc",
          "unacc",
          "unacc",
          "unacc",
          "acc",
          "unacc",
          "unacc",
          "acc",
          "unacc",
          "acc",
          "acc",
          "unacc",
          "unacc",
          "acc",
          "unacc",
          "acc",
          "acc",
          "unacc",
          "acc",
          "acc",
          "unacc",
          "unacc",
          "unacc",
          "unacc",
          "unacc",
          "unacc",
          "unacc",
          "unacc",
          "unacc",
          "unacc",
          "unacc",
          "acc",
          "unacc",
          "acc",
          "acc",
          "unacc",
          "acc",
          "acc",
          "unacc",
          "unacc",
          "acc",
          "unacc",
          "acc",
          "acc",
          "unacc",
          "acc",
          "acc",
          "unacc",
          "unacc",
          "unacc",
          "unacc",
          "unacc",
          "unacc",
          "unacc",
          "unacc",
          "unacc",
          "unacc",
          "unacc",
          "acc",
          "unacc",
          "acc",
          "acc",
          "unacc",
          "acc",
          "acc",
          "unacc",
          "unacc",
          "acc",
          "unacc",
          "acc",
          "acc",
          "unacc",
          "acc",
          "acc",
          "unacc",
          "unacc",
          "unacc",
          "unacc",
          "unacc",
          "unacc",
          "unacc",
          "unacc",
          "unacc",
          "unacc",
          "acc",
          "good",
          "unacc",
          "acc",
          "good",
          "unacc",
          "good",
          "vgood",
          "unacc",
          "unacc",
          "unacc",
          "unacc",
          "acc",
          "good",
          "unacc",
          "good",
          "vgood",
          "unacc",
          "unacc",
          "unacc",
          "unacc",
          "unacc",
          "unacc",
          "unacc",
          "unacc",
          "unacc",
          "unacc",
          "acc",
          "good",
          "unacc",
          "acc",
          "good",
          "unacc",
          "good",
          "vgood",
          "unacc",
          "acc",
          "good",
          "unacc",
          "good",
          "vgood",
          "unacc",
          "good",
          "vgood",
          "unacc",
          "unacc",
          "unacc",
          "unacc",
          "unacc",
          "unacc",
          "unacc",
          "unacc",
          "unacc",
          "unacc",
          "acc",
          "good",
          "unacc",
          "good",
          "vgood",
          "unacc",
          "good",
          "vgood",
          "unacc",
          "acc",
          "good",
          "unacc",
          "good",
          "vgood",
          "unacc",
          "good",
          "vgood",
          "unacc",
          "unacc",
          "unacc",
          "unacc",
          "unacc",
          "unacc",
          "unacc",
          "unacc",
          "unacc",
          "unacc",
          "acc",
          "good",
          "unacc",
          "good",
          "vgood",
          "unacc",
          "good",
          "vgood",
          "unacc",
          "acc",
          "good",
          "unacc",
          "good",
          "vgood",
          "unacc",
          "good",
          "vgood",
          "unacc",
          "unacc",
          "unacc",
          "unacc",
          "unacc",
          "unacc",
          "unacc",
          "unacc",
          "unacc",
          "unacc",
          "acc",
          "good",
          "unacc",
          "acc",
          "good",
          "unacc",
          "good",
          "vgood",
          "unacc",
          "unacc",
          "unacc",
          "unacc",
          "acc",
          "good",
          "unacc",
          "good",
          "vgood",
          "unacc",
          "unacc",
          "unacc",
          "unacc",
          "unacc",
          "unacc",
          "unacc",
          "unacc",
          "unacc",
          "unacc",
          "acc",
          "good",
          "unacc",
          "acc",
          "good",
          "unacc",
          "good",
          "vgood",
          "unacc",
          "acc",
          "good",
          "unacc",
          "good",
          "vgood",
          "unacc",
          "good",
          "vgood",
          "unacc",
          "unacc",
          "unacc",
          "unacc",
          "unacc",
          "unacc",
          "unacc",
          "unacc",
          "unacc",
          "unacc",
          "acc",
          "good",
          "unacc",
          "good",
          "vgood",
          "unacc",
          "good",
          "vgood",
          "unacc",
          "acc",
          "good",
          "unacc",
          "good",
          "vgood",
          "unacc",
          "good",
          "vgood",
          "unacc",
          "unacc",
          "unacc",
          "unacc",
          "unacc",
          "unacc",
          "unacc",
          "unacc",
          "unacc",
          "unacc",
          "acc",
          "good",
          "unacc",
          "good",
          "vgood",
          "unacc",
          "good",
          "vgood",
          "unacc",
          "acc",
          "good",
          "unacc",
          "good",
          "vgood",
          "unacc",
          "good",
          "vgood"
         ]
        },
        {
         "marker": {
          "color": "#d8576b"
         },
         "name": "Medium",
         "type": "histogram",
         "x": [
          "unacc",
          "unacc",
          "unacc",
          "unacc",
          "unacc",
          "unacc",
          "unacc",
          "unacc",
          "unacc",
          "unacc",
          "unacc",
          "acc",
          "unacc",
          "unacc",
          "acc",
          "unacc",
          "acc",
          "acc",
          "unacc",
          "unacc",
          "unacc",
          "unacc",
          "unacc",
          "acc",
          "unacc",
          "acc",
          "acc",
          "unacc",
          "unacc",
          "unacc",
          "unacc",
          "unacc",
          "unacc",
          "unacc",
          "unacc",
          "unacc",
          "unacc",
          "unacc",
          "acc",
          "unacc",
          "unacc",
          "acc",
          "unacc",
          "acc",
          "acc",
          "unacc",
          "unacc",
          "acc",
          "unacc",
          "acc",
          "acc",
          "unacc",
          "acc",
          "acc",
          "unacc",
          "unacc",
          "unacc",
          "unacc",
          "unacc",
          "unacc",
          "unacc",
          "unacc",
          "unacc",
          "unacc",
          "unacc",
          "acc",
          "unacc",
          "acc",
          "acc",
          "unacc",
          "acc",
          "acc",
          "unacc",
          "unacc",
          "acc",
          "unacc",
          "acc",
          "acc",
          "unacc",
          "acc",
          "acc",
          "unacc",
          "unacc",
          "unacc",
          "unacc",
          "unacc",
          "unacc",
          "unacc",
          "unacc",
          "unacc",
          "unacc",
          "unacc",
          "acc",
          "unacc",
          "acc",
          "acc",
          "unacc",
          "acc",
          "acc",
          "unacc",
          "unacc",
          "acc",
          "unacc",
          "acc",
          "acc",
          "unacc",
          "acc",
          "acc",
          "unacc",
          "unacc",
          "unacc",
          "unacc",
          "unacc",
          "unacc",
          "unacc",
          "unacc",
          "unacc",
          "unacc",
          "unacc",
          "acc",
          "unacc",
          "unacc",
          "acc",
          "unacc",
          "acc",
          "acc",
          "unacc",
          "unacc",
          "unacc",
          "unacc",
          "unacc",
          "acc",
          "unacc",
          "acc",
          "acc",
          "unacc",
          "unacc",
          "unacc",
          "unacc",
          "unacc",
          "unacc",
          "unacc",
          "unacc",
          "unacc",
          "unacc",
          "unacc",
          "acc",
          "unacc",
          "unacc",
          "acc",
          "unacc",
          "acc",
          "acc",
          "unacc",
          "unacc",
          "acc",
          "unacc",
          "acc",
          "acc",
          "unacc",
          "acc",
          "acc",
          "unacc",
          "unacc",
          "unacc",
          "unacc",
          "unacc",
          "unacc",
          "unacc",
          "unacc",
          "unacc",
          "unacc",
          "unacc",
          "acc",
          "unacc",
          "acc",
          "acc",
          "unacc",
          "acc",
          "acc",
          "unacc",
          "unacc",
          "acc",
          "unacc",
          "acc",
          "acc",
          "unacc",
          "acc",
          "acc",
          "unacc",
          "unacc",
          "unacc",
          "unacc",
          "unacc",
          "unacc",
          "unacc",
          "unacc",
          "unacc",
          "unacc",
          "unacc",
          "acc",
          "unacc",
          "acc",
          "acc",
          "unacc",
          "acc",
          "acc",
          "unacc",
          "unacc",
          "acc",
          "unacc",
          "acc",
          "acc",
          "unacc",
          "acc",
          "acc",
          "unacc",
          "unacc",
          "unacc",
          "unacc",
          "unacc",
          "unacc",
          "unacc",
          "unacc",
          "unacc",
          "unacc",
          "acc",
          "acc",
          "unacc",
          "acc",
          "acc",
          "unacc",
          "acc",
          "vgood",
          "unacc",
          "unacc",
          "unacc",
          "unacc",
          "acc",
          "acc",
          "unacc",
          "acc",
          "vgood",
          "unacc",
          "unacc",
          "unacc",
          "unacc",
          "unacc",
          "unacc",
          "unacc",
          "unacc",
          "unacc",
          "unacc",
          "acc",
          "acc",
          "unacc",
          "acc",
          "acc",
          "unacc",
          "acc",
          "vgood",
          "unacc",
          "acc",
          "acc",
          "unacc",
          "acc",
          "vgood",
          "unacc",
          "acc",
          "vgood",
          "unacc",
          "unacc",
          "unacc",
          "unacc",
          "unacc",
          "unacc",
          "unacc",
          "unacc",
          "unacc",
          "unacc",
          "acc",
          "acc",
          "unacc",
          "acc",
          "vgood",
          "unacc",
          "acc",
          "vgood",
          "unacc",
          "acc",
          "acc",
          "unacc",
          "acc",
          "vgood",
          "unacc",
          "acc",
          "vgood",
          "unacc",
          "unacc",
          "unacc",
          "unacc",
          "unacc",
          "unacc",
          "unacc",
          "unacc",
          "unacc",
          "unacc",
          "acc",
          "acc",
          "unacc",
          "acc",
          "vgood",
          "unacc",
          "acc",
          "vgood",
          "unacc",
          "acc",
          "acc",
          "unacc",
          "acc",
          "vgood",
          "unacc",
          "acc",
          "vgood",
          "unacc",
          "unacc",
          "unacc",
          "unacc",
          "unacc",
          "unacc",
          "unacc",
          "unacc",
          "unacc",
          "unacc",
          "acc",
          "good",
          "unacc",
          "acc",
          "good",
          "unacc",
          "good",
          "vgood",
          "unacc",
          "unacc",
          "unacc",
          "unacc",
          "acc",
          "good",
          "unacc",
          "good",
          "vgood",
          "unacc",
          "unacc",
          "unacc",
          "unacc",
          "unacc",
          "unacc",
          "unacc",
          "unacc",
          "unacc",
          "unacc",
          "acc",
          "good",
          "unacc",
          "acc",
          "good",
          "unacc",
          "good",
          "vgood",
          "unacc",
          "acc",
          "good",
          "unacc",
          "good",
          "vgood",
          "unacc",
          "good",
          "vgood",
          "unacc",
          "unacc",
          "unacc",
          "unacc",
          "unacc",
          "unacc",
          "unacc",
          "unacc",
          "unacc",
          "unacc",
          "acc",
          "good",
          "unacc",
          "good",
          "vgood",
          "unacc",
          "good",
          "vgood",
          "unacc",
          "acc",
          "good",
          "unacc",
          "good",
          "vgood",
          "unacc",
          "good",
          "vgood",
          "unacc",
          "unacc",
          "unacc",
          "unacc",
          "unacc",
          "unacc",
          "unacc",
          "unacc",
          "unacc",
          "unacc",
          "acc",
          "good",
          "unacc",
          "good",
          "vgood",
          "unacc",
          "good",
          "vgood",
          "unacc",
          "acc",
          "good",
          "unacc",
          "good",
          "vgood",
          "unacc",
          "good",
          "vgood"
         ]
        },
        {
         "marker": {
          "color": "#9c179e"
         },
         "name": "High",
         "type": "histogram",
         "x": [
          "unacc",
          "unacc",
          "unacc",
          "unacc",
          "unacc",
          "unacc",
          "unacc",
          "unacc",
          "unacc",
          "unacc",
          "unacc",
          "unacc",
          "unacc",
          "unacc",
          "unacc",
          "unacc",
          "unacc",
          "unacc",
          "unacc",
          "unacc",
          "unacc",
          "unacc",
          "unacc",
          "unacc",
          "unacc",
          "unacc",
          "unacc",
          "unacc",
          "unacc",
          "unacc",
          "unacc",
          "unacc",
          "unacc",
          "unacc",
          "unacc",
          "unacc",
          "unacc",
          "unacc",
          "unacc",
          "unacc",
          "unacc",
          "unacc",
          "unacc",
          "unacc",
          "unacc",
          "unacc",
          "unacc",
          "unacc",
          "unacc",
          "unacc",
          "unacc",
          "unacc",
          "unacc",
          "unacc",
          "unacc",
          "unacc",
          "unacc",
          "unacc",
          "unacc",
          "unacc",
          "unacc",
          "unacc",
          "unacc",
          "unacc",
          "unacc",
          "unacc",
          "unacc",
          "unacc",
          "unacc",
          "unacc",
          "unacc",
          "unacc",
          "unacc",
          "unacc",
          "unacc",
          "unacc",
          "unacc",
          "unacc",
          "unacc",
          "unacc",
          "unacc",
          "unacc",
          "unacc",
          "unacc",
          "unacc",
          "unacc",
          "unacc",
          "unacc",
          "unacc",
          "unacc",
          "unacc",
          "unacc",
          "unacc",
          "unacc",
          "unacc",
          "unacc",
          "unacc",
          "unacc",
          "unacc",
          "unacc",
          "unacc",
          "unacc",
          "unacc",
          "unacc",
          "unacc",
          "unacc",
          "unacc",
          "unacc",
          "unacc",
          "unacc",
          "unacc",
          "unacc",
          "unacc",
          "unacc",
          "unacc",
          "unacc",
          "unacc",
          "unacc",
          "unacc",
          "acc",
          "unacc",
          "unacc",
          "acc",
          "unacc",
          "acc",
          "acc",
          "unacc",
          "unacc",
          "unacc",
          "unacc",
          "unacc",
          "acc",
          "unacc",
          "acc",
          "acc",
          "unacc",
          "unacc",
          "unacc",
          "unacc",
          "unacc",
          "unacc",
          "unacc",
          "unacc",
          "unacc",
          "unacc",
          "unacc",
          "acc",
          "unacc",
          "unacc",
          "acc",
          "unacc",
          "acc",
          "acc",
          "unacc",
          "unacc",
          "acc",
          "unacc",
          "acc",
          "acc",
          "unacc",
          "acc",
          "acc",
          "unacc",
          "unacc",
          "unacc",
          "unacc",
          "unacc",
          "unacc",
          "unacc",
          "unacc",
          "unacc",
          "unacc",
          "unacc",
          "acc",
          "unacc",
          "acc",
          "acc",
          "unacc",
          "acc",
          "acc",
          "unacc",
          "unacc",
          "acc",
          "unacc",
          "acc",
          "acc",
          "unacc",
          "acc",
          "acc",
          "unacc",
          "unacc",
          "unacc",
          "unacc",
          "unacc",
          "unacc",
          "unacc",
          "unacc",
          "unacc",
          "unacc",
          "unacc",
          "acc",
          "unacc",
          "acc",
          "acc",
          "unacc",
          "acc",
          "acc",
          "unacc",
          "unacc",
          "acc",
          "unacc",
          "acc",
          "acc",
          "unacc",
          "acc",
          "acc",
          "unacc",
          "unacc",
          "unacc",
          "unacc",
          "unacc",
          "unacc",
          "unacc",
          "unacc",
          "unacc",
          "unacc",
          "unacc",
          "acc",
          "unacc",
          "unacc",
          "acc",
          "unacc",
          "acc",
          "acc",
          "unacc",
          "unacc",
          "unacc",
          "unacc",
          "unacc",
          "acc",
          "unacc",
          "acc",
          "acc",
          "unacc",
          "unacc",
          "unacc",
          "unacc",
          "unacc",
          "unacc",
          "unacc",
          "unacc",
          "unacc",
          "unacc",
          "unacc",
          "acc",
          "unacc",
          "unacc",
          "acc",
          "unacc",
          "acc",
          "acc",
          "unacc",
          "unacc",
          "acc",
          "unacc",
          "acc",
          "acc",
          "unacc",
          "acc",
          "acc",
          "unacc",
          "unacc",
          "unacc",
          "unacc",
          "unacc",
          "unacc",
          "unacc",
          "unacc",
          "unacc",
          "unacc",
          "unacc",
          "acc",
          "unacc",
          "acc",
          "acc",
          "unacc",
          "acc",
          "acc",
          "unacc",
          "unacc",
          "acc",
          "unacc",
          "acc",
          "acc",
          "unacc",
          "acc",
          "acc",
          "unacc",
          "unacc",
          "unacc",
          "unacc",
          "unacc",
          "unacc",
          "unacc",
          "unacc",
          "unacc",
          "unacc",
          "unacc",
          "acc",
          "unacc",
          "acc",
          "acc",
          "unacc",
          "acc",
          "acc",
          "unacc",
          "unacc",
          "acc",
          "unacc",
          "acc",
          "acc",
          "unacc",
          "acc",
          "acc",
          "unacc",
          "unacc",
          "unacc",
          "unacc",
          "unacc",
          "unacc",
          "unacc",
          "unacc",
          "unacc",
          "unacc",
          "acc",
          "acc",
          "unacc",
          "acc",
          "acc",
          "unacc",
          "acc",
          "vgood",
          "unacc",
          "unacc",
          "unacc",
          "unacc",
          "acc",
          "acc",
          "unacc",
          "acc",
          "vgood",
          "unacc",
          "unacc",
          "unacc",
          "unacc",
          "unacc",
          "unacc",
          "unacc",
          "unacc",
          "unacc",
          "unacc",
          "acc",
          "acc",
          "unacc",
          "acc",
          "acc",
          "unacc",
          "acc",
          "vgood",
          "unacc",
          "acc",
          "acc",
          "unacc",
          "acc",
          "vgood",
          "unacc",
          "acc",
          "vgood",
          "unacc",
          "unacc",
          "unacc",
          "unacc",
          "unacc",
          "unacc",
          "unacc",
          "unacc",
          "unacc",
          "unacc",
          "acc",
          "acc",
          "unacc",
          "acc",
          "vgood",
          "unacc",
          "acc",
          "vgood",
          "unacc",
          "acc",
          "acc",
          "unacc",
          "acc",
          "vgood",
          "unacc",
          "acc",
          "vgood",
          "unacc",
          "unacc",
          "unacc",
          "unacc",
          "unacc",
          "unacc",
          "unacc",
          "unacc",
          "unacc",
          "unacc",
          "acc",
          "acc",
          "unacc",
          "acc",
          "vgood",
          "unacc",
          "acc",
          "vgood",
          "unacc",
          "acc",
          "acc",
          "unacc",
          "acc",
          "vgood",
          "unacc",
          "acc",
          "vgood"
         ]
        },
        {
         "marker": {
          "color": "#7201a8"
         },
         "name": "Very High",
         "type": "histogram",
         "x": [
          "unacc",
          "unacc",
          "unacc",
          "unacc",
          "unacc",
          "unacc",
          "unacc",
          "unacc",
          "unacc",
          "unacc",
          "unacc",
          "unacc",
          "unacc",
          "unacc",
          "unacc",
          "unacc",
          "unacc",
          "unacc",
          "unacc",
          "unacc",
          "unacc",
          "unacc",
          "unacc",
          "unacc",
          "unacc",
          "unacc",
          "unacc",
          "unacc",
          "unacc",
          "unacc",
          "unacc",
          "unacc",
          "unacc",
          "unacc",
          "unacc",
          "unacc",
          "unacc",
          "unacc",
          "unacc",
          "unacc",
          "unacc",
          "unacc",
          "unacc",
          "unacc",
          "unacc",
          "unacc",
          "unacc",
          "unacc",
          "unacc",
          "unacc",
          "unacc",
          "unacc",
          "unacc",
          "unacc",
          "unacc",
          "unacc",
          "unacc",
          "unacc",
          "unacc",
          "unacc",
          "unacc",
          "unacc",
          "unacc",
          "unacc",
          "unacc",
          "unacc",
          "unacc",
          "unacc",
          "unacc",
          "unacc",
          "unacc",
          "unacc",
          "unacc",
          "unacc",
          "unacc",
          "unacc",
          "unacc",
          "unacc",
          "unacc",
          "unacc",
          "unacc",
          "unacc",
          "unacc",
          "unacc",
          "unacc",
          "unacc",
          "unacc",
          "unacc",
          "unacc",
          "unacc",
          "unacc",
          "unacc",
          "unacc",
          "unacc",
          "unacc",
          "unacc",
          "unacc",
          "unacc",
          "unacc",
          "unacc",
          "unacc",
          "unacc",
          "unacc",
          "unacc",
          "unacc",
          "unacc",
          "unacc",
          "unacc",
          "unacc",
          "unacc",
          "unacc",
          "unacc",
          "unacc",
          "unacc",
          "unacc",
          "unacc",
          "unacc",
          "unacc",
          "unacc",
          "unacc",
          "unacc",
          "unacc",
          "unacc",
          "unacc",
          "unacc",
          "unacc",
          "unacc",
          "unacc",
          "unacc",
          "unacc",
          "unacc",
          "unacc",
          "unacc",
          "unacc",
          "unacc",
          "unacc",
          "unacc",
          "unacc",
          "unacc",
          "unacc",
          "unacc",
          "unacc",
          "unacc",
          "unacc",
          "unacc",
          "unacc",
          "unacc",
          "unacc",
          "unacc",
          "unacc",
          "unacc",
          "unacc",
          "unacc",
          "unacc",
          "unacc",
          "unacc",
          "unacc",
          "unacc",
          "unacc",
          "unacc",
          "unacc",
          "unacc",
          "unacc",
          "unacc",
          "unacc",
          "unacc",
          "unacc",
          "unacc",
          "unacc",
          "unacc",
          "unacc",
          "unacc",
          "unacc",
          "unacc",
          "unacc",
          "unacc",
          "unacc",
          "unacc",
          "unacc",
          "unacc",
          "unacc",
          "unacc",
          "unacc",
          "unacc",
          "unacc",
          "unacc",
          "unacc",
          "unacc",
          "unacc",
          "unacc",
          "unacc",
          "unacc",
          "unacc",
          "unacc",
          "unacc",
          "unacc",
          "unacc",
          "unacc",
          "unacc",
          "unacc",
          "unacc",
          "unacc",
          "unacc",
          "unacc",
          "unacc",
          "unacc",
          "unacc",
          "unacc",
          "unacc",
          "unacc",
          "unacc",
          "unacc",
          "unacc",
          "unacc",
          "unacc",
          "unacc",
          "unacc",
          "unacc",
          "unacc",
          "unacc",
          "unacc",
          "unacc",
          "unacc",
          "unacc",
          "unacc",
          "unacc",
          "unacc",
          "acc",
          "unacc",
          "unacc",
          "acc",
          "unacc",
          "acc",
          "acc",
          "unacc",
          "unacc",
          "unacc",
          "unacc",
          "unacc",
          "acc",
          "unacc",
          "acc",
          "acc",
          "unacc",
          "unacc",
          "unacc",
          "unacc",
          "unacc",
          "unacc",
          "unacc",
          "unacc",
          "unacc",
          "unacc",
          "unacc",
          "acc",
          "unacc",
          "unacc",
          "acc",
          "unacc",
          "acc",
          "acc",
          "unacc",
          "unacc",
          "acc",
          "unacc",
          "acc",
          "acc",
          "unacc",
          "acc",
          "acc",
          "unacc",
          "unacc",
          "unacc",
          "unacc",
          "unacc",
          "unacc",
          "unacc",
          "unacc",
          "unacc",
          "unacc",
          "unacc",
          "acc",
          "unacc",
          "acc",
          "acc",
          "unacc",
          "acc",
          "acc",
          "unacc",
          "unacc",
          "acc",
          "unacc",
          "acc",
          "acc",
          "unacc",
          "acc",
          "acc",
          "unacc",
          "unacc",
          "unacc",
          "unacc",
          "unacc",
          "unacc",
          "unacc",
          "unacc",
          "unacc",
          "unacc",
          "unacc",
          "acc",
          "unacc",
          "acc",
          "acc",
          "unacc",
          "acc",
          "acc",
          "unacc",
          "unacc",
          "acc",
          "unacc",
          "acc",
          "acc",
          "unacc",
          "acc",
          "acc",
          "unacc",
          "unacc",
          "unacc",
          "unacc",
          "unacc",
          "unacc",
          "unacc",
          "unacc",
          "unacc",
          "unacc",
          "unacc",
          "acc",
          "unacc",
          "unacc",
          "acc",
          "unacc",
          "acc",
          "acc",
          "unacc",
          "unacc",
          "unacc",
          "unacc",
          "unacc",
          "acc",
          "unacc",
          "acc",
          "acc",
          "unacc",
          "unacc",
          "unacc",
          "unacc",
          "unacc",
          "unacc",
          "unacc",
          "unacc",
          "unacc",
          "unacc",
          "unacc",
          "acc",
          "unacc",
          "unacc",
          "acc",
          "unacc",
          "acc",
          "acc",
          "unacc",
          "unacc",
          "acc",
          "unacc",
          "acc",
          "acc",
          "unacc",
          "acc",
          "acc",
          "unacc",
          "unacc",
          "unacc",
          "unacc",
          "unacc",
          "unacc",
          "unacc",
          "unacc",
          "unacc",
          "unacc",
          "unacc",
          "acc",
          "unacc",
          "acc",
          "acc",
          "unacc",
          "acc",
          "acc",
          "unacc",
          "unacc",
          "acc",
          "unacc",
          "acc",
          "acc",
          "unacc",
          "acc",
          "acc",
          "unacc",
          "unacc",
          "unacc",
          "unacc",
          "unacc",
          "unacc",
          "unacc",
          "unacc",
          "unacc",
          "unacc",
          "unacc",
          "acc",
          "unacc",
          "acc",
          "acc",
          "unacc",
          "acc",
          "acc",
          "unacc",
          "unacc",
          "acc",
          "unacc",
          "acc",
          "acc",
          "unacc",
          "acc",
          "acc"
         ]
        }
       ],
       "layout": {
        "height": 550,
        "legend": {
         "font": {
          "color": "black",
          "family": "Arial",
          "size": 16
         }
        },
        "template": {
         "data": {
          "bar": [
           {
            "error_x": {
             "color": "#2a3f5f"
            },
            "error_y": {
             "color": "#2a3f5f"
            },
            "marker": {
             "line": {
              "color": "#E5ECF6",
              "width": 0.5
             },
             "pattern": {
              "fillmode": "overlay",
              "size": 10,
              "solidity": 0.2
             }
            },
            "type": "bar"
           }
          ],
          "barpolar": [
           {
            "marker": {
             "line": {
              "color": "#E5ECF6",
              "width": 0.5
             },
             "pattern": {
              "fillmode": "overlay",
              "size": 10,
              "solidity": 0.2
             }
            },
            "type": "barpolar"
           }
          ],
          "carpet": [
           {
            "aaxis": {
             "endlinecolor": "#2a3f5f",
             "gridcolor": "white",
             "linecolor": "white",
             "minorgridcolor": "white",
             "startlinecolor": "#2a3f5f"
            },
            "baxis": {
             "endlinecolor": "#2a3f5f",
             "gridcolor": "white",
             "linecolor": "white",
             "minorgridcolor": "white",
             "startlinecolor": "#2a3f5f"
            },
            "type": "carpet"
           }
          ],
          "choropleth": [
           {
            "colorbar": {
             "outlinewidth": 0,
             "ticks": ""
            },
            "type": "choropleth"
           }
          ],
          "contour": [
           {
            "colorbar": {
             "outlinewidth": 0,
             "ticks": ""
            },
            "colorscale": [
             [
              0,
              "#0d0887"
             ],
             [
              0.1111111111111111,
              "#46039f"
             ],
             [
              0.2222222222222222,
              "#7201a8"
             ],
             [
              0.3333333333333333,
              "#9c179e"
             ],
             [
              0.4444444444444444,
              "#bd3786"
             ],
             [
              0.5555555555555556,
              "#d8576b"
             ],
             [
              0.6666666666666666,
              "#ed7953"
             ],
             [
              0.7777777777777778,
              "#fb9f3a"
             ],
             [
              0.8888888888888888,
              "#fdca26"
             ],
             [
              1,
              "#f0f921"
             ]
            ],
            "type": "contour"
           }
          ],
          "contourcarpet": [
           {
            "colorbar": {
             "outlinewidth": 0,
             "ticks": ""
            },
            "type": "contourcarpet"
           }
          ],
          "heatmap": [
           {
            "colorbar": {
             "outlinewidth": 0,
             "ticks": ""
            },
            "colorscale": [
             [
              0,
              "#0d0887"
             ],
             [
              0.1111111111111111,
              "#46039f"
             ],
             [
              0.2222222222222222,
              "#7201a8"
             ],
             [
              0.3333333333333333,
              "#9c179e"
             ],
             [
              0.4444444444444444,
              "#bd3786"
             ],
             [
              0.5555555555555556,
              "#d8576b"
             ],
             [
              0.6666666666666666,
              "#ed7953"
             ],
             [
              0.7777777777777778,
              "#fb9f3a"
             ],
             [
              0.8888888888888888,
              "#fdca26"
             ],
             [
              1,
              "#f0f921"
             ]
            ],
            "type": "heatmap"
           }
          ],
          "heatmapgl": [
           {
            "colorbar": {
             "outlinewidth": 0,
             "ticks": ""
            },
            "colorscale": [
             [
              0,
              "#0d0887"
             ],
             [
              0.1111111111111111,
              "#46039f"
             ],
             [
              0.2222222222222222,
              "#7201a8"
             ],
             [
              0.3333333333333333,
              "#9c179e"
             ],
             [
              0.4444444444444444,
              "#bd3786"
             ],
             [
              0.5555555555555556,
              "#d8576b"
             ],
             [
              0.6666666666666666,
              "#ed7953"
             ],
             [
              0.7777777777777778,
              "#fb9f3a"
             ],
             [
              0.8888888888888888,
              "#fdca26"
             ],
             [
              1,
              "#f0f921"
             ]
            ],
            "type": "heatmapgl"
           }
          ],
          "histogram": [
           {
            "marker": {
             "pattern": {
              "fillmode": "overlay",
              "size": 10,
              "solidity": 0.2
             }
            },
            "type": "histogram"
           }
          ],
          "histogram2d": [
           {
            "colorbar": {
             "outlinewidth": 0,
             "ticks": ""
            },
            "colorscale": [
             [
              0,
              "#0d0887"
             ],
             [
              0.1111111111111111,
              "#46039f"
             ],
             [
              0.2222222222222222,
              "#7201a8"
             ],
             [
              0.3333333333333333,
              "#9c179e"
             ],
             [
              0.4444444444444444,
              "#bd3786"
             ],
             [
              0.5555555555555556,
              "#d8576b"
             ],
             [
              0.6666666666666666,
              "#ed7953"
             ],
             [
              0.7777777777777778,
              "#fb9f3a"
             ],
             [
              0.8888888888888888,
              "#fdca26"
             ],
             [
              1,
              "#f0f921"
             ]
            ],
            "type": "histogram2d"
           }
          ],
          "histogram2dcontour": [
           {
            "colorbar": {
             "outlinewidth": 0,
             "ticks": ""
            },
            "colorscale": [
             [
              0,
              "#0d0887"
             ],
             [
              0.1111111111111111,
              "#46039f"
             ],
             [
              0.2222222222222222,
              "#7201a8"
             ],
             [
              0.3333333333333333,
              "#9c179e"
             ],
             [
              0.4444444444444444,
              "#bd3786"
             ],
             [
              0.5555555555555556,
              "#d8576b"
             ],
             [
              0.6666666666666666,
              "#ed7953"
             ],
             [
              0.7777777777777778,
              "#fb9f3a"
             ],
             [
              0.8888888888888888,
              "#fdca26"
             ],
             [
              1,
              "#f0f921"
             ]
            ],
            "type": "histogram2dcontour"
           }
          ],
          "mesh3d": [
           {
            "colorbar": {
             "outlinewidth": 0,
             "ticks": ""
            },
            "type": "mesh3d"
           }
          ],
          "parcoords": [
           {
            "line": {
             "colorbar": {
              "outlinewidth": 0,
              "ticks": ""
             }
            },
            "type": "parcoords"
           }
          ],
          "pie": [
           {
            "automargin": true,
            "type": "pie"
           }
          ],
          "scatter": [
           {
            "marker": {
             "colorbar": {
              "outlinewidth": 0,
              "ticks": ""
             }
            },
            "type": "scatter"
           }
          ],
          "scatter3d": [
           {
            "line": {
             "colorbar": {
              "outlinewidth": 0,
              "ticks": ""
             }
            },
            "marker": {
             "colorbar": {
              "outlinewidth": 0,
              "ticks": ""
             }
            },
            "type": "scatter3d"
           }
          ],
          "scattercarpet": [
           {
            "marker": {
             "colorbar": {
              "outlinewidth": 0,
              "ticks": ""
             }
            },
            "type": "scattercarpet"
           }
          ],
          "scattergeo": [
           {
            "marker": {
             "colorbar": {
              "outlinewidth": 0,
              "ticks": ""
             }
            },
            "type": "scattergeo"
           }
          ],
          "scattergl": [
           {
            "marker": {
             "colorbar": {
              "outlinewidth": 0,
              "ticks": ""
             }
            },
            "type": "scattergl"
           }
          ],
          "scattermapbox": [
           {
            "marker": {
             "colorbar": {
              "outlinewidth": 0,
              "ticks": ""
             }
            },
            "type": "scattermapbox"
           }
          ],
          "scatterpolar": [
           {
            "marker": {
             "colorbar": {
              "outlinewidth": 0,
              "ticks": ""
             }
            },
            "type": "scatterpolar"
           }
          ],
          "scatterpolargl": [
           {
            "marker": {
             "colorbar": {
              "outlinewidth": 0,
              "ticks": ""
             }
            },
            "type": "scatterpolargl"
           }
          ],
          "scatterternary": [
           {
            "marker": {
             "colorbar": {
              "outlinewidth": 0,
              "ticks": ""
             }
            },
            "type": "scatterternary"
           }
          ],
          "surface": [
           {
            "colorbar": {
             "outlinewidth": 0,
             "ticks": ""
            },
            "colorscale": [
             [
              0,
              "#0d0887"
             ],
             [
              0.1111111111111111,
              "#46039f"
             ],
             [
              0.2222222222222222,
              "#7201a8"
             ],
             [
              0.3333333333333333,
              "#9c179e"
             ],
             [
              0.4444444444444444,
              "#bd3786"
             ],
             [
              0.5555555555555556,
              "#d8576b"
             ],
             [
              0.6666666666666666,
              "#ed7953"
             ],
             [
              0.7777777777777778,
              "#fb9f3a"
             ],
             [
              0.8888888888888888,
              "#fdca26"
             ],
             [
              1,
              "#f0f921"
             ]
            ],
            "type": "surface"
           }
          ],
          "table": [
           {
            "cells": {
             "fill": {
              "color": "#EBF0F8"
             },
             "line": {
              "color": "white"
             }
            },
            "header": {
             "fill": {
              "color": "#C8D4E3"
             },
             "line": {
              "color": "white"
             }
            },
            "type": "table"
           }
          ]
         },
         "layout": {
          "annotationdefaults": {
           "arrowcolor": "#2a3f5f",
           "arrowhead": 0,
           "arrowwidth": 1
          },
          "autotypenumbers": "strict",
          "coloraxis": {
           "colorbar": {
            "outlinewidth": 0,
            "ticks": ""
           }
          },
          "colorscale": {
           "diverging": [
            [
             0,
             "#8e0152"
            ],
            [
             0.1,
             "#c51b7d"
            ],
            [
             0.2,
             "#de77ae"
            ],
            [
             0.3,
             "#f1b6da"
            ],
            [
             0.4,
             "#fde0ef"
            ],
            [
             0.5,
             "#f7f7f7"
            ],
            [
             0.6,
             "#e6f5d0"
            ],
            [
             0.7,
             "#b8e186"
            ],
            [
             0.8,
             "#7fbc41"
            ],
            [
             0.9,
             "#4d9221"
            ],
            [
             1,
             "#276419"
            ]
           ],
           "sequential": [
            [
             0,
             "#0d0887"
            ],
            [
             0.1111111111111111,
             "#46039f"
            ],
            [
             0.2222222222222222,
             "#7201a8"
            ],
            [
             0.3333333333333333,
             "#9c179e"
            ],
            [
             0.4444444444444444,
             "#bd3786"
            ],
            [
             0.5555555555555556,
             "#d8576b"
            ],
            [
             0.6666666666666666,
             "#ed7953"
            ],
            [
             0.7777777777777778,
             "#fb9f3a"
            ],
            [
             0.8888888888888888,
             "#fdca26"
            ],
            [
             1,
             "#f0f921"
            ]
           ],
           "sequentialminus": [
            [
             0,
             "#0d0887"
            ],
            [
             0.1111111111111111,
             "#46039f"
            ],
            [
             0.2222222222222222,
             "#7201a8"
            ],
            [
             0.3333333333333333,
             "#9c179e"
            ],
            [
             0.4444444444444444,
             "#bd3786"
            ],
            [
             0.5555555555555556,
             "#d8576b"
            ],
            [
             0.6666666666666666,
             "#ed7953"
            ],
            [
             0.7777777777777778,
             "#fb9f3a"
            ],
            [
             0.8888888888888888,
             "#fdca26"
            ],
            [
             1,
             "#f0f921"
            ]
           ]
          },
          "colorway": [
           "#636efa",
           "#EF553B",
           "#00cc96",
           "#ab63fa",
           "#FFA15A",
           "#19d3f3",
           "#FF6692",
           "#B6E880",
           "#FF97FF",
           "#FECB52"
          ],
          "font": {
           "color": "#2a3f5f"
          },
          "geo": {
           "bgcolor": "white",
           "lakecolor": "white",
           "landcolor": "#E5ECF6",
           "showlakes": true,
           "showland": true,
           "subunitcolor": "white"
          },
          "hoverlabel": {
           "align": "left"
          },
          "hovermode": "closest",
          "mapbox": {
           "style": "light"
          },
          "paper_bgcolor": "white",
          "plot_bgcolor": "#E5ECF6",
          "polar": {
           "angularaxis": {
            "gridcolor": "white",
            "linecolor": "white",
            "ticks": ""
           },
           "bgcolor": "#E5ECF6",
           "radialaxis": {
            "gridcolor": "white",
            "linecolor": "white",
            "ticks": ""
           }
          },
          "scene": {
           "xaxis": {
            "backgroundcolor": "#E5ECF6",
            "gridcolor": "white",
            "gridwidth": 2,
            "linecolor": "white",
            "showbackground": true,
            "ticks": "",
            "zerolinecolor": "white"
           },
           "yaxis": {
            "backgroundcolor": "#E5ECF6",
            "gridcolor": "white",
            "gridwidth": 2,
            "linecolor": "white",
            "showbackground": true,
            "ticks": "",
            "zerolinecolor": "white"
           },
           "zaxis": {
            "backgroundcolor": "#E5ECF6",
            "gridcolor": "white",
            "gridwidth": 2,
            "linecolor": "white",
            "showbackground": true,
            "ticks": "",
            "zerolinecolor": "white"
           }
          },
          "shapedefaults": {
           "line": {
            "color": "#2a3f5f"
           }
          },
          "ternary": {
           "aaxis": {
            "gridcolor": "white",
            "linecolor": "white",
            "ticks": ""
           },
           "baxis": {
            "gridcolor": "white",
            "linecolor": "white",
            "ticks": ""
           },
           "bgcolor": "#E5ECF6",
           "caxis": {
            "gridcolor": "white",
            "linecolor": "white",
            "ticks": ""
           }
          },
          "title": {
           "x": 0.05
          },
          "xaxis": {
           "automargin": true,
           "gridcolor": "white",
           "linecolor": "white",
           "ticks": "",
           "title": {
            "standoff": 15
           },
           "zerolinecolor": "white",
           "zerolinewidth": 2
          },
          "yaxis": {
           "automargin": true,
           "gridcolor": "white",
           "linecolor": "white",
           "ticks": "",
           "title": {
            "standoff": 15
           },
           "zerolinecolor": "white",
           "zerolinewidth": 2
          }
         }
        },
        "title": {
         "font": {
          "color": "darkred",
          "family": "Arial",
          "size": 20
         },
         "text": "Maintenance Cost",
         "x": 0.45,
         "y": 0.875
        },
        "width": 800,
        "xaxis": {
         "autorange": true,
         "range": [
          -0.5,
          3.5
         ],
         "showticklabels": true,
         "tickfont": {
          "color": "black",
          "family": "Arial",
          "size": 16
         },
         "tickmode": "array",
         "ticktext": [
          "Unacceptable",
          "Acceptable",
          "Good",
          "Very Good"
         ],
         "tickvals": [
          "unacc",
          "acc",
          "good",
          "vgood"
         ],
         "title": {
          "text": "Condition"
         },
         "type": "category"
        },
        "yaxis": {
         "autorange": true,
         "range": [
          0,
          378.94736842105266
         ],
         "tickfont": {
          "color": "black",
          "family": "Arial",
          "size": 16
         },
         "title": {
          "text": "Number of Cars"
         }
        }
       }
      },
      "image/png": "[encoded data removed]",
      "text/html": [
       "<div>                            <div id=\"8e70e1aa-1453-4fe9-b674-c68902730df4\" class=\"plotly-graph-div\" style=\"height:550px; width:800px;\"></div>            <script type=\"text/javascript\">                require([\"plotly\"], function(Plotly) {                    window.PLOTLYENV=window.PLOTLYENV || {};                                    if (document.getElementById(\"8e70e1aa-1453-4fe9-b674-c68902730df4\")) {                    Plotly.newPlot(                        \"8e70e1aa-1453-4fe9-b674-c68902730df4\",                        [{\"marker\":{\"color\":\"#fb9f3a\"},\"name\":\"Low\",\"type\":\"histogram\",\"x\":[\"unacc\",\"unacc\",\"unacc\",\"unacc\",\"unacc\",\"unacc\",\"unacc\",\"unacc\",\"unacc\",\"unacc\",\"unacc\",\"acc\",\"unacc\",\"unacc\",\"acc\",\"unacc\",\"acc\",\"acc\",\"unacc\",\"unacc\",\"unacc\",\"unacc\",\"unacc\",\"acc\",\"unacc\",\"acc\",\"acc\",\"unacc\",\"unacc\",\"unacc\",\"unacc\",\"unacc\",\"unacc\",\"unacc\",\"unacc\",\"unacc\",\"unacc\",\"unacc\",\"acc\",\"unacc\",\"unacc\",\"acc\",\"unacc\",\"acc\",\"acc\",\"unacc\",\"unacc\",\"acc\",\"unacc\",\"acc\",\"acc\",\"unacc\",\"acc\",\"acc\",\"unacc\",\"unacc\",\"unacc\",\"unacc\",\"unacc\",\"unacc\",\"unacc\",\"unacc\",\"unacc\",\"unacc\",\"unacc\",\"acc\",\"unacc\",\"acc\",\"acc\",\"unacc\",\"acc\",\"acc\",\"unacc\",\"unacc\",\"acc\",\"unacc\",\"acc\",\"acc\",\"unacc\",\"acc\",\"acc\",\"unacc\",\"unacc\",\"unacc\",\"unacc\",\"unacc\",\"unacc\",\"unacc\",\"unacc\",\"unacc\",\"unacc\",\"unacc\",\"acc\",\"unacc\",\"acc\",\"acc\",\"unacc\",\"acc\",\"acc\",\"unacc\",\"unacc\",\"acc\",\"unacc\",\"acc\",\"acc\",\"unacc\",\"acc\",\"acc\",\"unacc\",\"unacc\",\"unacc\",\"unacc\",\"unacc\",\"unacc\",\"unacc\",\"unacc\",\"unacc\",\"unacc\",\"unacc\",\"acc\",\"unacc\",\"unacc\",\"acc\",\"unacc\",\"acc\",\"acc\",\"unacc\",\"unacc\",\"unacc\",\"unacc\",\"unacc\",\"acc\",\"unacc\",\"acc\",\"acc\",\"unacc\",\"unacc\",\"unacc\",\"unacc\",\"unacc\",\"unacc\",\"unacc\",\"unacc\",\"unacc\",\"unacc\",\"unacc\",\"acc\",\"unacc\",\"unacc\",\"acc\",\"unacc\",\"acc\",\"acc\",\"unacc\",\"unacc\",\"acc\",\"unacc\",\"acc\",\"acc\",\"unacc\",\"acc\",\"acc\",\"unacc\",\"unacc\",\"unacc\",\"unacc\",\"unacc\",\"unacc\",\"unacc\",\"unacc\",\"unacc\",\"unacc\",\"unacc\",\"acc\",\"unacc\",\"acc\",\"acc\",\"unacc\",\"acc\",\"acc\",\"unacc\",\"unacc\",\"acc\",\"unacc\",\"acc\",\"acc\",\"unacc\",\"acc\",\"acc\",\"unacc\",\"unacc\",\"unacc\",\"unacc\",\"unacc\",\"unacc\",\"unacc\",\"unacc\",\"unacc\",\"unacc\",\"unacc\",\"acc\",\"unacc\",\"acc\",\"acc\",\"unacc\",\"acc\",\"acc\",\"unacc\",\"unacc\",\"acc\",\"unacc\",\"acc\",\"acc\",\"unacc\",\"acc\",\"acc\",\"unacc\",\"unacc\",\"unacc\",\"unacc\",\"unacc\",\"unacc\",\"unacc\",\"unacc\",\"unacc\",\"unacc\",\"acc\",\"good\",\"unacc\",\"acc\",\"good\",\"unacc\",\"good\",\"vgood\",\"unacc\",\"unacc\",\"unacc\",\"unacc\",\"acc\",\"good\",\"unacc\",\"good\",\"vgood\",\"unacc\",\"unacc\",\"unacc\",\"unacc\",\"unacc\",\"unacc\",\"unacc\",\"unacc\",\"unacc\",\"unacc\",\"acc\",\"good\",\"unacc\",\"acc\",\"good\",\"unacc\",\"good\",\"vgood\",\"unacc\",\"acc\",\"good\",\"unacc\",\"good\",\"vgood\",\"unacc\",\"good\",\"vgood\",\"unacc\",\"unacc\",\"unacc\",\"unacc\",\"unacc\",\"unacc\",\"unacc\",\"unacc\",\"unacc\",\"unacc\",\"acc\",\"good\",\"unacc\",\"good\",\"vgood\",\"unacc\",\"good\",\"vgood\",\"unacc\",\"acc\",\"good\",\"unacc\",\"good\",\"vgood\",\"unacc\",\"good\",\"vgood\",\"unacc\",\"unacc\",\"unacc\",\"unacc\",\"unacc\",\"unacc\",\"unacc\",\"unacc\",\"unacc\",\"unacc\",\"acc\",\"good\",\"unacc\",\"good\",\"vgood\",\"unacc\",\"good\",\"vgood\",\"unacc\",\"acc\",\"good\",\"unacc\",\"good\",\"vgood\",\"unacc\",\"good\",\"vgood\",\"unacc\",\"unacc\",\"unacc\",\"unacc\",\"unacc\",\"unacc\",\"unacc\",\"unacc\",\"unacc\",\"unacc\",\"acc\",\"good\",\"unacc\",\"acc\",\"good\",\"unacc\",\"good\",\"vgood\",\"unacc\",\"unacc\",\"unacc\",\"unacc\",\"acc\",\"good\",\"unacc\",\"good\",\"vgood\",\"unacc\",\"unacc\",\"unacc\",\"unacc\",\"unacc\",\"unacc\",\"unacc\",\"unacc\",\"unacc\",\"unacc\",\"acc\",\"good\",\"unacc\",\"acc\",\"good\",\"unacc\",\"good\",\"vgood\",\"unacc\",\"acc\",\"good\",\"unacc\",\"good\",\"vgood\",\"unacc\",\"good\",\"vgood\",\"unacc\",\"unacc\",\"unacc\",\"unacc\",\"unacc\",\"unacc\",\"unacc\",\"unacc\",\"unacc\",\"unacc\",\"acc\",\"good\",\"unacc\",\"good\",\"vgood\",\"unacc\",\"good\",\"vgood\",\"unacc\",\"acc\",\"good\",\"unacc\",\"good\",\"vgood\",\"unacc\",\"good\",\"vgood\",\"unacc\",\"unacc\",\"unacc\",\"unacc\",\"unacc\",\"unacc\",\"unacc\",\"unacc\",\"unacc\",\"unacc\",\"acc\",\"good\",\"unacc\",\"good\",\"vgood\",\"unacc\",\"good\",\"vgood\",\"unacc\",\"acc\",\"good\",\"unacc\",\"good\",\"vgood\",\"unacc\",\"good\",\"vgood\"]},{\"marker\":{\"color\":\"#d8576b\"},\"name\":\"Medium\",\"type\":\"histogram\",\"x\":[\"unacc\",\"unacc\",\"unacc\",\"unacc\",\"unacc\",\"unacc\",\"unacc\",\"unacc\",\"unacc\",\"unacc\",\"unacc\",\"acc\",\"unacc\",\"unacc\",\"acc\",\"unacc\",\"acc\",\"acc\",\"unacc\",\"unacc\",\"unacc\",\"unacc\",\"unacc\",\"acc\",\"unacc\",\"acc\",\"acc\",\"unacc\",\"unacc\",\"unacc\",\"unacc\",\"unacc\",\"unacc\",\"unacc\",\"unacc\",\"unacc\",\"unacc\",\"unacc\",\"acc\",\"unacc\",\"unacc\",\"acc\",\"unacc\",\"acc\",\"acc\",\"unacc\",\"unacc\",\"acc\",\"unacc\",\"acc\",\"acc\",\"unacc\",\"acc\",\"acc\",\"unacc\",\"unacc\",\"unacc\",\"unacc\",\"unacc\",\"unacc\",\"unacc\",\"unacc\",\"unacc\",\"unacc\",\"unacc\",\"acc\",\"unacc\",\"acc\",\"acc\",\"unacc\",\"acc\",\"acc\",\"unacc\",\"unacc\",\"acc\",\"unacc\",\"acc\",\"acc\",\"unacc\",\"acc\",\"acc\",\"unacc\",\"unacc\",\"unacc\",\"unacc\",\"unacc\",\"unacc\",\"unacc\",\"unacc\",\"unacc\",\"unacc\",\"unacc\",\"acc\",\"unacc\",\"acc\",\"acc\",\"unacc\",\"acc\",\"acc\",\"unacc\",\"unacc\",\"acc\",\"unacc\",\"acc\",\"acc\",\"unacc\",\"acc\",\"acc\",\"unacc\",\"unacc\",\"unacc\",\"unacc\",\"unacc\",\"unacc\",\"unacc\",\"unacc\",\"unacc\",\"unacc\",\"unacc\",\"acc\",\"unacc\",\"unacc\",\"acc\",\"unacc\",\"acc\",\"acc\",\"unacc\",\"unacc\",\"unacc\",\"unacc\",\"unacc\",\"acc\",\"unacc\",\"acc\",\"acc\",\"unacc\",\"unacc\",\"unacc\",\"unacc\",\"unacc\",\"unacc\",\"unacc\",\"unacc\",\"unacc\",\"unacc\",\"unacc\",\"acc\",\"unacc\",\"unacc\",\"acc\",\"unacc\",\"acc\",\"acc\",\"unacc\",\"unacc\",\"acc\",\"unacc\",\"acc\",\"acc\",\"unacc\",\"acc\",\"acc\",\"unacc\",\"unacc\",\"unacc\",\"unacc\",\"unacc\",\"unacc\",\"unacc\",\"unacc\",\"unacc\",\"unacc\",\"unacc\",\"acc\",\"unacc\",\"acc\",\"acc\",\"unacc\",\"acc\",\"acc\",\"unacc\",\"unacc\",\"acc\",\"unacc\",\"acc\",\"acc\",\"unacc\",\"acc\",\"acc\",\"unacc\",\"unacc\",\"unacc\",\"unacc\",\"unacc\",\"unacc\",\"unacc\",\"unacc\",\"unacc\",\"unacc\",\"unacc\",\"acc\",\"unacc\",\"acc\",\"acc\",\"unacc\",\"acc\",\"acc\",\"unacc\",\"unacc\",\"acc\",\"unacc\",\"acc\",\"acc\",\"unacc\",\"acc\",\"acc\",\"unacc\",\"unacc\",\"unacc\",\"unacc\",\"unacc\",\"unacc\",\"unacc\",\"unacc\",\"unacc\",\"unacc\",\"acc\",\"acc\",\"unacc\",\"acc\",\"acc\",\"unacc\",\"acc\",\"vgood\",\"unacc\",\"unacc\",\"unacc\",\"unacc\",\"acc\",\"acc\",\"unacc\",\"acc\",\"vgood\",\"unacc\",\"unacc\",\"unacc\",\"unacc\",\"unacc\",\"unacc\",\"unacc\",\"unacc\",\"unacc\",\"unacc\",\"acc\",\"acc\",\"unacc\",\"acc\",\"acc\",\"unacc\",\"acc\",\"vgood\",\"unacc\",\"acc\",\"acc\",\"unacc\",\"acc\",\"vgood\",\"unacc\",\"acc\",\"vgood\",\"unacc\",\"unacc\",\"unacc\",\"unacc\",\"unacc\",\"unacc\",\"unacc\",\"unacc\",\"unacc\",\"unacc\",\"acc\",\"acc\",\"unacc\",\"acc\",\"vgood\",\"unacc\",\"acc\",\"vgood\",\"unacc\",\"acc\",\"acc\",\"unacc\",\"acc\",\"vgood\",\"unacc\",\"acc\",\"vgood\",\"unacc\",\"unacc\",\"unacc\",\"unacc\",\"unacc\",\"unacc\",\"unacc\",\"unacc\",\"unacc\",\"unacc\",\"acc\",\"acc\",\"unacc\",\"acc\",\"vgood\",\"unacc\",\"acc\",\"vgood\",\"unacc\",\"acc\",\"acc\",\"unacc\",\"acc\",\"vgood\",\"unacc\",\"acc\",\"vgood\",\"unacc\",\"unacc\",\"unacc\",\"unacc\",\"unacc\",\"unacc\",\"unacc\",\"unacc\",\"unacc\",\"unacc\",\"acc\",\"good\",\"unacc\",\"acc\",\"good\",\"unacc\",\"good\",\"vgood\",\"unacc\",\"unacc\",\"unacc\",\"unacc\",\"acc\",\"good\",\"unacc\",\"good\",\"vgood\",\"unacc\",\"unacc\",\"unacc\",\"unacc\",\"unacc\",\"unacc\",\"unacc\",\"unacc\",\"unacc\",\"unacc\",\"acc\",\"good\",\"unacc\",\"acc\",\"good\",\"unacc\",\"good\",\"vgood\",\"unacc\",\"acc\",\"good\",\"unacc\",\"good\",\"vgood\",\"unacc\",\"good\",\"vgood\",\"unacc\",\"unacc\",\"unacc\",\"unacc\",\"unacc\",\"unacc\",\"unacc\",\"unacc\",\"unacc\",\"unacc\",\"acc\",\"good\",\"unacc\",\"good\",\"vgood\",\"unacc\",\"good\",\"vgood\",\"unacc\",\"acc\",\"good\",\"unacc\",\"good\",\"vgood\",\"unacc\",\"good\",\"vgood\",\"unacc\",\"unacc\",\"unacc\",\"unacc\",\"unacc\",\"unacc\",\"unacc\",\"unacc\",\"unacc\",\"unacc\",\"acc\",\"good\",\"unacc\",\"good\",\"vgood\",\"unacc\",\"good\",\"vgood\",\"unacc\",\"acc\",\"good\",\"unacc\",\"good\",\"vgood\",\"unacc\",\"good\",\"vgood\"]},{\"marker\":{\"color\":\"#9c179e\"},\"name\":\"High\",\"type\":\"histogram\",\"x\":[\"unacc\",\"unacc\",\"unacc\",\"unacc\",\"unacc\",\"unacc\",\"unacc\",\"unacc\",\"unacc\",\"unacc\",\"unacc\",\"unacc\",\"unacc\",\"unacc\",\"unacc\",\"unacc\",\"unacc\",\"unacc\",\"unacc\",\"unacc\",\"unacc\",\"unacc\",\"unacc\",\"unacc\",\"unacc\",\"unacc\",\"unacc\",\"unacc\",\"unacc\",\"unacc\",\"unacc\",\"unacc\",\"unacc\",\"unacc\",\"unacc\",\"unacc\",\"unacc\",\"unacc\",\"unacc\",\"unacc\",\"unacc\",\"unacc\",\"unacc\",\"unacc\",\"unacc\",\"unacc\",\"unacc\",\"unacc\",\"unacc\",\"unacc\",\"unacc\",\"unacc\",\"unacc\",\"unacc\",\"unacc\",\"unacc\",\"unacc\",\"unacc\",\"unacc\",\"unacc\",\"unacc\",\"unacc\",\"unacc\",\"unacc\",\"unacc\",\"unacc\",\"unacc\",\"unacc\",\"unacc\",\"unacc\",\"unacc\",\"unacc\",\"unacc\",\"unacc\",\"unacc\",\"unacc\",\"unacc\",\"unacc\",\"unacc\",\"unacc\",\"unacc\",\"unacc\",\"unacc\",\"unacc\",\"unacc\",\"unacc\",\"unacc\",\"unacc\",\"unacc\",\"unacc\",\"unacc\",\"unacc\",\"unacc\",\"unacc\",\"unacc\",\"unacc\",\"unacc\",\"unacc\",\"unacc\",\"unacc\",\"unacc\",\"unacc\",\"unacc\",\"unacc\",\"unacc\",\"unacc\",\"unacc\",\"unacc\",\"unacc\",\"unacc\",\"unacc\",\"unacc\",\"unacc\",\"unacc\",\"unacc\",\"unacc\",\"unacc\",\"unacc\",\"unacc\",\"acc\",\"unacc\",\"unacc\",\"acc\",\"unacc\",\"acc\",\"acc\",\"unacc\",\"unacc\",\"unacc\",\"unacc\",\"unacc\",\"acc\",\"unacc\",\"acc\",\"acc\",\"unacc\",\"unacc\",\"unacc\",\"unacc\",\"unacc\",\"unacc\",\"unacc\",\"unacc\",\"unacc\",\"unacc\",\"unacc\",\"acc\",\"unacc\",\"unacc\",\"acc\",\"unacc\",\"acc\",\"acc\",\"unacc\",\"unacc\",\"acc\",\"unacc\",\"acc\",\"acc\",\"unacc\",\"acc\",\"acc\",\"unacc\",\"unacc\",\"unacc\",\"unacc\",\"unacc\",\"unacc\",\"unacc\",\"unacc\",\"unacc\",\"unacc\",\"unacc\",\"acc\",\"unacc\",\"acc\",\"acc\",\"unacc\",\"acc\",\"acc\",\"unacc\",\"unacc\",\"acc\",\"unacc\",\"acc\",\"acc\",\"unacc\",\"acc\",\"acc\",\"unacc\",\"unacc\",\"unacc\",\"unacc\",\"unacc\",\"unacc\",\"unacc\",\"unacc\",\"unacc\",\"unacc\",\"unacc\",\"acc\",\"unacc\",\"acc\",\"acc\",\"unacc\",\"acc\",\"acc\",\"unacc\",\"unacc\",\"acc\",\"unacc\",\"acc\",\"acc\",\"unacc\",\"acc\",\"acc\",\"unacc\",\"unacc\",\"unacc\",\"unacc\",\"unacc\",\"unacc\",\"unacc\",\"unacc\",\"unacc\",\"unacc\",\"unacc\",\"acc\",\"unacc\",\"unacc\",\"acc\",\"unacc\",\"acc\",\"acc\",\"unacc\",\"unacc\",\"unacc\",\"unacc\",\"unacc\",\"acc\",\"unacc\",\"acc\",\"acc\",\"unacc\",\"unacc\",\"unacc\",\"unacc\",\"unacc\",\"unacc\",\"unacc\",\"unacc\",\"unacc\",\"unacc\",\"unacc\",\"acc\",\"unacc\",\"unacc\",\"acc\",\"unacc\",\"acc\",\"acc\",\"unacc\",\"unacc\",\"acc\",\"unacc\",\"acc\",\"acc\",\"unacc\",\"acc\",\"acc\",\"unacc\",\"unacc\",\"unacc\",\"unacc\",\"unacc\",\"unacc\",\"unacc\",\"unacc\",\"unacc\",\"unacc\",\"unacc\",\"acc\",\"unacc\",\"acc\",\"acc\",\"unacc\",\"acc\",\"acc\",\"unacc\",\"unacc\",\"acc\",\"unacc\",\"acc\",\"acc\",\"unacc\",\"acc\",\"acc\",\"unacc\",\"unacc\",\"unacc\",\"unacc\",\"unacc\",\"unacc\",\"unacc\",\"unacc\",\"unacc\",\"unacc\",\"unacc\",\"acc\",\"unacc\",\"acc\",\"acc\",\"unacc\",\"acc\",\"acc\",\"unacc\",\"unacc\",\"acc\",\"unacc\",\"acc\",\"acc\",\"unacc\",\"acc\",\"acc\",\"unacc\",\"unacc\",\"unacc\",\"unacc\",\"unacc\",\"unacc\",\"unacc\",\"unacc\",\"unacc\",\"unacc\",\"acc\",\"acc\",\"unacc\",\"acc\",\"acc\",\"unacc\",\"acc\",\"vgood\",\"unacc\",\"unacc\",\"unacc\",\"unacc\",\"acc\",\"acc\",\"unacc\",\"acc\",\"vgood\",\"unacc\",\"unacc\",\"unacc\",\"unacc\",\"unacc\",\"unacc\",\"unacc\",\"unacc\",\"unacc\",\"unacc\",\"acc\",\"acc\",\"unacc\",\"acc\",\"acc\",\"unacc\",\"acc\",\"vgood\",\"unacc\",\"acc\",\"acc\",\"unacc\",\"acc\",\"vgood\",\"unacc\",\"acc\",\"vgood\",\"unacc\",\"unacc\",\"unacc\",\"unacc\",\"unacc\",\"unacc\",\"unacc\",\"unacc\",\"unacc\",\"unacc\",\"acc\",\"acc\",\"unacc\",\"acc\",\"vgood\",\"unacc\",\"acc\",\"vgood\",\"unacc\",\"acc\",\"acc\",\"unacc\",\"acc\",\"vgood\",\"unacc\",\"acc\",\"vgood\",\"unacc\",\"unacc\",\"unacc\",\"unacc\",\"unacc\",\"unacc\",\"unacc\",\"unacc\",\"unacc\",\"unacc\",\"acc\",\"acc\",\"unacc\",\"acc\",\"vgood\",\"unacc\",\"acc\",\"vgood\",\"unacc\",\"acc\",\"acc\",\"unacc\",\"acc\",\"vgood\",\"unacc\",\"acc\",\"vgood\"]},{\"marker\":{\"color\":\"#7201a8\"},\"name\":\"Very High\",\"type\":\"histogram\",\"x\":[\"unacc\",\"unacc\",\"unacc\",\"unacc\",\"unacc\",\"unacc\",\"unacc\",\"unacc\",\"unacc\",\"unacc\",\"unacc\",\"unacc\",\"unacc\",\"unacc\",\"unacc\",\"unacc\",\"unacc\",\"unacc\",\"unacc\",\"unacc\",\"unacc\",\"unacc\",\"unacc\",\"unacc\",\"unacc\",\"unacc\",\"unacc\",\"unacc\",\"unacc\",\"unacc\",\"unacc\",\"unacc\",\"unacc\",\"unacc\",\"unacc\",\"unacc\",\"unacc\",\"unacc\",\"unacc\",\"unacc\",\"unacc\",\"unacc\",\"unacc\",\"unacc\",\"unacc\",\"unacc\",\"unacc\",\"unacc\",\"unacc\",\"unacc\",\"unacc\",\"unacc\",\"unacc\",\"unacc\",\"unacc\",\"unacc\",\"unacc\",\"unacc\",\"unacc\",\"unacc\",\"unacc\",\"unacc\",\"unacc\",\"unacc\",\"unacc\",\"unacc\",\"unacc\",\"unacc\",\"unacc\",\"unacc\",\"unacc\",\"unacc\",\"unacc\",\"unacc\",\"unacc\",\"unacc\",\"unacc\",\"unacc\",\"unacc\",\"unacc\",\"unacc\",\"unacc\",\"unacc\",\"unacc\",\"unacc\",\"unacc\",\"unacc\",\"unacc\",\"unacc\",\"unacc\",\"unacc\",\"unacc\",\"unacc\",\"unacc\",\"unacc\",\"unacc\",\"unacc\",\"unacc\",\"unacc\",\"unacc\",\"unacc\",\"unacc\",\"unacc\",\"unacc\",\"unacc\",\"unacc\",\"unacc\",\"unacc\",\"unacc\",\"unacc\",\"unacc\",\"unacc\",\"unacc\",\"unacc\",\"unacc\",\"unacc\",\"unacc\",\"unacc\",\"unacc\",\"unacc\",\"unacc\",\"unacc\",\"unacc\",\"unacc\",\"unacc\",\"unacc\",\"unacc\",\"unacc\",\"unacc\",\"unacc\",\"unacc\",\"unacc\",\"unacc\",\"unacc\",\"unacc\",\"unacc\",\"unacc\",\"unacc\",\"unacc\",\"unacc\",\"unacc\",\"unacc\",\"unacc\",\"unacc\",\"unacc\",\"unacc\",\"unacc\",\"unacc\",\"unacc\",\"unacc\",\"unacc\",\"unacc\",\"unacc\",\"unacc\",\"unacc\",\"unacc\",\"unacc\",\"unacc\",\"unacc\",\"unacc\",\"unacc\",\"unacc\",\"unacc\",\"unacc\",\"unacc\",\"unacc\",\"unacc\",\"unacc\",\"unacc\",\"unacc\",\"unacc\",\"unacc\",\"unacc\",\"unacc\",\"unacc\",\"unacc\",\"unacc\",\"unacc\",\"unacc\",\"unacc\",\"unacc\",\"unacc\",\"unacc\",\"unacc\",\"unacc\",\"unacc\",\"unacc\",\"unacc\",\"unacc\",\"unacc\",\"unacc\",\"unacc\",\"unacc\",\"unacc\",\"unacc\",\"unacc\",\"unacc\",\"unacc\",\"unacc\",\"unacc\",\"unacc\",\"unacc\",\"unacc\",\"unacc\",\"unacc\",\"unacc\",\"unacc\",\"unacc\",\"unacc\",\"unacc\",\"unacc\",\"unacc\",\"unacc\",\"unacc\",\"unacc\",\"unacc\",\"unacc\",\"unacc\",\"unacc\",\"unacc\",\"unacc\",\"unacc\",\"unacc\",\"unacc\",\"unacc\",\"unacc\",\"unacc\",\"acc\",\"unacc\",\"unacc\",\"acc\",\"unacc\",\"acc\",\"acc\",\"unacc\",\"unacc\",\"unacc\",\"unacc\",\"unacc\",\"acc\",\"unacc\",\"acc\",\"acc\",\"unacc\",\"unacc\",\"unacc\",\"unacc\",\"unacc\",\"unacc\",\"unacc\",\"unacc\",\"unacc\",\"unacc\",\"unacc\",\"acc\",\"unacc\",\"unacc\",\"acc\",\"unacc\",\"acc\",\"acc\",\"unacc\",\"unacc\",\"acc\",\"unacc\",\"acc\",\"acc\",\"unacc\",\"acc\",\"acc\",\"unacc\",\"unacc\",\"unacc\",\"unacc\",\"unacc\",\"unacc\",\"unacc\",\"unacc\",\"unacc\",\"unacc\",\"unacc\",\"acc\",\"unacc\",\"acc\",\"acc\",\"unacc\",\"acc\",\"acc\",\"unacc\",\"unacc\",\"acc\",\"unacc\",\"acc\",\"acc\",\"unacc\",\"acc\",\"acc\",\"unacc\",\"unacc\",\"unacc\",\"unacc\",\"unacc\",\"unacc\",\"unacc\",\"unacc\",\"unacc\",\"unacc\",\"unacc\",\"acc\",\"unacc\",\"acc\",\"acc\",\"unacc\",\"acc\",\"acc\",\"unacc\",\"unacc\",\"acc\",\"unacc\",\"acc\",\"acc\",\"unacc\",\"acc\",\"acc\",\"unacc\",\"unacc\",\"unacc\",\"unacc\",\"unacc\",\"unacc\",\"unacc\",\"unacc\",\"unacc\",\"unacc\",\"unacc\",\"acc\",\"unacc\",\"unacc\",\"acc\",\"unacc\",\"acc\",\"acc\",\"unacc\",\"unacc\",\"unacc\",\"unacc\",\"unacc\",\"acc\",\"unacc\",\"acc\",\"acc\",\"unacc\",\"unacc\",\"unacc\",\"unacc\",\"unacc\",\"unacc\",\"unacc\",\"unacc\",\"unacc\",\"unacc\",\"unacc\",\"acc\",\"unacc\",\"unacc\",\"acc\",\"unacc\",\"acc\",\"acc\",\"unacc\",\"unacc\",\"acc\",\"unacc\",\"acc\",\"acc\",\"unacc\",\"acc\",\"acc\",\"unacc\",\"unacc\",\"unacc\",\"unacc\",\"unacc\",\"unacc\",\"unacc\",\"unacc\",\"unacc\",\"unacc\",\"unacc\",\"acc\",\"unacc\",\"acc\",\"acc\",\"unacc\",\"acc\",\"acc\",\"unacc\",\"unacc\",\"acc\",\"unacc\",\"acc\",\"acc\",\"unacc\",\"acc\",\"acc\",\"unacc\",\"unacc\",\"unacc\",\"unacc\",\"unacc\",\"unacc\",\"unacc\",\"unacc\",\"unacc\",\"unacc\",\"unacc\",\"acc\",\"unacc\",\"acc\",\"acc\",\"unacc\",\"acc\",\"acc\",\"unacc\",\"unacc\",\"acc\",\"unacc\",\"acc\",\"acc\",\"unacc\",\"acc\",\"acc\"]}],                        {\"height\":550,\"legend\":{\"font\":{\"color\":\"black\",\"family\":\"Arial\",\"size\":16}},\"template\":{\"data\":{\"bar\":[{\"error_x\":{\"color\":\"#2a3f5f\"},\"error_y\":{\"color\":\"#2a3f5f\"},\"marker\":{\"line\":{\"color\":\"#E5ECF6\",\"width\":0.5},\"pattern\":{\"fillmode\":\"overlay\",\"size\":10,\"solidity\":0.2}},\"type\":\"bar\"}],\"barpolar\":[{\"marker\":{\"line\":{\"color\":\"#E5ECF6\",\"width\":0.5},\"pattern\":{\"fillmode\":\"overlay\",\"size\":10,\"solidity\":0.2}},\"type\":\"barpolar\"}],\"carpet\":[{\"aaxis\":{\"endlinecolor\":\"#2a3f5f\",\"gridcolor\":\"white\",\"linecolor\":\"white\",\"minorgridcolor\":\"white\",\"startlinecolor\":\"#2a3f5f\"},\"baxis\":{\"endlinecolor\":\"#2a3f5f\",\"gridcolor\":\"white\",\"linecolor\":\"white\",\"minorgridcolor\":\"white\",\"startlinecolor\":\"#2a3f5f\"},\"type\":\"carpet\"}],\"choropleth\":[{\"colorbar\":{\"outlinewidth\":0,\"ticks\":\"\"},\"type\":\"choropleth\"}],\"contour\":[{\"colorbar\":{\"outlinewidth\":0,\"ticks\":\"\"},\"colorscale\":[[0.0,\"#0d0887\"],[0.1111111111111111,\"#46039f\"],[0.2222222222222222,\"#7201a8\"],[0.3333333333333333,\"#9c179e\"],[0.4444444444444444,\"#bd3786\"],[0.5555555555555556,\"#d8576b\"],[0.6666666666666666,\"#ed7953\"],[0.7777777777777778,\"#fb9f3a\"],[0.8888888888888888,\"#fdca26\"],[1.0,\"#f0f921\"]],\"type\":\"contour\"}],\"contourcarpet\":[{\"colorbar\":{\"outlinewidth\":0,\"ticks\":\"\"},\"type\":\"contourcarpet\"}],\"heatmap\":[{\"colorbar\":{\"outlinewidth\":0,\"ticks\":\"\"},\"colorscale\":[[0.0,\"#0d0887\"],[0.1111111111111111,\"#46039f\"],[0.2222222222222222,\"#7201a8\"],[0.3333333333333333,\"#9c179e\"],[0.4444444444444444,\"#bd3786\"],[0.5555555555555556,\"#d8576b\"],[0.6666666666666666,\"#ed7953\"],[0.7777777777777778,\"#fb9f3a\"],[0.8888888888888888,\"#fdca26\"],[1.0,\"#f0f921\"]],\"type\":\"heatmap\"}],\"heatmapgl\":[{\"colorbar\":{\"outlinewidth\":0,\"ticks\":\"\"},\"colorscale\":[[0.0,\"#0d0887\"],[0.1111111111111111,\"#46039f\"],[0.2222222222222222,\"#7201a8\"],[0.3333333333333333,\"#9c179e\"],[0.4444444444444444,\"#bd3786\"],[0.5555555555555556,\"#d8576b\"],[0.6666666666666666,\"#ed7953\"],[0.7777777777777778,\"#fb9f3a\"],[0.8888888888888888,\"#fdca26\"],[1.0,\"#f0f921\"]],\"type\":\"heatmapgl\"}],\"histogram\":[{\"marker\":{\"pattern\":{\"fillmode\":\"overlay\",\"size\":10,\"solidity\":0.2}},\"type\":\"histogram\"}],\"histogram2d\":[{\"colorbar\":{\"outlinewidth\":0,\"ticks\":\"\"},\"colorscale\":[[0.0,\"#0d0887\"],[0.1111111111111111,\"#46039f\"],[0.2222222222222222,\"#7201a8\"],[0.3333333333333333,\"#9c179e\"],[0.4444444444444444,\"#bd3786\"],[0.5555555555555556,\"#d8576b\"],[0.6666666666666666,\"#ed7953\"],[0.7777777777777778,\"#fb9f3a\"],[0.8888888888888888,\"#fdca26\"],[1.0,\"#f0f921\"]],\"type\":\"histogram2d\"}],\"histogram2dcontour\":[{\"colorbar\":{\"outlinewidth\":0,\"ticks\":\"\"},\"colorscale\":[[0.0,\"#0d0887\"],[0.1111111111111111,\"#46039f\"],[0.2222222222222222,\"#7201a8\"],[0.3333333333333333,\"#9c179e\"],[0.4444444444444444,\"#bd3786\"],[0.5555555555555556,\"#d8576b\"],[0.6666666666666666,\"#ed7953\"],[0.7777777777777778,\"#fb9f3a\"],[0.8888888888888888,\"#fdca26\"],[1.0,\"#f0f921\"]],\"type\":\"histogram2dcontour\"}],\"mesh3d\":[{\"colorbar\":{\"outlinewidth\":0,\"ticks\":\"\"},\"type\":\"mesh3d\"}],\"parcoords\":[{\"line\":{\"colorbar\":{\"outlinewidth\":0,\"ticks\":\"\"}},\"type\":\"parcoords\"}],\"pie\":[{\"automargin\":true,\"type\":\"pie\"}],\"scatter\":[{\"marker\":{\"colorbar\":{\"outlinewidth\":0,\"ticks\":\"\"}},\"type\":\"scatter\"}],\"scatter3d\":[{\"line\":{\"colorbar\":{\"outlinewidth\":0,\"ticks\":\"\"}},\"marker\":{\"colorbar\":{\"outlinewidth\":0,\"ticks\":\"\"}},\"type\":\"scatter3d\"}],\"scattercarpet\":[{\"marker\":{\"colorbar\":{\"outlinewidth\":0,\"ticks\":\"\"}},\"type\":\"scattercarpet\"}],\"scattergeo\":[{\"marker\":{\"colorbar\":{\"outlinewidth\":0,\"ticks\":\"\"}},\"type\":\"scattergeo\"}],\"scattergl\":[{\"marker\":{\"colorbar\":{\"outlinewidth\":0,\"ticks\":\"\"}},\"type\":\"scattergl\"}],\"scattermapbox\":[{\"marker\":{\"colorbar\":{\"outlinewidth\":0,\"ticks\":\"\"}},\"type\":\"scattermapbox\"}],\"scatterpolar\":[{\"marker\":{\"colorbar\":{\"outlinewidth\":0,\"ticks\":\"\"}},\"type\":\"scatterpolar\"}],\"scatterpolargl\":[{\"marker\":{\"colorbar\":{\"outlinewidth\":0,\"ticks\":\"\"}},\"type\":\"scatterpolargl\"}],\"scatterternary\":[{\"marker\":{\"colorbar\":{\"outlinewidth\":0,\"ticks\":\"\"}},\"type\":\"scatterternary\"}],\"surface\":[{\"colorbar\":{\"outlinewidth\":0,\"ticks\":\"\"},\"colorscale\":[[0.0,\"#0d0887\"],[0.1111111111111111,\"#46039f\"],[0.2222222222222222,\"#7201a8\"],[0.3333333333333333,\"#9c179e\"],[0.4444444444444444,\"#bd3786\"],[0.5555555555555556,\"#d8576b\"],[0.6666666666666666,\"#ed7953\"],[0.7777777777777778,\"#fb9f3a\"],[0.8888888888888888,\"#fdca26\"],[1.0,\"#f0f921\"]],\"type\":\"surface\"}],\"table\":[{\"cells\":{\"fill\":{\"color\":\"#EBF0F8\"},\"line\":{\"color\":\"white\"}},\"header\":{\"fill\":{\"color\":\"#C8D4E3\"},\"line\":{\"color\":\"white\"}},\"type\":\"table\"}]},\"layout\":{\"annotationdefaults\":{\"arrowcolor\":\"#2a3f5f\",\"arrowhead\":0,\"arrowwidth\":1},\"autotypenumbers\":\"strict\",\"coloraxis\":{\"colorbar\":{\"outlinewidth\":0,\"ticks\":\"\"}},\"colorscale\":{\"diverging\":[[0,\"#8e0152\"],[0.1,\"#c51b7d\"],[0.2,\"#de77ae\"],[0.3,\"#f1b6da\"],[0.4,\"#fde0ef\"],[0.5,\"#f7f7f7\"],[0.6,\"#e6f5d0\"],[0.7,\"#b8e186\"],[0.8,\"#7fbc41\"],[0.9,\"#4d9221\"],[1,\"#276419\"]],\"sequential\":[[0.0,\"#0d0887\"],[0.1111111111111111,\"#46039f\"],[0.2222222222222222,\"#7201a8\"],[0.3333333333333333,\"#9c179e\"],[0.4444444444444444,\"#bd3786\"],[0.5555555555555556,\"#d8576b\"],[0.6666666666666666,\"#ed7953\"],[0.7777777777777778,\"#fb9f3a\"],[0.8888888888888888,\"#fdca26\"],[1.0,\"#f0f921\"]],\"sequentialminus\":[[0.0,\"#0d0887\"],[0.1111111111111111,\"#46039f\"],[0.2222222222222222,\"#7201a8\"],[0.3333333333333333,\"#9c179e\"],[0.4444444444444444,\"#bd3786\"],[0.5555555555555556,\"#d8576b\"],[0.6666666666666666,\"#ed7953\"],[0.7777777777777778,\"#fb9f3a\"],[0.8888888888888888,\"#fdca26\"],[1.0,\"#f0f921\"]]},\"colorway\":[\"#636efa\",\"#EF553B\",\"#00cc96\",\"#ab63fa\",\"#FFA15A\",\"#19d3f3\",\"#FF6692\",\"#B6E880\",\"#FF97FF\",\"#FECB52\"],\"font\":{\"color\":\"#2a3f5f\"},\"geo\":{\"bgcolor\":\"white\",\"lakecolor\":\"white\",\"landcolor\":\"#E5ECF6\",\"showlakes\":true,\"showland\":true,\"subunitcolor\":\"white\"},\"hoverlabel\":{\"align\":\"left\"},\"hovermode\":\"closest\",\"mapbox\":{\"style\":\"light\"},\"paper_bgcolor\":\"white\",\"plot_bgcolor\":\"#E5ECF6\",\"polar\":{\"angularaxis\":{\"gridcolor\":\"white\",\"linecolor\":\"white\",\"ticks\":\"\"},\"bgcolor\":\"#E5ECF6\",\"radialaxis\":{\"gridcolor\":\"white\",\"linecolor\":\"white\",\"ticks\":\"\"}},\"scene\":{\"xaxis\":{\"backgroundcolor\":\"#E5ECF6\",\"gridcolor\":\"white\",\"gridwidth\":2,\"linecolor\":\"white\",\"showbackground\":true,\"ticks\":\"\",\"zerolinecolor\":\"white\"},\"yaxis\":{\"backgroundcolor\":\"#E5ECF6\",\"gridcolor\":\"white\",\"gridwidth\":2,\"linecolor\":\"white\",\"showbackground\":true,\"ticks\":\"\",\"zerolinecolor\":\"white\"},\"zaxis\":{\"backgroundcolor\":\"#E5ECF6\",\"gridcolor\":\"white\",\"gridwidth\":2,\"linecolor\":\"white\",\"showbackground\":true,\"ticks\":\"\",\"zerolinecolor\":\"white\"}},\"shapedefaults\":{\"line\":{\"color\":\"#2a3f5f\"}},\"ternary\":{\"aaxis\":{\"gridcolor\":\"white\",\"linecolor\":\"white\",\"ticks\":\"\"},\"baxis\":{\"gridcolor\":\"white\",\"linecolor\":\"white\",\"ticks\":\"\"},\"bgcolor\":\"#E5ECF6\",\"caxis\":{\"gridcolor\":\"white\",\"linecolor\":\"white\",\"ticks\":\"\"}},\"title\":{\"x\":0.05},\"xaxis\":{\"automargin\":true,\"gridcolor\":\"white\",\"linecolor\":\"white\",\"ticks\":\"\",\"title\":{\"standoff\":15},\"zerolinecolor\":\"white\",\"zerolinewidth\":2},\"yaxis\":{\"automargin\":true,\"gridcolor\":\"white\",\"linecolor\":\"white\",\"ticks\":\"\",\"title\":{\"standoff\":15},\"zerolinecolor\":\"white\",\"zerolinewidth\":2}}},\"title\":{\"font\":{\"color\":\"darkred\",\"family\":\"Arial\",\"size\":20},\"text\":\"Maintenance Cost\",\"x\":0.45,\"y\":0.875},\"width\":800,\"xaxis\":{\"showticklabels\":true,\"tickfont\":{\"color\":\"black\",\"family\":\"Arial\",\"size\":16},\"tickmode\":\"array\",\"ticktext\":[\"Unacceptable\",\"Acceptable\",\"Good\",\"Very Good\"],\"tickvals\":[\"unacc\",\"acc\",\"good\",\"vgood\"],\"title\":{\"text\":\"Condition\"}},\"yaxis\":{\"tickfont\":{\"color\":\"black\",\"family\":\"Arial\",\"size\":16},\"title\":{\"text\":\"Number of Cars\"}}},                        {\"responsive\": true}                    ).then(function(){\n",
       "                            \n",
       "var gd = document.getElementById('8e70e1aa-1453-4fe9-b674-c68902730df4');\n",
       "var x = new MutationObserver(function (mutations, observer) {{\n",
       "        var display = window.getComputedStyle(gd).display;\n",
       "        if (!display || display === 'none') {{\n",
       "            console.log([gd, 'removed!']);\n",
       "            Plotly.purge(gd);\n",
       "            observer.disconnect();\n",
       "        }}\n",
       "}});\n",
       "\n",
       "// Listen for the removal of the full notebook cells\n",
       "var notebookContainer = gd.closest('#notebook-container');\n",
       "if (notebookContainer) {{\n",
       "    x.observe(notebookContainer, {childList: true});\n",
       "}}\n",
       "\n",
       "// Listen for the clearing of the current output cell\n",
       "var outputEl = gd.closest('.output');\n",
       "if (outputEl) {{\n",
       "    x.observe(outputEl, {childList: true});\n",
       "}}\n",
       "\n",
       "                        })                };                });            </script>        </div>"
      ]
     },
     "metadata": {},
     "output_type": "display_data"
    }
   ],
   "source": [
    "fg1 = go.Figure(layout=go.Layout(height=550, width=800))\n",
    "\n",
    "fg1.add_trace(go.Histogram(x=car_df.loc[car_df.Maintenance==\"low\", \"Class\"],\n",
    "                           name = \"Low\",\n",
    "                           marker=dict(color=\"#fb9f3a\")))\n",
    "fg1.add_trace(go.Histogram(x=car_df.loc[car_df.Maintenance==\"med\", \"Class\"],\n",
    "                           name = \"Medium\",\n",
    "                           marker=dict(color=\"#d8576b\")))\n",
    "fg1.add_trace(go.Histogram(x=car_df.loc[car_df.Maintenance==\"high\", \"Class\"],\n",
    "                           name = \"High\",\n",
    "                           marker=dict(color=\"#9c179e\")))\n",
    "fg1.add_trace(go.Histogram(x=car_df.loc[car_df.Maintenance==\"vhigh\", \"Class\"],\n",
    "                           name = \"Very High\",\n",
    "                           marker=dict(color=\"#7201a8\")))\n",
    "\n",
    "fg1.update_xaxes(title_text=\"Condition\", \n",
    "                 showticklabels=True, \n",
    "                 tickmode=\"array\",\n",
    "                 tickvals=[\"unacc\", \"acc\", \"good\", \"vgood\"],\n",
    "                 ticktext=[\"Unacceptable\", \"Acceptable\", \"Good\", \"Very Good\"],\n",
    "                 tickfont=dict(family=\"Arial\", size=16, color=\"black\"))\n",
    "\n",
    "fg1.update_yaxes(title_text=\"Number of Cars\", tickfont=dict(family=\"Arial\", size=16, color=\"black\"))\n",
    "\n",
    "fg1.update_layout(legend = dict(font = dict(family = \"Arial\", size = 16, color=\"black\")),\n",
    "                  title_text = 'Maintenance Cost',\n",
    "                  title_font = dict(size=20, family='Arial', color='darkred'),\n",
    "                  title_x=0.45,\n",
    "                  title_y=0.875)\n",
    "\n",
    "fg1.show()"
   ]
  },
  {
   "cell_type": "code",
   "execution_count": 20,
   "metadata": {},
   "outputs": [
    {
     "data": {
      "application/vnd.plotly.v1+json": {
       "config": {
        "plotlyServerURL": "https://plot.ly"
       },
       "data": [
        {
         "marker": {
          "color": "#fb9f3a"
         },
         "name": "2 Doors",
         "type": "histogram",
         "x": [
          "unacc",
          "unacc",
          "unacc",
          "unacc",
          "unacc",
          "unacc",
          "unacc",
          "unacc",
          "unacc",
          "unacc",
          "unacc",
          "unacc",
          "unacc",
          "unacc",
          "unacc",
          "unacc",
          "unacc",
          "unacc",
          "unacc",
          "unacc",
          "unacc",
          "unacc",
          "unacc",
          "unacc",
          "unacc",
          "unacc",
          "unacc",
          "unacc",
          "unacc",
          "unacc",
          "unacc",
          "unacc",
          "unacc",
          "unacc",
          "unacc",
          "unacc",
          "unacc",
          "unacc",
          "unacc",
          "unacc",
          "unacc",
          "unacc",
          "unacc",
          "unacc",
          "unacc",
          "unacc",
          "unacc",
          "unacc",
          "unacc",
          "unacc",
          "unacc",
          "unacc",
          "unacc",
          "unacc",
          "unacc",
          "unacc",
          "unacc",
          "unacc",
          "unacc",
          "unacc",
          "unacc",
          "unacc",
          "unacc",
          "unacc",
          "unacc",
          "acc",
          "unacc",
          "unacc",
          "acc",
          "unacc",
          "acc",
          "acc",
          "unacc",
          "unacc",
          "unacc",
          "unacc",
          "unacc",
          "acc",
          "unacc",
          "acc",
          "acc",
          "unacc",
          "unacc",
          "unacc",
          "unacc",
          "unacc",
          "unacc",
          "unacc",
          "unacc",
          "unacc",
          "unacc",
          "unacc",
          "acc",
          "unacc",
          "unacc",
          "acc",
          "unacc",
          "acc",
          "acc",
          "unacc",
          "unacc",
          "unacc",
          "unacc",
          "unacc",
          "acc",
          "unacc",
          "acc",
          "acc",
          "unacc",
          "unacc",
          "unacc",
          "unacc",
          "unacc",
          "unacc",
          "unacc",
          "unacc",
          "unacc",
          "unacc",
          "unacc",
          "unacc",
          "unacc",
          "unacc",
          "unacc",
          "unacc",
          "unacc",
          "unacc",
          "unacc",
          "unacc",
          "unacc",
          "unacc",
          "unacc",
          "unacc",
          "unacc",
          "unacc",
          "unacc",
          "unacc",
          "unacc",
          "unacc",
          "unacc",
          "unacc",
          "unacc",
          "unacc",
          "unacc",
          "unacc",
          "unacc",
          "unacc",
          "acc",
          "unacc",
          "unacc",
          "acc",
          "unacc",
          "acc",
          "acc",
          "unacc",
          "unacc",
          "unacc",
          "unacc",
          "unacc",
          "acc",
          "unacc",
          "acc",
          "acc",
          "unacc",
          "unacc",
          "unacc",
          "unacc",
          "unacc",
          "unacc",
          "unacc",
          "unacc",
          "unacc",
          "unacc",
          "unacc",
          "acc",
          "unacc",
          "unacc",
          "acc",
          "unacc",
          "acc",
          "acc",
          "unacc",
          "unacc",
          "unacc",
          "unacc",
          "unacc",
          "acc",
          "unacc",
          "acc",
          "acc",
          "unacc",
          "unacc",
          "unacc",
          "unacc",
          "unacc",
          "unacc",
          "unacc",
          "unacc",
          "unacc",
          "unacc",
          "unacc",
          "acc",
          "unacc",
          "unacc",
          "acc",
          "unacc",
          "acc",
          "acc",
          "unacc",
          "unacc",
          "unacc",
          "unacc",
          "unacc",
          "acc",
          "unacc",
          "acc",
          "acc",
          "unacc",
          "unacc",
          "unacc",
          "unacc",
          "unacc",
          "unacc",
          "unacc",
          "unacc",
          "unacc",
          "unacc",
          "unacc",
          "acc",
          "unacc",
          "unacc",
          "acc",
          "unacc",
          "acc",
          "acc",
          "unacc",
          "unacc",
          "unacc",
          "unacc",
          "unacc",
          "acc",
          "unacc",
          "acc",
          "acc",
          "unacc",
          "unacc",
          "unacc",
          "unacc",
          "unacc",
          "unacc",
          "unacc",
          "unacc",
          "unacc",
          "unacc",
          "unacc",
          "acc",
          "unacc",
          "unacc",
          "acc",
          "unacc",
          "acc",
          "acc",
          "unacc",
          "unacc",
          "unacc",
          "unacc",
          "unacc",
          "acc",
          "unacc",
          "acc",
          "acc",
          "unacc",
          "unacc",
          "unacc",
          "unacc",
          "unacc",
          "unacc",
          "unacc",
          "unacc",
          "unacc",
          "unacc",
          "acc",
          "acc",
          "unacc",
          "acc",
          "acc",
          "unacc",
          "acc",
          "vgood",
          "unacc",
          "unacc",
          "unacc",
          "unacc",
          "acc",
          "acc",
          "unacc",
          "acc",
          "vgood",
          "unacc",
          "unacc",
          "unacc",
          "unacc",
          "unacc",
          "unacc",
          "unacc",
          "unacc",
          "unacc",
          "unacc",
          "acc",
          "good",
          "unacc",
          "acc",
          "good",
          "unacc",
          "good",
          "vgood",
          "unacc",
          "unacc",
          "unacc",
          "unacc",
          "acc",
          "good",
          "unacc",
          "good",
          "vgood",
          "unacc",
          "unacc",
          "unacc",
          "unacc",
          "unacc",
          "unacc",
          "unacc",
          "unacc",
          "unacc",
          "unacc",
          "unacc",
          "acc",
          "unacc",
          "unacc",
          "acc",
          "unacc",
          "acc",
          "acc",
          "unacc",
          "unacc",
          "unacc",
          "unacc",
          "unacc",
          "acc",
          "unacc",
          "acc",
          "acc",
          "unacc",
          "unacc",
          "unacc",
          "unacc",
          "unacc",
          "unacc",
          "unacc",
          "unacc",
          "unacc",
          "unacc",
          "acc",
          "acc",
          "unacc",
          "acc",
          "acc",
          "unacc",
          "acc",
          "vgood",
          "unacc",
          "unacc",
          "unacc",
          "unacc",
          "acc",
          "acc",
          "unacc",
          "acc",
          "vgood",
          "unacc",
          "unacc",
          "unacc",
          "unacc",
          "unacc",
          "unacc",
          "unacc",
          "unacc",
          "unacc",
          "unacc",
          "acc",
          "good",
          "unacc",
          "acc",
          "good",
          "unacc",
          "good",
          "vgood",
          "unacc",
          "unacc",
          "unacc",
          "unacc",
          "acc",
          "good",
          "unacc",
          "good",
          "vgood",
          "unacc",
          "unacc",
          "unacc",
          "unacc",
          "unacc",
          "unacc",
          "unacc",
          "unacc",
          "unacc",
          "unacc",
          "acc",
          "good",
          "unacc",
          "acc",
          "good",
          "unacc",
          "good",
          "vgood",
          "unacc",
          "unacc",
          "unacc",
          "unacc",
          "acc",
          "good",
          "unacc",
          "good",
          "vgood"
         ]
        },
        {
         "marker": {
          "color": "#d8576b"
         },
         "name": "3 Doors",
         "type": "histogram",
         "x": [
          "unacc",
          "unacc",
          "unacc",
          "unacc",
          "unacc",
          "unacc",
          "unacc",
          "unacc",
          "unacc",
          "unacc",
          "unacc",
          "unacc",
          "unacc",
          "unacc",
          "unacc",
          "unacc",
          "unacc",
          "unacc",
          "unacc",
          "unacc",
          "unacc",
          "unacc",
          "unacc",
          "unacc",
          "unacc",
          "unacc",
          "unacc",
          "unacc",
          "unacc",
          "unacc",
          "unacc",
          "unacc",
          "unacc",
          "unacc",
          "unacc",
          "unacc",
          "unacc",
          "unacc",
          "unacc",
          "unacc",
          "unacc",
          "unacc",
          "unacc",
          "unacc",
          "unacc",
          "unacc",
          "unacc",
          "unacc",
          "unacc",
          "unacc",
          "unacc",
          "unacc",
          "unacc",
          "unacc",
          "unacc",
          "unacc",
          "unacc",
          "unacc",
          "unacc",
          "unacc",
          "unacc",
          "unacc",
          "unacc",
          "unacc",
          "unacc",
          "acc",
          "unacc",
          "unacc",
          "acc",
          "unacc",
          "acc",
          "acc",
          "unacc",
          "unacc",
          "acc",
          "unacc",
          "acc",
          "acc",
          "unacc",
          "acc",
          "acc",
          "unacc",
          "unacc",
          "unacc",
          "unacc",
          "unacc",
          "unacc",
          "unacc",
          "unacc",
          "unacc",
          "unacc",
          "unacc",
          "acc",
          "unacc",
          "unacc",
          "acc",
          "unacc",
          "acc",
          "acc",
          "unacc",
          "unacc",
          "acc",
          "unacc",
          "acc",
          "acc",
          "unacc",
          "acc",
          "acc",
          "unacc",
          "unacc",
          "unacc",
          "unacc",
          "unacc",
          "unacc",
          "unacc",
          "unacc",
          "unacc",
          "unacc",
          "unacc",
          "unacc",
          "unacc",
          "unacc",
          "unacc",
          "unacc",
          "unacc",
          "unacc",
          "unacc",
          "unacc",
          "unacc",
          "unacc",
          "unacc",
          "unacc",
          "unacc",
          "unacc",
          "unacc",
          "unacc",
          "unacc",
          "unacc",
          "unacc",
          "unacc",
          "unacc",
          "unacc",
          "unacc",
          "unacc",
          "unacc",
          "unacc",
          "acc",
          "unacc",
          "unacc",
          "acc",
          "unacc",
          "acc",
          "acc",
          "unacc",
          "unacc",
          "acc",
          "unacc",
          "acc",
          "acc",
          "unacc",
          "acc",
          "acc",
          "unacc",
          "unacc",
          "unacc",
          "unacc",
          "unacc",
          "unacc",
          "unacc",
          "unacc",
          "unacc",
          "unacc",
          "unacc",
          "acc",
          "unacc",
          "unacc",
          "acc",
          "unacc",
          "acc",
          "acc",
          "unacc",
          "unacc",
          "acc",
          "unacc",
          "acc",
          "acc",
          "unacc",
          "acc",
          "acc",
          "unacc",
          "unacc",
          "unacc",
          "unacc",
          "unacc",
          "unacc",
          "unacc",
          "unacc",
          "unacc",
          "unacc",
          "unacc",
          "acc",
          "unacc",
          "unacc",
          "acc",
          "unacc",
          "acc",
          "acc",
          "unacc",
          "unacc",
          "acc",
          "unacc",
          "acc",
          "acc",
          "unacc",
          "acc",
          "acc",
          "unacc",
          "unacc",
          "unacc",
          "unacc",
          "unacc",
          "unacc",
          "unacc",
          "unacc",
          "unacc",
          "unacc",
          "unacc",
          "acc",
          "unacc",
          "unacc",
          "acc",
          "unacc",
          "acc",
          "acc",
          "unacc",
          "unacc",
          "acc",
          "unacc",
          "acc",
          "acc",
          "unacc",
          "acc",
          "acc",
          "unacc",
          "unacc",
          "unacc",
          "unacc",
          "unacc",
          "unacc",
          "unacc",
          "unacc",
          "unacc",
          "unacc",
          "unacc",
          "acc",
          "unacc",
          "unacc",
          "acc",
          "unacc",
          "acc",
          "acc",
          "unacc",
          "unacc",
          "acc",
          "unacc",
          "acc",
          "acc",
          "unacc",
          "acc",
          "acc",
          "unacc",
          "unacc",
          "unacc",
          "unacc",
          "unacc",
          "unacc",
          "unacc",
          "unacc",
          "unacc",
          "unacc",
          "acc",
          "acc",
          "unacc",
          "acc",
          "acc",
          "unacc",
          "acc",
          "vgood",
          "unacc",
          "acc",
          "acc",
          "unacc",
          "acc",
          "vgood",
          "unacc",
          "acc",
          "vgood",
          "unacc",
          "unacc",
          "unacc",
          "unacc",
          "unacc",
          "unacc",
          "unacc",
          "unacc",
          "unacc",
          "unacc",
          "acc",
          "good",
          "unacc",
          "acc",
          "good",
          "unacc",
          "good",
          "vgood",
          "unacc",
          "acc",
          "good",
          "unacc",
          "good",
          "vgood",
          "unacc",
          "good",
          "vgood",
          "unacc",
          "unacc",
          "unacc",
          "unacc",
          "unacc",
          "unacc",
          "unacc",
          "unacc",
          "unacc",
          "unacc",
          "unacc",
          "acc",
          "unacc",
          "unacc",
          "acc",
          "unacc",
          "acc",
          "acc",
          "unacc",
          "unacc",
          "acc",
          "unacc",
          "acc",
          "acc",
          "unacc",
          "acc",
          "acc",
          "unacc",
          "unacc",
          "unacc",
          "unacc",
          "unacc",
          "unacc",
          "unacc",
          "unacc",
          "unacc",
          "unacc",
          "acc",
          "acc",
          "unacc",
          "acc",
          "acc",
          "unacc",
          "acc",
          "vgood",
          "unacc",
          "acc",
          "acc",
          "unacc",
          "acc",
          "vgood",
          "unacc",
          "acc",
          "vgood",
          "unacc",
          "unacc",
          "unacc",
          "unacc",
          "unacc",
          "unacc",
          "unacc",
          "unacc",
          "unacc",
          "unacc",
          "acc",
          "good",
          "unacc",
          "acc",
          "good",
          "unacc",
          "good",
          "vgood",
          "unacc",
          "acc",
          "good",
          "unacc",
          "good",
          "vgood",
          "unacc",
          "good",
          "vgood",
          "unacc",
          "unacc",
          "unacc",
          "unacc",
          "unacc",
          "unacc",
          "unacc",
          "unacc",
          "unacc",
          "unacc",
          "acc",
          "good",
          "unacc",
          "acc",
          "good",
          "unacc",
          "good",
          "vgood",
          "unacc",
          "acc",
          "good",
          "unacc",
          "good",
          "vgood",
          "unacc",
          "good",
          "vgood"
         ]
        },
        {
         "marker": {
          "color": "#9c179e"
         },
         "name": "4 Doors",
         "type": "histogram",
         "x": [
          "unacc",
          "unacc",
          "unacc",
          "unacc",
          "unacc",
          "unacc",
          "unacc",
          "unacc",
          "unacc",
          "unacc",
          "unacc",
          "unacc",
          "unacc",
          "unacc",
          "unacc",
          "unacc",
          "unacc",
          "unacc",
          "unacc",
          "unacc",
          "unacc",
          "unacc",
          "unacc",
          "unacc",
          "unacc",
          "unacc",
          "unacc",
          "unacc",
          "unacc",
          "unacc",
          "unacc",
          "unacc",
          "unacc",
          "unacc",
          "unacc",
          "unacc",
          "unacc",
          "unacc",
          "unacc",
          "unacc",
          "unacc",
          "unacc",
          "unacc",
          "unacc",
          "unacc",
          "unacc",
          "unacc",
          "unacc",
          "unacc",
          "unacc",
          "unacc",
          "unacc",
          "unacc",
          "unacc",
          "unacc",
          "unacc",
          "unacc",
          "unacc",
          "unacc",
          "unacc",
          "unacc",
          "unacc",
          "unacc",
          "unacc",
          "unacc",
          "acc",
          "unacc",
          "acc",
          "acc",
          "unacc",
          "acc",
          "acc",
          "unacc",
          "unacc",
          "acc",
          "unacc",
          "acc",
          "acc",
          "unacc",
          "acc",
          "acc",
          "unacc",
          "unacc",
          "unacc",
          "unacc",
          "unacc",
          "unacc",
          "unacc",
          "unacc",
          "unacc",
          "unacc",
          "unacc",
          "acc",
          "unacc",
          "acc",
          "acc",
          "unacc",
          "acc",
          "acc",
          "unacc",
          "unacc",
          "acc",
          "unacc",
          "acc",
          "acc",
          "unacc",
          "acc",
          "acc",
          "unacc",
          "unacc",
          "unacc",
          "unacc",
          "unacc",
          "unacc",
          "unacc",
          "unacc",
          "unacc",
          "unacc",
          "unacc",
          "unacc",
          "unacc",
          "unacc",
          "unacc",
          "unacc",
          "unacc",
          "unacc",
          "unacc",
          "unacc",
          "unacc",
          "unacc",
          "unacc",
          "unacc",
          "unacc",
          "unacc",
          "unacc",
          "unacc",
          "unacc",
          "unacc",
          "unacc",
          "unacc",
          "unacc",
          "unacc",
          "unacc",
          "unacc",
          "unacc",
          "unacc",
          "acc",
          "unacc",
          "acc",
          "acc",
          "unacc",
          "acc",
          "acc",
          "unacc",
          "unacc",
          "acc",
          "unacc",
          "acc",
          "acc",
          "unacc",
          "acc",
          "acc",
          "unacc",
          "unacc",
          "unacc",
          "unacc",
          "unacc",
          "unacc",
          "unacc",
          "unacc",
          "unacc",
          "unacc",
          "unacc",
          "acc",
          "unacc",
          "acc",
          "acc",
          "unacc",
          "acc",
          "acc",
          "unacc",
          "unacc",
          "acc",
          "unacc",
          "acc",
          "acc",
          "unacc",
          "acc",
          "acc",
          "unacc",
          "unacc",
          "unacc",
          "unacc",
          "unacc",
          "unacc",
          "unacc",
          "unacc",
          "unacc",
          "unacc",
          "unacc",
          "acc",
          "unacc",
          "acc",
          "acc",
          "unacc",
          "acc",
          "acc",
          "unacc",
          "unacc",
          "acc",
          "unacc",
          "acc",
          "acc",
          "unacc",
          "acc",
          "acc",
          "unacc",
          "unacc",
          "unacc",
          "unacc",
          "unacc",
          "unacc",
          "unacc",
          "unacc",
          "unacc",
          "unacc",
          "unacc",
          "acc",
          "unacc",
          "acc",
          "acc",
          "unacc",
          "acc",
          "acc",
          "unacc",
          "unacc",
          "acc",
          "unacc",
          "acc",
          "acc",
          "unacc",
          "acc",
          "acc",
          "unacc",
          "unacc",
          "unacc",
          "unacc",
          "unacc",
          "unacc",
          "unacc",
          "unacc",
          "unacc",
          "unacc",
          "unacc",
          "acc",
          "unacc",
          "acc",
          "acc",
          "unacc",
          "acc",
          "acc",
          "unacc",
          "unacc",
          "acc",
          "unacc",
          "acc",
          "acc",
          "unacc",
          "acc",
          "acc",
          "unacc",
          "unacc",
          "unacc",
          "unacc",
          "unacc",
          "unacc",
          "unacc",
          "unacc",
          "unacc",
          "unacc",
          "acc",
          "acc",
          "unacc",
          "acc",
          "vgood",
          "unacc",
          "acc",
          "vgood",
          "unacc",
          "acc",
          "acc",
          "unacc",
          "acc",
          "vgood",
          "unacc",
          "acc",
          "vgood",
          "unacc",
          "unacc",
          "unacc",
          "unacc",
          "unacc",
          "unacc",
          "unacc",
          "unacc",
          "unacc",
          "unacc",
          "acc",
          "good",
          "unacc",
          "good",
          "vgood",
          "unacc",
          "good",
          "vgood",
          "unacc",
          "acc",
          "good",
          "unacc",
          "good",
          "vgood",
          "unacc",
          "good",
          "vgood",
          "unacc",
          "unacc",
          "unacc",
          "unacc",
          "unacc",
          "unacc",
          "unacc",
          "unacc",
          "unacc",
          "unacc",
          "unacc",
          "acc",
          "unacc",
          "acc",
          "acc",
          "unacc",
          "acc",
          "acc",
          "unacc",
          "unacc",
          "acc",
          "unacc",
          "acc",
          "acc",
          "unacc",
          "acc",
          "acc",
          "unacc",
          "unacc",
          "unacc",
          "unacc",
          "unacc",
          "unacc",
          "unacc",
          "unacc",
          "unacc",
          "unacc",
          "acc",
          "acc",
          "unacc",
          "acc",
          "vgood",
          "unacc",
          "acc",
          "vgood",
          "unacc",
          "acc",
          "acc",
          "unacc",
          "acc",
          "vgood",
          "unacc",
          "acc",
          "vgood",
          "unacc",
          "unacc",
          "unacc",
          "unacc",
          "unacc",
          "unacc",
          "unacc",
          "unacc",
          "unacc",
          "unacc",
          "acc",
          "good",
          "unacc",
          "good",
          "vgood",
          "unacc",
          "good",
          "vgood",
          "unacc",
          "acc",
          "good",
          "unacc",
          "good",
          "vgood",
          "unacc",
          "good",
          "vgood",
          "unacc",
          "unacc",
          "unacc",
          "unacc",
          "unacc",
          "unacc",
          "unacc",
          "unacc",
          "unacc",
          "unacc",
          "acc",
          "good",
          "unacc",
          "good",
          "vgood",
          "unacc",
          "good",
          "vgood",
          "unacc",
          "acc",
          "good",
          "unacc",
          "good",
          "vgood",
          "unacc",
          "good",
          "vgood"
         ]
        },
        {
         "marker": {
          "color": "#7201a8"
         },
         "name": "5 or more Doors",
         "type": "histogram",
         "x": [
          "unacc",
          "unacc",
          "unacc",
          "unacc",
          "unacc",
          "unacc",
          "unacc",
          "unacc",
          "unacc",
          "unacc",
          "unacc",
          "unacc",
          "unacc",
          "unacc",
          "unacc",
          "unacc",
          "unacc",
          "unacc",
          "unacc",
          "unacc",
          "unacc",
          "unacc",
          "unacc",
          "unacc",
          "unacc",
          "unacc",
          "unacc",
          "unacc",
          "unacc",
          "unacc",
          "unacc",
          "unacc",
          "unacc",
          "unacc",
          "unacc",
          "unacc",
          "unacc",
          "unacc",
          "unacc",
          "unacc",
          "unacc",
          "unacc",
          "unacc",
          "unacc",
          "unacc",
          "unacc",
          "unacc",
          "unacc",
          "unacc",
          "unacc",
          "unacc",
          "unacc",
          "unacc",
          "unacc",
          "unacc",
          "unacc",
          "unacc",
          "unacc",
          "unacc",
          "unacc",
          "unacc",
          "unacc",
          "unacc",
          "unacc",
          "unacc",
          "acc",
          "unacc",
          "acc",
          "acc",
          "unacc",
          "acc",
          "acc",
          "unacc",
          "unacc",
          "acc",
          "unacc",
          "acc",
          "acc",
          "unacc",
          "acc",
          "acc",
          "unacc",
          "unacc",
          "unacc",
          "unacc",
          "unacc",
          "unacc",
          "unacc",
          "unacc",
          "unacc",
          "unacc",
          "unacc",
          "acc",
          "unacc",
          "acc",
          "acc",
          "unacc",
          "acc",
          "acc",
          "unacc",
          "unacc",
          "acc",
          "unacc",
          "acc",
          "acc",
          "unacc",
          "acc",
          "acc",
          "unacc",
          "unacc",
          "unacc",
          "unacc",
          "unacc",
          "unacc",
          "unacc",
          "unacc",
          "unacc",
          "unacc",
          "unacc",
          "unacc",
          "unacc",
          "unacc",
          "unacc",
          "unacc",
          "unacc",
          "unacc",
          "unacc",
          "unacc",
          "unacc",
          "unacc",
          "unacc",
          "unacc",
          "unacc",
          "unacc",
          "unacc",
          "unacc",
          "unacc",
          "unacc",
          "unacc",
          "unacc",
          "unacc",
          "unacc",
          "unacc",
          "unacc",
          "unacc",
          "unacc",
          "acc",
          "unacc",
          "acc",
          "acc",
          "unacc",
          "acc",
          "acc",
          "unacc",
          "unacc",
          "acc",
          "unacc",
          "acc",
          "acc",
          "unacc",
          "acc",
          "acc",
          "unacc",
          "unacc",
          "unacc",
          "unacc",
          "unacc",
          "unacc",
          "unacc",
          "unacc",
          "unacc",
          "unacc",
          "unacc",
          "acc",
          "unacc",
          "acc",
          "acc",
          "unacc",
          "acc",
          "acc",
          "unacc",
          "unacc",
          "acc",
          "unacc",
          "acc",
          "acc",
          "unacc",
          "acc",
          "acc",
          "unacc",
          "unacc",
          "unacc",
          "unacc",
          "unacc",
          "unacc",
          "unacc",
          "unacc",
          "unacc",
          "unacc",
          "unacc",
          "acc",
          "unacc",
          "acc",
          "acc",
          "unacc",
          "acc",
          "acc",
          "unacc",
          "unacc",
          "acc",
          "unacc",
          "acc",
          "acc",
          "unacc",
          "acc",
          "acc",
          "unacc",
          "unacc",
          "unacc",
          "unacc",
          "unacc",
          "unacc",
          "unacc",
          "unacc",
          "unacc",
          "unacc",
          "unacc",
          "acc",
          "unacc",
          "acc",
          "acc",
          "unacc",
          "acc",
          "acc",
          "unacc",
          "unacc",
          "acc",
          "unacc",
          "acc",
          "acc",
          "unacc",
          "acc",
          "acc",
          "unacc",
          "unacc",
          "unacc",
          "unacc",
          "unacc",
          "unacc",
          "unacc",
          "unacc",
          "unacc",
          "unacc",
          "unacc",
          "acc",
          "unacc",
          "acc",
          "acc",
          "unacc",
          "acc",
          "acc",
          "unacc",
          "unacc",
          "acc",
          "unacc",
          "acc",
          "acc",
          "unacc",
          "acc",
          "acc",
          "unacc",
          "unacc",
          "unacc",
          "unacc",
          "unacc",
          "unacc",
          "unacc",
          "unacc",
          "unacc",
          "unacc",
          "acc",
          "acc",
          "unacc",
          "acc",
          "vgood",
          "unacc",
          "acc",
          "vgood",
          "unacc",
          "acc",
          "acc",
          "unacc",
          "acc",
          "vgood",
          "unacc",
          "acc",
          "vgood",
          "unacc",
          "unacc",
          "unacc",
          "unacc",
          "unacc",
          "unacc",
          "unacc",
          "unacc",
          "unacc",
          "unacc",
          "acc",
          "good",
          "unacc",
          "good",
          "vgood",
          "unacc",
          "good",
          "vgood",
          "unacc",
          "acc",
          "good",
          "unacc",
          "good",
          "vgood",
          "unacc",
          "good",
          "vgood",
          "unacc",
          "unacc",
          "unacc",
          "unacc",
          "unacc",
          "unacc",
          "unacc",
          "unacc",
          "unacc",
          "unacc",
          "unacc",
          "acc",
          "unacc",
          "acc",
          "acc",
          "unacc",
          "acc",
          "acc",
          "unacc",
          "unacc",
          "acc",
          "unacc",
          "acc",
          "acc",
          "unacc",
          "acc",
          "acc",
          "unacc",
          "unacc",
          "unacc",
          "unacc",
          "unacc",
          "unacc",
          "unacc",
          "unacc",
          "unacc",
          "unacc",
          "acc",
          "acc",
          "unacc",
          "acc",
          "vgood",
          "unacc",
          "acc",
          "vgood",
          "unacc",
          "acc",
          "acc",
          "unacc",
          "acc",
          "vgood",
          "unacc",
          "acc",
          "vgood",
          "unacc",
          "unacc",
          "unacc",
          "unacc",
          "unacc",
          "unacc",
          "unacc",
          "unacc",
          "unacc",
          "unacc",
          "acc",
          "good",
          "unacc",
          "good",
          "vgood",
          "unacc",
          "good",
          "vgood",
          "unacc",
          "acc",
          "good",
          "unacc",
          "good",
          "vgood",
          "unacc",
          "good",
          "vgood",
          "unacc",
          "unacc",
          "unacc",
          "unacc",
          "unacc",
          "unacc",
          "unacc",
          "unacc",
          "unacc",
          "unacc",
          "acc",
          "good",
          "unacc",
          "good",
          "vgood",
          "unacc",
          "good",
          "vgood",
          "unacc",
          "acc",
          "good",
          "unacc",
          "good",
          "vgood",
          "unacc",
          "good",
          "vgood"
         ]
        }
       ],
       "layout": {
        "height": 550,
        "legend": {
         "font": {
          "color": "black",
          "family": "Arial",
          "size": 16
         }
        },
        "template": {
         "data": {
          "bar": [
           {
            "error_x": {
             "color": "#2a3f5f"
            },
            "error_y": {
             "color": "#2a3f5f"
            },
            "marker": {
             "line": {
              "color": "#E5ECF6",
              "width": 0.5
             },
             "pattern": {
              "fillmode": "overlay",
              "size": 10,
              "solidity": 0.2
             }
            },
            "type": "bar"
           }
          ],
          "barpolar": [
           {
            "marker": {
             "line": {
              "color": "#E5ECF6",
              "width": 0.5
             },
             "pattern": {
              "fillmode": "overlay",
              "size": 10,
              "solidity": 0.2
             }
            },
            "type": "barpolar"
           }
          ],
          "carpet": [
           {
            "aaxis": {
             "endlinecolor": "#2a3f5f",
             "gridcolor": "white",
             "linecolor": "white",
             "minorgridcolor": "white",
             "startlinecolor": "#2a3f5f"
            },
            "baxis": {
             "endlinecolor": "#2a3f5f",
             "gridcolor": "white",
             "linecolor": "white",
             "minorgridcolor": "white",
             "startlinecolor": "#2a3f5f"
            },
            "type": "carpet"
           }
          ],
          "choropleth": [
           {
            "colorbar": {
             "outlinewidth": 0,
             "ticks": ""
            },
            "type": "choropleth"
           }
          ],
          "contour": [
           {
            "colorbar": {
             "outlinewidth": 0,
             "ticks": ""
            },
            "colorscale": [
             [
              0,
              "#0d0887"
             ],
             [
              0.1111111111111111,
              "#46039f"
             ],
             [
              0.2222222222222222,
              "#7201a8"
             ],
             [
              0.3333333333333333,
              "#9c179e"
             ],
             [
              0.4444444444444444,
              "#bd3786"
             ],
             [
              0.5555555555555556,
              "#d8576b"
             ],
             [
              0.6666666666666666,
              "#ed7953"
             ],
             [
              0.7777777777777778,
              "#fb9f3a"
             ],
             [
              0.8888888888888888,
              "#fdca26"
             ],
             [
              1,
              "#f0f921"
             ]
            ],
            "type": "contour"
           }
          ],
          "contourcarpet": [
           {
            "colorbar": {
             "outlinewidth": 0,
             "ticks": ""
            },
            "type": "contourcarpet"
           }
          ],
          "heatmap": [
           {
            "colorbar": {
             "outlinewidth": 0,
             "ticks": ""
            },
            "colorscale": [
             [
              0,
              "#0d0887"
             ],
             [
              0.1111111111111111,
              "#46039f"
             ],
             [
              0.2222222222222222,
              "#7201a8"
             ],
             [
              0.3333333333333333,
              "#9c179e"
             ],
             [
              0.4444444444444444,
              "#bd3786"
             ],
             [
              0.5555555555555556,
              "#d8576b"
             ],
             [
              0.6666666666666666,
              "#ed7953"
             ],
             [
              0.7777777777777778,
              "#fb9f3a"
             ],
             [
              0.8888888888888888,
              "#fdca26"
             ],
             [
              1,
              "#f0f921"
             ]
            ],
            "type": "heatmap"
           }
          ],
          "heatmapgl": [
           {
            "colorbar": {
             "outlinewidth": 0,
             "ticks": ""
            },
            "colorscale": [
             [
              0,
              "#0d0887"
             ],
             [
              0.1111111111111111,
              "#46039f"
             ],
             [
              0.2222222222222222,
              "#7201a8"
             ],
             [
              0.3333333333333333,
              "#9c179e"
             ],
             [
              0.4444444444444444,
              "#bd3786"
             ],
             [
              0.5555555555555556,
              "#d8576b"
             ],
             [
              0.6666666666666666,
              "#ed7953"
             ],
             [
              0.7777777777777778,
              "#fb9f3a"
             ],
             [
              0.8888888888888888,
              "#fdca26"
             ],
             [
              1,
              "#f0f921"
             ]
            ],
            "type": "heatmapgl"
           }
          ],
          "histogram": [
           {
            "marker": {
             "pattern": {
              "fillmode": "overlay",
              "size": 10,
              "solidity": 0.2
             }
            },
            "type": "histogram"
           }
          ],
          "histogram2d": [
           {
            "colorbar": {
             "outlinewidth": 0,
             "ticks": ""
            },
            "colorscale": [
             [
              0,
              "#0d0887"
             ],
             [
              0.1111111111111111,
              "#46039f"
             ],
             [
              0.2222222222222222,
              "#7201a8"
             ],
             [
              0.3333333333333333,
              "#9c179e"
             ],
             [
              0.4444444444444444,
              "#bd3786"
             ],
             [
              0.5555555555555556,
              "#d8576b"
             ],
             [
              0.6666666666666666,
              "#ed7953"
             ],
             [
              0.7777777777777778,
              "#fb9f3a"
             ],
             [
              0.8888888888888888,
              "#fdca26"
             ],
             [
              1,
              "#f0f921"
             ]
            ],
            "type": "histogram2d"
           }
          ],
          "histogram2dcontour": [
           {
            "colorbar": {
             "outlinewidth": 0,
             "ticks": ""
            },
            "colorscale": [
             [
              0,
              "#0d0887"
             ],
             [
              0.1111111111111111,
              "#46039f"
             ],
             [
              0.2222222222222222,
              "#7201a8"
             ],
             [
              0.3333333333333333,
              "#9c179e"
             ],
             [
              0.4444444444444444,
              "#bd3786"
             ],
             [
              0.5555555555555556,
              "#d8576b"
             ],
             [
              0.6666666666666666,
              "#ed7953"
             ],
             [
              0.7777777777777778,
              "#fb9f3a"
             ],
             [
              0.8888888888888888,
              "#fdca26"
             ],
             [
              1,
              "#f0f921"
             ]
            ],
            "type": "histogram2dcontour"
           }
          ],
          "mesh3d": [
           {
            "colorbar": {
             "outlinewidth": 0,
             "ticks": ""
            },
            "type": "mesh3d"
           }
          ],
          "parcoords": [
           {
            "line": {
             "colorbar": {
              "outlinewidth": 0,
              "ticks": ""
             }
            },
            "type": "parcoords"
           }
          ],
          "pie": [
           {
            "automargin": true,
            "type": "pie"
           }
          ],
          "scatter": [
           {
            "marker": {
             "colorbar": {
              "outlinewidth": 0,
              "ticks": ""
             }
            },
            "type": "scatter"
           }
          ],
          "scatter3d": [
           {
            "line": {
             "colorbar": {
              "outlinewidth": 0,
              "ticks": ""
             }
            },
            "marker": {
             "colorbar": {
              "outlinewidth": 0,
              "ticks": ""
             }
            },
            "type": "scatter3d"
           }
          ],
          "scattercarpet": [
           {
            "marker": {
             "colorbar": {
              "outlinewidth": 0,
              "ticks": ""
             }
            },
            "type": "scattercarpet"
           }
          ],
          "scattergeo": [
           {
            "marker": {
             "colorbar": {
              "outlinewidth": 0,
              "ticks": ""
             }
            },
            "type": "scattergeo"
           }
          ],
          "scattergl": [
           {
            "marker": {
             "colorbar": {
              "outlinewidth": 0,
              "ticks": ""
             }
            },
            "type": "scattergl"
           }
          ],
          "scattermapbox": [
           {
            "marker": {
             "colorbar": {
              "outlinewidth": 0,
              "ticks": ""
             }
            },
            "type": "scattermapbox"
           }
          ],
          "scatterpolar": [
           {
            "marker": {
             "colorbar": {
              "outlinewidth": 0,
              "ticks": ""
             }
            },
            "type": "scatterpolar"
           }
          ],
          "scatterpolargl": [
           {
            "marker": {
             "colorbar": {
              "outlinewidth": 0,
              "ticks": ""
             }
            },
            "type": "scatterpolargl"
           }
          ],
          "scatterternary": [
           {
            "marker": {
             "colorbar": {
              "outlinewidth": 0,
              "ticks": ""
             }
            },
            "type": "scatterternary"
           }
          ],
          "surface": [
           {
            "colorbar": {
             "outlinewidth": 0,
             "ticks": ""
            },
            "colorscale": [
             [
              0,
              "#0d0887"
             ],
             [
              0.1111111111111111,
              "#46039f"
             ],
             [
              0.2222222222222222,
              "#7201a8"
             ],
             [
              0.3333333333333333,
              "#9c179e"
             ],
             [
              0.4444444444444444,
              "#bd3786"
             ],
             [
              0.5555555555555556,
              "#d8576b"
             ],
             [
              0.6666666666666666,
              "#ed7953"
             ],
             [
              0.7777777777777778,
              "#fb9f3a"
             ],
             [
              0.8888888888888888,
              "#fdca26"
             ],
             [
              1,
              "#f0f921"
             ]
            ],
            "type": "surface"
           }
          ],
          "table": [
           {
            "cells": {
             "fill": {
              "color": "#EBF0F8"
             },
             "line": {
              "color": "white"
             }
            },
            "header": {
             "fill": {
              "color": "#C8D4E3"
             },
             "line": {
              "color": "white"
             }
            },
            "type": "table"
           }
          ]
         },
         "layout": {
          "annotationdefaults": {
           "arrowcolor": "#2a3f5f",
           "arrowhead": 0,
           "arrowwidth": 1
          },
          "autotypenumbers": "strict",
          "coloraxis": {
           "colorbar": {
            "outlinewidth": 0,
            "ticks": ""
           }
          },
          "colorscale": {
           "diverging": [
            [
             0,
             "#8e0152"
            ],
            [
             0.1,
             "#c51b7d"
            ],
            [
             0.2,
             "#de77ae"
            ],
            [
             0.3,
             "#f1b6da"
            ],
            [
             0.4,
             "#fde0ef"
            ],
            [
             0.5,
             "#f7f7f7"
            ],
            [
             0.6,
             "#e6f5d0"
            ],
            [
             0.7,
             "#b8e186"
            ],
            [
             0.8,
             "#7fbc41"
            ],
            [
             0.9,
             "#4d9221"
            ],
            [
             1,
             "#276419"
            ]
           ],
           "sequential": [
            [
             0,
             "#0d0887"
            ],
            [
             0.1111111111111111,
             "#46039f"
            ],
            [
             0.2222222222222222,
             "#7201a8"
            ],
            [
             0.3333333333333333,
             "#9c179e"
            ],
            [
             0.4444444444444444,
             "#bd3786"
            ],
            [
             0.5555555555555556,
             "#d8576b"
            ],
            [
             0.6666666666666666,
             "#ed7953"
            ],
            [
             0.7777777777777778,
             "#fb9f3a"
            ],
            [
             0.8888888888888888,
             "#fdca26"
            ],
            [
             1,
             "#f0f921"
            ]
           ],
           "sequentialminus": [
            [
             0,
             "#0d0887"
            ],
            [
             0.1111111111111111,
             "#46039f"
            ],
            [
             0.2222222222222222,
             "#7201a8"
            ],
            [
             0.3333333333333333,
             "#9c179e"
            ],
            [
             0.4444444444444444,
             "#bd3786"
            ],
            [
             0.5555555555555556,
             "#d8576b"
            ],
            [
             0.6666666666666666,
             "#ed7953"
            ],
            [
             0.7777777777777778,
             "#fb9f3a"
            ],
            [
             0.8888888888888888,
             "#fdca26"
            ],
            [
             1,
             "#f0f921"
            ]
           ]
          },
          "colorway": [
           "#636efa",
           "#EF553B",
           "#00cc96",
           "#ab63fa",
           "#FFA15A",
           "#19d3f3",
           "#FF6692",
           "#B6E880",
           "#FF97FF",
           "#FECB52"
          ],
          "font": {
           "color": "#2a3f5f"
          },
          "geo": {
           "bgcolor": "white",
           "lakecolor": "white",
           "landcolor": "#E5ECF6",
           "showlakes": true,
           "showland": true,
           "subunitcolor": "white"
          },
          "hoverlabel": {
           "align": "left"
          },
          "hovermode": "closest",
          "mapbox": {
           "style": "light"
          },
          "paper_bgcolor": "white",
          "plot_bgcolor": "#E5ECF6",
          "polar": {
           "angularaxis": {
            "gridcolor": "white",
            "linecolor": "white",
            "ticks": ""
           },
           "bgcolor": "#E5ECF6",
           "radialaxis": {
            "gridcolor": "white",
            "linecolor": "white",
            "ticks": ""
           }
          },
          "scene": {
           "xaxis": {
            "backgroundcolor": "#E5ECF6",
            "gridcolor": "white",
            "gridwidth": 2,
            "linecolor": "white",
            "showbackground": true,
            "ticks": "",
            "zerolinecolor": "white"
           },
           "yaxis": {
            "backgroundcolor": "#E5ECF6",
            "gridcolor": "white",
            "gridwidth": 2,
            "linecolor": "white",
            "showbackground": true,
            "ticks": "",
            "zerolinecolor": "white"
           },
           "zaxis": {
            "backgroundcolor": "#E5ECF6",
            "gridcolor": "white",
            "gridwidth": 2,
            "linecolor": "white",
            "showbackground": true,
            "ticks": "",
            "zerolinecolor": "white"
           }
          },
          "shapedefaults": {
           "line": {
            "color": "#2a3f5f"
           }
          },
          "ternary": {
           "aaxis": {
            "gridcolor": "white",
            "linecolor": "white",
            "ticks": ""
           },
           "baxis": {
            "gridcolor": "white",
            "linecolor": "white",
            "ticks": ""
           },
           "bgcolor": "#E5ECF6",
           "caxis": {
            "gridcolor": "white",
            "linecolor": "white",
            "ticks": ""
           }
          },
          "title": {
           "x": 0.05
          },
          "xaxis": {
           "automargin": true,
           "gridcolor": "white",
           "linecolor": "white",
           "ticks": "",
           "title": {
            "standoff": 15
           },
           "zerolinecolor": "white",
           "zerolinewidth": 2
          },
          "yaxis": {
           "automargin": true,
           "gridcolor": "white",
           "linecolor": "white",
           "ticks": "",
           "title": {
            "standoff": 15
           },
           "zerolinecolor": "white",
           "zerolinewidth": 2
          }
         }
        },
        "title": {
         "font": {
          "color": "darkred",
          "family": "Arial",
          "size": 20
         },
         "text": "Number of Doors",
         "x": 0.45,
         "y": 0.875
        },
        "width": 800,
        "xaxis": {
         "autorange": true,
         "range": [
          -0.5,
          3.5
         ],
         "showticklabels": true,
         "tickfont": {
          "color": "black",
          "family": "Arial",
          "size": 16
         },
         "tickmode": "array",
         "ticktext": [
          "Unacceptable",
          "Acceptable",
          "Good",
          "Very Good"
         ],
         "tickvals": [
          "unacc",
          "acc",
          "good",
          "vgood"
         ],
         "title": {
          "text": "Condition"
         },
         "type": "category"
        },
        "yaxis": {
         "autorange": true,
         "range": [
          0,
          343.1578947368421
         ],
         "tickfont": {
          "color": "black",
          "family": "Arial",
          "size": 16
         },
         "title": {
          "text": "Number of Cars"
         }
        }
       }
      },
      "image/png": "[encoded data removed]",
      "text/html": [
       "<div>                            <div id=\"e05a7945-8f30-4511-afd5-83c54d62e285\" class=\"plotly-graph-div\" style=\"height:550px; width:800px;\"></div>            <script type=\"text/javascript\">                require([\"plotly\"], function(Plotly) {                    window.PLOTLYENV=window.PLOTLYENV || {};                                    if (document.getElementById(\"e05a7945-8f30-4511-afd5-83c54d62e285\")) {                    Plotly.newPlot(                        \"e05a7945-8f30-4511-afd5-83c54d62e285\",                        [{\"marker\":{\"color\":\"#fb9f3a\"},\"name\":\"2 Doors\",\"type\":\"histogram\",\"x\":[\"unacc\",\"unacc\",\"unacc\",\"unacc\",\"unacc\",\"unacc\",\"unacc\",\"unacc\",\"unacc\",\"unacc\",\"unacc\",\"unacc\",\"unacc\",\"unacc\",\"unacc\",\"unacc\",\"unacc\",\"unacc\",\"unacc\",\"unacc\",\"unacc\",\"unacc\",\"unacc\",\"unacc\",\"unacc\",\"unacc\",\"unacc\",\"unacc\",\"unacc\",\"unacc\",\"unacc\",\"unacc\",\"unacc\",\"unacc\",\"unacc\",\"unacc\",\"unacc\",\"unacc\",\"unacc\",\"unacc\",\"unacc\",\"unacc\",\"unacc\",\"unacc\",\"unacc\",\"unacc\",\"unacc\",\"unacc\",\"unacc\",\"unacc\",\"unacc\",\"unacc\",\"unacc\",\"unacc\",\"unacc\",\"unacc\",\"unacc\",\"unacc\",\"unacc\",\"unacc\",\"unacc\",\"unacc\",\"unacc\",\"unacc\",\"unacc\",\"acc\",\"unacc\",\"unacc\",\"acc\",\"unacc\",\"acc\",\"acc\",\"unacc\",\"unacc\",\"unacc\",\"unacc\",\"unacc\",\"acc\",\"unacc\",\"acc\",\"acc\",\"unacc\",\"unacc\",\"unacc\",\"unacc\",\"unacc\",\"unacc\",\"unacc\",\"unacc\",\"unacc\",\"unacc\",\"unacc\",\"acc\",\"unacc\",\"unacc\",\"acc\",\"unacc\",\"acc\",\"acc\",\"unacc\",\"unacc\",\"unacc\",\"unacc\",\"unacc\",\"acc\",\"unacc\",\"acc\",\"acc\",\"unacc\",\"unacc\",\"unacc\",\"unacc\",\"unacc\",\"unacc\",\"unacc\",\"unacc\",\"unacc\",\"unacc\",\"unacc\",\"unacc\",\"unacc\",\"unacc\",\"unacc\",\"unacc\",\"unacc\",\"unacc\",\"unacc\",\"unacc\",\"unacc\",\"unacc\",\"unacc\",\"unacc\",\"unacc\",\"unacc\",\"unacc\",\"unacc\",\"unacc\",\"unacc\",\"unacc\",\"unacc\",\"unacc\",\"unacc\",\"unacc\",\"unacc\",\"unacc\",\"unacc\",\"acc\",\"unacc\",\"unacc\",\"acc\",\"unacc\",\"acc\",\"acc\",\"unacc\",\"unacc\",\"unacc\",\"unacc\",\"unacc\",\"acc\",\"unacc\",\"acc\",\"acc\",\"unacc\",\"unacc\",\"unacc\",\"unacc\",\"unacc\",\"unacc\",\"unacc\",\"unacc\",\"unacc\",\"unacc\",\"unacc\",\"acc\",\"unacc\",\"unacc\",\"acc\",\"unacc\",\"acc\",\"acc\",\"unacc\",\"unacc\",\"unacc\",\"unacc\",\"unacc\",\"acc\",\"unacc\",\"acc\",\"acc\",\"unacc\",\"unacc\",\"unacc\",\"unacc\",\"unacc\",\"unacc\",\"unacc\",\"unacc\",\"unacc\",\"unacc\",\"unacc\",\"acc\",\"unacc\",\"unacc\",\"acc\",\"unacc\",\"acc\",\"acc\",\"unacc\",\"unacc\",\"unacc\",\"unacc\",\"unacc\",\"acc\",\"unacc\",\"acc\",\"acc\",\"unacc\",\"unacc\",\"unacc\",\"unacc\",\"unacc\",\"unacc\",\"unacc\",\"unacc\",\"unacc\",\"unacc\",\"unacc\",\"acc\",\"unacc\",\"unacc\",\"acc\",\"unacc\",\"acc\",\"acc\",\"unacc\",\"unacc\",\"unacc\",\"unacc\",\"unacc\",\"acc\",\"unacc\",\"acc\",\"acc\",\"unacc\",\"unacc\",\"unacc\",\"unacc\",\"unacc\",\"unacc\",\"unacc\",\"unacc\",\"unacc\",\"unacc\",\"unacc\",\"acc\",\"unacc\",\"unacc\",\"acc\",\"unacc\",\"acc\",\"acc\",\"unacc\",\"unacc\",\"unacc\",\"unacc\",\"unacc\",\"acc\",\"unacc\",\"acc\",\"acc\",\"unacc\",\"unacc\",\"unacc\",\"unacc\",\"unacc\",\"unacc\",\"unacc\",\"unacc\",\"unacc\",\"unacc\",\"acc\",\"acc\",\"unacc\",\"acc\",\"acc\",\"unacc\",\"acc\",\"vgood\",\"unacc\",\"unacc\",\"unacc\",\"unacc\",\"acc\",\"acc\",\"unacc\",\"acc\",\"vgood\",\"unacc\",\"unacc\",\"unacc\",\"unacc\",\"unacc\",\"unacc\",\"unacc\",\"unacc\",\"unacc\",\"unacc\",\"acc\",\"good\",\"unacc\",\"acc\",\"good\",\"unacc\",\"good\",\"vgood\",\"unacc\",\"unacc\",\"unacc\",\"unacc\",\"acc\",\"good\",\"unacc\",\"good\",\"vgood\",\"unacc\",\"unacc\",\"unacc\",\"unacc\",\"unacc\",\"unacc\",\"unacc\",\"unacc\",\"unacc\",\"unacc\",\"unacc\",\"acc\",\"unacc\",\"unacc\",\"acc\",\"unacc\",\"acc\",\"acc\",\"unacc\",\"unacc\",\"unacc\",\"unacc\",\"unacc\",\"acc\",\"unacc\",\"acc\",\"acc\",\"unacc\",\"unacc\",\"unacc\",\"unacc\",\"unacc\",\"unacc\",\"unacc\",\"unacc\",\"unacc\",\"unacc\",\"acc\",\"acc\",\"unacc\",\"acc\",\"acc\",\"unacc\",\"acc\",\"vgood\",\"unacc\",\"unacc\",\"unacc\",\"unacc\",\"acc\",\"acc\",\"unacc\",\"acc\",\"vgood\",\"unacc\",\"unacc\",\"unacc\",\"unacc\",\"unacc\",\"unacc\",\"unacc\",\"unacc\",\"unacc\",\"unacc\",\"acc\",\"good\",\"unacc\",\"acc\",\"good\",\"unacc\",\"good\",\"vgood\",\"unacc\",\"unacc\",\"unacc\",\"unacc\",\"acc\",\"good\",\"unacc\",\"good\",\"vgood\",\"unacc\",\"unacc\",\"unacc\",\"unacc\",\"unacc\",\"unacc\",\"unacc\",\"unacc\",\"unacc\",\"unacc\",\"acc\",\"good\",\"unacc\",\"acc\",\"good\",\"unacc\",\"good\",\"vgood\",\"unacc\",\"unacc\",\"unacc\",\"unacc\",\"acc\",\"good\",\"unacc\",\"good\",\"vgood\"]},{\"marker\":{\"color\":\"#d8576b\"},\"name\":\"3 Doors\",\"type\":\"histogram\",\"x\":[\"unacc\",\"unacc\",\"unacc\",\"unacc\",\"unacc\",\"unacc\",\"unacc\",\"unacc\",\"unacc\",\"unacc\",\"unacc\",\"unacc\",\"unacc\",\"unacc\",\"unacc\",\"unacc\",\"unacc\",\"unacc\",\"unacc\",\"unacc\",\"unacc\",\"unacc\",\"unacc\",\"unacc\",\"unacc\",\"unacc\",\"unacc\",\"unacc\",\"unacc\",\"unacc\",\"unacc\",\"unacc\",\"unacc\",\"unacc\",\"unacc\",\"unacc\",\"unacc\",\"unacc\",\"unacc\",\"unacc\",\"unacc\",\"unacc\",\"unacc\",\"unacc\",\"unacc\",\"unacc\",\"unacc\",\"unacc\",\"unacc\",\"unacc\",\"unacc\",\"unacc\",\"unacc\",\"unacc\",\"unacc\",\"unacc\",\"unacc\",\"unacc\",\"unacc\",\"unacc\",\"unacc\",\"unacc\",\"unacc\",\"unacc\",\"unacc\",\"acc\",\"unacc\",\"unacc\",\"acc\",\"unacc\",\"acc\",\"acc\",\"unacc\",\"unacc\",\"acc\",\"unacc\",\"acc\",\"acc\",\"unacc\",\"acc\",\"acc\",\"unacc\",\"unacc\",\"unacc\",\"unacc\",\"unacc\",\"unacc\",\"unacc\",\"unacc\",\"unacc\",\"unacc\",\"unacc\",\"acc\",\"unacc\",\"unacc\",\"acc\",\"unacc\",\"acc\",\"acc\",\"unacc\",\"unacc\",\"acc\",\"unacc\",\"acc\",\"acc\",\"unacc\",\"acc\",\"acc\",\"unacc\",\"unacc\",\"unacc\",\"unacc\",\"unacc\",\"unacc\",\"unacc\",\"unacc\",\"unacc\",\"unacc\",\"unacc\",\"unacc\",\"unacc\",\"unacc\",\"unacc\",\"unacc\",\"unacc\",\"unacc\",\"unacc\",\"unacc\",\"unacc\",\"unacc\",\"unacc\",\"unacc\",\"unacc\",\"unacc\",\"unacc\",\"unacc\",\"unacc\",\"unacc\",\"unacc\",\"unacc\",\"unacc\",\"unacc\",\"unacc\",\"unacc\",\"unacc\",\"unacc\",\"acc\",\"unacc\",\"unacc\",\"acc\",\"unacc\",\"acc\",\"acc\",\"unacc\",\"unacc\",\"acc\",\"unacc\",\"acc\",\"acc\",\"unacc\",\"acc\",\"acc\",\"unacc\",\"unacc\",\"unacc\",\"unacc\",\"unacc\",\"unacc\",\"unacc\",\"unacc\",\"unacc\",\"unacc\",\"unacc\",\"acc\",\"unacc\",\"unacc\",\"acc\",\"unacc\",\"acc\",\"acc\",\"unacc\",\"unacc\",\"acc\",\"unacc\",\"acc\",\"acc\",\"unacc\",\"acc\",\"acc\",\"unacc\",\"unacc\",\"unacc\",\"unacc\",\"unacc\",\"unacc\",\"unacc\",\"unacc\",\"unacc\",\"unacc\",\"unacc\",\"acc\",\"unacc\",\"unacc\",\"acc\",\"unacc\",\"acc\",\"acc\",\"unacc\",\"unacc\",\"acc\",\"unacc\",\"acc\",\"acc\",\"unacc\",\"acc\",\"acc\",\"unacc\",\"unacc\",\"unacc\",\"unacc\",\"unacc\",\"unacc\",\"unacc\",\"unacc\",\"unacc\",\"unacc\",\"unacc\",\"acc\",\"unacc\",\"unacc\",\"acc\",\"unacc\",\"acc\",\"acc\",\"unacc\",\"unacc\",\"acc\",\"unacc\",\"acc\",\"acc\",\"unacc\",\"acc\",\"acc\",\"unacc\",\"unacc\",\"unacc\",\"unacc\",\"unacc\",\"unacc\",\"unacc\",\"unacc\",\"unacc\",\"unacc\",\"unacc\",\"acc\",\"unacc\",\"unacc\",\"acc\",\"unacc\",\"acc\",\"acc\",\"unacc\",\"unacc\",\"acc\",\"unacc\",\"acc\",\"acc\",\"unacc\",\"acc\",\"acc\",\"unacc\",\"unacc\",\"unacc\",\"unacc\",\"unacc\",\"unacc\",\"unacc\",\"unacc\",\"unacc\",\"unacc\",\"acc\",\"acc\",\"unacc\",\"acc\",\"acc\",\"unacc\",\"acc\",\"vgood\",\"unacc\",\"acc\",\"acc\",\"unacc\",\"acc\",\"vgood\",\"unacc\",\"acc\",\"vgood\",\"unacc\",\"unacc\",\"unacc\",\"unacc\",\"unacc\",\"unacc\",\"unacc\",\"unacc\",\"unacc\",\"unacc\",\"acc\",\"good\",\"unacc\",\"acc\",\"good\",\"unacc\",\"good\",\"vgood\",\"unacc\",\"acc\",\"good\",\"unacc\",\"good\",\"vgood\",\"unacc\",\"good\",\"vgood\",\"unacc\",\"unacc\",\"unacc\",\"unacc\",\"unacc\",\"unacc\",\"unacc\",\"unacc\",\"unacc\",\"unacc\",\"unacc\",\"acc\",\"unacc\",\"unacc\",\"acc\",\"unacc\",\"acc\",\"acc\",\"unacc\",\"unacc\",\"acc\",\"unacc\",\"acc\",\"acc\",\"unacc\",\"acc\",\"acc\",\"unacc\",\"unacc\",\"unacc\",\"unacc\",\"unacc\",\"unacc\",\"unacc\",\"unacc\",\"unacc\",\"unacc\",\"acc\",\"acc\",\"unacc\",\"acc\",\"acc\",\"unacc\",\"acc\",\"vgood\",\"unacc\",\"acc\",\"acc\",\"unacc\",\"acc\",\"vgood\",\"unacc\",\"acc\",\"vgood\",\"unacc\",\"unacc\",\"unacc\",\"unacc\",\"unacc\",\"unacc\",\"unacc\",\"unacc\",\"unacc\",\"unacc\",\"acc\",\"good\",\"unacc\",\"acc\",\"good\",\"unacc\",\"good\",\"vgood\",\"unacc\",\"acc\",\"good\",\"unacc\",\"good\",\"vgood\",\"unacc\",\"good\",\"vgood\",\"unacc\",\"unacc\",\"unacc\",\"unacc\",\"unacc\",\"unacc\",\"unacc\",\"unacc\",\"unacc\",\"unacc\",\"acc\",\"good\",\"unacc\",\"acc\",\"good\",\"unacc\",\"good\",\"vgood\",\"unacc\",\"acc\",\"good\",\"unacc\",\"good\",\"vgood\",\"unacc\",\"good\",\"vgood\"]},{\"marker\":{\"color\":\"#9c179e\"},\"name\":\"4 Doors\",\"type\":\"histogram\",\"x\":[\"unacc\",\"unacc\",\"unacc\",\"unacc\",\"unacc\",\"unacc\",\"unacc\",\"unacc\",\"unacc\",\"unacc\",\"unacc\",\"unacc\",\"unacc\",\"unacc\",\"unacc\",\"unacc\",\"unacc\",\"unacc\",\"unacc\",\"unacc\",\"unacc\",\"unacc\",\"unacc\",\"unacc\",\"unacc\",\"unacc\",\"unacc\",\"unacc\",\"unacc\",\"unacc\",\"unacc\",\"unacc\",\"unacc\",\"unacc\",\"unacc\",\"unacc\",\"unacc\",\"unacc\",\"unacc\",\"unacc\",\"unacc\",\"unacc\",\"unacc\",\"unacc\",\"unacc\",\"unacc\",\"unacc\",\"unacc\",\"unacc\",\"unacc\",\"unacc\",\"unacc\",\"unacc\",\"unacc\",\"unacc\",\"unacc\",\"unacc\",\"unacc\",\"unacc\",\"unacc\",\"unacc\",\"unacc\",\"unacc\",\"unacc\",\"unacc\",\"acc\",\"unacc\",\"acc\",\"acc\",\"unacc\",\"acc\",\"acc\",\"unacc\",\"unacc\",\"acc\",\"unacc\",\"acc\",\"acc\",\"unacc\",\"acc\",\"acc\",\"unacc\",\"unacc\",\"unacc\",\"unacc\",\"unacc\",\"unacc\",\"unacc\",\"unacc\",\"unacc\",\"unacc\",\"unacc\",\"acc\",\"unacc\",\"acc\",\"acc\",\"unacc\",\"acc\",\"acc\",\"unacc\",\"unacc\",\"acc\",\"unacc\",\"acc\",\"acc\",\"unacc\",\"acc\",\"acc\",\"unacc\",\"unacc\",\"unacc\",\"unacc\",\"unacc\",\"unacc\",\"unacc\",\"unacc\",\"unacc\",\"unacc\",\"unacc\",\"unacc\",\"unacc\",\"unacc\",\"unacc\",\"unacc\",\"unacc\",\"unacc\",\"unacc\",\"unacc\",\"unacc\",\"unacc\",\"unacc\",\"unacc\",\"unacc\",\"unacc\",\"unacc\",\"unacc\",\"unacc\",\"unacc\",\"unacc\",\"unacc\",\"unacc\",\"unacc\",\"unacc\",\"unacc\",\"unacc\",\"unacc\",\"acc\",\"unacc\",\"acc\",\"acc\",\"unacc\",\"acc\",\"acc\",\"unacc\",\"unacc\",\"acc\",\"unacc\",\"acc\",\"acc\",\"unacc\",\"acc\",\"acc\",\"unacc\",\"unacc\",\"unacc\",\"unacc\",\"unacc\",\"unacc\",\"unacc\",\"unacc\",\"unacc\",\"unacc\",\"unacc\",\"acc\",\"unacc\",\"acc\",\"acc\",\"unacc\",\"acc\",\"acc\",\"unacc\",\"unacc\",\"acc\",\"unacc\",\"acc\",\"acc\",\"unacc\",\"acc\",\"acc\",\"unacc\",\"unacc\",\"unacc\",\"unacc\",\"unacc\",\"unacc\",\"unacc\",\"unacc\",\"unacc\",\"unacc\",\"unacc\",\"acc\",\"unacc\",\"acc\",\"acc\",\"unacc\",\"acc\",\"acc\",\"unacc\",\"unacc\",\"acc\",\"unacc\",\"acc\",\"acc\",\"unacc\",\"acc\",\"acc\",\"unacc\",\"unacc\",\"unacc\",\"unacc\",\"unacc\",\"unacc\",\"unacc\",\"unacc\",\"unacc\",\"unacc\",\"unacc\",\"acc\",\"unacc\",\"acc\",\"acc\",\"unacc\",\"acc\",\"acc\",\"unacc\",\"unacc\",\"acc\",\"unacc\",\"acc\",\"acc\",\"unacc\",\"acc\",\"acc\",\"unacc\",\"unacc\",\"unacc\",\"unacc\",\"unacc\",\"unacc\",\"unacc\",\"unacc\",\"unacc\",\"unacc\",\"unacc\",\"acc\",\"unacc\",\"acc\",\"acc\",\"unacc\",\"acc\",\"acc\",\"unacc\",\"unacc\",\"acc\",\"unacc\",\"acc\",\"acc\",\"unacc\",\"acc\",\"acc\",\"unacc\",\"unacc\",\"unacc\",\"unacc\",\"unacc\",\"unacc\",\"unacc\",\"unacc\",\"unacc\",\"unacc\",\"acc\",\"acc\",\"unacc\",\"acc\",\"vgood\",\"unacc\",\"acc\",\"vgood\",\"unacc\",\"acc\",\"acc\",\"unacc\",\"acc\",\"vgood\",\"unacc\",\"acc\",\"vgood\",\"unacc\",\"unacc\",\"unacc\",\"unacc\",\"unacc\",\"unacc\",\"unacc\",\"unacc\",\"unacc\",\"unacc\",\"acc\",\"good\",\"unacc\",\"good\",\"vgood\",\"unacc\",\"good\",\"vgood\",\"unacc\",\"acc\",\"good\",\"unacc\",\"good\",\"vgood\",\"unacc\",\"good\",\"vgood\",\"unacc\",\"unacc\",\"unacc\",\"unacc\",\"unacc\",\"unacc\",\"unacc\",\"unacc\",\"unacc\",\"unacc\",\"unacc\",\"acc\",\"unacc\",\"acc\",\"acc\",\"unacc\",\"acc\",\"acc\",\"unacc\",\"unacc\",\"acc\",\"unacc\",\"acc\",\"acc\",\"unacc\",\"acc\",\"acc\",\"unacc\",\"unacc\",\"unacc\",\"unacc\",\"unacc\",\"unacc\",\"unacc\",\"unacc\",\"unacc\",\"unacc\",\"acc\",\"acc\",\"unacc\",\"acc\",\"vgood\",\"unacc\",\"acc\",\"vgood\",\"unacc\",\"acc\",\"acc\",\"unacc\",\"acc\",\"vgood\",\"unacc\",\"acc\",\"vgood\",\"unacc\",\"unacc\",\"unacc\",\"unacc\",\"unacc\",\"unacc\",\"unacc\",\"unacc\",\"unacc\",\"unacc\",\"acc\",\"good\",\"unacc\",\"good\",\"vgood\",\"unacc\",\"good\",\"vgood\",\"unacc\",\"acc\",\"good\",\"unacc\",\"good\",\"vgood\",\"unacc\",\"good\",\"vgood\",\"unacc\",\"unacc\",\"unacc\",\"unacc\",\"unacc\",\"unacc\",\"unacc\",\"unacc\",\"unacc\",\"unacc\",\"acc\",\"good\",\"unacc\",\"good\",\"vgood\",\"unacc\",\"good\",\"vgood\",\"unacc\",\"acc\",\"good\",\"unacc\",\"good\",\"vgood\",\"unacc\",\"good\",\"vgood\"]},{\"marker\":{\"color\":\"#7201a8\"},\"name\":\"5 or more Doors\",\"type\":\"histogram\",\"x\":[\"unacc\",\"unacc\",\"unacc\",\"unacc\",\"unacc\",\"unacc\",\"unacc\",\"unacc\",\"unacc\",\"unacc\",\"unacc\",\"unacc\",\"unacc\",\"unacc\",\"unacc\",\"unacc\",\"unacc\",\"unacc\",\"unacc\",\"unacc\",\"unacc\",\"unacc\",\"unacc\",\"unacc\",\"unacc\",\"unacc\",\"unacc\",\"unacc\",\"unacc\",\"unacc\",\"unacc\",\"unacc\",\"unacc\",\"unacc\",\"unacc\",\"unacc\",\"unacc\",\"unacc\",\"unacc\",\"unacc\",\"unacc\",\"unacc\",\"unacc\",\"unacc\",\"unacc\",\"unacc\",\"unacc\",\"unacc\",\"unacc\",\"unacc\",\"unacc\",\"unacc\",\"unacc\",\"unacc\",\"unacc\",\"unacc\",\"unacc\",\"unacc\",\"unacc\",\"unacc\",\"unacc\",\"unacc\",\"unacc\",\"unacc\",\"unacc\",\"acc\",\"unacc\",\"acc\",\"acc\",\"unacc\",\"acc\",\"acc\",\"unacc\",\"unacc\",\"acc\",\"unacc\",\"acc\",\"acc\",\"unacc\",\"acc\",\"acc\",\"unacc\",\"unacc\",\"unacc\",\"unacc\",\"unacc\",\"unacc\",\"unacc\",\"unacc\",\"unacc\",\"unacc\",\"unacc\",\"acc\",\"unacc\",\"acc\",\"acc\",\"unacc\",\"acc\",\"acc\",\"unacc\",\"unacc\",\"acc\",\"unacc\",\"acc\",\"acc\",\"unacc\",\"acc\",\"acc\",\"unacc\",\"unacc\",\"unacc\",\"unacc\",\"unacc\",\"unacc\",\"unacc\",\"unacc\",\"unacc\",\"unacc\",\"unacc\",\"unacc\",\"unacc\",\"unacc\",\"unacc\",\"unacc\",\"unacc\",\"unacc\",\"unacc\",\"unacc\",\"unacc\",\"unacc\",\"unacc\",\"unacc\",\"unacc\",\"unacc\",\"unacc\",\"unacc\",\"unacc\",\"unacc\",\"unacc\",\"unacc\",\"unacc\",\"unacc\",\"unacc\",\"unacc\",\"unacc\",\"unacc\",\"acc\",\"unacc\",\"acc\",\"acc\",\"unacc\",\"acc\",\"acc\",\"unacc\",\"unacc\",\"acc\",\"unacc\",\"acc\",\"acc\",\"unacc\",\"acc\",\"acc\",\"unacc\",\"unacc\",\"unacc\",\"unacc\",\"unacc\",\"unacc\",\"unacc\",\"unacc\",\"unacc\",\"unacc\",\"unacc\",\"acc\",\"unacc\",\"acc\",\"acc\",\"unacc\",\"acc\",\"acc\",\"unacc\",\"unacc\",\"acc\",\"unacc\",\"acc\",\"acc\",\"unacc\",\"acc\",\"acc\",\"unacc\",\"unacc\",\"unacc\",\"unacc\",\"unacc\",\"unacc\",\"unacc\",\"unacc\",\"unacc\",\"unacc\",\"unacc\",\"acc\",\"unacc\",\"acc\",\"acc\",\"unacc\",\"acc\",\"acc\",\"unacc\",\"unacc\",\"acc\",\"unacc\",\"acc\",\"acc\",\"unacc\",\"acc\",\"acc\",\"unacc\",\"unacc\",\"unacc\",\"unacc\",\"unacc\",\"unacc\",\"unacc\",\"unacc\",\"unacc\",\"unacc\",\"unacc\",\"acc\",\"unacc\",\"acc\",\"acc\",\"unacc\",\"acc\",\"acc\",\"unacc\",\"unacc\",\"acc\",\"unacc\",\"acc\",\"acc\",\"unacc\",\"acc\",\"acc\",\"unacc\",\"unacc\",\"unacc\",\"unacc\",\"unacc\",\"unacc\",\"unacc\",\"unacc\",\"unacc\",\"unacc\",\"unacc\",\"acc\",\"unacc\",\"acc\",\"acc\",\"unacc\",\"acc\",\"acc\",\"unacc\",\"unacc\",\"acc\",\"unacc\",\"acc\",\"acc\",\"unacc\",\"acc\",\"acc\",\"unacc\",\"unacc\",\"unacc\",\"unacc\",\"unacc\",\"unacc\",\"unacc\",\"unacc\",\"unacc\",\"unacc\",\"acc\",\"acc\",\"unacc\",\"acc\",\"vgood\",\"unacc\",\"acc\",\"vgood\",\"unacc\",\"acc\",\"acc\",\"unacc\",\"acc\",\"vgood\",\"unacc\",\"acc\",\"vgood\",\"unacc\",\"unacc\",\"unacc\",\"unacc\",\"unacc\",\"unacc\",\"unacc\",\"unacc\",\"unacc\",\"unacc\",\"acc\",\"good\",\"unacc\",\"good\",\"vgood\",\"unacc\",\"good\",\"vgood\",\"unacc\",\"acc\",\"good\",\"unacc\",\"good\",\"vgood\",\"unacc\",\"good\",\"vgood\",\"unacc\",\"unacc\",\"unacc\",\"unacc\",\"unacc\",\"unacc\",\"unacc\",\"unacc\",\"unacc\",\"unacc\",\"unacc\",\"acc\",\"unacc\",\"acc\",\"acc\",\"unacc\",\"acc\",\"acc\",\"unacc\",\"unacc\",\"acc\",\"unacc\",\"acc\",\"acc\",\"unacc\",\"acc\",\"acc\",\"unacc\",\"unacc\",\"unacc\",\"unacc\",\"unacc\",\"unacc\",\"unacc\",\"unacc\",\"unacc\",\"unacc\",\"acc\",\"acc\",\"unacc\",\"acc\",\"vgood\",\"unacc\",\"acc\",\"vgood\",\"unacc\",\"acc\",\"acc\",\"unacc\",\"acc\",\"vgood\",\"unacc\",\"acc\",\"vgood\",\"unacc\",\"unacc\",\"unacc\",\"unacc\",\"unacc\",\"unacc\",\"unacc\",\"unacc\",\"unacc\",\"unacc\",\"acc\",\"good\",\"unacc\",\"good\",\"vgood\",\"unacc\",\"good\",\"vgood\",\"unacc\",\"acc\",\"good\",\"unacc\",\"good\",\"vgood\",\"unacc\",\"good\",\"vgood\",\"unacc\",\"unacc\",\"unacc\",\"unacc\",\"unacc\",\"unacc\",\"unacc\",\"unacc\",\"unacc\",\"unacc\",\"acc\",\"good\",\"unacc\",\"good\",\"vgood\",\"unacc\",\"good\",\"vgood\",\"unacc\",\"acc\",\"good\",\"unacc\",\"good\",\"vgood\",\"unacc\",\"good\",\"vgood\"]}],                        {\"height\":550,\"legend\":{\"font\":{\"color\":\"black\",\"family\":\"Arial\",\"size\":16}},\"template\":{\"data\":{\"bar\":[{\"error_x\":{\"color\":\"#2a3f5f\"},\"error_y\":{\"color\":\"#2a3f5f\"},\"marker\":{\"line\":{\"color\":\"#E5ECF6\",\"width\":0.5},\"pattern\":{\"fillmode\":\"overlay\",\"size\":10,\"solidity\":0.2}},\"type\":\"bar\"}],\"barpolar\":[{\"marker\":{\"line\":{\"color\":\"#E5ECF6\",\"width\":0.5},\"pattern\":{\"fillmode\":\"overlay\",\"size\":10,\"solidity\":0.2}},\"type\":\"barpolar\"}],\"carpet\":[{\"aaxis\":{\"endlinecolor\":\"#2a3f5f\",\"gridcolor\":\"white\",\"linecolor\":\"white\",\"minorgridcolor\":\"white\",\"startlinecolor\":\"#2a3f5f\"},\"baxis\":{\"endlinecolor\":\"#2a3f5f\",\"gridcolor\":\"white\",\"linecolor\":\"white\",\"minorgridcolor\":\"white\",\"startlinecolor\":\"#2a3f5f\"},\"type\":\"carpet\"}],\"choropleth\":[{\"colorbar\":{\"outlinewidth\":0,\"ticks\":\"\"},\"type\":\"choropleth\"}],\"contour\":[{\"colorbar\":{\"outlinewidth\":0,\"ticks\":\"\"},\"colorscale\":[[0.0,\"#0d0887\"],[0.1111111111111111,\"#46039f\"],[0.2222222222222222,\"#7201a8\"],[0.3333333333333333,\"#9c179e\"],[0.4444444444444444,\"#bd3786\"],[0.5555555555555556,\"#d8576b\"],[0.6666666666666666,\"#ed7953\"],[0.7777777777777778,\"#fb9f3a\"],[0.8888888888888888,\"#fdca26\"],[1.0,\"#f0f921\"]],\"type\":\"contour\"}],\"contourcarpet\":[{\"colorbar\":{\"outlinewidth\":0,\"ticks\":\"\"},\"type\":\"contourcarpet\"}],\"heatmap\":[{\"colorbar\":{\"outlinewidth\":0,\"ticks\":\"\"},\"colorscale\":[[0.0,\"#0d0887\"],[0.1111111111111111,\"#46039f\"],[0.2222222222222222,\"#7201a8\"],[0.3333333333333333,\"#9c179e\"],[0.4444444444444444,\"#bd3786\"],[0.5555555555555556,\"#d8576b\"],[0.6666666666666666,\"#ed7953\"],[0.7777777777777778,\"#fb9f3a\"],[0.8888888888888888,\"#fdca26\"],[1.0,\"#f0f921\"]],\"type\":\"heatmap\"}],\"heatmapgl\":[{\"colorbar\":{\"outlinewidth\":0,\"ticks\":\"\"},\"colorscale\":[[0.0,\"#0d0887\"],[0.1111111111111111,\"#46039f\"],[0.2222222222222222,\"#7201a8\"],[0.3333333333333333,\"#9c179e\"],[0.4444444444444444,\"#bd3786\"],[0.5555555555555556,\"#d8576b\"],[0.6666666666666666,\"#ed7953\"],[0.7777777777777778,\"#fb9f3a\"],[0.8888888888888888,\"#fdca26\"],[1.0,\"#f0f921\"]],\"type\":\"heatmapgl\"}],\"histogram\":[{\"marker\":{\"pattern\":{\"fillmode\":\"overlay\",\"size\":10,\"solidity\":0.2}},\"type\":\"histogram\"}],\"histogram2d\":[{\"colorbar\":{\"outlinewidth\":0,\"ticks\":\"\"},\"colorscale\":[[0.0,\"#0d0887\"],[0.1111111111111111,\"#46039f\"],[0.2222222222222222,\"#7201a8\"],[0.3333333333333333,\"#9c179e\"],[0.4444444444444444,\"#bd3786\"],[0.5555555555555556,\"#d8576b\"],[0.6666666666666666,\"#ed7953\"],[0.7777777777777778,\"#fb9f3a\"],[0.8888888888888888,\"#fdca26\"],[1.0,\"#f0f921\"]],\"type\":\"histogram2d\"}],\"histogram2dcontour\":[{\"colorbar\":{\"outlinewidth\":0,\"ticks\":\"\"},\"colorscale\":[[0.0,\"#0d0887\"],[0.1111111111111111,\"#46039f\"],[0.2222222222222222,\"#7201a8\"],[0.3333333333333333,\"#9c179e\"],[0.4444444444444444,\"#bd3786\"],[0.5555555555555556,\"#d8576b\"],[0.6666666666666666,\"#ed7953\"],[0.7777777777777778,\"#fb9f3a\"],[0.8888888888888888,\"#fdca26\"],[1.0,\"#f0f921\"]],\"type\":\"histogram2dcontour\"}],\"mesh3d\":[{\"colorbar\":{\"outlinewidth\":0,\"ticks\":\"\"},\"type\":\"mesh3d\"}],\"parcoords\":[{\"line\":{\"colorbar\":{\"outlinewidth\":0,\"ticks\":\"\"}},\"type\":\"parcoords\"}],\"pie\":[{\"automargin\":true,\"type\":\"pie\"}],\"scatter\":[{\"marker\":{\"colorbar\":{\"outlinewidth\":0,\"ticks\":\"\"}},\"type\":\"scatter\"}],\"scatter3d\":[{\"line\":{\"colorbar\":{\"outlinewidth\":0,\"ticks\":\"\"}},\"marker\":{\"colorbar\":{\"outlinewidth\":0,\"ticks\":\"\"}},\"type\":\"scatter3d\"}],\"scattercarpet\":[{\"marker\":{\"colorbar\":{\"outlinewidth\":0,\"ticks\":\"\"}},\"type\":\"scattercarpet\"}],\"scattergeo\":[{\"marker\":{\"colorbar\":{\"outlinewidth\":0,\"ticks\":\"\"}},\"type\":\"scattergeo\"}],\"scattergl\":[{\"marker\":{\"colorbar\":{\"outlinewidth\":0,\"ticks\":\"\"}},\"type\":\"scattergl\"}],\"scattermapbox\":[{\"marker\":{\"colorbar\":{\"outlinewidth\":0,\"ticks\":\"\"}},\"type\":\"scattermapbox\"}],\"scatterpolar\":[{\"marker\":{\"colorbar\":{\"outlinewidth\":0,\"ticks\":\"\"}},\"type\":\"scatterpolar\"}],\"scatterpolargl\":[{\"marker\":{\"colorbar\":{\"outlinewidth\":0,\"ticks\":\"\"}},\"type\":\"scatterpolargl\"}],\"scatterternary\":[{\"marker\":{\"colorbar\":{\"outlinewidth\":0,\"ticks\":\"\"}},\"type\":\"scatterternary\"}],\"surface\":[{\"colorbar\":{\"outlinewidth\":0,\"ticks\":\"\"},\"colorscale\":[[0.0,\"#0d0887\"],[0.1111111111111111,\"#46039f\"],[0.2222222222222222,\"#7201a8\"],[0.3333333333333333,\"#9c179e\"],[0.4444444444444444,\"#bd3786\"],[0.5555555555555556,\"#d8576b\"],[0.6666666666666666,\"#ed7953\"],[0.7777777777777778,\"#fb9f3a\"],[0.8888888888888888,\"#fdca26\"],[1.0,\"#f0f921\"]],\"type\":\"surface\"}],\"table\":[{\"cells\":{\"fill\":{\"color\":\"#EBF0F8\"},\"line\":{\"color\":\"white\"}},\"header\":{\"fill\":{\"color\":\"#C8D4E3\"},\"line\":{\"color\":\"white\"}},\"type\":\"table\"}]},\"layout\":{\"annotationdefaults\":{\"arrowcolor\":\"#2a3f5f\",\"arrowhead\":0,\"arrowwidth\":1},\"autotypenumbers\":\"strict\",\"coloraxis\":{\"colorbar\":{\"outlinewidth\":0,\"ticks\":\"\"}},\"colorscale\":{\"diverging\":[[0,\"#8e0152\"],[0.1,\"#c51b7d\"],[0.2,\"#de77ae\"],[0.3,\"#f1b6da\"],[0.4,\"#fde0ef\"],[0.5,\"#f7f7f7\"],[0.6,\"#e6f5d0\"],[0.7,\"#b8e186\"],[0.8,\"#7fbc41\"],[0.9,\"#4d9221\"],[1,\"#276419\"]],\"sequential\":[[0.0,\"#0d0887\"],[0.1111111111111111,\"#46039f\"],[0.2222222222222222,\"#7201a8\"],[0.3333333333333333,\"#9c179e\"],[0.4444444444444444,\"#bd3786\"],[0.5555555555555556,\"#d8576b\"],[0.6666666666666666,\"#ed7953\"],[0.7777777777777778,\"#fb9f3a\"],[0.8888888888888888,\"#fdca26\"],[1.0,\"#f0f921\"]],\"sequentialminus\":[[0.0,\"#0d0887\"],[0.1111111111111111,\"#46039f\"],[0.2222222222222222,\"#7201a8\"],[0.3333333333333333,\"#9c179e\"],[0.4444444444444444,\"#bd3786\"],[0.5555555555555556,\"#d8576b\"],[0.6666666666666666,\"#ed7953\"],[0.7777777777777778,\"#fb9f3a\"],[0.8888888888888888,\"#fdca26\"],[1.0,\"#f0f921\"]]},\"colorway\":[\"#636efa\",\"#EF553B\",\"#00cc96\",\"#ab63fa\",\"#FFA15A\",\"#19d3f3\",\"#FF6692\",\"#B6E880\",\"#FF97FF\",\"#FECB52\"],\"font\":{\"color\":\"#2a3f5f\"},\"geo\":{\"bgcolor\":\"white\",\"lakecolor\":\"white\",\"landcolor\":\"#E5ECF6\",\"showlakes\":true,\"showland\":true,\"subunitcolor\":\"white\"},\"hoverlabel\":{\"align\":\"left\"},\"hovermode\":\"closest\",\"mapbox\":{\"style\":\"light\"},\"paper_bgcolor\":\"white\",\"plot_bgcolor\":\"#E5ECF6\",\"polar\":{\"angularaxis\":{\"gridcolor\":\"white\",\"linecolor\":\"white\",\"ticks\":\"\"},\"bgcolor\":\"#E5ECF6\",\"radialaxis\":{\"gridcolor\":\"white\",\"linecolor\":\"white\",\"ticks\":\"\"}},\"scene\":{\"xaxis\":{\"backgroundcolor\":\"#E5ECF6\",\"gridcolor\":\"white\",\"gridwidth\":2,\"linecolor\":\"white\",\"showbackground\":true,\"ticks\":\"\",\"zerolinecolor\":\"white\"},\"yaxis\":{\"backgroundcolor\":\"#E5ECF6\",\"gridcolor\":\"white\",\"gridwidth\":2,\"linecolor\":\"white\",\"showbackground\":true,\"ticks\":\"\",\"zerolinecolor\":\"white\"},\"zaxis\":{\"backgroundcolor\":\"#E5ECF6\",\"gridcolor\":\"white\",\"gridwidth\":2,\"linecolor\":\"white\",\"showbackground\":true,\"ticks\":\"\",\"zerolinecolor\":\"white\"}},\"shapedefaults\":{\"line\":{\"color\":\"#2a3f5f\"}},\"ternary\":{\"aaxis\":{\"gridcolor\":\"white\",\"linecolor\":\"white\",\"ticks\":\"\"},\"baxis\":{\"gridcolor\":\"white\",\"linecolor\":\"white\",\"ticks\":\"\"},\"bgcolor\":\"#E5ECF6\",\"caxis\":{\"gridcolor\":\"white\",\"linecolor\":\"white\",\"ticks\":\"\"}},\"title\":{\"x\":0.05},\"xaxis\":{\"automargin\":true,\"gridcolor\":\"white\",\"linecolor\":\"white\",\"ticks\":\"\",\"title\":{\"standoff\":15},\"zerolinecolor\":\"white\",\"zerolinewidth\":2},\"yaxis\":{\"automargin\":true,\"gridcolor\":\"white\",\"linecolor\":\"white\",\"ticks\":\"\",\"title\":{\"standoff\":15},\"zerolinecolor\":\"white\",\"zerolinewidth\":2}}},\"title\":{\"font\":{\"color\":\"darkred\",\"family\":\"Arial\",\"size\":20},\"text\":\"Number of Doors\",\"x\":0.45,\"y\":0.875},\"width\":800,\"xaxis\":{\"showticklabels\":true,\"tickfont\":{\"color\":\"black\",\"family\":\"Arial\",\"size\":16},\"tickmode\":\"array\",\"ticktext\":[\"Unacceptable\",\"Acceptable\",\"Good\",\"Very Good\"],\"tickvals\":[\"unacc\",\"acc\",\"good\",\"vgood\"],\"title\":{\"text\":\"Condition\"}},\"yaxis\":{\"tickfont\":{\"color\":\"black\",\"family\":\"Arial\",\"size\":16},\"title\":{\"text\":\"Number of Cars\"}}},                        {\"responsive\": true}                    ).then(function(){\n",
       "                            \n",
       "var gd = document.getElementById('e05a7945-8f30-4511-afd5-83c54d62e285');\n",
       "var x = new MutationObserver(function (mutations, observer) {{\n",
       "        var display = window.getComputedStyle(gd).display;\n",
       "        if (!display || display === 'none') {{\n",
       "            console.log([gd, 'removed!']);\n",
       "            Plotly.purge(gd);\n",
       "            observer.disconnect();\n",
       "        }}\n",
       "}});\n",
       "\n",
       "// Listen for the removal of the full notebook cells\n",
       "var notebookContainer = gd.closest('#notebook-container');\n",
       "if (notebookContainer) {{\n",
       "    x.observe(notebookContainer, {childList: true});\n",
       "}}\n",
       "\n",
       "// Listen for the clearing of the current output cell\n",
       "var outputEl = gd.closest('.output');\n",
       "if (outputEl) {{\n",
       "    x.observe(outputEl, {childList: true});\n",
       "}}\n",
       "\n",
       "                        })                };                });            </script>        </div>"
      ]
     },
     "metadata": {},
     "output_type": "display_data"
    }
   ],
   "source": [
    "fg = go.Figure(layout=go.Layout(height=550, width=800))\n",
    "\n",
    "fg.add_trace(go.Histogram(x=car_df.loc[car_df.NumDoors==\"2\", \"Class\"],\n",
    "                           name = \"2 Doors\",\n",
    "                           marker=dict(color=\"#fb9f3a\")))\n",
    "fg.add_trace(go.Histogram(x=car_df.loc[car_df.NumDoors==\"3\", \"Class\"],\n",
    "                           name = \"3 Doors\",\n",
    "                           marker=dict(color=\"#d8576b\")))\n",
    "fg.add_trace(go.Histogram(x=car_df.loc[car_df.NumDoors==\"4\", \"Class\"],\n",
    "                           name = \"4 Doors\",\n",
    "                           marker=dict(color=\"#9c179e\")))\n",
    "fg.add_trace(go.Histogram(x=car_df.loc[car_df.NumDoors==\"5more\", \"Class\"],\n",
    "                           name = \"5 or more Doors\",\n",
    "                           marker=dict(color=\"#7201a8\")))\n",
    "\n",
    "fg.update_xaxes(title_text=\"Condition\", \n",
    "                 showticklabels=True, \n",
    "                 tickmode=\"array\",\n",
    "                 tickvals=[\"unacc\", \"acc\", \"good\", \"vgood\"],\n",
    "                 ticktext=[\"Unacceptable\", \"Acceptable\", \"Good\", \"Very Good\"],\n",
    "                 tickfont=dict(family=\"Arial\", size=16, color=\"black\"))\n",
    "\n",
    "fg.update_yaxes(title_text=\"Number of Cars\", tickfont=dict(family=\"Arial\", size=16, color=\"black\"))\n",
    "\n",
    "fg.update_layout(legend = dict(font = dict(family = \"Arial\", size = 16, color=\"black\")),\n",
    "                 title_text = 'Number of Doors',\n",
    "                 title_font = dict(size=20, family='Arial', color='darkred'),\n",
    "                 title_x=0.45,\n",
    "                 title_y=0.875)\n",
    "\n",
    "fg.show()"
   ]
  },
  {
   "cell_type": "code",
   "execution_count": 21,
   "metadata": {},
   "outputs": [
    {
     "data": {
      "application/vnd.plotly.v1+json": {
       "config": {
        "plotlyServerURL": "https://plot.ly"
       },
       "data": [
        {
         "marker": {
          "color": "#fb9f3a"
         },
         "name": "2 People",
         "type": "histogram",
         "x": [
          "unacc",
          "unacc",
          "unacc",
          "unacc",
          "unacc",
          "unacc",
          "unacc",
          "unacc",
          "unacc",
          "unacc",
          "unacc",
          "unacc",
          "unacc",
          "unacc",
          "unacc",
          "unacc",
          "unacc",
          "unacc",
          "unacc",
          "unacc",
          "unacc",
          "unacc",
          "unacc",
          "unacc",
          "unacc",
          "unacc",
          "unacc",
          "unacc",
          "unacc",
          "unacc",
          "unacc",
          "unacc",
          "unacc",
          "unacc",
          "unacc",
          "unacc",
          "unacc",
          "unacc",
          "unacc",
          "unacc",
          "unacc",
          "unacc",
          "unacc",
          "unacc",
          "unacc",
          "unacc",
          "unacc",
          "unacc",
          "unacc",
          "unacc",
          "unacc",
          "unacc",
          "unacc",
          "unacc",
          "unacc",
          "unacc",
          "unacc",
          "unacc",
          "unacc",
          "unacc",
          "unacc",
          "unacc",
          "unacc",
          "unacc",
          "unacc",
          "unacc",
          "unacc",
          "unacc",
          "unacc",
          "unacc",
          "unacc",
          "unacc",
          "unacc",
          "unacc",
          "unacc",
          "unacc",
          "unacc",
          "unacc",
          "unacc",
          "unacc",
          "unacc",
          "unacc",
          "unacc",
          "unacc",
          "unacc",
          "unacc",
          "unacc",
          "unacc",
          "unacc",
          "unacc",
          "unacc",
          "unacc",
          "unacc",
          "unacc",
          "unacc",
          "unacc",
          "unacc",
          "unacc",
          "unacc",
          "unacc",
          "unacc",
          "unacc",
          "unacc",
          "unacc",
          "unacc",
          "unacc",
          "unacc",
          "unacc",
          "unacc",
          "unacc",
          "unacc",
          "unacc",
          "unacc",
          "unacc",
          "unacc",
          "unacc",
          "unacc",
          "unacc",
          "unacc",
          "unacc",
          "unacc",
          "unacc",
          "unacc",
          "unacc",
          "unacc",
          "unacc",
          "unacc",
          "unacc",
          "unacc",
          "unacc",
          "unacc",
          "unacc",
          "unacc",
          "unacc",
          "unacc",
          "unacc",
          "unacc",
          "unacc",
          "unacc",
          "unacc",
          "unacc",
          "unacc",
          "unacc",
          "unacc",
          "unacc",
          "unacc",
          "unacc",
          "unacc",
          "unacc",
          "unacc",
          "unacc",
          "unacc",
          "unacc",
          "unacc",
          "unacc",
          "unacc",
          "unacc",
          "unacc",
          "unacc",
          "unacc",
          "unacc",
          "unacc",
          "unacc",
          "unacc",
          "unacc",
          "unacc",
          "unacc",
          "unacc",
          "unacc",
          "unacc",
          "unacc",
          "unacc",
          "unacc",
          "unacc",
          "unacc",
          "unacc",
          "unacc",
          "unacc",
          "unacc",
          "unacc",
          "unacc",
          "unacc",
          "unacc",
          "unacc",
          "unacc",
          "unacc",
          "unacc",
          "unacc",
          "unacc",
          "unacc",
          "unacc",
          "unacc",
          "unacc",
          "unacc",
          "unacc",
          "unacc",
          "unacc",
          "unacc",
          "unacc",
          "unacc",
          "unacc",
          "unacc",
          "unacc",
          "unacc",
          "unacc",
          "unacc",
          "unacc",
          "unacc",
          "unacc",
          "unacc",
          "unacc",
          "unacc",
          "unacc",
          "unacc",
          "unacc",
          "unacc",
          "unacc",
          "unacc",
          "unacc",
          "unacc",
          "unacc",
          "unacc",
          "unacc",
          "unacc",
          "unacc",
          "unacc",
          "unacc",
          "unacc",
          "unacc",
          "unacc",
          "unacc",
          "unacc",
          "unacc",
          "unacc",
          "unacc",
          "unacc",
          "unacc",
          "unacc",
          "unacc",
          "unacc",
          "unacc",
          "unacc",
          "unacc",
          "unacc",
          "unacc",
          "unacc",
          "unacc",
          "unacc",
          "unacc",
          "unacc",
          "unacc",
          "unacc",
          "unacc",
          "unacc",
          "unacc",
          "unacc",
          "unacc",
          "unacc",
          "unacc",
          "unacc",
          "unacc",
          "unacc",
          "unacc",
          "unacc",
          "unacc",
          "unacc",
          "unacc",
          "unacc",
          "unacc",
          "unacc",
          "unacc",
          "unacc",
          "unacc",
          "unacc",
          "unacc",
          "unacc",
          "unacc",
          "unacc",
          "unacc",
          "unacc",
          "unacc",
          "unacc",
          "unacc",
          "unacc",
          "unacc",
          "unacc",
          "unacc",
          "unacc",
          "unacc",
          "unacc",
          "unacc",
          "unacc",
          "unacc",
          "unacc",
          "unacc",
          "unacc",
          "unacc",
          "unacc",
          "unacc",
          "unacc",
          "unacc",
          "unacc",
          "unacc",
          "unacc",
          "unacc",
          "unacc",
          "unacc",
          "unacc",
          "unacc",
          "unacc",
          "unacc",
          "unacc",
          "unacc",
          "unacc",
          "unacc",
          "unacc",
          "unacc",
          "unacc",
          "unacc",
          "unacc",
          "unacc",
          "unacc",
          "unacc",
          "unacc",
          "unacc",
          "unacc",
          "unacc",
          "unacc",
          "unacc",
          "unacc",
          "unacc",
          "unacc",
          "unacc",
          "unacc",
          "unacc",
          "unacc",
          "unacc",
          "unacc",
          "unacc",
          "unacc",
          "unacc",
          "unacc",
          "unacc",
          "unacc",
          "unacc",
          "unacc",
          "unacc",
          "unacc",
          "unacc",
          "unacc",
          "unacc",
          "unacc",
          "unacc",
          "unacc",
          "unacc",
          "unacc",
          "unacc",
          "unacc",
          "unacc",
          "unacc",
          "unacc",
          "unacc",
          "unacc",
          "unacc",
          "unacc",
          "unacc",
          "unacc",
          "unacc",
          "unacc",
          "unacc",
          "unacc",
          "unacc",
          "unacc",
          "unacc",
          "unacc",
          "unacc",
          "unacc",
          "unacc",
          "unacc",
          "unacc",
          "unacc",
          "unacc",
          "unacc",
          "unacc",
          "unacc",
          "unacc",
          "unacc",
          "unacc",
          "unacc",
          "unacc",
          "unacc",
          "unacc",
          "unacc",
          "unacc",
          "unacc",
          "unacc",
          "unacc",
          "unacc",
          "unacc",
          "unacc",
          "unacc",
          "unacc",
          "unacc",
          "unacc",
          "unacc",
          "unacc",
          "unacc",
          "unacc",
          "unacc",
          "unacc",
          "unacc",
          "unacc",
          "unacc",
          "unacc",
          "unacc",
          "unacc",
          "unacc",
          "unacc",
          "unacc",
          "unacc",
          "unacc",
          "unacc",
          "unacc",
          "unacc",
          "unacc",
          "unacc",
          "unacc",
          "unacc",
          "unacc",
          "unacc",
          "unacc",
          "unacc",
          "unacc",
          "unacc",
          "unacc",
          "unacc",
          "unacc",
          "unacc",
          "unacc",
          "unacc",
          "unacc",
          "unacc",
          "unacc",
          "unacc",
          "unacc",
          "unacc",
          "unacc",
          "unacc",
          "unacc",
          "unacc",
          "unacc",
          "unacc",
          "unacc",
          "unacc",
          "unacc",
          "unacc",
          "unacc",
          "unacc",
          "unacc",
          "unacc",
          "unacc",
          "unacc",
          "unacc",
          "unacc",
          "unacc",
          "unacc",
          "unacc",
          "unacc",
          "unacc",
          "unacc",
          "unacc",
          "unacc",
          "unacc",
          "unacc",
          "unacc",
          "unacc",
          "unacc",
          "unacc",
          "unacc",
          "unacc",
          "unacc",
          "unacc",
          "unacc",
          "unacc",
          "unacc",
          "unacc",
          "unacc",
          "unacc",
          "unacc",
          "unacc",
          "unacc",
          "unacc",
          "unacc",
          "unacc",
          "unacc",
          "unacc",
          "unacc",
          "unacc",
          "unacc",
          "unacc",
          "unacc",
          "unacc",
          "unacc",
          "unacc",
          "unacc",
          "unacc",
          "unacc",
          "unacc",
          "unacc",
          "unacc",
          "unacc",
          "unacc",
          "unacc",
          "unacc",
          "unacc",
          "unacc",
          "unacc",
          "unacc",
          "unacc",
          "unacc",
          "unacc",
          "unacc",
          "unacc",
          "unacc",
          "unacc",
          "unacc",
          "unacc",
          "unacc",
          "unacc",
          "unacc",
          "unacc",
          "unacc",
          "unacc",
          "unacc",
          "unacc",
          "unacc",
          "unacc",
          "unacc",
          "unacc",
          "unacc",
          "unacc",
          "unacc",
          "unacc",
          "unacc",
          "unacc",
          "unacc",
          "unacc",
          "unacc",
          "unacc",
          "unacc",
          "unacc",
          "unacc",
          "unacc",
          "unacc",
          "unacc",
          "unacc",
          "unacc",
          "unacc",
          "unacc",
          "unacc",
          "unacc",
          "unacc",
          "unacc",
          "unacc",
          "unacc",
          "unacc",
          "unacc",
          "unacc",
          "unacc",
          "unacc",
          "unacc",
          "unacc",
          "unacc",
          "unacc",
          "unacc",
          "unacc"
         ]
        },
        {
         "marker": {
          "color": "#d8576b"
         },
         "name": "4 People",
         "type": "histogram",
         "x": [
          "unacc",
          "unacc",
          "unacc",
          "unacc",
          "unacc",
          "unacc",
          "unacc",
          "unacc",
          "unacc",
          "unacc",
          "unacc",
          "unacc",
          "unacc",
          "unacc",
          "unacc",
          "unacc",
          "unacc",
          "unacc",
          "unacc",
          "unacc",
          "unacc",
          "unacc",
          "unacc",
          "unacc",
          "unacc",
          "unacc",
          "unacc",
          "unacc",
          "unacc",
          "unacc",
          "unacc",
          "unacc",
          "unacc",
          "unacc",
          "unacc",
          "unacc",
          "unacc",
          "unacc",
          "unacc",
          "unacc",
          "unacc",
          "unacc",
          "unacc",
          "unacc",
          "unacc",
          "unacc",
          "unacc",
          "unacc",
          "unacc",
          "unacc",
          "unacc",
          "unacc",
          "unacc",
          "unacc",
          "unacc",
          "unacc",
          "unacc",
          "unacc",
          "unacc",
          "unacc",
          "unacc",
          "unacc",
          "unacc",
          "unacc",
          "unacc",
          "unacc",
          "unacc",
          "unacc",
          "unacc",
          "unacc",
          "unacc",
          "unacc",
          "unacc",
          "unacc",
          "acc",
          "unacc",
          "unacc",
          "acc",
          "unacc",
          "acc",
          "acc",
          "unacc",
          "unacc",
          "acc",
          "unacc",
          "unacc",
          "acc",
          "unacc",
          "acc",
          "acc",
          "unacc",
          "unacc",
          "acc",
          "unacc",
          "acc",
          "acc",
          "unacc",
          "acc",
          "acc",
          "unacc",
          "unacc",
          "acc",
          "unacc",
          "acc",
          "acc",
          "unacc",
          "acc",
          "acc",
          "unacc",
          "unacc",
          "acc",
          "unacc",
          "unacc",
          "acc",
          "unacc",
          "acc",
          "acc",
          "unacc",
          "unacc",
          "acc",
          "unacc",
          "unacc",
          "acc",
          "unacc",
          "acc",
          "acc",
          "unacc",
          "unacc",
          "acc",
          "unacc",
          "acc",
          "acc",
          "unacc",
          "acc",
          "acc",
          "unacc",
          "unacc",
          "acc",
          "unacc",
          "acc",
          "acc",
          "unacc",
          "acc",
          "acc",
          "unacc",
          "unacc",
          "unacc",
          "unacc",
          "unacc",
          "unacc",
          "unacc",
          "unacc",
          "unacc",
          "unacc",
          "unacc",
          "unacc",
          "unacc",
          "unacc",
          "unacc",
          "unacc",
          "unacc",
          "unacc",
          "unacc",
          "unacc",
          "unacc",
          "unacc",
          "unacc",
          "unacc",
          "unacc",
          "unacc",
          "unacc",
          "unacc",
          "unacc",
          "unacc",
          "unacc",
          "unacc",
          "unacc",
          "unacc",
          "unacc",
          "unacc",
          "unacc",
          "unacc",
          "acc",
          "unacc",
          "unacc",
          "acc",
          "unacc",
          "acc",
          "acc",
          "unacc",
          "unacc",
          "acc",
          "unacc",
          "unacc",
          "acc",
          "unacc",
          "acc",
          "acc",
          "unacc",
          "unacc",
          "acc",
          "unacc",
          "acc",
          "acc",
          "unacc",
          "acc",
          "acc",
          "unacc",
          "unacc",
          "acc",
          "unacc",
          "acc",
          "acc",
          "unacc",
          "acc",
          "acc",
          "unacc",
          "unacc",
          "acc",
          "unacc",
          "unacc",
          "acc",
          "unacc",
          "acc",
          "acc",
          "unacc",
          "unacc",
          "acc",
          "unacc",
          "unacc",
          "acc",
          "unacc",
          "acc",
          "acc",
          "unacc",
          "unacc",
          "acc",
          "unacc",
          "acc",
          "acc",
          "unacc",
          "acc",
          "acc",
          "unacc",
          "unacc",
          "acc",
          "unacc",
          "acc",
          "acc",
          "unacc",
          "acc",
          "acc",
          "unacc",
          "unacc",
          "acc",
          "unacc",
          "unacc",
          "acc",
          "unacc",
          "acc",
          "acc",
          "unacc",
          "unacc",
          "acc",
          "unacc",
          "unacc",
          "acc",
          "unacc",
          "acc",
          "acc",
          "unacc",
          "unacc",
          "acc",
          "unacc",
          "acc",
          "acc",
          "unacc",
          "acc",
          "acc",
          "unacc",
          "unacc",
          "acc",
          "unacc",
          "acc",
          "acc",
          "unacc",
          "acc",
          "acc",
          "unacc",
          "unacc",
          "acc",
          "unacc",
          "unacc",
          "acc",
          "unacc",
          "acc",
          "acc",
          "unacc",
          "unacc",
          "acc",
          "unacc",
          "unacc",
          "acc",
          "unacc",
          "acc",
          "acc",
          "unacc",
          "unacc",
          "acc",
          "unacc",
          "acc",
          "acc",
          "unacc",
          "acc",
          "acc",
          "unacc",
          "unacc",
          "acc",
          "unacc",
          "acc",
          "acc",
          "unacc",
          "acc",
          "acc",
          "unacc",
          "unacc",
          "acc",
          "unacc",
          "unacc",
          "acc",
          "unacc",
          "acc",
          "acc",
          "unacc",
          "unacc",
          "acc",
          "unacc",
          "unacc",
          "acc",
          "unacc",
          "acc",
          "acc",
          "unacc",
          "unacc",
          "acc",
          "unacc",
          "acc",
          "acc",
          "unacc",
          "acc",
          "acc",
          "unacc",
          "unacc",
          "acc",
          "unacc",
          "acc",
          "acc",
          "unacc",
          "acc",
          "acc",
          "unacc",
          "acc",
          "acc",
          "unacc",
          "acc",
          "acc",
          "unacc",
          "acc",
          "vgood",
          "unacc",
          "acc",
          "acc",
          "unacc",
          "acc",
          "acc",
          "unacc",
          "acc",
          "vgood",
          "unacc",
          "acc",
          "acc",
          "unacc",
          "acc",
          "vgood",
          "unacc",
          "acc",
          "vgood",
          "unacc",
          "acc",
          "acc",
          "unacc",
          "acc",
          "vgood",
          "unacc",
          "acc",
          "vgood",
          "unacc",
          "acc",
          "good",
          "unacc",
          "acc",
          "good",
          "unacc",
          "good",
          "vgood",
          "unacc",
          "acc",
          "good",
          "unacc",
          "acc",
          "good",
          "unacc",
          "good",
          "vgood",
          "unacc",
          "acc",
          "good",
          "unacc",
          "good",
          "vgood",
          "unacc",
          "good",
          "vgood",
          "unacc",
          "acc",
          "good",
          "unacc",
          "good",
          "vgood",
          "unacc",
          "good",
          "vgood",
          "unacc",
          "unacc",
          "acc",
          "unacc",
          "unacc",
          "acc",
          "unacc",
          "acc",
          "acc",
          "unacc",
          "unacc",
          "acc",
          "unacc",
          "unacc",
          "acc",
          "unacc",
          "acc",
          "acc",
          "unacc",
          "unacc",
          "acc",
          "unacc",
          "acc",
          "acc",
          "unacc",
          "acc",
          "acc",
          "unacc",
          "unacc",
          "acc",
          "unacc",
          "acc",
          "acc",
          "unacc",
          "acc",
          "acc",
          "unacc",
          "acc",
          "acc",
          "unacc",
          "acc",
          "acc",
          "unacc",
          "acc",
          "vgood",
          "unacc",
          "acc",
          "acc",
          "unacc",
          "acc",
          "acc",
          "unacc",
          "acc",
          "vgood",
          "unacc",
          "acc",
          "acc",
          "unacc",
          "acc",
          "vgood",
          "unacc",
          "acc",
          "vgood",
          "unacc",
          "acc",
          "acc",
          "unacc",
          "acc",
          "vgood",
          "unacc",
          "acc",
          "vgood",
          "unacc",
          "acc",
          "good",
          "unacc",
          "acc",
          "good",
          "unacc",
          "good",
          "vgood",
          "unacc",
          "acc",
          "good",
          "unacc",
          "acc",
          "good",
          "unacc",
          "good",
          "vgood",
          "unacc",
          "acc",
          "good",
          "unacc",
          "good",
          "vgood",
          "unacc",
          "good",
          "vgood",
          "unacc",
          "acc",
          "good",
          "unacc",
          "good",
          "vgood",
          "unacc",
          "good",
          "vgood",
          "unacc",
          "acc",
          "good",
          "unacc",
          "acc",
          "good",
          "unacc",
          "good",
          "vgood",
          "unacc",
          "acc",
          "good",
          "unacc",
          "acc",
          "good",
          "unacc",
          "good",
          "vgood",
          "unacc",
          "acc",
          "good",
          "unacc",
          "good",
          "vgood",
          "unacc",
          "good",
          "vgood",
          "unacc",
          "acc",
          "good",
          "unacc",
          "good",
          "vgood",
          "unacc",
          "good",
          "vgood"
         ]
        },
        {
         "marker": {
          "color": "#9c179e"
         },
         "name": "More than 4 People",
         "type": "histogram",
         "x": [
          "unacc",
          "unacc",
          "unacc",
          "unacc",
          "unacc",
          "unacc",
          "unacc",
          "unacc",
          "unacc",
          "unacc",
          "unacc",
          "unacc",
          "unacc",
          "unacc",
          "unacc",
          "unacc",
          "unacc",
          "unacc",
          "unacc",
          "unacc",
          "unacc",
          "unacc",
          "unacc",
          "unacc",
          "unacc",
          "unacc",
          "unacc",
          "unacc",
          "unacc",
          "unacc",
          "unacc",
          "unacc",
          "unacc",
          "unacc",
          "unacc",
          "unacc",
          "unacc",
          "unacc",
          "unacc",
          "unacc",
          "unacc",
          "unacc",
          "unacc",
          "unacc",
          "unacc",
          "unacc",
          "unacc",
          "unacc",
          "unacc",
          "unacc",
          "unacc",
          "unacc",
          "unacc",
          "unacc",
          "unacc",
          "unacc",
          "unacc",
          "unacc",
          "unacc",
          "unacc",
          "unacc",
          "unacc",
          "unacc",
          "unacc",
          "unacc",
          "unacc",
          "unacc",
          "unacc",
          "unacc",
          "unacc",
          "unacc",
          "unacc",
          "unacc",
          "unacc",
          "unacc",
          "unacc",
          "unacc",
          "acc",
          "unacc",
          "acc",
          "acc",
          "unacc",
          "unacc",
          "acc",
          "unacc",
          "acc",
          "acc",
          "unacc",
          "acc",
          "acc",
          "unacc",
          "unacc",
          "acc",
          "unacc",
          "acc",
          "acc",
          "unacc",
          "acc",
          "acc",
          "unacc",
          "unacc",
          "acc",
          "unacc",
          "acc",
          "acc",
          "unacc",
          "acc",
          "acc",
          "unacc",
          "unacc",
          "unacc",
          "unacc",
          "unacc",
          "acc",
          "unacc",
          "acc",
          "acc",
          "unacc",
          "unacc",
          "acc",
          "unacc",
          "acc",
          "acc",
          "unacc",
          "acc",
          "acc",
          "unacc",
          "unacc",
          "acc",
          "unacc",
          "acc",
          "acc",
          "unacc",
          "acc",
          "acc",
          "unacc",
          "unacc",
          "acc",
          "unacc",
          "acc",
          "acc",
          "unacc",
          "acc",
          "acc",
          "unacc",
          "unacc",
          "unacc",
          "unacc",
          "unacc",
          "unacc",
          "unacc",
          "unacc",
          "unacc",
          "unacc",
          "unacc",
          "unacc",
          "unacc",
          "unacc",
          "unacc",
          "unacc",
          "unacc",
          "unacc",
          "unacc",
          "unacc",
          "unacc",
          "unacc",
          "unacc",
          "unacc",
          "unacc",
          "unacc",
          "unacc",
          "unacc",
          "unacc",
          "unacc",
          "unacc",
          "unacc",
          "unacc",
          "unacc",
          "unacc",
          "unacc",
          "unacc",
          "unacc",
          "unacc",
          "unacc",
          "unacc",
          "acc",
          "unacc",
          "acc",
          "acc",
          "unacc",
          "unacc",
          "acc",
          "unacc",
          "acc",
          "acc",
          "unacc",
          "acc",
          "acc",
          "unacc",
          "unacc",
          "acc",
          "unacc",
          "acc",
          "acc",
          "unacc",
          "acc",
          "acc",
          "unacc",
          "unacc",
          "acc",
          "unacc",
          "acc",
          "acc",
          "unacc",
          "acc",
          "acc",
          "unacc",
          "unacc",
          "unacc",
          "unacc",
          "unacc",
          "acc",
          "unacc",
          "acc",
          "acc",
          "unacc",
          "unacc",
          "acc",
          "unacc",
          "acc",
          "acc",
          "unacc",
          "acc",
          "acc",
          "unacc",
          "unacc",
          "acc",
          "unacc",
          "acc",
          "acc",
          "unacc",
          "acc",
          "acc",
          "unacc",
          "unacc",
          "acc",
          "unacc",
          "acc",
          "acc",
          "unacc",
          "acc",
          "acc",
          "unacc",
          "unacc",
          "unacc",
          "unacc",
          "unacc",
          "acc",
          "unacc",
          "acc",
          "acc",
          "unacc",
          "unacc",
          "acc",
          "unacc",
          "acc",
          "acc",
          "unacc",
          "acc",
          "acc",
          "unacc",
          "unacc",
          "acc",
          "unacc",
          "acc",
          "acc",
          "unacc",
          "acc",
          "acc",
          "unacc",
          "unacc",
          "acc",
          "unacc",
          "acc",
          "acc",
          "unacc",
          "acc",
          "acc",
          "unacc",
          "unacc",
          "unacc",
          "unacc",
          "unacc",
          "acc",
          "unacc",
          "acc",
          "acc",
          "unacc",
          "unacc",
          "acc",
          "unacc",
          "acc",
          "acc",
          "unacc",
          "acc",
          "acc",
          "unacc",
          "unacc",
          "acc",
          "unacc",
          "acc",
          "acc",
          "unacc",
          "acc",
          "acc",
          "unacc",
          "unacc",
          "acc",
          "unacc",
          "acc",
          "acc",
          "unacc",
          "acc",
          "acc",
          "unacc",
          "unacc",
          "unacc",
          "unacc",
          "unacc",
          "acc",
          "unacc",
          "acc",
          "acc",
          "unacc",
          "unacc",
          "acc",
          "unacc",
          "acc",
          "acc",
          "unacc",
          "acc",
          "acc",
          "unacc",
          "unacc",
          "acc",
          "unacc",
          "acc",
          "acc",
          "unacc",
          "acc",
          "acc",
          "unacc",
          "unacc",
          "acc",
          "unacc",
          "acc",
          "acc",
          "unacc",
          "acc",
          "acc",
          "unacc",
          "unacc",
          "unacc",
          "unacc",
          "acc",
          "acc",
          "unacc",
          "acc",
          "vgood",
          "unacc",
          "acc",
          "acc",
          "unacc",
          "acc",
          "vgood",
          "unacc",
          "acc",
          "vgood",
          "unacc",
          "acc",
          "acc",
          "unacc",
          "acc",
          "vgood",
          "unacc",
          "acc",
          "vgood",
          "unacc",
          "acc",
          "acc",
          "unacc",
          "acc",
          "vgood",
          "unacc",
          "acc",
          "vgood",
          "unacc",
          "unacc",
          "unacc",
          "unacc",
          "acc",
          "good",
          "unacc",
          "good",
          "vgood",
          "unacc",
          "acc",
          "good",
          "unacc",
          "good",
          "vgood",
          "unacc",
          "good",
          "vgood",
          "unacc",
          "acc",
          "good",
          "unacc",
          "good",
          "vgood",
          "unacc",
          "good",
          "vgood",
          "unacc",
          "acc",
          "good",
          "unacc",
          "good",
          "vgood",
          "unacc",
          "good",
          "vgood",
          "unacc",
          "unacc",
          "unacc",
          "unacc",
          "unacc",
          "acc",
          "unacc",
          "acc",
          "acc",
          "unacc",
          "unacc",
          "acc",
          "unacc",
          "acc",
          "acc",
          "unacc",
          "acc",
          "acc",
          "unacc",
          "unacc",
          "acc",
          "unacc",
          "acc",
          "acc",
          "unacc",
          "acc",
          "acc",
          "unacc",
          "unacc",
          "acc",
          "unacc",
          "acc",
          "acc",
          "unacc",
          "acc",
          "acc",
          "unacc",
          "unacc",
          "unacc",
          "unacc",
          "acc",
          "acc",
          "unacc",
          "acc",
          "vgood",
          "unacc",
          "acc",
          "acc",
          "unacc",
          "acc",
          "vgood",
          "unacc",
          "acc",
          "vgood",
          "unacc",
          "acc",
          "acc",
          "unacc",
          "acc",
          "vgood",
          "unacc",
          "acc",
          "vgood",
          "unacc",
          "acc",
          "acc",
          "unacc",
          "acc",
          "vgood",
          "unacc",
          "acc",
          "vgood",
          "unacc",
          "unacc",
          "unacc",
          "unacc",
          "acc",
          "good",
          "unacc",
          "good",
          "vgood",
          "unacc",
          "acc",
          "good",
          "unacc",
          "good",
          "vgood",
          "unacc",
          "good",
          "vgood",
          "unacc",
          "acc",
          "good",
          "unacc",
          "good",
          "vgood",
          "unacc",
          "good",
          "vgood",
          "unacc",
          "acc",
          "good",
          "unacc",
          "good",
          "vgood",
          "unacc",
          "good",
          "vgood",
          "unacc",
          "unacc",
          "unacc",
          "unacc",
          "acc",
          "good",
          "unacc",
          "good",
          "vgood",
          "unacc",
          "acc",
          "good",
          "unacc",
          "good",
          "vgood",
          "unacc",
          "good",
          "vgood",
          "unacc",
          "acc",
          "good",
          "unacc",
          "good",
          "vgood",
          "unacc",
          "good",
          "vgood",
          "unacc",
          "acc",
          "good",
          "unacc",
          "good",
          "vgood",
          "unacc",
          "good",
          "vgood"
         ]
        }
       ],
       "layout": {
        "height": 550,
        "legend": {
         "font": {
          "color": "black",
          "family": "Arial",
          "size": 16
         }
        },
        "template": {
         "data": {
          "bar": [
           {
            "error_x": {
             "color": "#2a3f5f"
            },
            "error_y": {
             "color": "#2a3f5f"
            },
            "marker": {
             "line": {
              "color": "#E5ECF6",
              "width": 0.5
             },
             "pattern": {
              "fillmode": "overlay",
              "size": 10,
              "solidity": 0.2
             }
            },
            "type": "bar"
           }
          ],
          "barpolar": [
           {
            "marker": {
             "line": {
              "color": "#E5ECF6",
              "width": 0.5
             },
             "pattern": {
              "fillmode": "overlay",
              "size": 10,
              "solidity": 0.2
             }
            },
            "type": "barpolar"
           }
          ],
          "carpet": [
           {
            "aaxis": {
             "endlinecolor": "#2a3f5f",
             "gridcolor": "white",
             "linecolor": "white",
             "minorgridcolor": "white",
             "startlinecolor": "#2a3f5f"
            },
            "baxis": {
             "endlinecolor": "#2a3f5f",
             "gridcolor": "white",
             "linecolor": "white",
             "minorgridcolor": "white",
             "startlinecolor": "#2a3f5f"
            },
            "type": "carpet"
           }
          ],
          "choropleth": [
           {
            "colorbar": {
             "outlinewidth": 0,
             "ticks": ""
            },
            "type": "choropleth"
           }
          ],
          "contour": [
           {
            "colorbar": {
             "outlinewidth": 0,
             "ticks": ""
            },
            "colorscale": [
             [
              0,
              "#0d0887"
             ],
             [
              0.1111111111111111,
              "#46039f"
             ],
             [
              0.2222222222222222,
              "#7201a8"
             ],
             [
              0.3333333333333333,
              "#9c179e"
             ],
             [
              0.4444444444444444,
              "#bd3786"
             ],
             [
              0.5555555555555556,
              "#d8576b"
             ],
             [
              0.6666666666666666,
              "#ed7953"
             ],
             [
              0.7777777777777778,
              "#fb9f3a"
             ],
             [
              0.8888888888888888,
              "#fdca26"
             ],
             [
              1,
              "#f0f921"
             ]
            ],
            "type": "contour"
           }
          ],
          "contourcarpet": [
           {
            "colorbar": {
             "outlinewidth": 0,
             "ticks": ""
            },
            "type": "contourcarpet"
           }
          ],
          "heatmap": [
           {
            "colorbar": {
             "outlinewidth": 0,
             "ticks": ""
            },
            "colorscale": [
             [
              0,
              "#0d0887"
             ],
             [
              0.1111111111111111,
              "#46039f"
             ],
             [
              0.2222222222222222,
              "#7201a8"
             ],
             [
              0.3333333333333333,
              "#9c179e"
             ],
             [
              0.4444444444444444,
              "#bd3786"
             ],
             [
              0.5555555555555556,
              "#d8576b"
             ],
             [
              0.6666666666666666,
              "#ed7953"
             ],
             [
              0.7777777777777778,
              "#fb9f3a"
             ],
             [
              0.8888888888888888,
              "#fdca26"
             ],
             [
              1,
              "#f0f921"
             ]
            ],
            "type": "heatmap"
           }
          ],
          "heatmapgl": [
           {
            "colorbar": {
             "outlinewidth": 0,
             "ticks": ""
            },
            "colorscale": [
             [
              0,
              "#0d0887"
             ],
             [
              0.1111111111111111,
              "#46039f"
             ],
             [
              0.2222222222222222,
              "#7201a8"
             ],
             [
              0.3333333333333333,
              "#9c179e"
             ],
             [
              0.4444444444444444,
              "#bd3786"
             ],
             [
              0.5555555555555556,
              "#d8576b"
             ],
             [
              0.6666666666666666,
              "#ed7953"
             ],
             [
              0.7777777777777778,
              "#fb9f3a"
             ],
             [
              0.8888888888888888,
              "#fdca26"
             ],
             [
              1,
              "#f0f921"
             ]
            ],
            "type": "heatmapgl"
           }
          ],
          "histogram": [
           {
            "marker": {
             "pattern": {
              "fillmode": "overlay",
              "size": 10,
              "solidity": 0.2
             }
            },
            "type": "histogram"
           }
          ],
          "histogram2d": [
           {
            "colorbar": {
             "outlinewidth": 0,
             "ticks": ""
            },
            "colorscale": [
             [
              0,
              "#0d0887"
             ],
             [
              0.1111111111111111,
              "#46039f"
             ],
             [
              0.2222222222222222,
              "#7201a8"
             ],
             [
              0.3333333333333333,
              "#9c179e"
             ],
             [
              0.4444444444444444,
              "#bd3786"
             ],
             [
              0.5555555555555556,
              "#d8576b"
             ],
             [
              0.6666666666666666,
              "#ed7953"
             ],
             [
              0.7777777777777778,
              "#fb9f3a"
             ],
             [
              0.8888888888888888,
              "#fdca26"
             ],
             [
              1,
              "#f0f921"
             ]
            ],
            "type": "histogram2d"
           }
          ],
          "histogram2dcontour": [
           {
            "colorbar": {
             "outlinewidth": 0,
             "ticks": ""
            },
            "colorscale": [
             [
              0,
              "#0d0887"
             ],
             [
              0.1111111111111111,
              "#46039f"
             ],
             [
              0.2222222222222222,
              "#7201a8"
             ],
             [
              0.3333333333333333,
              "#9c179e"
             ],
             [
              0.4444444444444444,
              "#bd3786"
             ],
             [
              0.5555555555555556,
              "#d8576b"
             ],
             [
              0.6666666666666666,
              "#ed7953"
             ],
             [
              0.7777777777777778,
              "#fb9f3a"
             ],
             [
              0.8888888888888888,
              "#fdca26"
             ],
             [
              1,
              "#f0f921"
             ]
            ],
            "type": "histogram2dcontour"
           }
          ],
          "mesh3d": [
           {
            "colorbar": {
             "outlinewidth": 0,
             "ticks": ""
            },
            "type": "mesh3d"
           }
          ],
          "parcoords": [
           {
            "line": {
             "colorbar": {
              "outlinewidth": 0,
              "ticks": ""
             }
            },
            "type": "parcoords"
           }
          ],
          "pie": [
           {
            "automargin": true,
            "type": "pie"
           }
          ],
          "scatter": [
           {
            "marker": {
             "colorbar": {
              "outlinewidth": 0,
              "ticks": ""
             }
            },
            "type": "scatter"
           }
          ],
          "scatter3d": [
           {
            "line": {
             "colorbar": {
              "outlinewidth": 0,
              "ticks": ""
             }
            },
            "marker": {
             "colorbar": {
              "outlinewidth": 0,
              "ticks": ""
             }
            },
            "type": "scatter3d"
           }
          ],
          "scattercarpet": [
           {
            "marker": {
             "colorbar": {
              "outlinewidth": 0,
              "ticks": ""
             }
            },
            "type": "scattercarpet"
           }
          ],
          "scattergeo": [
           {
            "marker": {
             "colorbar": {
              "outlinewidth": 0,
              "ticks": ""
             }
            },
            "type": "scattergeo"
           }
          ],
          "scattergl": [
           {
            "marker": {
             "colorbar": {
              "outlinewidth": 0,
              "ticks": ""
             }
            },
            "type": "scattergl"
           }
          ],
          "scattermapbox": [
           {
            "marker": {
             "colorbar": {
              "outlinewidth": 0,
              "ticks": ""
             }
            },
            "type": "scattermapbox"
           }
          ],
          "scatterpolar": [
           {
            "marker": {
             "colorbar": {
              "outlinewidth": 0,
              "ticks": ""
             }
            },
            "type": "scatterpolar"
           }
          ],
          "scatterpolargl": [
           {
            "marker": {
             "colorbar": {
              "outlinewidth": 0,
              "ticks": ""
             }
            },
            "type": "scatterpolargl"
           }
          ],
          "scatterternary": [
           {
            "marker": {
             "colorbar": {
              "outlinewidth": 0,
              "ticks": ""
             }
            },
            "type": "scatterternary"
           }
          ],
          "surface": [
           {
            "colorbar": {
             "outlinewidth": 0,
             "ticks": ""
            },
            "colorscale": [
             [
              0,
              "#0d0887"
             ],
             [
              0.1111111111111111,
              "#46039f"
             ],
             [
              0.2222222222222222,
              "#7201a8"
             ],
             [
              0.3333333333333333,
              "#9c179e"
             ],
             [
              0.4444444444444444,
              "#bd3786"
             ],
             [
              0.5555555555555556,
              "#d8576b"
             ],
             [
              0.6666666666666666,
              "#ed7953"
             ],
             [
              0.7777777777777778,
              "#fb9f3a"
             ],
             [
              0.8888888888888888,
              "#fdca26"
             ],
             [
              1,
              "#f0f921"
             ]
            ],
            "type": "surface"
           }
          ],
          "table": [
           {
            "cells": {
             "fill": {
              "color": "#EBF0F8"
             },
             "line": {
              "color": "white"
             }
            },
            "header": {
             "fill": {
              "color": "#C8D4E3"
             },
             "line": {
              "color": "white"
             }
            },
            "type": "table"
           }
          ]
         },
         "layout": {
          "annotationdefaults": {
           "arrowcolor": "#2a3f5f",
           "arrowhead": 0,
           "arrowwidth": 1
          },
          "autotypenumbers": "strict",
          "coloraxis": {
           "colorbar": {
            "outlinewidth": 0,
            "ticks": ""
           }
          },
          "colorscale": {
           "diverging": [
            [
             0,
             "#8e0152"
            ],
            [
             0.1,
             "#c51b7d"
            ],
            [
             0.2,
             "#de77ae"
            ],
            [
             0.3,
             "#f1b6da"
            ],
            [
             0.4,
             "#fde0ef"
            ],
            [
             0.5,
             "#f7f7f7"
            ],
            [
             0.6,
             "#e6f5d0"
            ],
            [
             0.7,
             "#b8e186"
            ],
            [
             0.8,
             "#7fbc41"
            ],
            [
             0.9,
             "#4d9221"
            ],
            [
             1,
             "#276419"
            ]
           ],
           "sequential": [
            [
             0,
             "#0d0887"
            ],
            [
             0.1111111111111111,
             "#46039f"
            ],
            [
             0.2222222222222222,
             "#7201a8"
            ],
            [
             0.3333333333333333,
             "#9c179e"
            ],
            [
             0.4444444444444444,
             "#bd3786"
            ],
            [
             0.5555555555555556,
             "#d8576b"
            ],
            [
             0.6666666666666666,
             "#ed7953"
            ],
            [
             0.7777777777777778,
             "#fb9f3a"
            ],
            [
             0.8888888888888888,
             "#fdca26"
            ],
            [
             1,
             "#f0f921"
            ]
           ],
           "sequentialminus": [
            [
             0,
             "#0d0887"
            ],
            [
             0.1111111111111111,
             "#46039f"
            ],
            [
             0.2222222222222222,
             "#7201a8"
            ],
            [
             0.3333333333333333,
             "#9c179e"
            ],
            [
             0.4444444444444444,
             "#bd3786"
            ],
            [
             0.5555555555555556,
             "#d8576b"
            ],
            [
             0.6666666666666666,
             "#ed7953"
            ],
            [
             0.7777777777777778,
             "#fb9f3a"
            ],
            [
             0.8888888888888888,
             "#fdca26"
            ],
            [
             1,
             "#f0f921"
            ]
           ]
          },
          "colorway": [
           "#636efa",
           "#EF553B",
           "#00cc96",
           "#ab63fa",
           "#FFA15A",
           "#19d3f3",
           "#FF6692",
           "#B6E880",
           "#FF97FF",
           "#FECB52"
          ],
          "font": {
           "color": "#2a3f5f"
          },
          "geo": {
           "bgcolor": "white",
           "lakecolor": "white",
           "landcolor": "#E5ECF6",
           "showlakes": true,
           "showland": true,
           "subunitcolor": "white"
          },
          "hoverlabel": {
           "align": "left"
          },
          "hovermode": "closest",
          "mapbox": {
           "style": "light"
          },
          "paper_bgcolor": "white",
          "plot_bgcolor": "#E5ECF6",
          "polar": {
           "angularaxis": {
            "gridcolor": "white",
            "linecolor": "white",
            "ticks": ""
           },
           "bgcolor": "#E5ECF6",
           "radialaxis": {
            "gridcolor": "white",
            "linecolor": "white",
            "ticks": ""
           }
          },
          "scene": {
           "xaxis": {
            "backgroundcolor": "#E5ECF6",
            "gridcolor": "white",
            "gridwidth": 2,
            "linecolor": "white",
            "showbackground": true,
            "ticks": "",
            "zerolinecolor": "white"
           },
           "yaxis": {
            "backgroundcolor": "#E5ECF6",
            "gridcolor": "white",
            "gridwidth": 2,
            "linecolor": "white",
            "showbackground": true,
            "ticks": "",
            "zerolinecolor": "white"
           },
           "zaxis": {
            "backgroundcolor": "#E5ECF6",
            "gridcolor": "white",
            "gridwidth": 2,
            "linecolor": "white",
            "showbackground": true,
            "ticks": "",
            "zerolinecolor": "white"
           }
          },
          "shapedefaults": {
           "line": {
            "color": "#2a3f5f"
           }
          },
          "ternary": {
           "aaxis": {
            "gridcolor": "white",
            "linecolor": "white",
            "ticks": ""
           },
           "baxis": {
            "gridcolor": "white",
            "linecolor": "white",
            "ticks": ""
           },
           "bgcolor": "#E5ECF6",
           "caxis": {
            "gridcolor": "white",
            "linecolor": "white",
            "ticks": ""
           }
          },
          "title": {
           "x": 0.05
          },
          "xaxis": {
           "automargin": true,
           "gridcolor": "white",
           "linecolor": "white",
           "ticks": "",
           "title": {
            "standoff": 15
           },
           "zerolinecolor": "white",
           "zerolinewidth": 2
          },
          "yaxis": {
           "automargin": true,
           "gridcolor": "white",
           "linecolor": "white",
           "ticks": "",
           "title": {
            "standoff": 15
           },
           "zerolinecolor": "white",
           "zerolinewidth": 2
          }
         }
        },
        "title": {
         "font": {
          "color": "darkred",
          "family": "Arial",
          "size": 20
         },
         "text": "Number of People",
         "x": 0.45,
         "y": 0.875
        },
        "width": 800,
        "xaxis": {
         "autorange": true,
         "range": [
          -0.5,
          3.5
         ],
         "showticklabels": true,
         "tickfont": {
          "color": "black",
          "family": "Arial",
          "size": 16
         },
         "tickmode": "array",
         "ticktext": [
          "Unacceptable",
          "Acceptable",
          "Good",
          "Very Good"
         ],
         "tickvals": [
          "unacc",
          "acc",
          "good",
          "vgood"
         ],
         "title": {
          "text": "Condition"
         },
         "type": "category"
        },
        "yaxis": {
         "autorange": true,
         "range": [
          0,
          606.3157894736842
         ],
         "tickfont": {
          "color": "black",
          "family": "Arial",
          "size": 16
         },
         "title": {
          "text": "Number of Cars"
         }
        }
       }
      },
      "image/png": "[encoded data removed]",
      "text/html": [
       "<div>                            <div id=\"b8528eed-63b2-4714-976c-ef64d13a1f6d\" class=\"plotly-graph-div\" style=\"height:550px; width:800px;\"></div>            <script type=\"text/javascript\">                require([\"plotly\"], function(Plotly) {                    window.PLOTLYENV=window.PLOTLYENV || {};                                    if (document.getElementById(\"b8528eed-63b2-4714-976c-ef64d13a1f6d\")) {                    Plotly.newPlot(                        \"b8528eed-63b2-4714-976c-ef64d13a1f6d\",                        [{\"marker\":{\"color\":\"#fb9f3a\"},\"name\":\"2 People\",\"type\":\"histogram\",\"x\":[\"unacc\",\"unacc\",\"unacc\",\"unacc\",\"unacc\",\"unacc\",\"unacc\",\"unacc\",\"unacc\",\"unacc\",\"unacc\",\"unacc\",\"unacc\",\"unacc\",\"unacc\",\"unacc\",\"unacc\",\"unacc\",\"unacc\",\"unacc\",\"unacc\",\"unacc\",\"unacc\",\"unacc\",\"unacc\",\"unacc\",\"unacc\",\"unacc\",\"unacc\",\"unacc\",\"unacc\",\"unacc\",\"unacc\",\"unacc\",\"unacc\",\"unacc\",\"unacc\",\"unacc\",\"unacc\",\"unacc\",\"unacc\",\"unacc\",\"unacc\",\"unacc\",\"unacc\",\"unacc\",\"unacc\",\"unacc\",\"unacc\",\"unacc\",\"unacc\",\"unacc\",\"unacc\",\"unacc\",\"unacc\",\"unacc\",\"unacc\",\"unacc\",\"unacc\",\"unacc\",\"unacc\",\"unacc\",\"unacc\",\"unacc\",\"unacc\",\"unacc\",\"unacc\",\"unacc\",\"unacc\",\"unacc\",\"unacc\",\"unacc\",\"unacc\",\"unacc\",\"unacc\",\"unacc\",\"unacc\",\"unacc\",\"unacc\",\"unacc\",\"unacc\",\"unacc\",\"unacc\",\"unacc\",\"unacc\",\"unacc\",\"unacc\",\"unacc\",\"unacc\",\"unacc\",\"unacc\",\"unacc\",\"unacc\",\"unacc\",\"unacc\",\"unacc\",\"unacc\",\"unacc\",\"unacc\",\"unacc\",\"unacc\",\"unacc\",\"unacc\",\"unacc\",\"unacc\",\"unacc\",\"unacc\",\"unacc\",\"unacc\",\"unacc\",\"unacc\",\"unacc\",\"unacc\",\"unacc\",\"unacc\",\"unacc\",\"unacc\",\"unacc\",\"unacc\",\"unacc\",\"unacc\",\"unacc\",\"unacc\",\"unacc\",\"unacc\",\"unacc\",\"unacc\",\"unacc\",\"unacc\",\"unacc\",\"unacc\",\"unacc\",\"unacc\",\"unacc\",\"unacc\",\"unacc\",\"unacc\",\"unacc\",\"unacc\",\"unacc\",\"unacc\",\"unacc\",\"unacc\",\"unacc\",\"unacc\",\"unacc\",\"unacc\",\"unacc\",\"unacc\",\"unacc\",\"unacc\",\"unacc\",\"unacc\",\"unacc\",\"unacc\",\"unacc\",\"unacc\",\"unacc\",\"unacc\",\"unacc\",\"unacc\",\"unacc\",\"unacc\",\"unacc\",\"unacc\",\"unacc\",\"unacc\",\"unacc\",\"unacc\",\"unacc\",\"unacc\",\"unacc\",\"unacc\",\"unacc\",\"unacc\",\"unacc\",\"unacc\",\"unacc\",\"unacc\",\"unacc\",\"unacc\",\"unacc\",\"unacc\",\"unacc\",\"unacc\",\"unacc\",\"unacc\",\"unacc\",\"unacc\",\"unacc\",\"unacc\",\"unacc\",\"unacc\",\"unacc\",\"unacc\",\"unacc\",\"unacc\",\"unacc\",\"unacc\",\"unacc\",\"unacc\",\"unacc\",\"unacc\",\"unacc\",\"unacc\",\"unacc\",\"unacc\",\"unacc\",\"unacc\",\"unacc\",\"unacc\",\"unacc\",\"unacc\",\"unacc\",\"unacc\",\"unacc\",\"unacc\",\"unacc\",\"unacc\",\"unacc\",\"unacc\",\"unacc\",\"unacc\",\"unacc\",\"unacc\",\"unacc\",\"unacc\",\"unacc\",\"unacc\",\"unacc\",\"unacc\",\"unacc\",\"unacc\",\"unacc\",\"unacc\",\"unacc\",\"unacc\",\"unacc\",\"unacc\",\"unacc\",\"unacc\",\"unacc\",\"unacc\",\"unacc\",\"unacc\",\"unacc\",\"unacc\",\"unacc\",\"unacc\",\"unacc\",\"unacc\",\"unacc\",\"unacc\",\"unacc\",\"unacc\",\"unacc\",\"unacc\",\"unacc\",\"unacc\",\"unacc\",\"unacc\",\"unacc\",\"unacc\",\"unacc\",\"unacc\",\"unacc\",\"unacc\",\"unacc\",\"unacc\",\"unacc\",\"unacc\",\"unacc\",\"unacc\",\"unacc\",\"unacc\",\"unacc\",\"unacc\",\"unacc\",\"unacc\",\"unacc\",\"unacc\",\"unacc\",\"unacc\",\"unacc\",\"unacc\",\"unacc\",\"unacc\",\"unacc\",\"unacc\",\"unacc\",\"unacc\",\"unacc\",\"unacc\",\"unacc\",\"unacc\",\"unacc\",\"unacc\",\"unacc\",\"unacc\",\"unacc\",\"unacc\",\"unacc\",\"unacc\",\"unacc\",\"unacc\",\"unacc\",\"unacc\",\"unacc\",\"unacc\",\"unacc\",\"unacc\",\"unacc\",\"unacc\",\"unacc\",\"unacc\",\"unacc\",\"unacc\",\"unacc\",\"unacc\",\"unacc\",\"unacc\",\"unacc\",\"unacc\",\"unacc\",\"unacc\",\"unacc\",\"unacc\",\"unacc\",\"unacc\",\"unacc\",\"unacc\",\"unacc\",\"unacc\",\"unacc\",\"unacc\",\"unacc\",\"unacc\",\"unacc\",\"unacc\",\"unacc\",\"unacc\",\"unacc\",\"unacc\",\"unacc\",\"unacc\",\"unacc\",\"unacc\",\"unacc\",\"unacc\",\"unacc\",\"unacc\",\"unacc\",\"unacc\",\"unacc\",\"unacc\",\"unacc\",\"unacc\",\"unacc\",\"unacc\",\"unacc\",\"unacc\",\"unacc\",\"unacc\",\"unacc\",\"unacc\",\"unacc\",\"unacc\",\"unacc\",\"unacc\",\"unacc\",\"unacc\",\"unacc\",\"unacc\",\"unacc\",\"unacc\",\"unacc\",\"unacc\",\"unacc\",\"unacc\",\"unacc\",\"unacc\",\"unacc\",\"unacc\",\"unacc\",\"unacc\",\"unacc\",\"unacc\",\"unacc\",\"unacc\",\"unacc\",\"unacc\",\"unacc\",\"unacc\",\"unacc\",\"unacc\",\"unacc\",\"unacc\",\"unacc\",\"unacc\",\"unacc\",\"unacc\",\"unacc\",\"unacc\",\"unacc\",\"unacc\",\"unacc\",\"unacc\",\"unacc\",\"unacc\",\"unacc\",\"unacc\",\"unacc\",\"unacc\",\"unacc\",\"unacc\",\"unacc\",\"unacc\",\"unacc\",\"unacc\",\"unacc\",\"unacc\",\"unacc\",\"unacc\",\"unacc\",\"unacc\",\"unacc\",\"unacc\",\"unacc\",\"unacc\",\"unacc\",\"unacc\",\"unacc\",\"unacc\",\"unacc\",\"unacc\",\"unacc\",\"unacc\",\"unacc\",\"unacc\",\"unacc\",\"unacc\",\"unacc\",\"unacc\",\"unacc\",\"unacc\",\"unacc\",\"unacc\",\"unacc\",\"unacc\",\"unacc\",\"unacc\",\"unacc\",\"unacc\",\"unacc\",\"unacc\",\"unacc\",\"unacc\",\"unacc\",\"unacc\",\"unacc\",\"unacc\",\"unacc\",\"unacc\",\"unacc\",\"unacc\",\"unacc\",\"unacc\",\"unacc\",\"unacc\",\"unacc\",\"unacc\",\"unacc\",\"unacc\",\"unacc\",\"unacc\",\"unacc\",\"unacc\",\"unacc\",\"unacc\",\"unacc\",\"unacc\",\"unacc\",\"unacc\",\"unacc\",\"unacc\",\"unacc\",\"unacc\",\"unacc\",\"unacc\",\"unacc\",\"unacc\",\"unacc\",\"unacc\",\"unacc\",\"unacc\",\"unacc\",\"unacc\",\"unacc\",\"unacc\",\"unacc\",\"unacc\",\"unacc\",\"unacc\",\"unacc\",\"unacc\",\"unacc\",\"unacc\",\"unacc\",\"unacc\",\"unacc\",\"unacc\",\"unacc\",\"unacc\",\"unacc\",\"unacc\",\"unacc\",\"unacc\",\"unacc\",\"unacc\",\"unacc\",\"unacc\",\"unacc\",\"unacc\",\"unacc\",\"unacc\",\"unacc\",\"unacc\",\"unacc\",\"unacc\",\"unacc\",\"unacc\",\"unacc\",\"unacc\",\"unacc\",\"unacc\",\"unacc\",\"unacc\",\"unacc\",\"unacc\",\"unacc\",\"unacc\",\"unacc\",\"unacc\",\"unacc\",\"unacc\",\"unacc\",\"unacc\",\"unacc\",\"unacc\",\"unacc\",\"unacc\",\"unacc\",\"unacc\",\"unacc\",\"unacc\",\"unacc\",\"unacc\",\"unacc\",\"unacc\",\"unacc\",\"unacc\",\"unacc\",\"unacc\",\"unacc\",\"unacc\",\"unacc\",\"unacc\",\"unacc\",\"unacc\",\"unacc\",\"unacc\",\"unacc\",\"unacc\",\"unacc\",\"unacc\",\"unacc\"]},{\"marker\":{\"color\":\"#d8576b\"},\"name\":\"4 People\",\"type\":\"histogram\",\"x\":[\"unacc\",\"unacc\",\"unacc\",\"unacc\",\"unacc\",\"unacc\",\"unacc\",\"unacc\",\"unacc\",\"unacc\",\"unacc\",\"unacc\",\"unacc\",\"unacc\",\"unacc\",\"unacc\",\"unacc\",\"unacc\",\"unacc\",\"unacc\",\"unacc\",\"unacc\",\"unacc\",\"unacc\",\"unacc\",\"unacc\",\"unacc\",\"unacc\",\"unacc\",\"unacc\",\"unacc\",\"unacc\",\"unacc\",\"unacc\",\"unacc\",\"unacc\",\"unacc\",\"unacc\",\"unacc\",\"unacc\",\"unacc\",\"unacc\",\"unacc\",\"unacc\",\"unacc\",\"unacc\",\"unacc\",\"unacc\",\"unacc\",\"unacc\",\"unacc\",\"unacc\",\"unacc\",\"unacc\",\"unacc\",\"unacc\",\"unacc\",\"unacc\",\"unacc\",\"unacc\",\"unacc\",\"unacc\",\"unacc\",\"unacc\",\"unacc\",\"unacc\",\"unacc\",\"unacc\",\"unacc\",\"unacc\",\"unacc\",\"unacc\",\"unacc\",\"unacc\",\"acc\",\"unacc\",\"unacc\",\"acc\",\"unacc\",\"acc\",\"acc\",\"unacc\",\"unacc\",\"acc\",\"unacc\",\"unacc\",\"acc\",\"unacc\",\"acc\",\"acc\",\"unacc\",\"unacc\",\"acc\",\"unacc\",\"acc\",\"acc\",\"unacc\",\"acc\",\"acc\",\"unacc\",\"unacc\",\"acc\",\"unacc\",\"acc\",\"acc\",\"unacc\",\"acc\",\"acc\",\"unacc\",\"unacc\",\"acc\",\"unacc\",\"unacc\",\"acc\",\"unacc\",\"acc\",\"acc\",\"unacc\",\"unacc\",\"acc\",\"unacc\",\"unacc\",\"acc\",\"unacc\",\"acc\",\"acc\",\"unacc\",\"unacc\",\"acc\",\"unacc\",\"acc\",\"acc\",\"unacc\",\"acc\",\"acc\",\"unacc\",\"unacc\",\"acc\",\"unacc\",\"acc\",\"acc\",\"unacc\",\"acc\",\"acc\",\"unacc\",\"unacc\",\"unacc\",\"unacc\",\"unacc\",\"unacc\",\"unacc\",\"unacc\",\"unacc\",\"unacc\",\"unacc\",\"unacc\",\"unacc\",\"unacc\",\"unacc\",\"unacc\",\"unacc\",\"unacc\",\"unacc\",\"unacc\",\"unacc\",\"unacc\",\"unacc\",\"unacc\",\"unacc\",\"unacc\",\"unacc\",\"unacc\",\"unacc\",\"unacc\",\"unacc\",\"unacc\",\"unacc\",\"unacc\",\"unacc\",\"unacc\",\"unacc\",\"unacc\",\"acc\",\"unacc\",\"unacc\",\"acc\",\"unacc\",\"acc\",\"acc\",\"unacc\",\"unacc\",\"acc\",\"unacc\",\"unacc\",\"acc\",\"unacc\",\"acc\",\"acc\",\"unacc\",\"unacc\",\"acc\",\"unacc\",\"acc\",\"acc\",\"unacc\",\"acc\",\"acc\",\"unacc\",\"unacc\",\"acc\",\"unacc\",\"acc\",\"acc\",\"unacc\",\"acc\",\"acc\",\"unacc\",\"unacc\",\"acc\",\"unacc\",\"unacc\",\"acc\",\"unacc\",\"acc\",\"acc\",\"unacc\",\"unacc\",\"acc\",\"unacc\",\"unacc\",\"acc\",\"unacc\",\"acc\",\"acc\",\"unacc\",\"unacc\",\"acc\",\"unacc\",\"acc\",\"acc\",\"unacc\",\"acc\",\"acc\",\"unacc\",\"unacc\",\"acc\",\"unacc\",\"acc\",\"acc\",\"unacc\",\"acc\",\"acc\",\"unacc\",\"unacc\",\"acc\",\"unacc\",\"unacc\",\"acc\",\"unacc\",\"acc\",\"acc\",\"unacc\",\"unacc\",\"acc\",\"unacc\",\"unacc\",\"acc\",\"unacc\",\"acc\",\"acc\",\"unacc\",\"unacc\",\"acc\",\"unacc\",\"acc\",\"acc\",\"unacc\",\"acc\",\"acc\",\"unacc\",\"unacc\",\"acc\",\"unacc\",\"acc\",\"acc\",\"unacc\",\"acc\",\"acc\",\"unacc\",\"unacc\",\"acc\",\"unacc\",\"unacc\",\"acc\",\"unacc\",\"acc\",\"acc\",\"unacc\",\"unacc\",\"acc\",\"unacc\",\"unacc\",\"acc\",\"unacc\",\"acc\",\"acc\",\"unacc\",\"unacc\",\"acc\",\"unacc\",\"acc\",\"acc\",\"unacc\",\"acc\",\"acc\",\"unacc\",\"unacc\",\"acc\",\"unacc\",\"acc\",\"acc\",\"unacc\",\"acc\",\"acc\",\"unacc\",\"unacc\",\"acc\",\"unacc\",\"unacc\",\"acc\",\"unacc\",\"acc\",\"acc\",\"unacc\",\"unacc\",\"acc\",\"unacc\",\"unacc\",\"acc\",\"unacc\",\"acc\",\"acc\",\"unacc\",\"unacc\",\"acc\",\"unacc\",\"acc\",\"acc\",\"unacc\",\"acc\",\"acc\",\"unacc\",\"unacc\",\"acc\",\"unacc\",\"acc\",\"acc\",\"unacc\",\"acc\",\"acc\",\"unacc\",\"acc\",\"acc\",\"unacc\",\"acc\",\"acc\",\"unacc\",\"acc\",\"vgood\",\"unacc\",\"acc\",\"acc\",\"unacc\",\"acc\",\"acc\",\"unacc\",\"acc\",\"vgood\",\"unacc\",\"acc\",\"acc\",\"unacc\",\"acc\",\"vgood\",\"unacc\",\"acc\",\"vgood\",\"unacc\",\"acc\",\"acc\",\"unacc\",\"acc\",\"vgood\",\"unacc\",\"acc\",\"vgood\",\"unacc\",\"acc\",\"good\",\"unacc\",\"acc\",\"good\",\"unacc\",\"good\",\"vgood\",\"unacc\",\"acc\",\"good\",\"unacc\",\"acc\",\"good\",\"unacc\",\"good\",\"vgood\",\"unacc\",\"acc\",\"good\",\"unacc\",\"good\",\"vgood\",\"unacc\",\"good\",\"vgood\",\"unacc\",\"acc\",\"good\",\"unacc\",\"good\",\"vgood\",\"unacc\",\"good\",\"vgood\",\"unacc\",\"unacc\",\"acc\",\"unacc\",\"unacc\",\"acc\",\"unacc\",\"acc\",\"acc\",\"unacc\",\"unacc\",\"acc\",\"unacc\",\"unacc\",\"acc\",\"unacc\",\"acc\",\"acc\",\"unacc\",\"unacc\",\"acc\",\"unacc\",\"acc\",\"acc\",\"unacc\",\"acc\",\"acc\",\"unacc\",\"unacc\",\"acc\",\"unacc\",\"acc\",\"acc\",\"unacc\",\"acc\",\"acc\",\"unacc\",\"acc\",\"acc\",\"unacc\",\"acc\",\"acc\",\"unacc\",\"acc\",\"vgood\",\"unacc\",\"acc\",\"acc\",\"unacc\",\"acc\",\"acc\",\"unacc\",\"acc\",\"vgood\",\"unacc\",\"acc\",\"acc\",\"unacc\",\"acc\",\"vgood\",\"unacc\",\"acc\",\"vgood\",\"unacc\",\"acc\",\"acc\",\"unacc\",\"acc\",\"vgood\",\"unacc\",\"acc\",\"vgood\",\"unacc\",\"acc\",\"good\",\"unacc\",\"acc\",\"good\",\"unacc\",\"good\",\"vgood\",\"unacc\",\"acc\",\"good\",\"unacc\",\"acc\",\"good\",\"unacc\",\"good\",\"vgood\",\"unacc\",\"acc\",\"good\",\"unacc\",\"good\",\"vgood\",\"unacc\",\"good\",\"vgood\",\"unacc\",\"acc\",\"good\",\"unacc\",\"good\",\"vgood\",\"unacc\",\"good\",\"vgood\",\"unacc\",\"acc\",\"good\",\"unacc\",\"acc\",\"good\",\"unacc\",\"good\",\"vgood\",\"unacc\",\"acc\",\"good\",\"unacc\",\"acc\",\"good\",\"unacc\",\"good\",\"vgood\",\"unacc\",\"acc\",\"good\",\"unacc\",\"good\",\"vgood\",\"unacc\",\"good\",\"vgood\",\"unacc\",\"acc\",\"good\",\"unacc\",\"good\",\"vgood\",\"unacc\",\"good\",\"vgood\"]},{\"marker\":{\"color\":\"#9c179e\"},\"name\":\"More than 4 People\",\"type\":\"histogram\",\"x\":[\"unacc\",\"unacc\",\"unacc\",\"unacc\",\"unacc\",\"unacc\",\"unacc\",\"unacc\",\"unacc\",\"unacc\",\"unacc\",\"unacc\",\"unacc\",\"unacc\",\"unacc\",\"unacc\",\"unacc\",\"unacc\",\"unacc\",\"unacc\",\"unacc\",\"unacc\",\"unacc\",\"unacc\",\"unacc\",\"unacc\",\"unacc\",\"unacc\",\"unacc\",\"unacc\",\"unacc\",\"unacc\",\"unacc\",\"unacc\",\"unacc\",\"unacc\",\"unacc\",\"unacc\",\"unacc\",\"unacc\",\"unacc\",\"unacc\",\"unacc\",\"unacc\",\"unacc\",\"unacc\",\"unacc\",\"unacc\",\"unacc\",\"unacc\",\"unacc\",\"unacc\",\"unacc\",\"unacc\",\"unacc\",\"unacc\",\"unacc\",\"unacc\",\"unacc\",\"unacc\",\"unacc\",\"unacc\",\"unacc\",\"unacc\",\"unacc\",\"unacc\",\"unacc\",\"unacc\",\"unacc\",\"unacc\",\"unacc\",\"unacc\",\"unacc\",\"unacc\",\"unacc\",\"unacc\",\"unacc\",\"acc\",\"unacc\",\"acc\",\"acc\",\"unacc\",\"unacc\",\"acc\",\"unacc\",\"acc\",\"acc\",\"unacc\",\"acc\",\"acc\",\"unacc\",\"unacc\",\"acc\",\"unacc\",\"acc\",\"acc\",\"unacc\",\"acc\",\"acc\",\"unacc\",\"unacc\",\"acc\",\"unacc\",\"acc\",\"acc\",\"unacc\",\"acc\",\"acc\",\"unacc\",\"unacc\",\"unacc\",\"unacc\",\"unacc\",\"acc\",\"unacc\",\"acc\",\"acc\",\"unacc\",\"unacc\",\"acc\",\"unacc\",\"acc\",\"acc\",\"unacc\",\"acc\",\"acc\",\"unacc\",\"unacc\",\"acc\",\"unacc\",\"acc\",\"acc\",\"unacc\",\"acc\",\"acc\",\"unacc\",\"unacc\",\"acc\",\"unacc\",\"acc\",\"acc\",\"unacc\",\"acc\",\"acc\",\"unacc\",\"unacc\",\"unacc\",\"unacc\",\"unacc\",\"unacc\",\"unacc\",\"unacc\",\"unacc\",\"unacc\",\"unacc\",\"unacc\",\"unacc\",\"unacc\",\"unacc\",\"unacc\",\"unacc\",\"unacc\",\"unacc\",\"unacc\",\"unacc\",\"unacc\",\"unacc\",\"unacc\",\"unacc\",\"unacc\",\"unacc\",\"unacc\",\"unacc\",\"unacc\",\"unacc\",\"unacc\",\"unacc\",\"unacc\",\"unacc\",\"unacc\",\"unacc\",\"unacc\",\"unacc\",\"unacc\",\"unacc\",\"acc\",\"unacc\",\"acc\",\"acc\",\"unacc\",\"unacc\",\"acc\",\"unacc\",\"acc\",\"acc\",\"unacc\",\"acc\",\"acc\",\"unacc\",\"unacc\",\"acc\",\"unacc\",\"acc\",\"acc\",\"unacc\",\"acc\",\"acc\",\"unacc\",\"unacc\",\"acc\",\"unacc\",\"acc\",\"acc\",\"unacc\",\"acc\",\"acc\",\"unacc\",\"unacc\",\"unacc\",\"unacc\",\"unacc\",\"acc\",\"unacc\",\"acc\",\"acc\",\"unacc\",\"unacc\",\"acc\",\"unacc\",\"acc\",\"acc\",\"unacc\",\"acc\",\"acc\",\"unacc\",\"unacc\",\"acc\",\"unacc\",\"acc\",\"acc\",\"unacc\",\"acc\",\"acc\",\"unacc\",\"unacc\",\"acc\",\"unacc\",\"acc\",\"acc\",\"unacc\",\"acc\",\"acc\",\"unacc\",\"unacc\",\"unacc\",\"unacc\",\"unacc\",\"acc\",\"unacc\",\"acc\",\"acc\",\"unacc\",\"unacc\",\"acc\",\"unacc\",\"acc\",\"acc\",\"unacc\",\"acc\",\"acc\",\"unacc\",\"unacc\",\"acc\",\"unacc\",\"acc\",\"acc\",\"unacc\",\"acc\",\"acc\",\"unacc\",\"unacc\",\"acc\",\"unacc\",\"acc\",\"acc\",\"unacc\",\"acc\",\"acc\",\"unacc\",\"unacc\",\"unacc\",\"unacc\",\"unacc\",\"acc\",\"unacc\",\"acc\",\"acc\",\"unacc\",\"unacc\",\"acc\",\"unacc\",\"acc\",\"acc\",\"unacc\",\"acc\",\"acc\",\"unacc\",\"unacc\",\"acc\",\"unacc\",\"acc\",\"acc\",\"unacc\",\"acc\",\"acc\",\"unacc\",\"unacc\",\"acc\",\"unacc\",\"acc\",\"acc\",\"unacc\",\"acc\",\"acc\",\"unacc\",\"unacc\",\"unacc\",\"unacc\",\"unacc\",\"acc\",\"unacc\",\"acc\",\"acc\",\"unacc\",\"unacc\",\"acc\",\"unacc\",\"acc\",\"acc\",\"unacc\",\"acc\",\"acc\",\"unacc\",\"unacc\",\"acc\",\"unacc\",\"acc\",\"acc\",\"unacc\",\"acc\",\"acc\",\"unacc\",\"unacc\",\"acc\",\"unacc\",\"acc\",\"acc\",\"unacc\",\"acc\",\"acc\",\"unacc\",\"unacc\",\"unacc\",\"unacc\",\"acc\",\"acc\",\"unacc\",\"acc\",\"vgood\",\"unacc\",\"acc\",\"acc\",\"unacc\",\"acc\",\"vgood\",\"unacc\",\"acc\",\"vgood\",\"unacc\",\"acc\",\"acc\",\"unacc\",\"acc\",\"vgood\",\"unacc\",\"acc\",\"vgood\",\"unacc\",\"acc\",\"acc\",\"unacc\",\"acc\",\"vgood\",\"unacc\",\"acc\",\"vgood\",\"unacc\",\"unacc\",\"unacc\",\"unacc\",\"acc\",\"good\",\"unacc\",\"good\",\"vgood\",\"unacc\",\"acc\",\"good\",\"unacc\",\"good\",\"vgood\",\"unacc\",\"good\",\"vgood\",\"unacc\",\"acc\",\"good\",\"unacc\",\"good\",\"vgood\",\"unacc\",\"good\",\"vgood\",\"unacc\",\"acc\",\"good\",\"unacc\",\"good\",\"vgood\",\"unacc\",\"good\",\"vgood\",\"unacc\",\"unacc\",\"unacc\",\"unacc\",\"unacc\",\"acc\",\"unacc\",\"acc\",\"acc\",\"unacc\",\"unacc\",\"acc\",\"unacc\",\"acc\",\"acc\",\"unacc\",\"acc\",\"acc\",\"unacc\",\"unacc\",\"acc\",\"unacc\",\"acc\",\"acc\",\"unacc\",\"acc\",\"acc\",\"unacc\",\"unacc\",\"acc\",\"unacc\",\"acc\",\"acc\",\"unacc\",\"acc\",\"acc\",\"unacc\",\"unacc\",\"unacc\",\"unacc\",\"acc\",\"acc\",\"unacc\",\"acc\",\"vgood\",\"unacc\",\"acc\",\"acc\",\"unacc\",\"acc\",\"vgood\",\"unacc\",\"acc\",\"vgood\",\"unacc\",\"acc\",\"acc\",\"unacc\",\"acc\",\"vgood\",\"unacc\",\"acc\",\"vgood\",\"unacc\",\"acc\",\"acc\",\"unacc\",\"acc\",\"vgood\",\"unacc\",\"acc\",\"vgood\",\"unacc\",\"unacc\",\"unacc\",\"unacc\",\"acc\",\"good\",\"unacc\",\"good\",\"vgood\",\"unacc\",\"acc\",\"good\",\"unacc\",\"good\",\"vgood\",\"unacc\",\"good\",\"vgood\",\"unacc\",\"acc\",\"good\",\"unacc\",\"good\",\"vgood\",\"unacc\",\"good\",\"vgood\",\"unacc\",\"acc\",\"good\",\"unacc\",\"good\",\"vgood\",\"unacc\",\"good\",\"vgood\",\"unacc\",\"unacc\",\"unacc\",\"unacc\",\"acc\",\"good\",\"unacc\",\"good\",\"vgood\",\"unacc\",\"acc\",\"good\",\"unacc\",\"good\",\"vgood\",\"unacc\",\"good\",\"vgood\",\"unacc\",\"acc\",\"good\",\"unacc\",\"good\",\"vgood\",\"unacc\",\"good\",\"vgood\",\"unacc\",\"acc\",\"good\",\"unacc\",\"good\",\"vgood\",\"unacc\",\"good\",\"vgood\"]}],                        {\"height\":550,\"legend\":{\"font\":{\"color\":\"black\",\"family\":\"Arial\",\"size\":16}},\"template\":{\"data\":{\"bar\":[{\"error_x\":{\"color\":\"#2a3f5f\"},\"error_y\":{\"color\":\"#2a3f5f\"},\"marker\":{\"line\":{\"color\":\"#E5ECF6\",\"width\":0.5},\"pattern\":{\"fillmode\":\"overlay\",\"size\":10,\"solidity\":0.2}},\"type\":\"bar\"}],\"barpolar\":[{\"marker\":{\"line\":{\"color\":\"#E5ECF6\",\"width\":0.5},\"pattern\":{\"fillmode\":\"overlay\",\"size\":10,\"solidity\":0.2}},\"type\":\"barpolar\"}],\"carpet\":[{\"aaxis\":{\"endlinecolor\":\"#2a3f5f\",\"gridcolor\":\"white\",\"linecolor\":\"white\",\"minorgridcolor\":\"white\",\"startlinecolor\":\"#2a3f5f\"},\"baxis\":{\"endlinecolor\":\"#2a3f5f\",\"gridcolor\":\"white\",\"linecolor\":\"white\",\"minorgridcolor\":\"white\",\"startlinecolor\":\"#2a3f5f\"},\"type\":\"carpet\"}],\"choropleth\":[{\"colorbar\":{\"outlinewidth\":0,\"ticks\":\"\"},\"type\":\"choropleth\"}],\"contour\":[{\"colorbar\":{\"outlinewidth\":0,\"ticks\":\"\"},\"colorscale\":[[0.0,\"#0d0887\"],[0.1111111111111111,\"#46039f\"],[0.2222222222222222,\"#7201a8\"],[0.3333333333333333,\"#9c179e\"],[0.4444444444444444,\"#bd3786\"],[0.5555555555555556,\"#d8576b\"],[0.6666666666666666,\"#ed7953\"],[0.7777777777777778,\"#fb9f3a\"],[0.8888888888888888,\"#fdca26\"],[1.0,\"#f0f921\"]],\"type\":\"contour\"}],\"contourcarpet\":[{\"colorbar\":{\"outlinewidth\":0,\"ticks\":\"\"},\"type\":\"contourcarpet\"}],\"heatmap\":[{\"colorbar\":{\"outlinewidth\":0,\"ticks\":\"\"},\"colorscale\":[[0.0,\"#0d0887\"],[0.1111111111111111,\"#46039f\"],[0.2222222222222222,\"#7201a8\"],[0.3333333333333333,\"#9c179e\"],[0.4444444444444444,\"#bd3786\"],[0.5555555555555556,\"#d8576b\"],[0.6666666666666666,\"#ed7953\"],[0.7777777777777778,\"#fb9f3a\"],[0.8888888888888888,\"#fdca26\"],[1.0,\"#f0f921\"]],\"type\":\"heatmap\"}],\"heatmapgl\":[{\"colorbar\":{\"outlinewidth\":0,\"ticks\":\"\"},\"colorscale\":[[0.0,\"#0d0887\"],[0.1111111111111111,\"#46039f\"],[0.2222222222222222,\"#7201a8\"],[0.3333333333333333,\"#9c179e\"],[0.4444444444444444,\"#bd3786\"],[0.5555555555555556,\"#d8576b\"],[0.6666666666666666,\"#ed7953\"],[0.7777777777777778,\"#fb9f3a\"],[0.8888888888888888,\"#fdca26\"],[1.0,\"#f0f921\"]],\"type\":\"heatmapgl\"}],\"histogram\":[{\"marker\":{\"pattern\":{\"fillmode\":\"overlay\",\"size\":10,\"solidity\":0.2}},\"type\":\"histogram\"}],\"histogram2d\":[{\"colorbar\":{\"outlinewidth\":0,\"ticks\":\"\"},\"colorscale\":[[0.0,\"#0d0887\"],[0.1111111111111111,\"#46039f\"],[0.2222222222222222,\"#7201a8\"],[0.3333333333333333,\"#9c179e\"],[0.4444444444444444,\"#bd3786\"],[0.5555555555555556,\"#d8576b\"],[0.6666666666666666,\"#ed7953\"],[0.7777777777777778,\"#fb9f3a\"],[0.8888888888888888,\"#fdca26\"],[1.0,\"#f0f921\"]],\"type\":\"histogram2d\"}],\"histogram2dcontour\":[{\"colorbar\":{\"outlinewidth\":0,\"ticks\":\"\"},\"colorscale\":[[0.0,\"#0d0887\"],[0.1111111111111111,\"#46039f\"],[0.2222222222222222,\"#7201a8\"],[0.3333333333333333,\"#9c179e\"],[0.4444444444444444,\"#bd3786\"],[0.5555555555555556,\"#d8576b\"],[0.6666666666666666,\"#ed7953\"],[0.7777777777777778,\"#fb9f3a\"],[0.8888888888888888,\"#fdca26\"],[1.0,\"#f0f921\"]],\"type\":\"histogram2dcontour\"}],\"mesh3d\":[{\"colorbar\":{\"outlinewidth\":0,\"ticks\":\"\"},\"type\":\"mesh3d\"}],\"parcoords\":[{\"line\":{\"colorbar\":{\"outlinewidth\":0,\"ticks\":\"\"}},\"type\":\"parcoords\"}],\"pie\":[{\"automargin\":true,\"type\":\"pie\"}],\"scatter\":[{\"marker\":{\"colorbar\":{\"outlinewidth\":0,\"ticks\":\"\"}},\"type\":\"scatter\"}],\"scatter3d\":[{\"line\":{\"colorbar\":{\"outlinewidth\":0,\"ticks\":\"\"}},\"marker\":{\"colorbar\":{\"outlinewidth\":0,\"ticks\":\"\"}},\"type\":\"scatter3d\"}],\"scattercarpet\":[{\"marker\":{\"colorbar\":{\"outlinewidth\":0,\"ticks\":\"\"}},\"type\":\"scattercarpet\"}],\"scattergeo\":[{\"marker\":{\"colorbar\":{\"outlinewidth\":0,\"ticks\":\"\"}},\"type\":\"scattergeo\"}],\"scattergl\":[{\"marker\":{\"colorbar\":{\"outlinewidth\":0,\"ticks\":\"\"}},\"type\":\"scattergl\"}],\"scattermapbox\":[{\"marker\":{\"colorbar\":{\"outlinewidth\":0,\"ticks\":\"\"}},\"type\":\"scattermapbox\"}],\"scatterpolar\":[{\"marker\":{\"colorbar\":{\"outlinewidth\":0,\"ticks\":\"\"}},\"type\":\"scatterpolar\"}],\"scatterpolargl\":[{\"marker\":{\"colorbar\":{\"outlinewidth\":0,\"ticks\":\"\"}},\"type\":\"scatterpolargl\"}],\"scatterternary\":[{\"marker\":{\"colorbar\":{\"outlinewidth\":0,\"ticks\":\"\"}},\"type\":\"scatterternary\"}],\"surface\":[{\"colorbar\":{\"outlinewidth\":0,\"ticks\":\"\"},\"colorscale\":[[0.0,\"#0d0887\"],[0.1111111111111111,\"#46039f\"],[0.2222222222222222,\"#7201a8\"],[0.3333333333333333,\"#9c179e\"],[0.4444444444444444,\"#bd3786\"],[0.5555555555555556,\"#d8576b\"],[0.6666666666666666,\"#ed7953\"],[0.7777777777777778,\"#fb9f3a\"],[0.8888888888888888,\"#fdca26\"],[1.0,\"#f0f921\"]],\"type\":\"surface\"}],\"table\":[{\"cells\":{\"fill\":{\"color\":\"#EBF0F8\"},\"line\":{\"color\":\"white\"}},\"header\":{\"fill\":{\"color\":\"#C8D4E3\"},\"line\":{\"color\":\"white\"}},\"type\":\"table\"}]},\"layout\":{\"annotationdefaults\":{\"arrowcolor\":\"#2a3f5f\",\"arrowhead\":0,\"arrowwidth\":1},\"autotypenumbers\":\"strict\",\"coloraxis\":{\"colorbar\":{\"outlinewidth\":0,\"ticks\":\"\"}},\"colorscale\":{\"diverging\":[[0,\"#8e0152\"],[0.1,\"#c51b7d\"],[0.2,\"#de77ae\"],[0.3,\"#f1b6da\"],[0.4,\"#fde0ef\"],[0.5,\"#f7f7f7\"],[0.6,\"#e6f5d0\"],[0.7,\"#b8e186\"],[0.8,\"#7fbc41\"],[0.9,\"#4d9221\"],[1,\"#276419\"]],\"sequential\":[[0.0,\"#0d0887\"],[0.1111111111111111,\"#46039f\"],[0.2222222222222222,\"#7201a8\"],[0.3333333333333333,\"#9c179e\"],[0.4444444444444444,\"#bd3786\"],[0.5555555555555556,\"#d8576b\"],[0.6666666666666666,\"#ed7953\"],[0.7777777777777778,\"#fb9f3a\"],[0.8888888888888888,\"#fdca26\"],[1.0,\"#f0f921\"]],\"sequentialminus\":[[0.0,\"#0d0887\"],[0.1111111111111111,\"#46039f\"],[0.2222222222222222,\"#7201a8\"],[0.3333333333333333,\"#9c179e\"],[0.4444444444444444,\"#bd3786\"],[0.5555555555555556,\"#d8576b\"],[0.6666666666666666,\"#ed7953\"],[0.7777777777777778,\"#fb9f3a\"],[0.8888888888888888,\"#fdca26\"],[1.0,\"#f0f921\"]]},\"colorway\":[\"#636efa\",\"#EF553B\",\"#00cc96\",\"#ab63fa\",\"#FFA15A\",\"#19d3f3\",\"#FF6692\",\"#B6E880\",\"#FF97FF\",\"#FECB52\"],\"font\":{\"color\":\"#2a3f5f\"},\"geo\":{\"bgcolor\":\"white\",\"lakecolor\":\"white\",\"landcolor\":\"#E5ECF6\",\"showlakes\":true,\"showland\":true,\"subunitcolor\":\"white\"},\"hoverlabel\":{\"align\":\"left\"},\"hovermode\":\"closest\",\"mapbox\":{\"style\":\"light\"},\"paper_bgcolor\":\"white\",\"plot_bgcolor\":\"#E5ECF6\",\"polar\":{\"angularaxis\":{\"gridcolor\":\"white\",\"linecolor\":\"white\",\"ticks\":\"\"},\"bgcolor\":\"#E5ECF6\",\"radialaxis\":{\"gridcolor\":\"white\",\"linecolor\":\"white\",\"ticks\":\"\"}},\"scene\":{\"xaxis\":{\"backgroundcolor\":\"#E5ECF6\",\"gridcolor\":\"white\",\"gridwidth\":2,\"linecolor\":\"white\",\"showbackground\":true,\"ticks\":\"\",\"zerolinecolor\":\"white\"},\"yaxis\":{\"backgroundcolor\":\"#E5ECF6\",\"gridcolor\":\"white\",\"gridwidth\":2,\"linecolor\":\"white\",\"showbackground\":true,\"ticks\":\"\",\"zerolinecolor\":\"white\"},\"zaxis\":{\"backgroundcolor\":\"#E5ECF6\",\"gridcolor\":\"white\",\"gridwidth\":2,\"linecolor\":\"white\",\"showbackground\":true,\"ticks\":\"\",\"zerolinecolor\":\"white\"}},\"shapedefaults\":{\"line\":{\"color\":\"#2a3f5f\"}},\"ternary\":{\"aaxis\":{\"gridcolor\":\"white\",\"linecolor\":\"white\",\"ticks\":\"\"},\"baxis\":{\"gridcolor\":\"white\",\"linecolor\":\"white\",\"ticks\":\"\"},\"bgcolor\":\"#E5ECF6\",\"caxis\":{\"gridcolor\":\"white\",\"linecolor\":\"white\",\"ticks\":\"\"}},\"title\":{\"x\":0.05},\"xaxis\":{\"automargin\":true,\"gridcolor\":\"white\",\"linecolor\":\"white\",\"ticks\":\"\",\"title\":{\"standoff\":15},\"zerolinecolor\":\"white\",\"zerolinewidth\":2},\"yaxis\":{\"automargin\":true,\"gridcolor\":\"white\",\"linecolor\":\"white\",\"ticks\":\"\",\"title\":{\"standoff\":15},\"zerolinecolor\":\"white\",\"zerolinewidth\":2}}},\"title\":{\"font\":{\"color\":\"darkred\",\"family\":\"Arial\",\"size\":20},\"text\":\"Number of People\",\"x\":0.45,\"y\":0.875},\"width\":800,\"xaxis\":{\"showticklabels\":true,\"tickfont\":{\"color\":\"black\",\"family\":\"Arial\",\"size\":16},\"tickmode\":\"array\",\"ticktext\":[\"Unacceptable\",\"Acceptable\",\"Good\",\"Very Good\"],\"tickvals\":[\"unacc\",\"acc\",\"good\",\"vgood\"],\"title\":{\"text\":\"Condition\"}},\"yaxis\":{\"tickfont\":{\"color\":\"black\",\"family\":\"Arial\",\"size\":16},\"title\":{\"text\":\"Number of Cars\"}}},                        {\"responsive\": true}                    ).then(function(){\n",
       "                            \n",
       "var gd = document.getElementById('b8528eed-63b2-4714-976c-ef64d13a1f6d');\n",
       "var x = new MutationObserver(function (mutations, observer) {{\n",
       "        var display = window.getComputedStyle(gd).display;\n",
       "        if (!display || display === 'none') {{\n",
       "            console.log([gd, 'removed!']);\n",
       "            Plotly.purge(gd);\n",
       "            observer.disconnect();\n",
       "        }}\n",
       "}});\n",
       "\n",
       "// Listen for the removal of the full notebook cells\n",
       "var notebookContainer = gd.closest('#notebook-container');\n",
       "if (notebookContainer) {{\n",
       "    x.observe(notebookContainer, {childList: true});\n",
       "}}\n",
       "\n",
       "// Listen for the clearing of the current output cell\n",
       "var outputEl = gd.closest('.output');\n",
       "if (outputEl) {{\n",
       "    x.observe(outputEl, {childList: true});\n",
       "}}\n",
       "\n",
       "                        })                };                });            </script>        </div>"
      ]
     },
     "metadata": {},
     "output_type": "display_data"
    }
   ],
   "source": [
    "fg2 = go.Figure(layout=go.Layout(height=550, width=800))\n",
    "\n",
    "fg2.add_trace(go.Histogram(x=car_df.loc[car_df.NumPersons==\"2\", \"Class\"],\n",
    "                           name = \"2 People\",\n",
    "                           marker=dict(color=\"#fb9f3a\")))\n",
    "fg2.add_trace(go.Histogram(x=car_df.loc[car_df.NumPersons==\"4\", \"Class\"],\n",
    "                           name = \"4 People\",\n",
    "                           marker=dict(color=\"#d8576b\")))\n",
    "fg2.add_trace(go.Histogram(x=car_df.loc[car_df.NumPersons==\"more\", \"Class\"],\n",
    "                           name = \"More than 4 People\",\n",
    "                           marker=dict(color=\"#9c179e\")))\n",
    "\n",
    "fg2.update_xaxes(title_text=\"Condition\", \n",
    "                 showticklabels=True, \n",
    "                 tickmode=\"array\",\n",
    "                 tickvals=[\"unacc\", \"acc\", \"good\", \"vgood\"],\n",
    "                 ticktext=[\"Unacceptable\", \"Acceptable\", \"Good\", \"Very Good\"],\n",
    "                 tickfont=dict(family=\"Arial\", size=16, color=\"black\"))\n",
    "\n",
    "fg2.update_yaxes(title_text=\"Number of Cars\", tickfont=dict(family=\"Arial\", size=16, color=\"black\"))\n",
    "\n",
    "fg2.update_layout(legend = dict(font = dict(family = \"Arial\", size = 16, color=\"black\")),\n",
    "                  title_text = 'Number of People',\n",
    "                  title_font = dict(size=20, family='Arial', color='darkred'),\n",
    "                  title_x=0.45,\n",
    "                  title_y=0.875)\n",
    "\n",
    "fg2.show()"
   ]
  },
  {
   "cell_type": "code",
   "execution_count": 22,
   "metadata": {},
   "outputs": [
    {
     "data": {
      "application/vnd.plotly.v1+json": {
       "config": {
        "plotlyServerURL": "https://plot.ly"
       },
       "data": [
        {
         "marker": {
          "color": "#fb9f3a"
         },
         "name": "Small",
         "type": "histogram",
         "x": [
          "unacc",
          "unacc",
          "unacc",
          "unacc",
          "unacc",
          "unacc",
          "unacc",
          "unacc",
          "unacc",
          "unacc",
          "unacc",
          "unacc",
          "unacc",
          "unacc",
          "unacc",
          "unacc",
          "unacc",
          "unacc",
          "unacc",
          "unacc",
          "unacc",
          "unacc",
          "unacc",
          "unacc",
          "unacc",
          "unacc",
          "unacc",
          "unacc",
          "unacc",
          "unacc",
          "unacc",
          "unacc",
          "unacc",
          "unacc",
          "unacc",
          "unacc",
          "unacc",
          "unacc",
          "unacc",
          "unacc",
          "unacc",
          "unacc",
          "unacc",
          "unacc",
          "unacc",
          "unacc",
          "unacc",
          "unacc",
          "unacc",
          "unacc",
          "unacc",
          "unacc",
          "unacc",
          "unacc",
          "unacc",
          "unacc",
          "unacc",
          "unacc",
          "unacc",
          "unacc",
          "unacc",
          "unacc",
          "unacc",
          "unacc",
          "unacc",
          "unacc",
          "unacc",
          "unacc",
          "unacc",
          "unacc",
          "unacc",
          "unacc",
          "unacc",
          "unacc",
          "unacc",
          "unacc",
          "unacc",
          "acc",
          "unacc",
          "unacc",
          "unacc",
          "unacc",
          "unacc",
          "unacc",
          "unacc",
          "unacc",
          "acc",
          "unacc",
          "unacc",
          "acc",
          "unacc",
          "unacc",
          "unacc",
          "unacc",
          "unacc",
          "acc",
          "unacc",
          "unacc",
          "acc",
          "unacc",
          "unacc",
          "unacc",
          "unacc",
          "unacc",
          "acc",
          "unacc",
          "unacc",
          "acc",
          "unacc",
          "unacc",
          "unacc",
          "unacc",
          "unacc",
          "acc",
          "unacc",
          "unacc",
          "unacc",
          "unacc",
          "unacc",
          "unacc",
          "unacc",
          "unacc",
          "acc",
          "unacc",
          "unacc",
          "acc",
          "unacc",
          "unacc",
          "unacc",
          "unacc",
          "unacc",
          "acc",
          "unacc",
          "unacc",
          "acc",
          "unacc",
          "unacc",
          "unacc",
          "unacc",
          "unacc",
          "acc",
          "unacc",
          "unacc",
          "acc",
          "unacc",
          "unacc",
          "unacc",
          "unacc",
          "unacc",
          "unacc",
          "unacc",
          "unacc",
          "unacc",
          "unacc",
          "unacc",
          "unacc",
          "unacc",
          "unacc",
          "unacc",
          "unacc",
          "unacc",
          "unacc",
          "unacc",
          "unacc",
          "unacc",
          "unacc",
          "unacc",
          "unacc",
          "unacc",
          "unacc",
          "unacc",
          "unacc",
          "unacc",
          "unacc",
          "unacc",
          "unacc",
          "unacc",
          "unacc",
          "unacc",
          "unacc",
          "unacc",
          "unacc",
          "unacc",
          "unacc",
          "unacc",
          "acc",
          "unacc",
          "unacc",
          "unacc",
          "unacc",
          "unacc",
          "unacc",
          "unacc",
          "unacc",
          "acc",
          "unacc",
          "unacc",
          "acc",
          "unacc",
          "unacc",
          "unacc",
          "unacc",
          "unacc",
          "acc",
          "unacc",
          "unacc",
          "acc",
          "unacc",
          "unacc",
          "unacc",
          "unacc",
          "unacc",
          "acc",
          "unacc",
          "unacc",
          "acc",
          "unacc",
          "unacc",
          "unacc",
          "unacc",
          "unacc",
          "acc",
          "unacc",
          "unacc",
          "unacc",
          "unacc",
          "unacc",
          "unacc",
          "unacc",
          "unacc",
          "acc",
          "unacc",
          "unacc",
          "acc",
          "unacc",
          "unacc",
          "unacc",
          "unacc",
          "unacc",
          "acc",
          "unacc",
          "unacc",
          "acc",
          "unacc",
          "unacc",
          "unacc",
          "unacc",
          "unacc",
          "acc",
          "unacc",
          "unacc",
          "acc",
          "unacc",
          "unacc",
          "unacc",
          "unacc",
          "unacc",
          "acc",
          "unacc",
          "unacc",
          "unacc",
          "unacc",
          "unacc",
          "unacc",
          "unacc",
          "unacc",
          "acc",
          "unacc",
          "unacc",
          "acc",
          "unacc",
          "unacc",
          "unacc",
          "unacc",
          "unacc",
          "acc",
          "unacc",
          "unacc",
          "acc",
          "unacc",
          "unacc",
          "unacc",
          "unacc",
          "unacc",
          "acc",
          "unacc",
          "unacc",
          "acc",
          "unacc",
          "unacc",
          "unacc",
          "unacc",
          "unacc",
          "acc",
          "unacc",
          "unacc",
          "unacc",
          "unacc",
          "unacc",
          "unacc",
          "unacc",
          "unacc",
          "acc",
          "unacc",
          "unacc",
          "acc",
          "unacc",
          "unacc",
          "unacc",
          "unacc",
          "unacc",
          "acc",
          "unacc",
          "unacc",
          "acc",
          "unacc",
          "unacc",
          "unacc",
          "unacc",
          "unacc",
          "acc",
          "unacc",
          "unacc",
          "acc",
          "unacc",
          "unacc",
          "unacc",
          "unacc",
          "unacc",
          "acc",
          "unacc",
          "unacc",
          "unacc",
          "unacc",
          "unacc",
          "unacc",
          "unacc",
          "unacc",
          "acc",
          "unacc",
          "unacc",
          "acc",
          "unacc",
          "unacc",
          "unacc",
          "unacc",
          "unacc",
          "acc",
          "unacc",
          "unacc",
          "acc",
          "unacc",
          "unacc",
          "unacc",
          "unacc",
          "unacc",
          "acc",
          "unacc",
          "unacc",
          "acc",
          "unacc",
          "unacc",
          "unacc",
          "unacc",
          "acc",
          "acc",
          "unacc",
          "unacc",
          "unacc",
          "unacc",
          "unacc",
          "unacc",
          "unacc",
          "acc",
          "acc",
          "unacc",
          "acc",
          "acc",
          "unacc",
          "unacc",
          "unacc",
          "unacc",
          "acc",
          "acc",
          "unacc",
          "acc",
          "acc",
          "unacc",
          "unacc",
          "unacc",
          "unacc",
          "acc",
          "acc",
          "unacc",
          "acc",
          "acc",
          "unacc",
          "unacc",
          "unacc",
          "unacc",
          "acc",
          "good",
          "unacc",
          "unacc",
          "unacc",
          "unacc",
          "unacc",
          "unacc",
          "unacc",
          "acc",
          "good",
          "unacc",
          "acc",
          "good",
          "unacc",
          "unacc",
          "unacc",
          "unacc",
          "acc",
          "good",
          "unacc",
          "acc",
          "good",
          "unacc",
          "unacc",
          "unacc",
          "unacc",
          "acc",
          "good",
          "unacc",
          "acc",
          "good",
          "unacc",
          "unacc",
          "unacc",
          "unacc",
          "unacc",
          "acc",
          "unacc",
          "unacc",
          "unacc",
          "unacc",
          "unacc",
          "unacc",
          "unacc",
          "unacc",
          "acc",
          "unacc",
          "unacc",
          "acc",
          "unacc",
          "unacc",
          "unacc",
          "unacc",
          "unacc",
          "acc",
          "unacc",
          "unacc",
          "acc",
          "unacc",
          "unacc",
          "unacc",
          "unacc",
          "unacc",
          "acc",
          "unacc",
          "unacc",
          "acc",
          "unacc",
          "unacc",
          "unacc",
          "unacc",
          "acc",
          "acc",
          "unacc",
          "unacc",
          "unacc",
          "unacc",
          "unacc",
          "unacc",
          "unacc",
          "acc",
          "acc",
          "unacc",
          "acc",
          "acc",
          "unacc",
          "unacc",
          "unacc",
          "unacc",
          "acc",
          "acc",
          "unacc",
          "acc",
          "acc",
          "unacc",
          "unacc",
          "unacc",
          "unacc",
          "acc",
          "acc",
          "unacc",
          "acc",
          "acc",
          "unacc",
          "unacc",
          "unacc",
          "unacc",
          "acc",
          "good",
          "unacc",
          "unacc",
          "unacc",
          "unacc",
          "unacc",
          "unacc",
          "unacc",
          "acc",
          "good",
          "unacc",
          "acc",
          "good",
          "unacc",
          "unacc",
          "unacc",
          "unacc",
          "acc",
          "good",
          "unacc",
          "acc",
          "good",
          "unacc",
          "unacc",
          "unacc",
          "unacc",
          "acc",
          "good",
          "unacc",
          "acc",
          "good",
          "unacc",
          "unacc",
          "unacc",
          "unacc",
          "acc",
          "good",
          "unacc",
          "unacc",
          "unacc",
          "unacc",
          "unacc",
          "unacc",
          "unacc",
          "acc",
          "good",
          "unacc",
          "acc",
          "good",
          "unacc",
          "unacc",
          "unacc",
          "unacc",
          "acc",
          "good",
          "unacc",
          "acc",
          "good",
          "unacc",
          "unacc",
          "unacc",
          "unacc",
          "acc",
          "good",
          "unacc",
          "acc",
          "good"
         ]
        },
        {
         "marker": {
          "color": "#d8576b"
         },
         "name": "Medium",
         "type": "histogram",
         "x": [
          "unacc",
          "unacc",
          "unacc",
          "unacc",
          "unacc",
          "unacc",
          "unacc",
          "unacc",
          "unacc",
          "unacc",
          "unacc",
          "unacc",
          "unacc",
          "unacc",
          "unacc",
          "unacc",
          "unacc",
          "unacc",
          "unacc",
          "unacc",
          "unacc",
          "unacc",
          "unacc",
          "unacc",
          "unacc",
          "unacc",
          "unacc",
          "unacc",
          "unacc",
          "unacc",
          "unacc",
          "unacc",
          "unacc",
          "unacc",
          "unacc",
          "unacc",
          "unacc",
          "unacc",
          "unacc",
          "unacc",
          "unacc",
          "unacc",
          "unacc",
          "unacc",
          "unacc",
          "unacc",
          "unacc",
          "unacc",
          "unacc",
          "unacc",
          "unacc",
          "unacc",
          "unacc",
          "unacc",
          "unacc",
          "unacc",
          "unacc",
          "unacc",
          "unacc",
          "unacc",
          "unacc",
          "unacc",
          "unacc",
          "unacc",
          "unacc",
          "unacc",
          "unacc",
          "unacc",
          "unacc",
          "unacc",
          "unacc",
          "unacc",
          "unacc",
          "unacc",
          "unacc",
          "unacc",
          "unacc",
          "acc",
          "unacc",
          "unacc",
          "acc",
          "unacc",
          "unacc",
          "unacc",
          "unacc",
          "unacc",
          "acc",
          "unacc",
          "acc",
          "acc",
          "unacc",
          "unacc",
          "unacc",
          "unacc",
          "acc",
          "acc",
          "unacc",
          "acc",
          "acc",
          "unacc",
          "unacc",
          "unacc",
          "unacc",
          "acc",
          "acc",
          "unacc",
          "acc",
          "acc",
          "unacc",
          "unacc",
          "unacc",
          "unacc",
          "unacc",
          "acc",
          "unacc",
          "unacc",
          "acc",
          "unacc",
          "unacc",
          "unacc",
          "unacc",
          "unacc",
          "acc",
          "unacc",
          "acc",
          "acc",
          "unacc",
          "unacc",
          "unacc",
          "unacc",
          "acc",
          "acc",
          "unacc",
          "acc",
          "acc",
          "unacc",
          "unacc",
          "unacc",
          "unacc",
          "acc",
          "acc",
          "unacc",
          "acc",
          "acc",
          "unacc",
          "unacc",
          "unacc",
          "unacc",
          "unacc",
          "unacc",
          "unacc",
          "unacc",
          "unacc",
          "unacc",
          "unacc",
          "unacc",
          "unacc",
          "unacc",
          "unacc",
          "unacc",
          "unacc",
          "unacc",
          "unacc",
          "unacc",
          "unacc",
          "unacc",
          "unacc",
          "unacc",
          "unacc",
          "unacc",
          "unacc",
          "unacc",
          "unacc",
          "unacc",
          "unacc",
          "unacc",
          "unacc",
          "unacc",
          "unacc",
          "unacc",
          "unacc",
          "unacc",
          "unacc",
          "unacc",
          "unacc",
          "acc",
          "unacc",
          "unacc",
          "acc",
          "unacc",
          "unacc",
          "unacc",
          "unacc",
          "unacc",
          "acc",
          "unacc",
          "acc",
          "acc",
          "unacc",
          "unacc",
          "unacc",
          "unacc",
          "acc",
          "acc",
          "unacc",
          "acc",
          "acc",
          "unacc",
          "unacc",
          "unacc",
          "unacc",
          "acc",
          "acc",
          "unacc",
          "acc",
          "acc",
          "unacc",
          "unacc",
          "unacc",
          "unacc",
          "unacc",
          "acc",
          "unacc",
          "unacc",
          "acc",
          "unacc",
          "unacc",
          "unacc",
          "unacc",
          "unacc",
          "acc",
          "unacc",
          "acc",
          "acc",
          "unacc",
          "unacc",
          "unacc",
          "unacc",
          "acc",
          "acc",
          "unacc",
          "acc",
          "acc",
          "unacc",
          "unacc",
          "unacc",
          "unacc",
          "acc",
          "acc",
          "unacc",
          "acc",
          "acc",
          "unacc",
          "unacc",
          "unacc",
          "unacc",
          "unacc",
          "acc",
          "unacc",
          "unacc",
          "acc",
          "unacc",
          "unacc",
          "unacc",
          "unacc",
          "unacc",
          "acc",
          "unacc",
          "acc",
          "acc",
          "unacc",
          "unacc",
          "unacc",
          "unacc",
          "acc",
          "acc",
          "unacc",
          "acc",
          "acc",
          "unacc",
          "unacc",
          "unacc",
          "unacc",
          "acc",
          "acc",
          "unacc",
          "acc",
          "acc",
          "unacc",
          "unacc",
          "unacc",
          "unacc",
          "unacc",
          "acc",
          "unacc",
          "unacc",
          "acc",
          "unacc",
          "unacc",
          "unacc",
          "unacc",
          "unacc",
          "acc",
          "unacc",
          "acc",
          "acc",
          "unacc",
          "unacc",
          "unacc",
          "unacc",
          "acc",
          "acc",
          "unacc",
          "acc",
          "acc",
          "unacc",
          "unacc",
          "unacc",
          "unacc",
          "acc",
          "acc",
          "unacc",
          "acc",
          "acc",
          "unacc",
          "unacc",
          "unacc",
          "unacc",
          "unacc",
          "acc",
          "unacc",
          "unacc",
          "acc",
          "unacc",
          "unacc",
          "unacc",
          "unacc",
          "unacc",
          "acc",
          "unacc",
          "acc",
          "acc",
          "unacc",
          "unacc",
          "unacc",
          "unacc",
          "acc",
          "acc",
          "unacc",
          "acc",
          "acc",
          "unacc",
          "unacc",
          "unacc",
          "unacc",
          "acc",
          "acc",
          "unacc",
          "acc",
          "acc",
          "unacc",
          "unacc",
          "unacc",
          "unacc",
          "acc",
          "acc",
          "unacc",
          "acc",
          "acc",
          "unacc",
          "unacc",
          "unacc",
          "unacc",
          "acc",
          "acc",
          "unacc",
          "acc",
          "vgood",
          "unacc",
          "unacc",
          "unacc",
          "unacc",
          "acc",
          "vgood",
          "unacc",
          "acc",
          "vgood",
          "unacc",
          "unacc",
          "unacc",
          "unacc",
          "acc",
          "vgood",
          "unacc",
          "acc",
          "vgood",
          "unacc",
          "unacc",
          "unacc",
          "unacc",
          "acc",
          "good",
          "unacc",
          "acc",
          "good",
          "unacc",
          "unacc",
          "unacc",
          "unacc",
          "acc",
          "good",
          "unacc",
          "good",
          "vgood",
          "unacc",
          "unacc",
          "unacc",
          "unacc",
          "good",
          "vgood",
          "unacc",
          "good",
          "vgood",
          "unacc",
          "unacc",
          "unacc",
          "unacc",
          "good",
          "vgood",
          "unacc",
          "good",
          "vgood",
          "unacc",
          "unacc",
          "unacc",
          "unacc",
          "unacc",
          "acc",
          "unacc",
          "unacc",
          "acc",
          "unacc",
          "unacc",
          "unacc",
          "unacc",
          "unacc",
          "acc",
          "unacc",
          "acc",
          "acc",
          "unacc",
          "unacc",
          "unacc",
          "unacc",
          "acc",
          "acc",
          "unacc",
          "acc",
          "acc",
          "unacc",
          "unacc",
          "unacc",
          "unacc",
          "acc",
          "acc",
          "unacc",
          "acc",
          "acc",
          "unacc",
          "unacc",
          "unacc",
          "unacc",
          "acc",
          "acc",
          "unacc",
          "acc",
          "acc",
          "unacc",
          "unacc",
          "unacc",
          "unacc",
          "acc",
          "acc",
          "unacc",
          "acc",
          "vgood",
          "unacc",
          "unacc",
          "unacc",
          "unacc",
          "acc",
          "vgood",
          "unacc",
          "acc",
          "vgood",
          "unacc",
          "unacc",
          "unacc",
          "unacc",
          "acc",
          "vgood",
          "unacc",
          "acc",
          "vgood",
          "unacc",
          "unacc",
          "unacc",
          "unacc",
          "acc",
          "good",
          "unacc",
          "acc",
          "good",
          "unacc",
          "unacc",
          "unacc",
          "unacc",
          "acc",
          "good",
          "unacc",
          "good",
          "vgood",
          "unacc",
          "unacc",
          "unacc",
          "unacc",
          "good",
          "vgood",
          "unacc",
          "good",
          "vgood",
          "unacc",
          "unacc",
          "unacc",
          "unacc",
          "good",
          "vgood",
          "unacc",
          "good",
          "vgood",
          "unacc",
          "unacc",
          "unacc",
          "unacc",
          "acc",
          "good",
          "unacc",
          "acc",
          "good",
          "unacc",
          "unacc",
          "unacc",
          "unacc",
          "acc",
          "good",
          "unacc",
          "good",
          "vgood",
          "unacc",
          "unacc",
          "unacc",
          "unacc",
          "good",
          "vgood",
          "unacc",
          "good",
          "vgood",
          "unacc",
          "unacc",
          "unacc",
          "unacc",
          "good",
          "vgood",
          "unacc",
          "good",
          "vgood"
         ]
        },
        {
         "marker": {
          "color": "#9c179e"
         },
         "name": "Large",
         "type": "histogram",
         "x": [
          "unacc",
          "unacc",
          "unacc",
          "unacc",
          "unacc",
          "unacc",
          "unacc",
          "unacc",
          "unacc",
          "unacc",
          "unacc",
          "unacc",
          "unacc",
          "unacc",
          "unacc",
          "unacc",
          "unacc",
          "unacc",
          "unacc",
          "unacc",
          "unacc",
          "unacc",
          "unacc",
          "unacc",
          "unacc",
          "unacc",
          "unacc",
          "unacc",
          "unacc",
          "unacc",
          "unacc",
          "unacc",
          "unacc",
          "unacc",
          "unacc",
          "unacc",
          "unacc",
          "unacc",
          "unacc",
          "unacc",
          "unacc",
          "unacc",
          "unacc",
          "unacc",
          "unacc",
          "unacc",
          "unacc",
          "unacc",
          "unacc",
          "unacc",
          "unacc",
          "unacc",
          "unacc",
          "unacc",
          "unacc",
          "unacc",
          "unacc",
          "unacc",
          "unacc",
          "unacc",
          "unacc",
          "unacc",
          "unacc",
          "unacc",
          "unacc",
          "unacc",
          "unacc",
          "unacc",
          "unacc",
          "unacc",
          "unacc",
          "unacc",
          "unacc",
          "unacc",
          "unacc",
          "unacc",
          "acc",
          "acc",
          "unacc",
          "acc",
          "acc",
          "unacc",
          "unacc",
          "unacc",
          "unacc",
          "acc",
          "acc",
          "unacc",
          "acc",
          "acc",
          "unacc",
          "unacc",
          "unacc",
          "unacc",
          "acc",
          "acc",
          "unacc",
          "acc",
          "acc",
          "unacc",
          "unacc",
          "unacc",
          "unacc",
          "acc",
          "acc",
          "unacc",
          "acc",
          "acc",
          "unacc",
          "unacc",
          "unacc",
          "unacc",
          "acc",
          "acc",
          "unacc",
          "acc",
          "acc",
          "unacc",
          "unacc",
          "unacc",
          "unacc",
          "acc",
          "acc",
          "unacc",
          "acc",
          "acc",
          "unacc",
          "unacc",
          "unacc",
          "unacc",
          "acc",
          "acc",
          "unacc",
          "acc",
          "acc",
          "unacc",
          "unacc",
          "unacc",
          "unacc",
          "acc",
          "acc",
          "unacc",
          "acc",
          "acc",
          "unacc",
          "unacc",
          "unacc",
          "unacc",
          "unacc",
          "unacc",
          "unacc",
          "unacc",
          "unacc",
          "unacc",
          "unacc",
          "unacc",
          "unacc",
          "unacc",
          "unacc",
          "unacc",
          "unacc",
          "unacc",
          "unacc",
          "unacc",
          "unacc",
          "unacc",
          "unacc",
          "unacc",
          "unacc",
          "unacc",
          "unacc",
          "unacc",
          "unacc",
          "unacc",
          "unacc",
          "unacc",
          "unacc",
          "unacc",
          "unacc",
          "unacc",
          "unacc",
          "unacc",
          "unacc",
          "unacc",
          "acc",
          "acc",
          "unacc",
          "acc",
          "acc",
          "unacc",
          "unacc",
          "unacc",
          "unacc",
          "acc",
          "acc",
          "unacc",
          "acc",
          "acc",
          "unacc",
          "unacc",
          "unacc",
          "unacc",
          "acc",
          "acc",
          "unacc",
          "acc",
          "acc",
          "unacc",
          "unacc",
          "unacc",
          "unacc",
          "acc",
          "acc",
          "unacc",
          "acc",
          "acc",
          "unacc",
          "unacc",
          "unacc",
          "unacc",
          "acc",
          "acc",
          "unacc",
          "acc",
          "acc",
          "unacc",
          "unacc",
          "unacc",
          "unacc",
          "acc",
          "acc",
          "unacc",
          "acc",
          "acc",
          "unacc",
          "unacc",
          "unacc",
          "unacc",
          "acc",
          "acc",
          "unacc",
          "acc",
          "acc",
          "unacc",
          "unacc",
          "unacc",
          "unacc",
          "acc",
          "acc",
          "unacc",
          "acc",
          "acc",
          "unacc",
          "unacc",
          "unacc",
          "unacc",
          "acc",
          "acc",
          "unacc",
          "acc",
          "acc",
          "unacc",
          "unacc",
          "unacc",
          "unacc",
          "acc",
          "acc",
          "unacc",
          "acc",
          "acc",
          "unacc",
          "unacc",
          "unacc",
          "unacc",
          "acc",
          "acc",
          "unacc",
          "acc",
          "acc",
          "unacc",
          "unacc",
          "unacc",
          "unacc",
          "acc",
          "acc",
          "unacc",
          "acc",
          "acc",
          "unacc",
          "unacc",
          "unacc",
          "unacc",
          "acc",
          "acc",
          "unacc",
          "acc",
          "acc",
          "unacc",
          "unacc",
          "unacc",
          "unacc",
          "acc",
          "acc",
          "unacc",
          "acc",
          "acc",
          "unacc",
          "unacc",
          "unacc",
          "unacc",
          "acc",
          "acc",
          "unacc",
          "acc",
          "acc",
          "unacc",
          "unacc",
          "unacc",
          "unacc",
          "acc",
          "acc",
          "unacc",
          "acc",
          "acc",
          "unacc",
          "unacc",
          "unacc",
          "unacc",
          "acc",
          "acc",
          "unacc",
          "acc",
          "acc",
          "unacc",
          "unacc",
          "unacc",
          "unacc",
          "acc",
          "acc",
          "unacc",
          "acc",
          "acc",
          "unacc",
          "unacc",
          "unacc",
          "unacc",
          "acc",
          "acc",
          "unacc",
          "acc",
          "acc",
          "unacc",
          "unacc",
          "unacc",
          "unacc",
          "acc",
          "acc",
          "unacc",
          "acc",
          "acc",
          "unacc",
          "unacc",
          "unacc",
          "unacc",
          "acc",
          "vgood",
          "unacc",
          "acc",
          "vgood",
          "unacc",
          "unacc",
          "unacc",
          "unacc",
          "acc",
          "vgood",
          "unacc",
          "acc",
          "vgood",
          "unacc",
          "unacc",
          "unacc",
          "unacc",
          "acc",
          "vgood",
          "unacc",
          "acc",
          "vgood",
          "unacc",
          "unacc",
          "unacc",
          "unacc",
          "acc",
          "vgood",
          "unacc",
          "acc",
          "vgood",
          "unacc",
          "unacc",
          "unacc",
          "unacc",
          "good",
          "vgood",
          "unacc",
          "good",
          "vgood",
          "unacc",
          "unacc",
          "unacc",
          "unacc",
          "good",
          "vgood",
          "unacc",
          "good",
          "vgood",
          "unacc",
          "unacc",
          "unacc",
          "unacc",
          "good",
          "vgood",
          "unacc",
          "good",
          "vgood",
          "unacc",
          "unacc",
          "unacc",
          "unacc",
          "good",
          "vgood",
          "unacc",
          "good",
          "vgood",
          "unacc",
          "unacc",
          "unacc",
          "unacc",
          "acc",
          "acc",
          "unacc",
          "acc",
          "acc",
          "unacc",
          "unacc",
          "unacc",
          "unacc",
          "acc",
          "acc",
          "unacc",
          "acc",
          "acc",
          "unacc",
          "unacc",
          "unacc",
          "unacc",
          "acc",
          "acc",
          "unacc",
          "acc",
          "acc",
          "unacc",
          "unacc",
          "unacc",
          "unacc",
          "acc",
          "acc",
          "unacc",
          "acc",
          "acc",
          "unacc",
          "unacc",
          "unacc",
          "unacc",
          "acc",
          "vgood",
          "unacc",
          "acc",
          "vgood",
          "unacc",
          "unacc",
          "unacc",
          "unacc",
          "acc",
          "vgood",
          "unacc",
          "acc",
          "vgood",
          "unacc",
          "unacc",
          "unacc",
          "unacc",
          "acc",
          "vgood",
          "unacc",
          "acc",
          "vgood",
          "unacc",
          "unacc",
          "unacc",
          "unacc",
          "acc",
          "vgood",
          "unacc",
          "acc",
          "vgood",
          "unacc",
          "unacc",
          "unacc",
          "unacc",
          "good",
          "vgood",
          "unacc",
          "good",
          "vgood",
          "unacc",
          "unacc",
          "unacc",
          "unacc",
          "good",
          "vgood",
          "unacc",
          "good",
          "vgood",
          "unacc",
          "unacc",
          "unacc",
          "unacc",
          "good",
          "vgood",
          "unacc",
          "good",
          "vgood",
          "unacc",
          "unacc",
          "unacc",
          "unacc",
          "good",
          "vgood",
          "unacc",
          "good",
          "vgood",
          "unacc",
          "unacc",
          "unacc",
          "unacc",
          "good",
          "vgood",
          "unacc",
          "good",
          "vgood",
          "unacc",
          "unacc",
          "unacc",
          "unacc",
          "good",
          "vgood",
          "unacc",
          "good",
          "vgood",
          "unacc",
          "unacc",
          "unacc",
          "unacc",
          "good",
          "vgood",
          "unacc",
          "good",
          "vgood",
          "unacc",
          "unacc",
          "unacc",
          "unacc",
          "good",
          "vgood",
          "unacc",
          "good",
          "vgood"
         ]
        }
       ],
       "layout": {
        "height": 550,
        "legend": {
         "font": {
          "color": "black",
          "family": "Arial",
          "size": 16
         }
        },
        "template": {
         "data": {
          "bar": [
           {
            "error_x": {
             "color": "#2a3f5f"
            },
            "error_y": {
             "color": "#2a3f5f"
            },
            "marker": {
             "line": {
              "color": "#E5ECF6",
              "width": 0.5
             },
             "pattern": {
              "fillmode": "overlay",
              "size": 10,
              "solidity": 0.2
             }
            },
            "type": "bar"
           }
          ],
          "barpolar": [
           {
            "marker": {
             "line": {
              "color": "#E5ECF6",
              "width": 0.5
             },
             "pattern": {
              "fillmode": "overlay",
              "size": 10,
              "solidity": 0.2
             }
            },
            "type": "barpolar"
           }
          ],
          "carpet": [
           {
            "aaxis": {
             "endlinecolor": "#2a3f5f",
             "gridcolor": "white",
             "linecolor": "white",
             "minorgridcolor": "white",
             "startlinecolor": "#2a3f5f"
            },
            "baxis": {
             "endlinecolor": "#2a3f5f",
             "gridcolor": "white",
             "linecolor": "white",
             "minorgridcolor": "white",
             "startlinecolor": "#2a3f5f"
            },
            "type": "carpet"
           }
          ],
          "choropleth": [
           {
            "colorbar": {
             "outlinewidth": 0,
             "ticks": ""
            },
            "type": "choropleth"
           }
          ],
          "contour": [
           {
            "colorbar": {
             "outlinewidth": 0,
             "ticks": ""
            },
            "colorscale": [
             [
              0,
              "#0d0887"
             ],
             [
              0.1111111111111111,
              "#46039f"
             ],
             [
              0.2222222222222222,
              "#7201a8"
             ],
             [
              0.3333333333333333,
              "#9c179e"
             ],
             [
              0.4444444444444444,
              "#bd3786"
             ],
             [
              0.5555555555555556,
              "#d8576b"
             ],
             [
              0.6666666666666666,
              "#ed7953"
             ],
             [
              0.7777777777777778,
              "#fb9f3a"
             ],
             [
              0.8888888888888888,
              "#fdca26"
             ],
             [
              1,
              "#f0f921"
             ]
            ],
            "type": "contour"
           }
          ],
          "contourcarpet": [
           {
            "colorbar": {
             "outlinewidth": 0,
             "ticks": ""
            },
            "type": "contourcarpet"
           }
          ],
          "heatmap": [
           {
            "colorbar": {
             "outlinewidth": 0,
             "ticks": ""
            },
            "colorscale": [
             [
              0,
              "#0d0887"
             ],
             [
              0.1111111111111111,
              "#46039f"
             ],
             [
              0.2222222222222222,
              "#7201a8"
             ],
             [
              0.3333333333333333,
              "#9c179e"
             ],
             [
              0.4444444444444444,
              "#bd3786"
             ],
             [
              0.5555555555555556,
              "#d8576b"
             ],
             [
              0.6666666666666666,
              "#ed7953"
             ],
             [
              0.7777777777777778,
              "#fb9f3a"
             ],
             [
              0.8888888888888888,
              "#fdca26"
             ],
             [
              1,
              "#f0f921"
             ]
            ],
            "type": "heatmap"
           }
          ],
          "heatmapgl": [
           {
            "colorbar": {
             "outlinewidth": 0,
             "ticks": ""
            },
            "colorscale": [
             [
              0,
              "#0d0887"
             ],
             [
              0.1111111111111111,
              "#46039f"
             ],
             [
              0.2222222222222222,
              "#7201a8"
             ],
             [
              0.3333333333333333,
              "#9c179e"
             ],
             [
              0.4444444444444444,
              "#bd3786"
             ],
             [
              0.5555555555555556,
              "#d8576b"
             ],
             [
              0.6666666666666666,
              "#ed7953"
             ],
             [
              0.7777777777777778,
              "#fb9f3a"
             ],
             [
              0.8888888888888888,
              "#fdca26"
             ],
             [
              1,
              "#f0f921"
             ]
            ],
            "type": "heatmapgl"
           }
          ],
          "histogram": [
           {
            "marker": {
             "pattern": {
              "fillmode": "overlay",
              "size": 10,
              "solidity": 0.2
             }
            },
            "type": "histogram"
           }
          ],
          "histogram2d": [
           {
            "colorbar": {
             "outlinewidth": 0,
             "ticks": ""
            },
            "colorscale": [
             [
              0,
              "#0d0887"
             ],
             [
              0.1111111111111111,
              "#46039f"
             ],
             [
              0.2222222222222222,
              "#7201a8"
             ],
             [
              0.3333333333333333,
              "#9c179e"
             ],
             [
              0.4444444444444444,
              "#bd3786"
             ],
             [
              0.5555555555555556,
              "#d8576b"
             ],
             [
              0.6666666666666666,
              "#ed7953"
             ],
             [
              0.7777777777777778,
              "#fb9f3a"
             ],
             [
              0.8888888888888888,
              "#fdca26"
             ],
             [
              1,
              "#f0f921"
             ]
            ],
            "type": "histogram2d"
           }
          ],
          "histogram2dcontour": [
           {
            "colorbar": {
             "outlinewidth": 0,
             "ticks": ""
            },
            "colorscale": [
             [
              0,
              "#0d0887"
             ],
             [
              0.1111111111111111,
              "#46039f"
             ],
             [
              0.2222222222222222,
              "#7201a8"
             ],
             [
              0.3333333333333333,
              "#9c179e"
             ],
             [
              0.4444444444444444,
              "#bd3786"
             ],
             [
              0.5555555555555556,
              "#d8576b"
             ],
             [
              0.6666666666666666,
              "#ed7953"
             ],
             [
              0.7777777777777778,
              "#fb9f3a"
             ],
             [
              0.8888888888888888,
              "#fdca26"
             ],
             [
              1,
              "#f0f921"
             ]
            ],
            "type": "histogram2dcontour"
           }
          ],
          "mesh3d": [
           {
            "colorbar": {
             "outlinewidth": 0,
             "ticks": ""
            },
            "type": "mesh3d"
           }
          ],
          "parcoords": [
           {
            "line": {
             "colorbar": {
              "outlinewidth": 0,
              "ticks": ""
             }
            },
            "type": "parcoords"
           }
          ],
          "pie": [
           {
            "automargin": true,
            "type": "pie"
           }
          ],
          "scatter": [
           {
            "marker": {
             "colorbar": {
              "outlinewidth": 0,
              "ticks": ""
             }
            },
            "type": "scatter"
           }
          ],
          "scatter3d": [
           {
            "line": {
             "colorbar": {
              "outlinewidth": 0,
              "ticks": ""
             }
            },
            "marker": {
             "colorbar": {
              "outlinewidth": 0,
              "ticks": ""
             }
            },
            "type": "scatter3d"
           }
          ],
          "scattercarpet": [
           {
            "marker": {
             "colorbar": {
              "outlinewidth": 0,
              "ticks": ""
             }
            },
            "type": "scattercarpet"
           }
          ],
          "scattergeo": [
           {
            "marker": {
             "colorbar": {
              "outlinewidth": 0,
              "ticks": ""
             }
            },
            "type": "scattergeo"
           }
          ],
          "scattergl": [
           {
            "marker": {
             "colorbar": {
              "outlinewidth": 0,
              "ticks": ""
             }
            },
            "type": "scattergl"
           }
          ],
          "scattermapbox": [
           {
            "marker": {
             "colorbar": {
              "outlinewidth": 0,
              "ticks": ""
             }
            },
            "type": "scattermapbox"
           }
          ],
          "scatterpolar": [
           {
            "marker": {
             "colorbar": {
              "outlinewidth": 0,
              "ticks": ""
             }
            },
            "type": "scatterpolar"
           }
          ],
          "scatterpolargl": [
           {
            "marker": {
             "colorbar": {
              "outlinewidth": 0,
              "ticks": ""
             }
            },
            "type": "scatterpolargl"
           }
          ],
          "scatterternary": [
           {
            "marker": {
             "colorbar": {
              "outlinewidth": 0,
              "ticks": ""
             }
            },
            "type": "scatterternary"
           }
          ],
          "surface": [
           {
            "colorbar": {
             "outlinewidth": 0,
             "ticks": ""
            },
            "colorscale": [
             [
              0,
              "#0d0887"
             ],
             [
              0.1111111111111111,
              "#46039f"
             ],
             [
              0.2222222222222222,
              "#7201a8"
             ],
             [
              0.3333333333333333,
              "#9c179e"
             ],
             [
              0.4444444444444444,
              "#bd3786"
             ],
             [
              0.5555555555555556,
              "#d8576b"
             ],
             [
              0.6666666666666666,
              "#ed7953"
             ],
             [
              0.7777777777777778,
              "#fb9f3a"
             ],
             [
              0.8888888888888888,
              "#fdca26"
             ],
             [
              1,
              "#f0f921"
             ]
            ],
            "type": "surface"
           }
          ],
          "table": [
           {
            "cells": {
             "fill": {
              "color": "#EBF0F8"
             },
             "line": {
              "color": "white"
             }
            },
            "header": {
             "fill": {
              "color": "#C8D4E3"
             },
             "line": {
              "color": "white"
             }
            },
            "type": "table"
           }
          ]
         },
         "layout": {
          "annotationdefaults": {
           "arrowcolor": "#2a3f5f",
           "arrowhead": 0,
           "arrowwidth": 1
          },
          "autotypenumbers": "strict",
          "coloraxis": {
           "colorbar": {
            "outlinewidth": 0,
            "ticks": ""
           }
          },
          "colorscale": {
           "diverging": [
            [
             0,
             "#8e0152"
            ],
            [
             0.1,
             "#c51b7d"
            ],
            [
             0.2,
             "#de77ae"
            ],
            [
             0.3,
             "#f1b6da"
            ],
            [
             0.4,
             "#fde0ef"
            ],
            [
             0.5,
             "#f7f7f7"
            ],
            [
             0.6,
             "#e6f5d0"
            ],
            [
             0.7,
             "#b8e186"
            ],
            [
             0.8,
             "#7fbc41"
            ],
            [
             0.9,
             "#4d9221"
            ],
            [
             1,
             "#276419"
            ]
           ],
           "sequential": [
            [
             0,
             "#0d0887"
            ],
            [
             0.1111111111111111,
             "#46039f"
            ],
            [
             0.2222222222222222,
             "#7201a8"
            ],
            [
             0.3333333333333333,
             "#9c179e"
            ],
            [
             0.4444444444444444,
             "#bd3786"
            ],
            [
             0.5555555555555556,
             "#d8576b"
            ],
            [
             0.6666666666666666,
             "#ed7953"
            ],
            [
             0.7777777777777778,
             "#fb9f3a"
            ],
            [
             0.8888888888888888,
             "#fdca26"
            ],
            [
             1,
             "#f0f921"
            ]
           ],
           "sequentialminus": [
            [
             0,
             "#0d0887"
            ],
            [
             0.1111111111111111,
             "#46039f"
            ],
            [
             0.2222222222222222,
             "#7201a8"
            ],
            [
             0.3333333333333333,
             "#9c179e"
            ],
            [
             0.4444444444444444,
             "#bd3786"
            ],
            [
             0.5555555555555556,
             "#d8576b"
            ],
            [
             0.6666666666666666,
             "#ed7953"
            ],
            [
             0.7777777777777778,
             "#fb9f3a"
            ],
            [
             0.8888888888888888,
             "#fdca26"
            ],
            [
             1,
             "#f0f921"
            ]
           ]
          },
          "colorway": [
           "#636efa",
           "#EF553B",
           "#00cc96",
           "#ab63fa",
           "#FFA15A",
           "#19d3f3",
           "#FF6692",
           "#B6E880",
           "#FF97FF",
           "#FECB52"
          ],
          "font": {
           "color": "#2a3f5f"
          },
          "geo": {
           "bgcolor": "white",
           "lakecolor": "white",
           "landcolor": "#E5ECF6",
           "showlakes": true,
           "showland": true,
           "subunitcolor": "white"
          },
          "hoverlabel": {
           "align": "left"
          },
          "hovermode": "closest",
          "mapbox": {
           "style": "light"
          },
          "paper_bgcolor": "white",
          "plot_bgcolor": "#E5ECF6",
          "polar": {
           "angularaxis": {
            "gridcolor": "white",
            "linecolor": "white",
            "ticks": ""
           },
           "bgcolor": "#E5ECF6",
           "radialaxis": {
            "gridcolor": "white",
            "linecolor": "white",
            "ticks": ""
           }
          },
          "scene": {
           "xaxis": {
            "backgroundcolor": "#E5ECF6",
            "gridcolor": "white",
            "gridwidth": 2,
            "linecolor": "white",
            "showbackground": true,
            "ticks": "",
            "zerolinecolor": "white"
           },
           "yaxis": {
            "backgroundcolor": "#E5ECF6",
            "gridcolor": "white",
            "gridwidth": 2,
            "linecolor": "white",
            "showbackground": true,
            "ticks": "",
            "zerolinecolor": "white"
           },
           "zaxis": {
            "backgroundcolor": "#E5ECF6",
            "gridcolor": "white",
            "gridwidth": 2,
            "linecolor": "white",
            "showbackground": true,
            "ticks": "",
            "zerolinecolor": "white"
           }
          },
          "shapedefaults": {
           "line": {
            "color": "#2a3f5f"
           }
          },
          "ternary": {
           "aaxis": {
            "gridcolor": "white",
            "linecolor": "white",
            "ticks": ""
           },
           "baxis": {
            "gridcolor": "white",
            "linecolor": "white",
            "ticks": ""
           },
           "bgcolor": "#E5ECF6",
           "caxis": {
            "gridcolor": "white",
            "linecolor": "white",
            "ticks": ""
           }
          },
          "title": {
           "x": 0.05
          },
          "xaxis": {
           "automargin": true,
           "gridcolor": "white",
           "linecolor": "white",
           "ticks": "",
           "title": {
            "standoff": 15
           },
           "zerolinecolor": "white",
           "zerolinewidth": 2
          },
          "yaxis": {
           "automargin": true,
           "gridcolor": "white",
           "linecolor": "white",
           "ticks": "",
           "title": {
            "standoff": 15
           },
           "zerolinecolor": "white",
           "zerolinewidth": 2
          }
         }
        },
        "title": {
         "font": {
          "color": "darkred",
          "family": "Arial",
          "size": 20
         },
         "text": "Luggage Boot Size",
         "x": 0.45,
         "y": 0.875
        },
        "width": 800,
        "xaxis": {
         "autorange": true,
         "range": [
          -0.5,
          3.5
         ],
         "showticklabels": true,
         "tickfont": {
          "color": "black",
          "family": "Arial",
          "size": 16
         },
         "tickmode": "array",
         "ticktext": [
          "Unacceptable",
          "Acceptable",
          "Good",
          "Very Good"
         ],
         "tickvals": [
          "unacc",
          "acc",
          "good",
          "vgood"
         ],
         "title": {
          "text": "Condition"
         },
         "type": "category"
        },
        "yaxis": {
         "autorange": true,
         "range": [
          0,
          473.6842105263158
         ],
         "tickfont": {
          "color": "black",
          "family": "Arial",
          "size": 16
         },
         "title": {
          "text": "Number of Cars"
         }
        }
       }
      },
      "image/png": "[encoded data removed]",
      "text/html": [
       "<div>                            <div id=\"6c2a6439-67f7-4980-9f9f-8f08ebf63050\" class=\"plotly-graph-div\" style=\"height:550px; width:800px;\"></div>            <script type=\"text/javascript\">                require([\"plotly\"], function(Plotly) {                    window.PLOTLYENV=window.PLOTLYENV || {};                                    if (document.getElementById(\"6c2a6439-67f7-4980-9f9f-8f08ebf63050\")) {                    Plotly.newPlot(                        \"6c2a6439-67f7-4980-9f9f-8f08ebf63050\",                        [{\"marker\":{\"color\":\"#fb9f3a\"},\"name\":\"Small\",\"type\":\"histogram\",\"x\":[\"unacc\",\"unacc\",\"unacc\",\"unacc\",\"unacc\",\"unacc\",\"unacc\",\"unacc\",\"unacc\",\"unacc\",\"unacc\",\"unacc\",\"unacc\",\"unacc\",\"unacc\",\"unacc\",\"unacc\",\"unacc\",\"unacc\",\"unacc\",\"unacc\",\"unacc\",\"unacc\",\"unacc\",\"unacc\",\"unacc\",\"unacc\",\"unacc\",\"unacc\",\"unacc\",\"unacc\",\"unacc\",\"unacc\",\"unacc\",\"unacc\",\"unacc\",\"unacc\",\"unacc\",\"unacc\",\"unacc\",\"unacc\",\"unacc\",\"unacc\",\"unacc\",\"unacc\",\"unacc\",\"unacc\",\"unacc\",\"unacc\",\"unacc\",\"unacc\",\"unacc\",\"unacc\",\"unacc\",\"unacc\",\"unacc\",\"unacc\",\"unacc\",\"unacc\",\"unacc\",\"unacc\",\"unacc\",\"unacc\",\"unacc\",\"unacc\",\"unacc\",\"unacc\",\"unacc\",\"unacc\",\"unacc\",\"unacc\",\"unacc\",\"unacc\",\"unacc\",\"unacc\",\"unacc\",\"unacc\",\"acc\",\"unacc\",\"unacc\",\"unacc\",\"unacc\",\"unacc\",\"unacc\",\"unacc\",\"unacc\",\"acc\",\"unacc\",\"unacc\",\"acc\",\"unacc\",\"unacc\",\"unacc\",\"unacc\",\"unacc\",\"acc\",\"unacc\",\"unacc\",\"acc\",\"unacc\",\"unacc\",\"unacc\",\"unacc\",\"unacc\",\"acc\",\"unacc\",\"unacc\",\"acc\",\"unacc\",\"unacc\",\"unacc\",\"unacc\",\"unacc\",\"acc\",\"unacc\",\"unacc\",\"unacc\",\"unacc\",\"unacc\",\"unacc\",\"unacc\",\"unacc\",\"acc\",\"unacc\",\"unacc\",\"acc\",\"unacc\",\"unacc\",\"unacc\",\"unacc\",\"unacc\",\"acc\",\"unacc\",\"unacc\",\"acc\",\"unacc\",\"unacc\",\"unacc\",\"unacc\",\"unacc\",\"acc\",\"unacc\",\"unacc\",\"acc\",\"unacc\",\"unacc\",\"unacc\",\"unacc\",\"unacc\",\"unacc\",\"unacc\",\"unacc\",\"unacc\",\"unacc\",\"unacc\",\"unacc\",\"unacc\",\"unacc\",\"unacc\",\"unacc\",\"unacc\",\"unacc\",\"unacc\",\"unacc\",\"unacc\",\"unacc\",\"unacc\",\"unacc\",\"unacc\",\"unacc\",\"unacc\",\"unacc\",\"unacc\",\"unacc\",\"unacc\",\"unacc\",\"unacc\",\"unacc\",\"unacc\",\"unacc\",\"unacc\",\"unacc\",\"unacc\",\"unacc\",\"unacc\",\"acc\",\"unacc\",\"unacc\",\"unacc\",\"unacc\",\"unacc\",\"unacc\",\"unacc\",\"unacc\",\"acc\",\"unacc\",\"unacc\",\"acc\",\"unacc\",\"unacc\",\"unacc\",\"unacc\",\"unacc\",\"acc\",\"unacc\",\"unacc\",\"acc\",\"unacc\",\"unacc\",\"unacc\",\"unacc\",\"unacc\",\"acc\",\"unacc\",\"unacc\",\"acc\",\"unacc\",\"unacc\",\"unacc\",\"unacc\",\"unacc\",\"acc\",\"unacc\",\"unacc\",\"unacc\",\"unacc\",\"unacc\",\"unacc\",\"unacc\",\"unacc\",\"acc\",\"unacc\",\"unacc\",\"acc\",\"unacc\",\"unacc\",\"unacc\",\"unacc\",\"unacc\",\"acc\",\"unacc\",\"unacc\",\"acc\",\"unacc\",\"unacc\",\"unacc\",\"unacc\",\"unacc\",\"acc\",\"unacc\",\"unacc\",\"acc\",\"unacc\",\"unacc\",\"unacc\",\"unacc\",\"unacc\",\"acc\",\"unacc\",\"unacc\",\"unacc\",\"unacc\",\"unacc\",\"unacc\",\"unacc\",\"unacc\",\"acc\",\"unacc\",\"unacc\",\"acc\",\"unacc\",\"unacc\",\"unacc\",\"unacc\",\"unacc\",\"acc\",\"unacc\",\"unacc\",\"acc\",\"unacc\",\"unacc\",\"unacc\",\"unacc\",\"unacc\",\"acc\",\"unacc\",\"unacc\",\"acc\",\"unacc\",\"unacc\",\"unacc\",\"unacc\",\"unacc\",\"acc\",\"unacc\",\"unacc\",\"unacc\",\"unacc\",\"unacc\",\"unacc\",\"unacc\",\"unacc\",\"acc\",\"unacc\",\"unacc\",\"acc\",\"unacc\",\"unacc\",\"unacc\",\"unacc\",\"unacc\",\"acc\",\"unacc\",\"unacc\",\"acc\",\"unacc\",\"unacc\",\"unacc\",\"unacc\",\"unacc\",\"acc\",\"unacc\",\"unacc\",\"acc\",\"unacc\",\"unacc\",\"unacc\",\"unacc\",\"unacc\",\"acc\",\"unacc\",\"unacc\",\"unacc\",\"unacc\",\"unacc\",\"unacc\",\"unacc\",\"unacc\",\"acc\",\"unacc\",\"unacc\",\"acc\",\"unacc\",\"unacc\",\"unacc\",\"unacc\",\"unacc\",\"acc\",\"unacc\",\"unacc\",\"acc\",\"unacc\",\"unacc\",\"unacc\",\"unacc\",\"unacc\",\"acc\",\"unacc\",\"unacc\",\"acc\",\"unacc\",\"unacc\",\"unacc\",\"unacc\",\"acc\",\"acc\",\"unacc\",\"unacc\",\"unacc\",\"unacc\",\"unacc\",\"unacc\",\"unacc\",\"acc\",\"acc\",\"unacc\",\"acc\",\"acc\",\"unacc\",\"unacc\",\"unacc\",\"unacc\",\"acc\",\"acc\",\"unacc\",\"acc\",\"acc\",\"unacc\",\"unacc\",\"unacc\",\"unacc\",\"acc\",\"acc\",\"unacc\",\"acc\",\"acc\",\"unacc\",\"unacc\",\"unacc\",\"unacc\",\"acc\",\"good\",\"unacc\",\"unacc\",\"unacc\",\"unacc\",\"unacc\",\"unacc\",\"unacc\",\"acc\",\"good\",\"unacc\",\"acc\",\"good\",\"unacc\",\"unacc\",\"unacc\",\"unacc\",\"acc\",\"good\",\"unacc\",\"acc\",\"good\",\"unacc\",\"unacc\",\"unacc\",\"unacc\",\"acc\",\"good\",\"unacc\",\"acc\",\"good\",\"unacc\",\"unacc\",\"unacc\",\"unacc\",\"unacc\",\"acc\",\"unacc\",\"unacc\",\"unacc\",\"unacc\",\"unacc\",\"unacc\",\"unacc\",\"unacc\",\"acc\",\"unacc\",\"unacc\",\"acc\",\"unacc\",\"unacc\",\"unacc\",\"unacc\",\"unacc\",\"acc\",\"unacc\",\"unacc\",\"acc\",\"unacc\",\"unacc\",\"unacc\",\"unacc\",\"unacc\",\"acc\",\"unacc\",\"unacc\",\"acc\",\"unacc\",\"unacc\",\"unacc\",\"unacc\",\"acc\",\"acc\",\"unacc\",\"unacc\",\"unacc\",\"unacc\",\"unacc\",\"unacc\",\"unacc\",\"acc\",\"acc\",\"unacc\",\"acc\",\"acc\",\"unacc\",\"unacc\",\"unacc\",\"unacc\",\"acc\",\"acc\",\"unacc\",\"acc\",\"acc\",\"unacc\",\"unacc\",\"unacc\",\"unacc\",\"acc\",\"acc\",\"unacc\",\"acc\",\"acc\",\"unacc\",\"unacc\",\"unacc\",\"unacc\",\"acc\",\"good\",\"unacc\",\"unacc\",\"unacc\",\"unacc\",\"unacc\",\"unacc\",\"unacc\",\"acc\",\"good\",\"unacc\",\"acc\",\"good\",\"unacc\",\"unacc\",\"unacc\",\"unacc\",\"acc\",\"good\",\"unacc\",\"acc\",\"good\",\"unacc\",\"unacc\",\"unacc\",\"unacc\",\"acc\",\"good\",\"unacc\",\"acc\",\"good\",\"unacc\",\"unacc\",\"unacc\",\"unacc\",\"acc\",\"good\",\"unacc\",\"unacc\",\"unacc\",\"unacc\",\"unacc\",\"unacc\",\"unacc\",\"acc\",\"good\",\"unacc\",\"acc\",\"good\",\"unacc\",\"unacc\",\"unacc\",\"unacc\",\"acc\",\"good\",\"unacc\",\"acc\",\"good\",\"unacc\",\"unacc\",\"unacc\",\"unacc\",\"acc\",\"good\",\"unacc\",\"acc\",\"good\"]},{\"marker\":{\"color\":\"#d8576b\"},\"name\":\"Medium\",\"type\":\"histogram\",\"x\":[\"unacc\",\"unacc\",\"unacc\",\"unacc\",\"unacc\",\"unacc\",\"unacc\",\"unacc\",\"unacc\",\"unacc\",\"unacc\",\"unacc\",\"unacc\",\"unacc\",\"unacc\",\"unacc\",\"unacc\",\"unacc\",\"unacc\",\"unacc\",\"unacc\",\"unacc\",\"unacc\",\"unacc\",\"unacc\",\"unacc\",\"unacc\",\"unacc\",\"unacc\",\"unacc\",\"unacc\",\"unacc\",\"unacc\",\"unacc\",\"unacc\",\"unacc\",\"unacc\",\"unacc\",\"unacc\",\"unacc\",\"unacc\",\"unacc\",\"unacc\",\"unacc\",\"unacc\",\"unacc\",\"unacc\",\"unacc\",\"unacc\",\"unacc\",\"unacc\",\"unacc\",\"unacc\",\"unacc\",\"unacc\",\"unacc\",\"unacc\",\"unacc\",\"unacc\",\"unacc\",\"unacc\",\"unacc\",\"unacc\",\"unacc\",\"unacc\",\"unacc\",\"unacc\",\"unacc\",\"unacc\",\"unacc\",\"unacc\",\"unacc\",\"unacc\",\"unacc\",\"unacc\",\"unacc\",\"unacc\",\"acc\",\"unacc\",\"unacc\",\"acc\",\"unacc\",\"unacc\",\"unacc\",\"unacc\",\"unacc\",\"acc\",\"unacc\",\"acc\",\"acc\",\"unacc\",\"unacc\",\"unacc\",\"unacc\",\"acc\",\"acc\",\"unacc\",\"acc\",\"acc\",\"unacc\",\"unacc\",\"unacc\",\"unacc\",\"acc\",\"acc\",\"unacc\",\"acc\",\"acc\",\"unacc\",\"unacc\",\"unacc\",\"unacc\",\"unacc\",\"acc\",\"unacc\",\"unacc\",\"acc\",\"unacc\",\"unacc\",\"unacc\",\"unacc\",\"unacc\",\"acc\",\"unacc\",\"acc\",\"acc\",\"unacc\",\"unacc\",\"unacc\",\"unacc\",\"acc\",\"acc\",\"unacc\",\"acc\",\"acc\",\"unacc\",\"unacc\",\"unacc\",\"unacc\",\"acc\",\"acc\",\"unacc\",\"acc\",\"acc\",\"unacc\",\"unacc\",\"unacc\",\"unacc\",\"unacc\",\"unacc\",\"unacc\",\"unacc\",\"unacc\",\"unacc\",\"unacc\",\"unacc\",\"unacc\",\"unacc\",\"unacc\",\"unacc\",\"unacc\",\"unacc\",\"unacc\",\"unacc\",\"unacc\",\"unacc\",\"unacc\",\"unacc\",\"unacc\",\"unacc\",\"unacc\",\"unacc\",\"unacc\",\"unacc\",\"unacc\",\"unacc\",\"unacc\",\"unacc\",\"unacc\",\"unacc\",\"unacc\",\"unacc\",\"unacc\",\"unacc\",\"unacc\",\"acc\",\"unacc\",\"unacc\",\"acc\",\"unacc\",\"unacc\",\"unacc\",\"unacc\",\"unacc\",\"acc\",\"unacc\",\"acc\",\"acc\",\"unacc\",\"unacc\",\"unacc\",\"unacc\",\"acc\",\"acc\",\"unacc\",\"acc\",\"acc\",\"unacc\",\"unacc\",\"unacc\",\"unacc\",\"acc\",\"acc\",\"unacc\",\"acc\",\"acc\",\"unacc\",\"unacc\",\"unacc\",\"unacc\",\"unacc\",\"acc\",\"unacc\",\"unacc\",\"acc\",\"unacc\",\"unacc\",\"unacc\",\"unacc\",\"unacc\",\"acc\",\"unacc\",\"acc\",\"acc\",\"unacc\",\"unacc\",\"unacc\",\"unacc\",\"acc\",\"acc\",\"unacc\",\"acc\",\"acc\",\"unacc\",\"unacc\",\"unacc\",\"unacc\",\"acc\",\"acc\",\"unacc\",\"acc\",\"acc\",\"unacc\",\"unacc\",\"unacc\",\"unacc\",\"unacc\",\"acc\",\"unacc\",\"unacc\",\"acc\",\"unacc\",\"unacc\",\"unacc\",\"unacc\",\"unacc\",\"acc\",\"unacc\",\"acc\",\"acc\",\"unacc\",\"unacc\",\"unacc\",\"unacc\",\"acc\",\"acc\",\"unacc\",\"acc\",\"acc\",\"unacc\",\"unacc\",\"unacc\",\"unacc\",\"acc\",\"acc\",\"unacc\",\"acc\",\"acc\",\"unacc\",\"unacc\",\"unacc\",\"unacc\",\"unacc\",\"acc\",\"unacc\",\"unacc\",\"acc\",\"unacc\",\"unacc\",\"unacc\",\"unacc\",\"unacc\",\"acc\",\"unacc\",\"acc\",\"acc\",\"unacc\",\"unacc\",\"unacc\",\"unacc\",\"acc\",\"acc\",\"unacc\",\"acc\",\"acc\",\"unacc\",\"unacc\",\"unacc\",\"unacc\",\"acc\",\"acc\",\"unacc\",\"acc\",\"acc\",\"unacc\",\"unacc\",\"unacc\",\"unacc\",\"unacc\",\"acc\",\"unacc\",\"unacc\",\"acc\",\"unacc\",\"unacc\",\"unacc\",\"unacc\",\"unacc\",\"acc\",\"unacc\",\"acc\",\"acc\",\"unacc\",\"unacc\",\"unacc\",\"unacc\",\"acc\",\"acc\",\"unacc\",\"acc\",\"acc\",\"unacc\",\"unacc\",\"unacc\",\"unacc\",\"acc\",\"acc\",\"unacc\",\"acc\",\"acc\",\"unacc\",\"unacc\",\"unacc\",\"unacc\",\"acc\",\"acc\",\"unacc\",\"acc\",\"acc\",\"unacc\",\"unacc\",\"unacc\",\"unacc\",\"acc\",\"acc\",\"unacc\",\"acc\",\"vgood\",\"unacc\",\"unacc\",\"unacc\",\"unacc\",\"acc\",\"vgood\",\"unacc\",\"acc\",\"vgood\",\"unacc\",\"unacc\",\"unacc\",\"unacc\",\"acc\",\"vgood\",\"unacc\",\"acc\",\"vgood\",\"unacc\",\"unacc\",\"unacc\",\"unacc\",\"acc\",\"good\",\"unacc\",\"acc\",\"good\",\"unacc\",\"unacc\",\"unacc\",\"unacc\",\"acc\",\"good\",\"unacc\",\"good\",\"vgood\",\"unacc\",\"unacc\",\"unacc\",\"unacc\",\"good\",\"vgood\",\"unacc\",\"good\",\"vgood\",\"unacc\",\"unacc\",\"unacc\",\"unacc\",\"good\",\"vgood\",\"unacc\",\"good\",\"vgood\",\"unacc\",\"unacc\",\"unacc\",\"unacc\",\"unacc\",\"acc\",\"unacc\",\"unacc\",\"acc\",\"unacc\",\"unacc\",\"unacc\",\"unacc\",\"unacc\",\"acc\",\"unacc\",\"acc\",\"acc\",\"unacc\",\"unacc\",\"unacc\",\"unacc\",\"acc\",\"acc\",\"unacc\",\"acc\",\"acc\",\"unacc\",\"unacc\",\"unacc\",\"unacc\",\"acc\",\"acc\",\"unacc\",\"acc\",\"acc\",\"unacc\",\"unacc\",\"unacc\",\"unacc\",\"acc\",\"acc\",\"unacc\",\"acc\",\"acc\",\"unacc\",\"unacc\",\"unacc\",\"unacc\",\"acc\",\"acc\",\"unacc\",\"acc\",\"vgood\",\"unacc\",\"unacc\",\"unacc\",\"unacc\",\"acc\",\"vgood\",\"unacc\",\"acc\",\"vgood\",\"unacc\",\"unacc\",\"unacc\",\"unacc\",\"acc\",\"vgood\",\"unacc\",\"acc\",\"vgood\",\"unacc\",\"unacc\",\"unacc\",\"unacc\",\"acc\",\"good\",\"unacc\",\"acc\",\"good\",\"unacc\",\"unacc\",\"unacc\",\"unacc\",\"acc\",\"good\",\"unacc\",\"good\",\"vgood\",\"unacc\",\"unacc\",\"unacc\",\"unacc\",\"good\",\"vgood\",\"unacc\",\"good\",\"vgood\",\"unacc\",\"unacc\",\"unacc\",\"unacc\",\"good\",\"vgood\",\"unacc\",\"good\",\"vgood\",\"unacc\",\"unacc\",\"unacc\",\"unacc\",\"acc\",\"good\",\"unacc\",\"acc\",\"good\",\"unacc\",\"unacc\",\"unacc\",\"unacc\",\"acc\",\"good\",\"unacc\",\"good\",\"vgood\",\"unacc\",\"unacc\",\"unacc\",\"unacc\",\"good\",\"vgood\",\"unacc\",\"good\",\"vgood\",\"unacc\",\"unacc\",\"unacc\",\"unacc\",\"good\",\"vgood\",\"unacc\",\"good\",\"vgood\"]},{\"marker\":{\"color\":\"#9c179e\"},\"name\":\"Large\",\"type\":\"histogram\",\"x\":[\"unacc\",\"unacc\",\"unacc\",\"unacc\",\"unacc\",\"unacc\",\"unacc\",\"unacc\",\"unacc\",\"unacc\",\"unacc\",\"unacc\",\"unacc\",\"unacc\",\"unacc\",\"unacc\",\"unacc\",\"unacc\",\"unacc\",\"unacc\",\"unacc\",\"unacc\",\"unacc\",\"unacc\",\"unacc\",\"unacc\",\"unacc\",\"unacc\",\"unacc\",\"unacc\",\"unacc\",\"unacc\",\"unacc\",\"unacc\",\"unacc\",\"unacc\",\"unacc\",\"unacc\",\"unacc\",\"unacc\",\"unacc\",\"unacc\",\"unacc\",\"unacc\",\"unacc\",\"unacc\",\"unacc\",\"unacc\",\"unacc\",\"unacc\",\"unacc\",\"unacc\",\"unacc\",\"unacc\",\"unacc\",\"unacc\",\"unacc\",\"unacc\",\"unacc\",\"unacc\",\"unacc\",\"unacc\",\"unacc\",\"unacc\",\"unacc\",\"unacc\",\"unacc\",\"unacc\",\"unacc\",\"unacc\",\"unacc\",\"unacc\",\"unacc\",\"unacc\",\"unacc\",\"unacc\",\"acc\",\"acc\",\"unacc\",\"acc\",\"acc\",\"unacc\",\"unacc\",\"unacc\",\"unacc\",\"acc\",\"acc\",\"unacc\",\"acc\",\"acc\",\"unacc\",\"unacc\",\"unacc\",\"unacc\",\"acc\",\"acc\",\"unacc\",\"acc\",\"acc\",\"unacc\",\"unacc\",\"unacc\",\"unacc\",\"acc\",\"acc\",\"unacc\",\"acc\",\"acc\",\"unacc\",\"unacc\",\"unacc\",\"unacc\",\"acc\",\"acc\",\"unacc\",\"acc\",\"acc\",\"unacc\",\"unacc\",\"unacc\",\"unacc\",\"acc\",\"acc\",\"unacc\",\"acc\",\"acc\",\"unacc\",\"unacc\",\"unacc\",\"unacc\",\"acc\",\"acc\",\"unacc\",\"acc\",\"acc\",\"unacc\",\"unacc\",\"unacc\",\"unacc\",\"acc\",\"acc\",\"unacc\",\"acc\",\"acc\",\"unacc\",\"unacc\",\"unacc\",\"unacc\",\"unacc\",\"unacc\",\"unacc\",\"unacc\",\"unacc\",\"unacc\",\"unacc\",\"unacc\",\"unacc\",\"unacc\",\"unacc\",\"unacc\",\"unacc\",\"unacc\",\"unacc\",\"unacc\",\"unacc\",\"unacc\",\"unacc\",\"unacc\",\"unacc\",\"unacc\",\"unacc\",\"unacc\",\"unacc\",\"unacc\",\"unacc\",\"unacc\",\"unacc\",\"unacc\",\"unacc\",\"unacc\",\"unacc\",\"unacc\",\"unacc\",\"unacc\",\"acc\",\"acc\",\"unacc\",\"acc\",\"acc\",\"unacc\",\"unacc\",\"unacc\",\"unacc\",\"acc\",\"acc\",\"unacc\",\"acc\",\"acc\",\"unacc\",\"unacc\",\"unacc\",\"unacc\",\"acc\",\"acc\",\"unacc\",\"acc\",\"acc\",\"unacc\",\"unacc\",\"unacc\",\"unacc\",\"acc\",\"acc\",\"unacc\",\"acc\",\"acc\",\"unacc\",\"unacc\",\"unacc\",\"unacc\",\"acc\",\"acc\",\"unacc\",\"acc\",\"acc\",\"unacc\",\"unacc\",\"unacc\",\"unacc\",\"acc\",\"acc\",\"unacc\",\"acc\",\"acc\",\"unacc\",\"unacc\",\"unacc\",\"unacc\",\"acc\",\"acc\",\"unacc\",\"acc\",\"acc\",\"unacc\",\"unacc\",\"unacc\",\"unacc\",\"acc\",\"acc\",\"unacc\",\"acc\",\"acc\",\"unacc\",\"unacc\",\"unacc\",\"unacc\",\"acc\",\"acc\",\"unacc\",\"acc\",\"acc\",\"unacc\",\"unacc\",\"unacc\",\"unacc\",\"acc\",\"acc\",\"unacc\",\"acc\",\"acc\",\"unacc\",\"unacc\",\"unacc\",\"unacc\",\"acc\",\"acc\",\"unacc\",\"acc\",\"acc\",\"unacc\",\"unacc\",\"unacc\",\"unacc\",\"acc\",\"acc\",\"unacc\",\"acc\",\"acc\",\"unacc\",\"unacc\",\"unacc\",\"unacc\",\"acc\",\"acc\",\"unacc\",\"acc\",\"acc\",\"unacc\",\"unacc\",\"unacc\",\"unacc\",\"acc\",\"acc\",\"unacc\",\"acc\",\"acc\",\"unacc\",\"unacc\",\"unacc\",\"unacc\",\"acc\",\"acc\",\"unacc\",\"acc\",\"acc\",\"unacc\",\"unacc\",\"unacc\",\"unacc\",\"acc\",\"acc\",\"unacc\",\"acc\",\"acc\",\"unacc\",\"unacc\",\"unacc\",\"unacc\",\"acc\",\"acc\",\"unacc\",\"acc\",\"acc\",\"unacc\",\"unacc\",\"unacc\",\"unacc\",\"acc\",\"acc\",\"unacc\",\"acc\",\"acc\",\"unacc\",\"unacc\",\"unacc\",\"unacc\",\"acc\",\"acc\",\"unacc\",\"acc\",\"acc\",\"unacc\",\"unacc\",\"unacc\",\"unacc\",\"acc\",\"acc\",\"unacc\",\"acc\",\"acc\",\"unacc\",\"unacc\",\"unacc\",\"unacc\",\"acc\",\"vgood\",\"unacc\",\"acc\",\"vgood\",\"unacc\",\"unacc\",\"unacc\",\"unacc\",\"acc\",\"vgood\",\"unacc\",\"acc\",\"vgood\",\"unacc\",\"unacc\",\"unacc\",\"unacc\",\"acc\",\"vgood\",\"unacc\",\"acc\",\"vgood\",\"unacc\",\"unacc\",\"unacc\",\"unacc\",\"acc\",\"vgood\",\"unacc\",\"acc\",\"vgood\",\"unacc\",\"unacc\",\"unacc\",\"unacc\",\"good\",\"vgood\",\"unacc\",\"good\",\"vgood\",\"unacc\",\"unacc\",\"unacc\",\"unacc\",\"good\",\"vgood\",\"unacc\",\"good\",\"vgood\",\"unacc\",\"unacc\",\"unacc\",\"unacc\",\"good\",\"vgood\",\"unacc\",\"good\",\"vgood\",\"unacc\",\"unacc\",\"unacc\",\"unacc\",\"good\",\"vgood\",\"unacc\",\"good\",\"vgood\",\"unacc\",\"unacc\",\"unacc\",\"unacc\",\"acc\",\"acc\",\"unacc\",\"acc\",\"acc\",\"unacc\",\"unacc\",\"unacc\",\"unacc\",\"acc\",\"acc\",\"unacc\",\"acc\",\"acc\",\"unacc\",\"unacc\",\"unacc\",\"unacc\",\"acc\",\"acc\",\"unacc\",\"acc\",\"acc\",\"unacc\",\"unacc\",\"unacc\",\"unacc\",\"acc\",\"acc\",\"unacc\",\"acc\",\"acc\",\"unacc\",\"unacc\",\"unacc\",\"unacc\",\"acc\",\"vgood\",\"unacc\",\"acc\",\"vgood\",\"unacc\",\"unacc\",\"unacc\",\"unacc\",\"acc\",\"vgood\",\"unacc\",\"acc\",\"vgood\",\"unacc\",\"unacc\",\"unacc\",\"unacc\",\"acc\",\"vgood\",\"unacc\",\"acc\",\"vgood\",\"unacc\",\"unacc\",\"unacc\",\"unacc\",\"acc\",\"vgood\",\"unacc\",\"acc\",\"vgood\",\"unacc\",\"unacc\",\"unacc\",\"unacc\",\"good\",\"vgood\",\"unacc\",\"good\",\"vgood\",\"unacc\",\"unacc\",\"unacc\",\"unacc\",\"good\",\"vgood\",\"unacc\",\"good\",\"vgood\",\"unacc\",\"unacc\",\"unacc\",\"unacc\",\"good\",\"vgood\",\"unacc\",\"good\",\"vgood\",\"unacc\",\"unacc\",\"unacc\",\"unacc\",\"good\",\"vgood\",\"unacc\",\"good\",\"vgood\",\"unacc\",\"unacc\",\"unacc\",\"unacc\",\"good\",\"vgood\",\"unacc\",\"good\",\"vgood\",\"unacc\",\"unacc\",\"unacc\",\"unacc\",\"good\",\"vgood\",\"unacc\",\"good\",\"vgood\",\"unacc\",\"unacc\",\"unacc\",\"unacc\",\"good\",\"vgood\",\"unacc\",\"good\",\"vgood\",\"unacc\",\"unacc\",\"unacc\",\"unacc\",\"good\",\"vgood\",\"unacc\",\"good\",\"vgood\"]}],                        {\"height\":550,\"legend\":{\"font\":{\"color\":\"black\",\"family\":\"Arial\",\"size\":16}},\"template\":{\"data\":{\"bar\":[{\"error_x\":{\"color\":\"#2a3f5f\"},\"error_y\":{\"color\":\"#2a3f5f\"},\"marker\":{\"line\":{\"color\":\"#E5ECF6\",\"width\":0.5},\"pattern\":{\"fillmode\":\"overlay\",\"size\":10,\"solidity\":0.2}},\"type\":\"bar\"}],\"barpolar\":[{\"marker\":{\"line\":{\"color\":\"#E5ECF6\",\"width\":0.5},\"pattern\":{\"fillmode\":\"overlay\",\"size\":10,\"solidity\":0.2}},\"type\":\"barpolar\"}],\"carpet\":[{\"aaxis\":{\"endlinecolor\":\"#2a3f5f\",\"gridcolor\":\"white\",\"linecolor\":\"white\",\"minorgridcolor\":\"white\",\"startlinecolor\":\"#2a3f5f\"},\"baxis\":{\"endlinecolor\":\"#2a3f5f\",\"gridcolor\":\"white\",\"linecolor\":\"white\",\"minorgridcolor\":\"white\",\"startlinecolor\":\"#2a3f5f\"},\"type\":\"carpet\"}],\"choropleth\":[{\"colorbar\":{\"outlinewidth\":0,\"ticks\":\"\"},\"type\":\"choropleth\"}],\"contour\":[{\"colorbar\":{\"outlinewidth\":0,\"ticks\":\"\"},\"colorscale\":[[0.0,\"#0d0887\"],[0.1111111111111111,\"#46039f\"],[0.2222222222222222,\"#7201a8\"],[0.3333333333333333,\"#9c179e\"],[0.4444444444444444,\"#bd3786\"],[0.5555555555555556,\"#d8576b\"],[0.6666666666666666,\"#ed7953\"],[0.7777777777777778,\"#fb9f3a\"],[0.8888888888888888,\"#fdca26\"],[1.0,\"#f0f921\"]],\"type\":\"contour\"}],\"contourcarpet\":[{\"colorbar\":{\"outlinewidth\":0,\"ticks\":\"\"},\"type\":\"contourcarpet\"}],\"heatmap\":[{\"colorbar\":{\"outlinewidth\":0,\"ticks\":\"\"},\"colorscale\":[[0.0,\"#0d0887\"],[0.1111111111111111,\"#46039f\"],[0.2222222222222222,\"#7201a8\"],[0.3333333333333333,\"#9c179e\"],[0.4444444444444444,\"#bd3786\"],[0.5555555555555556,\"#d8576b\"],[0.6666666666666666,\"#ed7953\"],[0.7777777777777778,\"#fb9f3a\"],[0.8888888888888888,\"#fdca26\"],[1.0,\"#f0f921\"]],\"type\":\"heatmap\"}],\"heatmapgl\":[{\"colorbar\":{\"outlinewidth\":0,\"ticks\":\"\"},\"colorscale\":[[0.0,\"#0d0887\"],[0.1111111111111111,\"#46039f\"],[0.2222222222222222,\"#7201a8\"],[0.3333333333333333,\"#9c179e\"],[0.4444444444444444,\"#bd3786\"],[0.5555555555555556,\"#d8576b\"],[0.6666666666666666,\"#ed7953\"],[0.7777777777777778,\"#fb9f3a\"],[0.8888888888888888,\"#fdca26\"],[1.0,\"#f0f921\"]],\"type\":\"heatmapgl\"}],\"histogram\":[{\"marker\":{\"pattern\":{\"fillmode\":\"overlay\",\"size\":10,\"solidity\":0.2}},\"type\":\"histogram\"}],\"histogram2d\":[{\"colorbar\":{\"outlinewidth\":0,\"ticks\":\"\"},\"colorscale\":[[0.0,\"#0d0887\"],[0.1111111111111111,\"#46039f\"],[0.2222222222222222,\"#7201a8\"],[0.3333333333333333,\"#9c179e\"],[0.4444444444444444,\"#bd3786\"],[0.5555555555555556,\"#d8576b\"],[0.6666666666666666,\"#ed7953\"],[0.7777777777777778,\"#fb9f3a\"],[0.8888888888888888,\"#fdca26\"],[1.0,\"#f0f921\"]],\"type\":\"histogram2d\"}],\"histogram2dcontour\":[{\"colorbar\":{\"outlinewidth\":0,\"ticks\":\"\"},\"colorscale\":[[0.0,\"#0d0887\"],[0.1111111111111111,\"#46039f\"],[0.2222222222222222,\"#7201a8\"],[0.3333333333333333,\"#9c179e\"],[0.4444444444444444,\"#bd3786\"],[0.5555555555555556,\"#d8576b\"],[0.6666666666666666,\"#ed7953\"],[0.7777777777777778,\"#fb9f3a\"],[0.8888888888888888,\"#fdca26\"],[1.0,\"#f0f921\"]],\"type\":\"histogram2dcontour\"}],\"mesh3d\":[{\"colorbar\":{\"outlinewidth\":0,\"ticks\":\"\"},\"type\":\"mesh3d\"}],\"parcoords\":[{\"line\":{\"colorbar\":{\"outlinewidth\":0,\"ticks\":\"\"}},\"type\":\"parcoords\"}],\"pie\":[{\"automargin\":true,\"type\":\"pie\"}],\"scatter\":[{\"marker\":{\"colorbar\":{\"outlinewidth\":0,\"ticks\":\"\"}},\"type\":\"scatter\"}],\"scatter3d\":[{\"line\":{\"colorbar\":{\"outlinewidth\":0,\"ticks\":\"\"}},\"marker\":{\"colorbar\":{\"outlinewidth\":0,\"ticks\":\"\"}},\"type\":\"scatter3d\"}],\"scattercarpet\":[{\"marker\":{\"colorbar\":{\"outlinewidth\":0,\"ticks\":\"\"}},\"type\":\"scattercarpet\"}],\"scattergeo\":[{\"marker\":{\"colorbar\":{\"outlinewidth\":0,\"ticks\":\"\"}},\"type\":\"scattergeo\"}],\"scattergl\":[{\"marker\":{\"colorbar\":{\"outlinewidth\":0,\"ticks\":\"\"}},\"type\":\"scattergl\"}],\"scattermapbox\":[{\"marker\":{\"colorbar\":{\"outlinewidth\":0,\"ticks\":\"\"}},\"type\":\"scattermapbox\"}],\"scatterpolar\":[{\"marker\":{\"colorbar\":{\"outlinewidth\":0,\"ticks\":\"\"}},\"type\":\"scatterpolar\"}],\"scatterpolargl\":[{\"marker\":{\"colorbar\":{\"outlinewidth\":0,\"ticks\":\"\"}},\"type\":\"scatterpolargl\"}],\"scatterternary\":[{\"marker\":{\"colorbar\":{\"outlinewidth\":0,\"ticks\":\"\"}},\"type\":\"scatterternary\"}],\"surface\":[{\"colorbar\":{\"outlinewidth\":0,\"ticks\":\"\"},\"colorscale\":[[0.0,\"#0d0887\"],[0.1111111111111111,\"#46039f\"],[0.2222222222222222,\"#7201a8\"],[0.3333333333333333,\"#9c179e\"],[0.4444444444444444,\"#bd3786\"],[0.5555555555555556,\"#d8576b\"],[0.6666666666666666,\"#ed7953\"],[0.7777777777777778,\"#fb9f3a\"],[0.8888888888888888,\"#fdca26\"],[1.0,\"#f0f921\"]],\"type\":\"surface\"}],\"table\":[{\"cells\":{\"fill\":{\"color\":\"#EBF0F8\"},\"line\":{\"color\":\"white\"}},\"header\":{\"fill\":{\"color\":\"#C8D4E3\"},\"line\":{\"color\":\"white\"}},\"type\":\"table\"}]},\"layout\":{\"annotationdefaults\":{\"arrowcolor\":\"#2a3f5f\",\"arrowhead\":0,\"arrowwidth\":1},\"autotypenumbers\":\"strict\",\"coloraxis\":{\"colorbar\":{\"outlinewidth\":0,\"ticks\":\"\"}},\"colorscale\":{\"diverging\":[[0,\"#8e0152\"],[0.1,\"#c51b7d\"],[0.2,\"#de77ae\"],[0.3,\"#f1b6da\"],[0.4,\"#fde0ef\"],[0.5,\"#f7f7f7\"],[0.6,\"#e6f5d0\"],[0.7,\"#b8e186\"],[0.8,\"#7fbc41\"],[0.9,\"#4d9221\"],[1,\"#276419\"]],\"sequential\":[[0.0,\"#0d0887\"],[0.1111111111111111,\"#46039f\"],[0.2222222222222222,\"#7201a8\"],[0.3333333333333333,\"#9c179e\"],[0.4444444444444444,\"#bd3786\"],[0.5555555555555556,\"#d8576b\"],[0.6666666666666666,\"#ed7953\"],[0.7777777777777778,\"#fb9f3a\"],[0.8888888888888888,\"#fdca26\"],[1.0,\"#f0f921\"]],\"sequentialminus\":[[0.0,\"#0d0887\"],[0.1111111111111111,\"#46039f\"],[0.2222222222222222,\"#7201a8\"],[0.3333333333333333,\"#9c179e\"],[0.4444444444444444,\"#bd3786\"],[0.5555555555555556,\"#d8576b\"],[0.6666666666666666,\"#ed7953\"],[0.7777777777777778,\"#fb9f3a\"],[0.8888888888888888,\"#fdca26\"],[1.0,\"#f0f921\"]]},\"colorway\":[\"#636efa\",\"#EF553B\",\"#00cc96\",\"#ab63fa\",\"#FFA15A\",\"#19d3f3\",\"#FF6692\",\"#B6E880\",\"#FF97FF\",\"#FECB52\"],\"font\":{\"color\":\"#2a3f5f\"},\"geo\":{\"bgcolor\":\"white\",\"lakecolor\":\"white\",\"landcolor\":\"#E5ECF6\",\"showlakes\":true,\"showland\":true,\"subunitcolor\":\"white\"},\"hoverlabel\":{\"align\":\"left\"},\"hovermode\":\"closest\",\"mapbox\":{\"style\":\"light\"},\"paper_bgcolor\":\"white\",\"plot_bgcolor\":\"#E5ECF6\",\"polar\":{\"angularaxis\":{\"gridcolor\":\"white\",\"linecolor\":\"white\",\"ticks\":\"\"},\"bgcolor\":\"#E5ECF6\",\"radialaxis\":{\"gridcolor\":\"white\",\"linecolor\":\"white\",\"ticks\":\"\"}},\"scene\":{\"xaxis\":{\"backgroundcolor\":\"#E5ECF6\",\"gridcolor\":\"white\",\"gridwidth\":2,\"linecolor\":\"white\",\"showbackground\":true,\"ticks\":\"\",\"zerolinecolor\":\"white\"},\"yaxis\":{\"backgroundcolor\":\"#E5ECF6\",\"gridcolor\":\"white\",\"gridwidth\":2,\"linecolor\":\"white\",\"showbackground\":true,\"ticks\":\"\",\"zerolinecolor\":\"white\"},\"zaxis\":{\"backgroundcolor\":\"#E5ECF6\",\"gridcolor\":\"white\",\"gridwidth\":2,\"linecolor\":\"white\",\"showbackground\":true,\"ticks\":\"\",\"zerolinecolor\":\"white\"}},\"shapedefaults\":{\"line\":{\"color\":\"#2a3f5f\"}},\"ternary\":{\"aaxis\":{\"gridcolor\":\"white\",\"linecolor\":\"white\",\"ticks\":\"\"},\"baxis\":{\"gridcolor\":\"white\",\"linecolor\":\"white\",\"ticks\":\"\"},\"bgcolor\":\"#E5ECF6\",\"caxis\":{\"gridcolor\":\"white\",\"linecolor\":\"white\",\"ticks\":\"\"}},\"title\":{\"x\":0.05},\"xaxis\":{\"automargin\":true,\"gridcolor\":\"white\",\"linecolor\":\"white\",\"ticks\":\"\",\"title\":{\"standoff\":15},\"zerolinecolor\":\"white\",\"zerolinewidth\":2},\"yaxis\":{\"automargin\":true,\"gridcolor\":\"white\",\"linecolor\":\"white\",\"ticks\":\"\",\"title\":{\"standoff\":15},\"zerolinecolor\":\"white\",\"zerolinewidth\":2}}},\"title\":{\"font\":{\"color\":\"darkred\",\"family\":\"Arial\",\"size\":20},\"text\":\"Luggage Boot Size\",\"x\":0.45,\"y\":0.875},\"width\":800,\"xaxis\":{\"showticklabels\":true,\"tickfont\":{\"color\":\"black\",\"family\":\"Arial\",\"size\":16},\"tickmode\":\"array\",\"ticktext\":[\"Unacceptable\",\"Acceptable\",\"Good\",\"Very Good\"],\"tickvals\":[\"unacc\",\"acc\",\"good\",\"vgood\"],\"title\":{\"text\":\"Condition\"}},\"yaxis\":{\"tickfont\":{\"color\":\"black\",\"family\":\"Arial\",\"size\":16},\"title\":{\"text\":\"Number of Cars\"}}},                        {\"responsive\": true}                    ).then(function(){\n",
       "                            \n",
       "var gd = document.getElementById('6c2a6439-67f7-4980-9f9f-8f08ebf63050');\n",
       "var x = new MutationObserver(function (mutations, observer) {{\n",
       "        var display = window.getComputedStyle(gd).display;\n",
       "        if (!display || display === 'none') {{\n",
       "            console.log([gd, 'removed!']);\n",
       "            Plotly.purge(gd);\n",
       "            observer.disconnect();\n",
       "        }}\n",
       "}});\n",
       "\n",
       "// Listen for the removal of the full notebook cells\n",
       "var notebookContainer = gd.closest('#notebook-container');\n",
       "if (notebookContainer) {{\n",
       "    x.observe(notebookContainer, {childList: true});\n",
       "}}\n",
       "\n",
       "// Listen for the clearing of the current output cell\n",
       "var outputEl = gd.closest('.output');\n",
       "if (outputEl) {{\n",
       "    x.observe(outputEl, {childList: true});\n",
       "}}\n",
       "\n",
       "                        })                };                });            </script>        </div>"
      ]
     },
     "metadata": {},
     "output_type": "display_data"
    }
   ],
   "source": [
    "fg4 = go.Figure(layout=go.Layout(height=550, width=800))\n",
    "\n",
    "fg4.add_trace(go.Histogram(x=car_df.loc[car_df.LugBoot==\"small\", \"Class\"],\n",
    "                           name = \"Small\",\n",
    "                           marker=dict(color=\"#fb9f3a\")))\n",
    "fg4.add_trace(go.Histogram(x=car_df.loc[car_df.LugBoot==\"med\", \"Class\"],\n",
    "                           name = \"Medium\",\n",
    "                           marker=dict(color=\"#d8576b\")))\n",
    "fg4.add_trace(go.Histogram(x=car_df.loc[car_df.LugBoot==\"big\", \"Class\"],\n",
    "                           name = \"Large\",\n",
    "                           marker=dict(color=\"#9c179e\")))\n",
    "\n",
    "fg4.update_xaxes(title_text=\"Condition\", \n",
    "                 showticklabels=True, \n",
    "                 tickmode=\"array\",\n",
    "                 tickvals=[\"unacc\", \"acc\", \"good\", \"vgood\"],\n",
    "                 ticktext=[\"Unacceptable\", \"Acceptable\", \"Good\", \"Very Good\"],\n",
    "                 tickfont=dict(family=\"Arial\", size=16, color=\"black\"))\n",
    "\n",
    "fg4.update_yaxes(title_text=\"Number of Cars\", tickfont=dict(family=\"Arial\", size=16, color=\"black\"))\n",
    "\n",
    "fg4.update_layout(legend = dict(font = dict(family = \"Arial\", size = 16, color=\"black\")),\n",
    "                  title_text = 'Luggage Boot Size',\n",
    "                  title_font = dict(size=20, family='Arial', color='darkred'),\n",
    "                  title_x=0.45,\n",
    "                  title_y=0.875)\n",
    "\n",
    "fg4.show()"
   ]
  },
  {
   "cell_type": "code",
   "execution_count": 23,
   "metadata": {},
   "outputs": [
    {
     "data": {
      "application/vnd.plotly.v1+json": {
       "config": {
        "plotlyServerURL": "https://plot.ly"
       },
       "data": [
        {
         "marker": {
          "color": "#fb9f3a"
         },
         "name": "Low",
         "type": "histogram",
         "x": [
          "unacc",
          "unacc",
          "unacc",
          "unacc",
          "unacc",
          "unacc",
          "unacc",
          "unacc",
          "unacc",
          "unacc",
          "unacc",
          "unacc",
          "unacc",
          "unacc",
          "unacc",
          "unacc",
          "unacc",
          "unacc",
          "unacc",
          "unacc",
          "unacc",
          "unacc",
          "unacc",
          "unacc",
          "unacc",
          "unacc",
          "unacc",
          "unacc",
          "unacc",
          "unacc",
          "unacc",
          "unacc",
          "unacc",
          "unacc",
          "unacc",
          "unacc",
          "unacc",
          "unacc",
          "unacc",
          "unacc",
          "unacc",
          "unacc",
          "unacc",
          "unacc",
          "unacc",
          "unacc",
          "unacc",
          "unacc",
          "unacc",
          "unacc",
          "unacc",
          "unacc",
          "unacc",
          "unacc",
          "unacc",
          "unacc",
          "unacc",
          "unacc",
          "unacc",
          "unacc",
          "unacc",
          "unacc",
          "unacc",
          "unacc",
          "unacc",
          "unacc",
          "unacc",
          "unacc",
          "unacc",
          "unacc",
          "unacc",
          "unacc",
          "unacc",
          "unacc",
          "unacc",
          "unacc",
          "unacc",
          "unacc",
          "unacc",
          "unacc",
          "unacc",
          "unacc",
          "unacc",
          "unacc",
          "unacc",
          "unacc",
          "unacc",
          "unacc",
          "unacc",
          "unacc",
          "unacc",
          "unacc",
          "unacc",
          "unacc",
          "unacc",
          "unacc",
          "unacc",
          "unacc",
          "unacc",
          "unacc",
          "unacc",
          "unacc",
          "unacc",
          "unacc",
          "unacc",
          "unacc",
          "unacc",
          "unacc",
          "unacc",
          "unacc",
          "unacc",
          "unacc",
          "unacc",
          "unacc",
          "unacc",
          "unacc",
          "unacc",
          "unacc",
          "unacc",
          "unacc",
          "unacc",
          "unacc",
          "unacc",
          "unacc",
          "unacc",
          "unacc",
          "unacc",
          "unacc",
          "unacc",
          "unacc",
          "unacc",
          "unacc",
          "unacc",
          "unacc",
          "unacc",
          "unacc",
          "unacc",
          "unacc",
          "unacc",
          "unacc",
          "unacc",
          "unacc",
          "unacc",
          "unacc",
          "unacc",
          "unacc",
          "unacc",
          "unacc",
          "unacc",
          "unacc",
          "unacc",
          "unacc",
          "unacc",
          "unacc",
          "unacc",
          "unacc",
          "unacc",
          "unacc",
          "unacc",
          "unacc",
          "unacc",
          "unacc",
          "unacc",
          "unacc",
          "unacc",
          "unacc",
          "unacc",
          "unacc",
          "unacc",
          "unacc",
          "unacc",
          "unacc",
          "unacc",
          "unacc",
          "unacc",
          "unacc",
          "unacc",
          "unacc",
          "unacc",
          "unacc",
          "unacc",
          "unacc",
          "unacc",
          "unacc",
          "unacc",
          "unacc",
          "unacc",
          "unacc",
          "unacc",
          "unacc",
          "unacc",
          "unacc",
          "unacc",
          "unacc",
          "unacc",
          "unacc",
          "unacc",
          "unacc",
          "unacc",
          "unacc",
          "unacc",
          "unacc",
          "unacc",
          "unacc",
          "unacc",
          "unacc",
          "unacc",
          "unacc",
          "unacc",
          "unacc",
          "unacc",
          "unacc",
          "unacc",
          "unacc",
          "unacc",
          "unacc",
          "unacc",
          "unacc",
          "unacc",
          "unacc",
          "unacc",
          "unacc",
          "unacc",
          "unacc",
          "unacc",
          "unacc",
          "unacc",
          "unacc",
          "unacc",
          "unacc",
          "unacc",
          "unacc",
          "unacc",
          "unacc",
          "unacc",
          "unacc",
          "unacc",
          "unacc",
          "unacc",
          "unacc",
          "unacc",
          "unacc",
          "unacc",
          "unacc",
          "unacc",
          "unacc",
          "unacc",
          "unacc",
          "unacc",
          "unacc",
          "unacc",
          "unacc",
          "unacc",
          "unacc",
          "unacc",
          "unacc",
          "unacc",
          "unacc",
          "unacc",
          "unacc",
          "unacc",
          "unacc",
          "unacc",
          "unacc",
          "unacc",
          "unacc",
          "unacc",
          "unacc",
          "unacc",
          "unacc",
          "unacc",
          "unacc",
          "unacc",
          "unacc",
          "unacc",
          "unacc",
          "unacc",
          "unacc",
          "unacc",
          "unacc",
          "unacc",
          "unacc",
          "unacc",
          "unacc",
          "unacc",
          "unacc",
          "unacc",
          "unacc",
          "unacc",
          "unacc",
          "unacc",
          "unacc",
          "unacc",
          "unacc",
          "unacc",
          "unacc",
          "unacc",
          "unacc",
          "unacc",
          "unacc",
          "unacc",
          "unacc",
          "unacc",
          "unacc",
          "unacc",
          "unacc",
          "unacc",
          "unacc",
          "unacc",
          "unacc",
          "unacc",
          "unacc",
          "unacc",
          "unacc",
          "unacc",
          "unacc",
          "unacc",
          "unacc",
          "unacc",
          "unacc",
          "unacc",
          "unacc",
          "unacc",
          "unacc",
          "unacc",
          "unacc",
          "unacc",
          "unacc",
          "unacc",
          "unacc",
          "unacc",
          "unacc",
          "unacc",
          "unacc",
          "unacc",
          "unacc",
          "unacc",
          "unacc",
          "unacc",
          "unacc",
          "unacc",
          "unacc",
          "unacc",
          "unacc",
          "unacc",
          "unacc",
          "unacc",
          "unacc",
          "unacc",
          "unacc",
          "unacc",
          "unacc",
          "unacc",
          "unacc",
          "unacc",
          "unacc",
          "unacc",
          "unacc",
          "unacc",
          "unacc",
          "unacc",
          "unacc",
          "unacc",
          "unacc",
          "unacc",
          "unacc",
          "unacc",
          "unacc",
          "unacc",
          "unacc",
          "unacc",
          "unacc",
          "unacc",
          "unacc",
          "unacc",
          "unacc",
          "unacc",
          "unacc",
          "unacc",
          "unacc",
          "unacc",
          "unacc",
          "unacc",
          "unacc",
          "unacc",
          "unacc",
          "unacc",
          "unacc",
          "unacc",
          "unacc",
          "unacc",
          "unacc",
          "unacc",
          "unacc",
          "unacc",
          "unacc",
          "unacc",
          "unacc",
          "unacc",
          "unacc",
          "unacc",
          "unacc",
          "unacc",
          "unacc",
          "unacc",
          "unacc",
          "unacc",
          "unacc",
          "unacc",
          "unacc",
          "unacc",
          "unacc",
          "unacc",
          "unacc",
          "unacc",
          "unacc",
          "unacc",
          "unacc",
          "unacc",
          "unacc",
          "unacc",
          "unacc",
          "unacc",
          "unacc",
          "unacc",
          "unacc",
          "unacc",
          "unacc",
          "unacc",
          "unacc",
          "unacc",
          "unacc",
          "unacc",
          "unacc",
          "unacc",
          "unacc",
          "unacc",
          "unacc",
          "unacc",
          "unacc",
          "unacc",
          "unacc",
          "unacc",
          "unacc",
          "unacc",
          "unacc",
          "unacc",
          "unacc",
          "unacc",
          "unacc",
          "unacc",
          "unacc",
          "unacc",
          "unacc",
          "unacc",
          "unacc",
          "unacc",
          "unacc",
          "unacc",
          "unacc",
          "unacc",
          "unacc",
          "unacc",
          "unacc",
          "unacc",
          "unacc",
          "unacc",
          "unacc",
          "unacc",
          "unacc",
          "unacc",
          "unacc",
          "unacc",
          "unacc",
          "unacc",
          "unacc",
          "unacc",
          "unacc",
          "unacc",
          "unacc",
          "unacc",
          "unacc",
          "unacc",
          "unacc",
          "unacc",
          "unacc",
          "unacc",
          "unacc",
          "unacc",
          "unacc",
          "unacc",
          "unacc",
          "unacc",
          "unacc",
          "unacc",
          "unacc",
          "unacc",
          "unacc",
          "unacc",
          "unacc",
          "unacc",
          "unacc",
          "unacc",
          "unacc",
          "unacc",
          "unacc",
          "unacc",
          "unacc",
          "unacc",
          "unacc",
          "unacc",
          "unacc",
          "unacc",
          "unacc",
          "unacc",
          "unacc",
          "unacc",
          "unacc",
          "unacc",
          "unacc",
          "unacc",
          "unacc",
          "unacc",
          "unacc",
          "unacc",
          "unacc",
          "unacc",
          "unacc",
          "unacc",
          "unacc",
          "unacc",
          "unacc",
          "unacc",
          "unacc",
          "unacc",
          "unacc",
          "unacc",
          "unacc",
          "unacc",
          "unacc",
          "unacc",
          "unacc",
          "unacc",
          "unacc",
          "unacc",
          "unacc",
          "unacc",
          "unacc",
          "unacc",
          "unacc",
          "unacc",
          "unacc",
          "unacc",
          "unacc",
          "unacc",
          "unacc",
          "unacc",
          "unacc",
          "unacc",
          "unacc",
          "unacc",
          "unacc",
          "unacc",
          "unacc",
          "unacc",
          "unacc",
          "unacc",
          "unacc",
          "unacc",
          "unacc",
          "unacc",
          "unacc",
          "unacc",
          "unacc",
          "unacc",
          "unacc"
         ]
        },
        {
         "marker": {
          "color": "#d8576b"
         },
         "name": "Medium",
         "type": "histogram",
         "x": [
          "unacc",
          "unacc",
          "unacc",
          "unacc",
          "unacc",
          "unacc",
          "unacc",
          "unacc",
          "unacc",
          "unacc",
          "unacc",
          "unacc",
          "unacc",
          "unacc",
          "unacc",
          "unacc",
          "unacc",
          "unacc",
          "unacc",
          "unacc",
          "unacc",
          "unacc",
          "unacc",
          "unacc",
          "unacc",
          "unacc",
          "unacc",
          "unacc",
          "unacc",
          "unacc",
          "unacc",
          "unacc",
          "unacc",
          "unacc",
          "unacc",
          "unacc",
          "unacc",
          "unacc",
          "unacc",
          "unacc",
          "unacc",
          "unacc",
          "unacc",
          "unacc",
          "unacc",
          "unacc",
          "unacc",
          "unacc",
          "unacc",
          "unacc",
          "unacc",
          "unacc",
          "unacc",
          "unacc",
          "unacc",
          "unacc",
          "unacc",
          "unacc",
          "unacc",
          "unacc",
          "unacc",
          "unacc",
          "unacc",
          "unacc",
          "unacc",
          "unacc",
          "unacc",
          "unacc",
          "unacc",
          "unacc",
          "unacc",
          "unacc",
          "unacc",
          "unacc",
          "unacc",
          "unacc",
          "unacc",
          "acc",
          "unacc",
          "unacc",
          "acc",
          "unacc",
          "unacc",
          "unacc",
          "unacc",
          "unacc",
          "acc",
          "unacc",
          "acc",
          "acc",
          "unacc",
          "unacc",
          "unacc",
          "unacc",
          "acc",
          "acc",
          "unacc",
          "acc",
          "acc",
          "unacc",
          "unacc",
          "unacc",
          "unacc",
          "acc",
          "acc",
          "unacc",
          "acc",
          "acc",
          "unacc",
          "unacc",
          "unacc",
          "unacc",
          "unacc",
          "acc",
          "unacc",
          "unacc",
          "acc",
          "unacc",
          "unacc",
          "unacc",
          "unacc",
          "unacc",
          "acc",
          "unacc",
          "acc",
          "acc",
          "unacc",
          "unacc",
          "unacc",
          "unacc",
          "acc",
          "acc",
          "unacc",
          "acc",
          "acc",
          "unacc",
          "unacc",
          "unacc",
          "unacc",
          "acc",
          "acc",
          "unacc",
          "acc",
          "acc",
          "unacc",
          "unacc",
          "unacc",
          "unacc",
          "unacc",
          "unacc",
          "unacc",
          "unacc",
          "unacc",
          "unacc",
          "unacc",
          "unacc",
          "unacc",
          "unacc",
          "unacc",
          "unacc",
          "unacc",
          "unacc",
          "unacc",
          "unacc",
          "unacc",
          "unacc",
          "unacc",
          "unacc",
          "unacc",
          "unacc",
          "unacc",
          "unacc",
          "unacc",
          "unacc",
          "unacc",
          "unacc",
          "unacc",
          "unacc",
          "unacc",
          "unacc",
          "unacc",
          "unacc",
          "unacc",
          "unacc",
          "unacc",
          "acc",
          "unacc",
          "unacc",
          "acc",
          "unacc",
          "unacc",
          "unacc",
          "unacc",
          "unacc",
          "acc",
          "unacc",
          "acc",
          "acc",
          "unacc",
          "unacc",
          "unacc",
          "unacc",
          "acc",
          "acc",
          "unacc",
          "acc",
          "acc",
          "unacc",
          "unacc",
          "unacc",
          "unacc",
          "acc",
          "acc",
          "unacc",
          "acc",
          "acc",
          "unacc",
          "unacc",
          "unacc",
          "unacc",
          "unacc",
          "acc",
          "unacc",
          "unacc",
          "acc",
          "unacc",
          "unacc",
          "unacc",
          "unacc",
          "unacc",
          "acc",
          "unacc",
          "acc",
          "acc",
          "unacc",
          "unacc",
          "unacc",
          "unacc",
          "acc",
          "acc",
          "unacc",
          "acc",
          "acc",
          "unacc",
          "unacc",
          "unacc",
          "unacc",
          "acc",
          "acc",
          "unacc",
          "acc",
          "acc",
          "unacc",
          "unacc",
          "unacc",
          "unacc",
          "unacc",
          "acc",
          "unacc",
          "unacc",
          "acc",
          "unacc",
          "unacc",
          "unacc",
          "unacc",
          "unacc",
          "acc",
          "unacc",
          "acc",
          "acc",
          "unacc",
          "unacc",
          "unacc",
          "unacc",
          "acc",
          "acc",
          "unacc",
          "acc",
          "acc",
          "unacc",
          "unacc",
          "unacc",
          "unacc",
          "acc",
          "acc",
          "unacc",
          "acc",
          "acc",
          "unacc",
          "unacc",
          "unacc",
          "unacc",
          "unacc",
          "acc",
          "unacc",
          "unacc",
          "acc",
          "unacc",
          "unacc",
          "unacc",
          "unacc",
          "unacc",
          "acc",
          "unacc",
          "acc",
          "acc",
          "unacc",
          "unacc",
          "unacc",
          "unacc",
          "acc",
          "acc",
          "unacc",
          "acc",
          "acc",
          "unacc",
          "unacc",
          "unacc",
          "unacc",
          "acc",
          "acc",
          "unacc",
          "acc",
          "acc",
          "unacc",
          "unacc",
          "unacc",
          "unacc",
          "unacc",
          "acc",
          "unacc",
          "unacc",
          "acc",
          "unacc",
          "unacc",
          "unacc",
          "unacc",
          "unacc",
          "acc",
          "unacc",
          "acc",
          "acc",
          "unacc",
          "unacc",
          "unacc",
          "unacc",
          "acc",
          "acc",
          "unacc",
          "acc",
          "acc",
          "unacc",
          "unacc",
          "unacc",
          "unacc",
          "acc",
          "acc",
          "unacc",
          "acc",
          "acc",
          "unacc",
          "unacc",
          "unacc",
          "acc",
          "acc",
          "acc",
          "unacc",
          "acc",
          "acc",
          "unacc",
          "unacc",
          "unacc",
          "acc",
          "acc",
          "acc",
          "acc",
          "acc",
          "acc",
          "unacc",
          "unacc",
          "unacc",
          "acc",
          "acc",
          "acc",
          "acc",
          "acc",
          "acc",
          "unacc",
          "unacc",
          "unacc",
          "acc",
          "acc",
          "acc",
          "acc",
          "acc",
          "acc",
          "unacc",
          "unacc",
          "unacc",
          "acc",
          "acc",
          "good",
          "unacc",
          "acc",
          "good",
          "unacc",
          "unacc",
          "unacc",
          "acc",
          "acc",
          "good",
          "acc",
          "good",
          "good",
          "unacc",
          "unacc",
          "unacc",
          "acc",
          "good",
          "good",
          "acc",
          "good",
          "good",
          "unacc",
          "unacc",
          "unacc",
          "acc",
          "good",
          "good",
          "acc",
          "good",
          "good",
          "unacc",
          "unacc",
          "unacc",
          "unacc",
          "unacc",
          "acc",
          "unacc",
          "unacc",
          "acc",
          "unacc",
          "unacc",
          "unacc",
          "unacc",
          "unacc",
          "acc",
          "unacc",
          "acc",
          "acc",
          "unacc",
          "unacc",
          "unacc",
          "unacc",
          "acc",
          "acc",
          "unacc",
          "acc",
          "acc",
          "unacc",
          "unacc",
          "unacc",
          "unacc",
          "acc",
          "acc",
          "unacc",
          "acc",
          "acc",
          "unacc",
          "unacc",
          "unacc",
          "acc",
          "acc",
          "acc",
          "unacc",
          "acc",
          "acc",
          "unacc",
          "unacc",
          "unacc",
          "acc",
          "acc",
          "acc",
          "acc",
          "acc",
          "acc",
          "unacc",
          "unacc",
          "unacc",
          "acc",
          "acc",
          "acc",
          "acc",
          "acc",
          "acc",
          "unacc",
          "unacc",
          "unacc",
          "acc",
          "acc",
          "acc",
          "acc",
          "acc",
          "acc",
          "unacc",
          "unacc",
          "unacc",
          "acc",
          "acc",
          "good",
          "unacc",
          "acc",
          "good",
          "unacc",
          "unacc",
          "unacc",
          "acc",
          "acc",
          "good",
          "acc",
          "good",
          "good",
          "unacc",
          "unacc",
          "unacc",
          "acc",
          "good",
          "good",
          "acc",
          "good",
          "good",
          "unacc",
          "unacc",
          "unacc",
          "acc",
          "good",
          "good",
          "acc",
          "good",
          "good",
          "unacc",
          "unacc",
          "unacc",
          "acc",
          "acc",
          "good",
          "unacc",
          "acc",
          "good",
          "unacc",
          "unacc",
          "unacc",
          "acc",
          "acc",
          "good",
          "acc",
          "good",
          "good",
          "unacc",
          "unacc",
          "unacc",
          "acc",
          "good",
          "good",
          "acc",
          "good",
          "good",
          "unacc",
          "unacc",
          "unacc",
          "acc",
          "good",
          "good",
          "acc",
          "good",
          "good"
         ]
        },
        {
         "marker": {
          "color": "#9c179e"
         },
         "name": "High",
         "type": "histogram",
         "x": [
          "unacc",
          "unacc",
          "unacc",
          "unacc",
          "unacc",
          "unacc",
          "unacc",
          "unacc",
          "unacc",
          "unacc",
          "unacc",
          "unacc",
          "unacc",
          "unacc",
          "unacc",
          "unacc",
          "unacc",
          "unacc",
          "unacc",
          "unacc",
          "unacc",
          "unacc",
          "unacc",
          "unacc",
          "unacc",
          "unacc",
          "unacc",
          "unacc",
          "unacc",
          "unacc",
          "unacc",
          "unacc",
          "unacc",
          "unacc",
          "unacc",
          "unacc",
          "unacc",
          "unacc",
          "unacc",
          "unacc",
          "unacc",
          "unacc",
          "unacc",
          "unacc",
          "unacc",
          "unacc",
          "unacc",
          "unacc",
          "unacc",
          "unacc",
          "unacc",
          "unacc",
          "unacc",
          "unacc",
          "unacc",
          "unacc",
          "unacc",
          "unacc",
          "unacc",
          "unacc",
          "unacc",
          "unacc",
          "unacc",
          "unacc",
          "unacc",
          "unacc",
          "unacc",
          "unacc",
          "unacc",
          "unacc",
          "unacc",
          "unacc",
          "unacc",
          "unacc",
          "unacc",
          "acc",
          "acc",
          "acc",
          "unacc",
          "acc",
          "acc",
          "unacc",
          "unacc",
          "unacc",
          "acc",
          "acc",
          "acc",
          "acc",
          "acc",
          "acc",
          "unacc",
          "unacc",
          "unacc",
          "acc",
          "acc",
          "acc",
          "acc",
          "acc",
          "acc",
          "unacc",
          "unacc",
          "unacc",
          "acc",
          "acc",
          "acc",
          "acc",
          "acc",
          "acc",
          "unacc",
          "unacc",
          "unacc",
          "acc",
          "acc",
          "acc",
          "unacc",
          "acc",
          "acc",
          "unacc",
          "unacc",
          "unacc",
          "acc",
          "acc",
          "acc",
          "acc",
          "acc",
          "acc",
          "unacc",
          "unacc",
          "unacc",
          "acc",
          "acc",
          "acc",
          "acc",
          "acc",
          "acc",
          "unacc",
          "unacc",
          "unacc",
          "acc",
          "acc",
          "acc",
          "acc",
          "acc",
          "acc",
          "unacc",
          "unacc",
          "unacc",
          "unacc",
          "unacc",
          "unacc",
          "unacc",
          "unacc",
          "unacc",
          "unacc",
          "unacc",
          "unacc",
          "unacc",
          "unacc",
          "unacc",
          "unacc",
          "unacc",
          "unacc",
          "unacc",
          "unacc",
          "unacc",
          "unacc",
          "unacc",
          "unacc",
          "unacc",
          "unacc",
          "unacc",
          "unacc",
          "unacc",
          "unacc",
          "unacc",
          "unacc",
          "unacc",
          "unacc",
          "unacc",
          "unacc",
          "unacc",
          "unacc",
          "unacc",
          "acc",
          "acc",
          "acc",
          "unacc",
          "acc",
          "acc",
          "unacc",
          "unacc",
          "unacc",
          "acc",
          "acc",
          "acc",
          "acc",
          "acc",
          "acc",
          "unacc",
          "unacc",
          "unacc",
          "acc",
          "acc",
          "acc",
          "acc",
          "acc",
          "acc",
          "unacc",
          "unacc",
          "unacc",
          "acc",
          "acc",
          "acc",
          "acc",
          "acc",
          "acc",
          "unacc",
          "unacc",
          "unacc",
          "acc",
          "acc",
          "acc",
          "unacc",
          "acc",
          "acc",
          "unacc",
          "unacc",
          "unacc",
          "acc",
          "acc",
          "acc",
          "acc",
          "acc",
          "acc",
          "unacc",
          "unacc",
          "unacc",
          "acc",
          "acc",
          "acc",
          "acc",
          "acc",
          "acc",
          "unacc",
          "unacc",
          "unacc",
          "acc",
          "acc",
          "acc",
          "acc",
          "acc",
          "acc",
          "unacc",
          "unacc",
          "unacc",
          "acc",
          "acc",
          "acc",
          "unacc",
          "acc",
          "acc",
          "unacc",
          "unacc",
          "unacc",
          "acc",
          "acc",
          "acc",
          "acc",
          "acc",
          "acc",
          "unacc",
          "unacc",
          "unacc",
          "acc",
          "acc",
          "acc",
          "acc",
          "acc",
          "acc",
          "unacc",
          "unacc",
          "unacc",
          "acc",
          "acc",
          "acc",
          "acc",
          "acc",
          "acc",
          "unacc",
          "unacc",
          "unacc",
          "acc",
          "acc",
          "acc",
          "unacc",
          "acc",
          "acc",
          "unacc",
          "unacc",
          "unacc",
          "acc",
          "acc",
          "acc",
          "acc",
          "acc",
          "acc",
          "unacc",
          "unacc",
          "unacc",
          "acc",
          "acc",
          "acc",
          "acc",
          "acc",
          "acc",
          "unacc",
          "unacc",
          "unacc",
          "acc",
          "acc",
          "acc",
          "acc",
          "acc",
          "acc",
          "unacc",
          "unacc",
          "unacc",
          "acc",
          "acc",
          "acc",
          "unacc",
          "acc",
          "acc",
          "unacc",
          "unacc",
          "unacc",
          "acc",
          "acc",
          "acc",
          "acc",
          "acc",
          "acc",
          "unacc",
          "unacc",
          "unacc",
          "acc",
          "acc",
          "acc",
          "acc",
          "acc",
          "acc",
          "unacc",
          "unacc",
          "unacc",
          "acc",
          "acc",
          "acc",
          "acc",
          "acc",
          "acc",
          "unacc",
          "unacc",
          "unacc",
          "acc",
          "acc",
          "vgood",
          "unacc",
          "acc",
          "vgood",
          "unacc",
          "unacc",
          "unacc",
          "acc",
          "acc",
          "vgood",
          "acc",
          "vgood",
          "vgood",
          "unacc",
          "unacc",
          "unacc",
          "acc",
          "vgood",
          "vgood",
          "acc",
          "vgood",
          "vgood",
          "unacc",
          "unacc",
          "unacc",
          "acc",
          "vgood",
          "vgood",
          "acc",
          "vgood",
          "vgood",
          "unacc",
          "unacc",
          "unacc",
          "good",
          "good",
          "vgood",
          "unacc",
          "good",
          "vgood",
          "unacc",
          "unacc",
          "unacc",
          "good",
          "good",
          "vgood",
          "good",
          "vgood",
          "vgood",
          "unacc",
          "unacc",
          "unacc",
          "good",
          "vgood",
          "vgood",
          "good",
          "vgood",
          "vgood",
          "unacc",
          "unacc",
          "unacc",
          "good",
          "vgood",
          "vgood",
          "good",
          "vgood",
          "vgood",
          "unacc",
          "unacc",
          "unacc",
          "acc",
          "acc",
          "acc",
          "unacc",
          "acc",
          "acc",
          "unacc",
          "unacc",
          "unacc",
          "acc",
          "acc",
          "acc",
          "acc",
          "acc",
          "acc",
          "unacc",
          "unacc",
          "unacc",
          "acc",
          "acc",
          "acc",
          "acc",
          "acc",
          "acc",
          "unacc",
          "unacc",
          "unacc",
          "acc",
          "acc",
          "acc",
          "acc",
          "acc",
          "acc",
          "unacc",
          "unacc",
          "unacc",
          "acc",
          "acc",
          "vgood",
          "unacc",
          "acc",
          "vgood",
          "unacc",
          "unacc",
          "unacc",
          "acc",
          "acc",
          "vgood",
          "acc",
          "vgood",
          "vgood",
          "unacc",
          "unacc",
          "unacc",
          "acc",
          "vgood",
          "vgood",
          "acc",
          "vgood",
          "vgood",
          "unacc",
          "unacc",
          "unacc",
          "acc",
          "vgood",
          "vgood",
          "acc",
          "vgood",
          "vgood",
          "unacc",
          "unacc",
          "unacc",
          "good",
          "good",
          "vgood",
          "unacc",
          "good",
          "vgood",
          "unacc",
          "unacc",
          "unacc",
          "good",
          "good",
          "vgood",
          "good",
          "vgood",
          "vgood",
          "unacc",
          "unacc",
          "unacc",
          "good",
          "vgood",
          "vgood",
          "good",
          "vgood",
          "vgood",
          "unacc",
          "unacc",
          "unacc",
          "good",
          "vgood",
          "vgood",
          "good",
          "vgood",
          "vgood",
          "unacc",
          "unacc",
          "unacc",
          "good",
          "good",
          "vgood",
          "unacc",
          "good",
          "vgood",
          "unacc",
          "unacc",
          "unacc",
          "good",
          "good",
          "vgood",
          "good",
          "vgood",
          "vgood",
          "unacc",
          "unacc",
          "unacc",
          "good",
          "vgood",
          "vgood",
          "good",
          "vgood",
          "vgood",
          "unacc",
          "unacc",
          "unacc",
          "good",
          "vgood",
          "vgood",
          "good",
          "vgood",
          "vgood"
         ]
        }
       ],
       "layout": {
        "height": 550,
        "legend": {
         "font": {
          "color": "black",
          "family": "Arial",
          "size": 16
         }
        },
        "template": {
         "data": {
          "bar": [
           {
            "error_x": {
             "color": "#2a3f5f"
            },
            "error_y": {
             "color": "#2a3f5f"
            },
            "marker": {
             "line": {
              "color": "#E5ECF6",
              "width": 0.5
             },
             "pattern": {
              "fillmode": "overlay",
              "size": 10,
              "solidity": 0.2
             }
            },
            "type": "bar"
           }
          ],
          "barpolar": [
           {
            "marker": {
             "line": {
              "color": "#E5ECF6",
              "width": 0.5
             },
             "pattern": {
              "fillmode": "overlay",
              "size": 10,
              "solidity": 0.2
             }
            },
            "type": "barpolar"
           }
          ],
          "carpet": [
           {
            "aaxis": {
             "endlinecolor": "#2a3f5f",
             "gridcolor": "white",
             "linecolor": "white",
             "minorgridcolor": "white",
             "startlinecolor": "#2a3f5f"
            },
            "baxis": {
             "endlinecolor": "#2a3f5f",
             "gridcolor": "white",
             "linecolor": "white",
             "minorgridcolor": "white",
             "startlinecolor": "#2a3f5f"
            },
            "type": "carpet"
           }
          ],
          "choropleth": [
           {
            "colorbar": {
             "outlinewidth": 0,
             "ticks": ""
            },
            "type": "choropleth"
           }
          ],
          "contour": [
           {
            "colorbar": {
             "outlinewidth": 0,
             "ticks": ""
            },
            "colorscale": [
             [
              0,
              "#0d0887"
             ],
             [
              0.1111111111111111,
              "#46039f"
             ],
             [
              0.2222222222222222,
              "#7201a8"
             ],
             [
              0.3333333333333333,
              "#9c179e"
             ],
             [
              0.4444444444444444,
              "#bd3786"
             ],
             [
              0.5555555555555556,
              "#d8576b"
             ],
             [
              0.6666666666666666,
              "#ed7953"
             ],
             [
              0.7777777777777778,
              "#fb9f3a"
             ],
             [
              0.8888888888888888,
              "#fdca26"
             ],
             [
              1,
              "#f0f921"
             ]
            ],
            "type": "contour"
           }
          ],
          "contourcarpet": [
           {
            "colorbar": {
             "outlinewidth": 0,
             "ticks": ""
            },
            "type": "contourcarpet"
           }
          ],
          "heatmap": [
           {
            "colorbar": {
             "outlinewidth": 0,
             "ticks": ""
            },
            "colorscale": [
             [
              0,
              "#0d0887"
             ],
             [
              0.1111111111111111,
              "#46039f"
             ],
             [
              0.2222222222222222,
              "#7201a8"
             ],
             [
              0.3333333333333333,
              "#9c179e"
             ],
             [
              0.4444444444444444,
              "#bd3786"
             ],
             [
              0.5555555555555556,
              "#d8576b"
             ],
             [
              0.6666666666666666,
              "#ed7953"
             ],
             [
              0.7777777777777778,
              "#fb9f3a"
             ],
             [
              0.8888888888888888,
              "#fdca26"
             ],
             [
              1,
              "#f0f921"
             ]
            ],
            "type": "heatmap"
           }
          ],
          "heatmapgl": [
           {
            "colorbar": {
             "outlinewidth": 0,
             "ticks": ""
            },
            "colorscale": [
             [
              0,
              "#0d0887"
             ],
             [
              0.1111111111111111,
              "#46039f"
             ],
             [
              0.2222222222222222,
              "#7201a8"
             ],
             [
              0.3333333333333333,
              "#9c179e"
             ],
             [
              0.4444444444444444,
              "#bd3786"
             ],
             [
              0.5555555555555556,
              "#d8576b"
             ],
             [
              0.6666666666666666,
              "#ed7953"
             ],
             [
              0.7777777777777778,
              "#fb9f3a"
             ],
             [
              0.8888888888888888,
              "#fdca26"
             ],
             [
              1,
              "#f0f921"
             ]
            ],
            "type": "heatmapgl"
           }
          ],
          "histogram": [
           {
            "marker": {
             "pattern": {
              "fillmode": "overlay",
              "size": 10,
              "solidity": 0.2
             }
            },
            "type": "histogram"
           }
          ],
          "histogram2d": [
           {
            "colorbar": {
             "outlinewidth": 0,
             "ticks": ""
            },
            "colorscale": [
             [
              0,
              "#0d0887"
             ],
             [
              0.1111111111111111,
              "#46039f"
             ],
             [
              0.2222222222222222,
              "#7201a8"
             ],
             [
              0.3333333333333333,
              "#9c179e"
             ],
             [
              0.4444444444444444,
              "#bd3786"
             ],
             [
              0.5555555555555556,
              "#d8576b"
             ],
             [
              0.6666666666666666,
              "#ed7953"
             ],
             [
              0.7777777777777778,
              "#fb9f3a"
             ],
             [
              0.8888888888888888,
              "#fdca26"
             ],
             [
              1,
              "#f0f921"
             ]
            ],
            "type": "histogram2d"
           }
          ],
          "histogram2dcontour": [
           {
            "colorbar": {
             "outlinewidth": 0,
             "ticks": ""
            },
            "colorscale": [
             [
              0,
              "#0d0887"
             ],
             [
              0.1111111111111111,
              "#46039f"
             ],
             [
              0.2222222222222222,
              "#7201a8"
             ],
             [
              0.3333333333333333,
              "#9c179e"
             ],
             [
              0.4444444444444444,
              "#bd3786"
             ],
             [
              0.5555555555555556,
              "#d8576b"
             ],
             [
              0.6666666666666666,
              "#ed7953"
             ],
             [
              0.7777777777777778,
              "#fb9f3a"
             ],
             [
              0.8888888888888888,
              "#fdca26"
             ],
             [
              1,
              "#f0f921"
             ]
            ],
            "type": "histogram2dcontour"
           }
          ],
          "mesh3d": [
           {
            "colorbar": {
             "outlinewidth": 0,
             "ticks": ""
            },
            "type": "mesh3d"
           }
          ],
          "parcoords": [
           {
            "line": {
             "colorbar": {
              "outlinewidth": 0,
              "ticks": ""
             }
            },
            "type": "parcoords"
           }
          ],
          "pie": [
           {
            "automargin": true,
            "type": "pie"
           }
          ],
          "scatter": [
           {
            "marker": {
             "colorbar": {
              "outlinewidth": 0,
              "ticks": ""
             }
            },
            "type": "scatter"
           }
          ],
          "scatter3d": [
           {
            "line": {
             "colorbar": {
              "outlinewidth": 0,
              "ticks": ""
             }
            },
            "marker": {
             "colorbar": {
              "outlinewidth": 0,
              "ticks": ""
             }
            },
            "type": "scatter3d"
           }
          ],
          "scattercarpet": [
           {
            "marker": {
             "colorbar": {
              "outlinewidth": 0,
              "ticks": ""
             }
            },
            "type": "scattercarpet"
           }
          ],
          "scattergeo": [
           {
            "marker": {
             "colorbar": {
              "outlinewidth": 0,
              "ticks": ""
             }
            },
            "type": "scattergeo"
           }
          ],
          "scattergl": [
           {
            "marker": {
             "colorbar": {
              "outlinewidth": 0,
              "ticks": ""
             }
            },
            "type": "scattergl"
           }
          ],
          "scattermapbox": [
           {
            "marker": {
             "colorbar": {
              "outlinewidth": 0,
              "ticks": ""
             }
            },
            "type": "scattermapbox"
           }
          ],
          "scatterpolar": [
           {
            "marker": {
             "colorbar": {
              "outlinewidth": 0,
              "ticks": ""
             }
            },
            "type": "scatterpolar"
           }
          ],
          "scatterpolargl": [
           {
            "marker": {
             "colorbar": {
              "outlinewidth": 0,
              "ticks": ""
             }
            },
            "type": "scatterpolargl"
           }
          ],
          "scatterternary": [
           {
            "marker": {
             "colorbar": {
              "outlinewidth": 0,
              "ticks": ""
             }
            },
            "type": "scatterternary"
           }
          ],
          "surface": [
           {
            "colorbar": {
             "outlinewidth": 0,
             "ticks": ""
            },
            "colorscale": [
             [
              0,
              "#0d0887"
             ],
             [
              0.1111111111111111,
              "#46039f"
             ],
             [
              0.2222222222222222,
              "#7201a8"
             ],
             [
              0.3333333333333333,
              "#9c179e"
             ],
             [
              0.4444444444444444,
              "#bd3786"
             ],
             [
              0.5555555555555556,
              "#d8576b"
             ],
             [
              0.6666666666666666,
              "#ed7953"
             ],
             [
              0.7777777777777778,
              "#fb9f3a"
             ],
             [
              0.8888888888888888,
              "#fdca26"
             ],
             [
              1,
              "#f0f921"
             ]
            ],
            "type": "surface"
           }
          ],
          "table": [
           {
            "cells": {
             "fill": {
              "color": "#EBF0F8"
             },
             "line": {
              "color": "white"
             }
            },
            "header": {
             "fill": {
              "color": "#C8D4E3"
             },
             "line": {
              "color": "white"
             }
            },
            "type": "table"
           }
          ]
         },
         "layout": {
          "annotationdefaults": {
           "arrowcolor": "#2a3f5f",
           "arrowhead": 0,
           "arrowwidth": 1
          },
          "autotypenumbers": "strict",
          "coloraxis": {
           "colorbar": {
            "outlinewidth": 0,
            "ticks": ""
           }
          },
          "colorscale": {
           "diverging": [
            [
             0,
             "#8e0152"
            ],
            [
             0.1,
             "#c51b7d"
            ],
            [
             0.2,
             "#de77ae"
            ],
            [
             0.3,
             "#f1b6da"
            ],
            [
             0.4,
             "#fde0ef"
            ],
            [
             0.5,
             "#f7f7f7"
            ],
            [
             0.6,
             "#e6f5d0"
            ],
            [
             0.7,
             "#b8e186"
            ],
            [
             0.8,
             "#7fbc41"
            ],
            [
             0.9,
             "#4d9221"
            ],
            [
             1,
             "#276419"
            ]
           ],
           "sequential": [
            [
             0,
             "#0d0887"
            ],
            [
             0.1111111111111111,
             "#46039f"
            ],
            [
             0.2222222222222222,
             "#7201a8"
            ],
            [
             0.3333333333333333,
             "#9c179e"
            ],
            [
             0.4444444444444444,
             "#bd3786"
            ],
            [
             0.5555555555555556,
             "#d8576b"
            ],
            [
             0.6666666666666666,
             "#ed7953"
            ],
            [
             0.7777777777777778,
             "#fb9f3a"
            ],
            [
             0.8888888888888888,
             "#fdca26"
            ],
            [
             1,
             "#f0f921"
            ]
           ],
           "sequentialminus": [
            [
             0,
             "#0d0887"
            ],
            [
             0.1111111111111111,
             "#46039f"
            ],
            [
             0.2222222222222222,
             "#7201a8"
            ],
            [
             0.3333333333333333,
             "#9c179e"
            ],
            [
             0.4444444444444444,
             "#bd3786"
            ],
            [
             0.5555555555555556,
             "#d8576b"
            ],
            [
             0.6666666666666666,
             "#ed7953"
            ],
            [
             0.7777777777777778,
             "#fb9f3a"
            ],
            [
             0.8888888888888888,
             "#fdca26"
            ],
            [
             1,
             "#f0f921"
            ]
           ]
          },
          "colorway": [
           "#636efa",
           "#EF553B",
           "#00cc96",
           "#ab63fa",
           "#FFA15A",
           "#19d3f3",
           "#FF6692",
           "#B6E880",
           "#FF97FF",
           "#FECB52"
          ],
          "font": {
           "color": "#2a3f5f"
          },
          "geo": {
           "bgcolor": "white",
           "lakecolor": "white",
           "landcolor": "#E5ECF6",
           "showlakes": true,
           "showland": true,
           "subunitcolor": "white"
          },
          "hoverlabel": {
           "align": "left"
          },
          "hovermode": "closest",
          "mapbox": {
           "style": "light"
          },
          "paper_bgcolor": "white",
          "plot_bgcolor": "#E5ECF6",
          "polar": {
           "angularaxis": {
            "gridcolor": "white",
            "linecolor": "white",
            "ticks": ""
           },
           "bgcolor": "#E5ECF6",
           "radialaxis": {
            "gridcolor": "white",
            "linecolor": "white",
            "ticks": ""
           }
          },
          "scene": {
           "xaxis": {
            "backgroundcolor": "#E5ECF6",
            "gridcolor": "white",
            "gridwidth": 2,
            "linecolor": "white",
            "showbackground": true,
            "ticks": "",
            "zerolinecolor": "white"
           },
           "yaxis": {
            "backgroundcolor": "#E5ECF6",
            "gridcolor": "white",
            "gridwidth": 2,
            "linecolor": "white",
            "showbackground": true,
            "ticks": "",
            "zerolinecolor": "white"
           },
           "zaxis": {
            "backgroundcolor": "#E5ECF6",
            "gridcolor": "white",
            "gridwidth": 2,
            "linecolor": "white",
            "showbackground": true,
            "ticks": "",
            "zerolinecolor": "white"
           }
          },
          "shapedefaults": {
           "line": {
            "color": "#2a3f5f"
           }
          },
          "ternary": {
           "aaxis": {
            "gridcolor": "white",
            "linecolor": "white",
            "ticks": ""
           },
           "baxis": {
            "gridcolor": "white",
            "linecolor": "white",
            "ticks": ""
           },
           "bgcolor": "#E5ECF6",
           "caxis": {
            "gridcolor": "white",
            "linecolor": "white",
            "ticks": ""
           }
          },
          "title": {
           "x": 0.05
          },
          "xaxis": {
           "automargin": true,
           "gridcolor": "white",
           "linecolor": "white",
           "ticks": "",
           "title": {
            "standoff": 15
           },
           "zerolinecolor": "white",
           "zerolinewidth": 2
          },
          "yaxis": {
           "automargin": true,
           "gridcolor": "white",
           "linecolor": "white",
           "ticks": "",
           "title": {
            "standoff": 15
           },
           "zerolinecolor": "white",
           "zerolinewidth": 2
          }
         }
        },
        "title": {
         "font": {
          "color": "darkred",
          "family": "Arial",
          "size": 20
         },
         "text": "Safety",
         "x": 0.45,
         "y": 0.875
        },
        "width": 800,
        "xaxis": {
         "autorange": true,
         "range": [
          -0.5,
          3.5
         ],
         "showticklabels": true,
         "tickfont": {
          "color": "black",
          "family": "Arial",
          "size": 16
         },
         "tickmode": "array",
         "ticktext": [
          "Unacceptable",
          "Acceptable",
          "Good",
          "Very Good"
         ],
         "tickvals": [
          "unacc",
          "acc",
          "good",
          "vgood"
         ],
         "title": {
          "text": "Condition"
         },
         "type": "category"
        },
        "yaxis": {
         "autorange": true,
         "range": [
          0,
          606.3157894736842
         ],
         "tickfont": {
          "color": "black",
          "family": "Arial",
          "size": 16
         },
         "title": {
          "text": "Number of Cars"
         }
        }
       }
      },
      "image/png": "[encoded data removed]",
      "text/html": [
       "<div>                            <div id=\"4f63e166-e2bc-4d5f-908e-96880aeb726d\" class=\"plotly-graph-div\" style=\"height:550px; width:800px;\"></div>            <script type=\"text/javascript\">                require([\"plotly\"], function(Plotly) {                    window.PLOTLYENV=window.PLOTLYENV || {};                                    if (document.getElementById(\"4f63e166-e2bc-4d5f-908e-96880aeb726d\")) {                    Plotly.newPlot(                        \"4f63e166-e2bc-4d5f-908e-96880aeb726d\",                        [{\"marker\":{\"color\":\"#fb9f3a\"},\"name\":\"Low\",\"type\":\"histogram\",\"x\":[\"unacc\",\"unacc\",\"unacc\",\"unacc\",\"unacc\",\"unacc\",\"unacc\",\"unacc\",\"unacc\",\"unacc\",\"unacc\",\"unacc\",\"unacc\",\"unacc\",\"unacc\",\"unacc\",\"unacc\",\"unacc\",\"unacc\",\"unacc\",\"unacc\",\"unacc\",\"unacc\",\"unacc\",\"unacc\",\"unacc\",\"unacc\",\"unacc\",\"unacc\",\"unacc\",\"unacc\",\"unacc\",\"unacc\",\"unacc\",\"unacc\",\"unacc\",\"unacc\",\"unacc\",\"unacc\",\"unacc\",\"unacc\",\"unacc\",\"unacc\",\"unacc\",\"unacc\",\"unacc\",\"unacc\",\"unacc\",\"unacc\",\"unacc\",\"unacc\",\"unacc\",\"unacc\",\"unacc\",\"unacc\",\"unacc\",\"unacc\",\"unacc\",\"unacc\",\"unacc\",\"unacc\",\"unacc\",\"unacc\",\"unacc\",\"unacc\",\"unacc\",\"unacc\",\"unacc\",\"unacc\",\"unacc\",\"unacc\",\"unacc\",\"unacc\",\"unacc\",\"unacc\",\"unacc\",\"unacc\",\"unacc\",\"unacc\",\"unacc\",\"unacc\",\"unacc\",\"unacc\",\"unacc\",\"unacc\",\"unacc\",\"unacc\",\"unacc\",\"unacc\",\"unacc\",\"unacc\",\"unacc\",\"unacc\",\"unacc\",\"unacc\",\"unacc\",\"unacc\",\"unacc\",\"unacc\",\"unacc\",\"unacc\",\"unacc\",\"unacc\",\"unacc\",\"unacc\",\"unacc\",\"unacc\",\"unacc\",\"unacc\",\"unacc\",\"unacc\",\"unacc\",\"unacc\",\"unacc\",\"unacc\",\"unacc\",\"unacc\",\"unacc\",\"unacc\",\"unacc\",\"unacc\",\"unacc\",\"unacc\",\"unacc\",\"unacc\",\"unacc\",\"unacc\",\"unacc\",\"unacc\",\"unacc\",\"unacc\",\"unacc\",\"unacc\",\"unacc\",\"unacc\",\"unacc\",\"unacc\",\"unacc\",\"unacc\",\"unacc\",\"unacc\",\"unacc\",\"unacc\",\"unacc\",\"unacc\",\"unacc\",\"unacc\",\"unacc\",\"unacc\",\"unacc\",\"unacc\",\"unacc\",\"unacc\",\"unacc\",\"unacc\",\"unacc\",\"unacc\",\"unacc\",\"unacc\",\"unacc\",\"unacc\",\"unacc\",\"unacc\",\"unacc\",\"unacc\",\"unacc\",\"unacc\",\"unacc\",\"unacc\",\"unacc\",\"unacc\",\"unacc\",\"unacc\",\"unacc\",\"unacc\",\"unacc\",\"unacc\",\"unacc\",\"unacc\",\"unacc\",\"unacc\",\"unacc\",\"unacc\",\"unacc\",\"unacc\",\"unacc\",\"unacc\",\"unacc\",\"unacc\",\"unacc\",\"unacc\",\"unacc\",\"unacc\",\"unacc\",\"unacc\",\"unacc\",\"unacc\",\"unacc\",\"unacc\",\"unacc\",\"unacc\",\"unacc\",\"unacc\",\"unacc\",\"unacc\",\"unacc\",\"unacc\",\"unacc\",\"unacc\",\"unacc\",\"unacc\",\"unacc\",\"unacc\",\"unacc\",\"unacc\",\"unacc\",\"unacc\",\"unacc\",\"unacc\",\"unacc\",\"unacc\",\"unacc\",\"unacc\",\"unacc\",\"unacc\",\"unacc\",\"unacc\",\"unacc\",\"unacc\",\"unacc\",\"unacc\",\"unacc\",\"unacc\",\"unacc\",\"unacc\",\"unacc\",\"unacc\",\"unacc\",\"unacc\",\"unacc\",\"unacc\",\"unacc\",\"unacc\",\"unacc\",\"unacc\",\"unacc\",\"unacc\",\"unacc\",\"unacc\",\"unacc\",\"unacc\",\"unacc\",\"unacc\",\"unacc\",\"unacc\",\"unacc\",\"unacc\",\"unacc\",\"unacc\",\"unacc\",\"unacc\",\"unacc\",\"unacc\",\"unacc\",\"unacc\",\"unacc\",\"unacc\",\"unacc\",\"unacc\",\"unacc\",\"unacc\",\"unacc\",\"unacc\",\"unacc\",\"unacc\",\"unacc\",\"unacc\",\"unacc\",\"unacc\",\"unacc\",\"unacc\",\"unacc\",\"unacc\",\"unacc\",\"unacc\",\"unacc\",\"unacc\",\"unacc\",\"unacc\",\"unacc\",\"unacc\",\"unacc\",\"unacc\",\"unacc\",\"unacc\",\"unacc\",\"unacc\",\"unacc\",\"unacc\",\"unacc\",\"unacc\",\"unacc\",\"unacc\",\"unacc\",\"unacc\",\"unacc\",\"unacc\",\"unacc\",\"unacc\",\"unacc\",\"unacc\",\"unacc\",\"unacc\",\"unacc\",\"unacc\",\"unacc\",\"unacc\",\"unacc\",\"unacc\",\"unacc\",\"unacc\",\"unacc\",\"unacc\",\"unacc\",\"unacc\",\"unacc\",\"unacc\",\"unacc\",\"unacc\",\"unacc\",\"unacc\",\"unacc\",\"unacc\",\"unacc\",\"unacc\",\"unacc\",\"unacc\",\"unacc\",\"unacc\",\"unacc\",\"unacc\",\"unacc\",\"unacc\",\"unacc\",\"unacc\",\"unacc\",\"unacc\",\"unacc\",\"unacc\",\"unacc\",\"unacc\",\"unacc\",\"unacc\",\"unacc\",\"unacc\",\"unacc\",\"unacc\",\"unacc\",\"unacc\",\"unacc\",\"unacc\",\"unacc\",\"unacc\",\"unacc\",\"unacc\",\"unacc\",\"unacc\",\"unacc\",\"unacc\",\"unacc\",\"unacc\",\"unacc\",\"unacc\",\"unacc\",\"unacc\",\"unacc\",\"unacc\",\"unacc\",\"unacc\",\"unacc\",\"unacc\",\"unacc\",\"unacc\",\"unacc\",\"unacc\",\"unacc\",\"unacc\",\"unacc\",\"unacc\",\"unacc\",\"unacc\",\"unacc\",\"unacc\",\"unacc\",\"unacc\",\"unacc\",\"unacc\",\"unacc\",\"unacc\",\"unacc\",\"unacc\",\"unacc\",\"unacc\",\"unacc\",\"unacc\",\"unacc\",\"unacc\",\"unacc\",\"unacc\",\"unacc\",\"unacc\",\"unacc\",\"unacc\",\"unacc\",\"unacc\",\"unacc\",\"unacc\",\"unacc\",\"unacc\",\"unacc\",\"unacc\",\"unacc\",\"unacc\",\"unacc\",\"unacc\",\"unacc\",\"unacc\",\"unacc\",\"unacc\",\"unacc\",\"unacc\",\"unacc\",\"unacc\",\"unacc\",\"unacc\",\"unacc\",\"unacc\",\"unacc\",\"unacc\",\"unacc\",\"unacc\",\"unacc\",\"unacc\",\"unacc\",\"unacc\",\"unacc\",\"unacc\",\"unacc\",\"unacc\",\"unacc\",\"unacc\",\"unacc\",\"unacc\",\"unacc\",\"unacc\",\"unacc\",\"unacc\",\"unacc\",\"unacc\",\"unacc\",\"unacc\",\"unacc\",\"unacc\",\"unacc\",\"unacc\",\"unacc\",\"unacc\",\"unacc\",\"unacc\",\"unacc\",\"unacc\",\"unacc\",\"unacc\",\"unacc\",\"unacc\",\"unacc\",\"unacc\",\"unacc\",\"unacc\",\"unacc\",\"unacc\",\"unacc\",\"unacc\",\"unacc\",\"unacc\",\"unacc\",\"unacc\",\"unacc\",\"unacc\",\"unacc\",\"unacc\",\"unacc\",\"unacc\",\"unacc\",\"unacc\",\"unacc\",\"unacc\",\"unacc\",\"unacc\",\"unacc\",\"unacc\",\"unacc\",\"unacc\",\"unacc\",\"unacc\",\"unacc\",\"unacc\",\"unacc\",\"unacc\",\"unacc\",\"unacc\",\"unacc\",\"unacc\",\"unacc\",\"unacc\",\"unacc\",\"unacc\",\"unacc\",\"unacc\",\"unacc\",\"unacc\",\"unacc\",\"unacc\",\"unacc\",\"unacc\",\"unacc\",\"unacc\",\"unacc\",\"unacc\",\"unacc\",\"unacc\",\"unacc\",\"unacc\",\"unacc\",\"unacc\",\"unacc\",\"unacc\",\"unacc\",\"unacc\",\"unacc\",\"unacc\",\"unacc\",\"unacc\",\"unacc\",\"unacc\",\"unacc\",\"unacc\",\"unacc\",\"unacc\",\"unacc\",\"unacc\",\"unacc\",\"unacc\",\"unacc\",\"unacc\",\"unacc\",\"unacc\",\"unacc\",\"unacc\",\"unacc\",\"unacc\",\"unacc\",\"unacc\",\"unacc\",\"unacc\",\"unacc\",\"unacc\",\"unacc\",\"unacc\",\"unacc\",\"unacc\",\"unacc\",\"unacc\",\"unacc\",\"unacc\",\"unacc\"]},{\"marker\":{\"color\":\"#d8576b\"},\"name\":\"Medium\",\"type\":\"histogram\",\"x\":[\"unacc\",\"unacc\",\"unacc\",\"unacc\",\"unacc\",\"unacc\",\"unacc\",\"unacc\",\"unacc\",\"unacc\",\"unacc\",\"unacc\",\"unacc\",\"unacc\",\"unacc\",\"unacc\",\"unacc\",\"unacc\",\"unacc\",\"unacc\",\"unacc\",\"unacc\",\"unacc\",\"unacc\",\"unacc\",\"unacc\",\"unacc\",\"unacc\",\"unacc\",\"unacc\",\"unacc\",\"unacc\",\"unacc\",\"unacc\",\"unacc\",\"unacc\",\"unacc\",\"unacc\",\"unacc\",\"unacc\",\"unacc\",\"unacc\",\"unacc\",\"unacc\",\"unacc\",\"unacc\",\"unacc\",\"unacc\",\"unacc\",\"unacc\",\"unacc\",\"unacc\",\"unacc\",\"unacc\",\"unacc\",\"unacc\",\"unacc\",\"unacc\",\"unacc\",\"unacc\",\"unacc\",\"unacc\",\"unacc\",\"unacc\",\"unacc\",\"unacc\",\"unacc\",\"unacc\",\"unacc\",\"unacc\",\"unacc\",\"unacc\",\"unacc\",\"unacc\",\"unacc\",\"unacc\",\"unacc\",\"acc\",\"unacc\",\"unacc\",\"acc\",\"unacc\",\"unacc\",\"unacc\",\"unacc\",\"unacc\",\"acc\",\"unacc\",\"acc\",\"acc\",\"unacc\",\"unacc\",\"unacc\",\"unacc\",\"acc\",\"acc\",\"unacc\",\"acc\",\"acc\",\"unacc\",\"unacc\",\"unacc\",\"unacc\",\"acc\",\"acc\",\"unacc\",\"acc\",\"acc\",\"unacc\",\"unacc\",\"unacc\",\"unacc\",\"unacc\",\"acc\",\"unacc\",\"unacc\",\"acc\",\"unacc\",\"unacc\",\"unacc\",\"unacc\",\"unacc\",\"acc\",\"unacc\",\"acc\",\"acc\",\"unacc\",\"unacc\",\"unacc\",\"unacc\",\"acc\",\"acc\",\"unacc\",\"acc\",\"acc\",\"unacc\",\"unacc\",\"unacc\",\"unacc\",\"acc\",\"acc\",\"unacc\",\"acc\",\"acc\",\"unacc\",\"unacc\",\"unacc\",\"unacc\",\"unacc\",\"unacc\",\"unacc\",\"unacc\",\"unacc\",\"unacc\",\"unacc\",\"unacc\",\"unacc\",\"unacc\",\"unacc\",\"unacc\",\"unacc\",\"unacc\",\"unacc\",\"unacc\",\"unacc\",\"unacc\",\"unacc\",\"unacc\",\"unacc\",\"unacc\",\"unacc\",\"unacc\",\"unacc\",\"unacc\",\"unacc\",\"unacc\",\"unacc\",\"unacc\",\"unacc\",\"unacc\",\"unacc\",\"unacc\",\"unacc\",\"unacc\",\"unacc\",\"acc\",\"unacc\",\"unacc\",\"acc\",\"unacc\",\"unacc\",\"unacc\",\"unacc\",\"unacc\",\"acc\",\"unacc\",\"acc\",\"acc\",\"unacc\",\"unacc\",\"unacc\",\"unacc\",\"acc\",\"acc\",\"unacc\",\"acc\",\"acc\",\"unacc\",\"unacc\",\"unacc\",\"unacc\",\"acc\",\"acc\",\"unacc\",\"acc\",\"acc\",\"unacc\",\"unacc\",\"unacc\",\"unacc\",\"unacc\",\"acc\",\"unacc\",\"unacc\",\"acc\",\"unacc\",\"unacc\",\"unacc\",\"unacc\",\"unacc\",\"acc\",\"unacc\",\"acc\",\"acc\",\"unacc\",\"unacc\",\"unacc\",\"unacc\",\"acc\",\"acc\",\"unacc\",\"acc\",\"acc\",\"unacc\",\"unacc\",\"unacc\",\"unacc\",\"acc\",\"acc\",\"unacc\",\"acc\",\"acc\",\"unacc\",\"unacc\",\"unacc\",\"unacc\",\"unacc\",\"acc\",\"unacc\",\"unacc\",\"acc\",\"unacc\",\"unacc\",\"unacc\",\"unacc\",\"unacc\",\"acc\",\"unacc\",\"acc\",\"acc\",\"unacc\",\"unacc\",\"unacc\",\"unacc\",\"acc\",\"acc\",\"unacc\",\"acc\",\"acc\",\"unacc\",\"unacc\",\"unacc\",\"unacc\",\"acc\",\"acc\",\"unacc\",\"acc\",\"acc\",\"unacc\",\"unacc\",\"unacc\",\"unacc\",\"unacc\",\"acc\",\"unacc\",\"unacc\",\"acc\",\"unacc\",\"unacc\",\"unacc\",\"unacc\",\"unacc\",\"acc\",\"unacc\",\"acc\",\"acc\",\"unacc\",\"unacc\",\"unacc\",\"unacc\",\"acc\",\"acc\",\"unacc\",\"acc\",\"acc\",\"unacc\",\"unacc\",\"unacc\",\"unacc\",\"acc\",\"acc\",\"unacc\",\"acc\",\"acc\",\"unacc\",\"unacc\",\"unacc\",\"unacc\",\"unacc\",\"acc\",\"unacc\",\"unacc\",\"acc\",\"unacc\",\"unacc\",\"unacc\",\"unacc\",\"unacc\",\"acc\",\"unacc\",\"acc\",\"acc\",\"unacc\",\"unacc\",\"unacc\",\"unacc\",\"acc\",\"acc\",\"unacc\",\"acc\",\"acc\",\"unacc\",\"unacc\",\"unacc\",\"unacc\",\"acc\",\"acc\",\"unacc\",\"acc\",\"acc\",\"unacc\",\"unacc\",\"unacc\",\"acc\",\"acc\",\"acc\",\"unacc\",\"acc\",\"acc\",\"unacc\",\"unacc\",\"unacc\",\"acc\",\"acc\",\"acc\",\"acc\",\"acc\",\"acc\",\"unacc\",\"unacc\",\"unacc\",\"acc\",\"acc\",\"acc\",\"acc\",\"acc\",\"acc\",\"unacc\",\"unacc\",\"unacc\",\"acc\",\"acc\",\"acc\",\"acc\",\"acc\",\"acc\",\"unacc\",\"unacc\",\"unacc\",\"acc\",\"acc\",\"good\",\"unacc\",\"acc\",\"good\",\"unacc\",\"unacc\",\"unacc\",\"acc\",\"acc\",\"good\",\"acc\",\"good\",\"good\",\"unacc\",\"unacc\",\"unacc\",\"acc\",\"good\",\"good\",\"acc\",\"good\",\"good\",\"unacc\",\"unacc\",\"unacc\",\"acc\",\"good\",\"good\",\"acc\",\"good\",\"good\",\"unacc\",\"unacc\",\"unacc\",\"unacc\",\"unacc\",\"acc\",\"unacc\",\"unacc\",\"acc\",\"unacc\",\"unacc\",\"unacc\",\"unacc\",\"unacc\",\"acc\",\"unacc\",\"acc\",\"acc\",\"unacc\",\"unacc\",\"unacc\",\"unacc\",\"acc\",\"acc\",\"unacc\",\"acc\",\"acc\",\"unacc\",\"unacc\",\"unacc\",\"unacc\",\"acc\",\"acc\",\"unacc\",\"acc\",\"acc\",\"unacc\",\"unacc\",\"unacc\",\"acc\",\"acc\",\"acc\",\"unacc\",\"acc\",\"acc\",\"unacc\",\"unacc\",\"unacc\",\"acc\",\"acc\",\"acc\",\"acc\",\"acc\",\"acc\",\"unacc\",\"unacc\",\"unacc\",\"acc\",\"acc\",\"acc\",\"acc\",\"acc\",\"acc\",\"unacc\",\"unacc\",\"unacc\",\"acc\",\"acc\",\"acc\",\"acc\",\"acc\",\"acc\",\"unacc\",\"unacc\",\"unacc\",\"acc\",\"acc\",\"good\",\"unacc\",\"acc\",\"good\",\"unacc\",\"unacc\",\"unacc\",\"acc\",\"acc\",\"good\",\"acc\",\"good\",\"good\",\"unacc\",\"unacc\",\"unacc\",\"acc\",\"good\",\"good\",\"acc\",\"good\",\"good\",\"unacc\",\"unacc\",\"unacc\",\"acc\",\"good\",\"good\",\"acc\",\"good\",\"good\",\"unacc\",\"unacc\",\"unacc\",\"acc\",\"acc\",\"good\",\"unacc\",\"acc\",\"good\",\"unacc\",\"unacc\",\"unacc\",\"acc\",\"acc\",\"good\",\"acc\",\"good\",\"good\",\"unacc\",\"unacc\",\"unacc\",\"acc\",\"good\",\"good\",\"acc\",\"good\",\"good\",\"unacc\",\"unacc\",\"unacc\",\"acc\",\"good\",\"good\",\"acc\",\"good\",\"good\"]},{\"marker\":{\"color\":\"#9c179e\"},\"name\":\"High\",\"type\":\"histogram\",\"x\":[\"unacc\",\"unacc\",\"unacc\",\"unacc\",\"unacc\",\"unacc\",\"unacc\",\"unacc\",\"unacc\",\"unacc\",\"unacc\",\"unacc\",\"unacc\",\"unacc\",\"unacc\",\"unacc\",\"unacc\",\"unacc\",\"unacc\",\"unacc\",\"unacc\",\"unacc\",\"unacc\",\"unacc\",\"unacc\",\"unacc\",\"unacc\",\"unacc\",\"unacc\",\"unacc\",\"unacc\",\"unacc\",\"unacc\",\"unacc\",\"unacc\",\"unacc\",\"unacc\",\"unacc\",\"unacc\",\"unacc\",\"unacc\",\"unacc\",\"unacc\",\"unacc\",\"unacc\",\"unacc\",\"unacc\",\"unacc\",\"unacc\",\"unacc\",\"unacc\",\"unacc\",\"unacc\",\"unacc\",\"unacc\",\"unacc\",\"unacc\",\"unacc\",\"unacc\",\"unacc\",\"unacc\",\"unacc\",\"unacc\",\"unacc\",\"unacc\",\"unacc\",\"unacc\",\"unacc\",\"unacc\",\"unacc\",\"unacc\",\"unacc\",\"unacc\",\"unacc\",\"unacc\",\"acc\",\"acc\",\"acc\",\"unacc\",\"acc\",\"acc\",\"unacc\",\"unacc\",\"unacc\",\"acc\",\"acc\",\"acc\",\"acc\",\"acc\",\"acc\",\"unacc\",\"unacc\",\"unacc\",\"acc\",\"acc\",\"acc\",\"acc\",\"acc\",\"acc\",\"unacc\",\"unacc\",\"unacc\",\"acc\",\"acc\",\"acc\",\"acc\",\"acc\",\"acc\",\"unacc\",\"unacc\",\"unacc\",\"acc\",\"acc\",\"acc\",\"unacc\",\"acc\",\"acc\",\"unacc\",\"unacc\",\"unacc\",\"acc\",\"acc\",\"acc\",\"acc\",\"acc\",\"acc\",\"unacc\",\"unacc\",\"unacc\",\"acc\",\"acc\",\"acc\",\"acc\",\"acc\",\"acc\",\"unacc\",\"unacc\",\"unacc\",\"acc\",\"acc\",\"acc\",\"acc\",\"acc\",\"acc\",\"unacc\",\"unacc\",\"unacc\",\"unacc\",\"unacc\",\"unacc\",\"unacc\",\"unacc\",\"unacc\",\"unacc\",\"unacc\",\"unacc\",\"unacc\",\"unacc\",\"unacc\",\"unacc\",\"unacc\",\"unacc\",\"unacc\",\"unacc\",\"unacc\",\"unacc\",\"unacc\",\"unacc\",\"unacc\",\"unacc\",\"unacc\",\"unacc\",\"unacc\",\"unacc\",\"unacc\",\"unacc\",\"unacc\",\"unacc\",\"unacc\",\"unacc\",\"unacc\",\"unacc\",\"unacc\",\"acc\",\"acc\",\"acc\",\"unacc\",\"acc\",\"acc\",\"unacc\",\"unacc\",\"unacc\",\"acc\",\"acc\",\"acc\",\"acc\",\"acc\",\"acc\",\"unacc\",\"unacc\",\"unacc\",\"acc\",\"acc\",\"acc\",\"acc\",\"acc\",\"acc\",\"unacc\",\"unacc\",\"unacc\",\"acc\",\"acc\",\"acc\",\"acc\",\"acc\",\"acc\",\"unacc\",\"unacc\",\"unacc\",\"acc\",\"acc\",\"acc\",\"unacc\",\"acc\",\"acc\",\"unacc\",\"unacc\",\"unacc\",\"acc\",\"acc\",\"acc\",\"acc\",\"acc\",\"acc\",\"unacc\",\"unacc\",\"unacc\",\"acc\",\"acc\",\"acc\",\"acc\",\"acc\",\"acc\",\"unacc\",\"unacc\",\"unacc\",\"acc\",\"acc\",\"acc\",\"acc\",\"acc\",\"acc\",\"unacc\",\"unacc\",\"unacc\",\"acc\",\"acc\",\"acc\",\"unacc\",\"acc\",\"acc\",\"unacc\",\"unacc\",\"unacc\",\"acc\",\"acc\",\"acc\",\"acc\",\"acc\",\"acc\",\"unacc\",\"unacc\",\"unacc\",\"acc\",\"acc\",\"acc\",\"acc\",\"acc\",\"acc\",\"unacc\",\"unacc\",\"unacc\",\"acc\",\"acc\",\"acc\",\"acc\",\"acc\",\"acc\",\"unacc\",\"unacc\",\"unacc\",\"acc\",\"acc\",\"acc\",\"unacc\",\"acc\",\"acc\",\"unacc\",\"unacc\",\"unacc\",\"acc\",\"acc\",\"acc\",\"acc\",\"acc\",\"acc\",\"unacc\",\"unacc\",\"unacc\",\"acc\",\"acc\",\"acc\",\"acc\",\"acc\",\"acc\",\"unacc\",\"unacc\",\"unacc\",\"acc\",\"acc\",\"acc\",\"acc\",\"acc\",\"acc\",\"unacc\",\"unacc\",\"unacc\",\"acc\",\"acc\",\"acc\",\"unacc\",\"acc\",\"acc\",\"unacc\",\"unacc\",\"unacc\",\"acc\",\"acc\",\"acc\",\"acc\",\"acc\",\"acc\",\"unacc\",\"unacc\",\"unacc\",\"acc\",\"acc\",\"acc\",\"acc\",\"acc\",\"acc\",\"unacc\",\"unacc\",\"unacc\",\"acc\",\"acc\",\"acc\",\"acc\",\"acc\",\"acc\",\"unacc\",\"unacc\",\"unacc\",\"acc\",\"acc\",\"vgood\",\"unacc\",\"acc\",\"vgood\",\"unacc\",\"unacc\",\"unacc\",\"acc\",\"acc\",\"vgood\",\"acc\",\"vgood\",\"vgood\",\"unacc\",\"unacc\",\"unacc\",\"acc\",\"vgood\",\"vgood\",\"acc\",\"vgood\",\"vgood\",\"unacc\",\"unacc\",\"unacc\",\"acc\",\"vgood\",\"vgood\",\"acc\",\"vgood\",\"vgood\",\"unacc\",\"unacc\",\"unacc\",\"good\",\"good\",\"vgood\",\"unacc\",\"good\",\"vgood\",\"unacc\",\"unacc\",\"unacc\",\"good\",\"good\",\"vgood\",\"good\",\"vgood\",\"vgood\",\"unacc\",\"unacc\",\"unacc\",\"good\",\"vgood\",\"vgood\",\"good\",\"vgood\",\"vgood\",\"unacc\",\"unacc\",\"unacc\",\"good\",\"vgood\",\"vgood\",\"good\",\"vgood\",\"vgood\",\"unacc\",\"unacc\",\"unacc\",\"acc\",\"acc\",\"acc\",\"unacc\",\"acc\",\"acc\",\"unacc\",\"unacc\",\"unacc\",\"acc\",\"acc\",\"acc\",\"acc\",\"acc\",\"acc\",\"unacc\",\"unacc\",\"unacc\",\"acc\",\"acc\",\"acc\",\"acc\",\"acc\",\"acc\",\"unacc\",\"unacc\",\"unacc\",\"acc\",\"acc\",\"acc\",\"acc\",\"acc\",\"acc\",\"unacc\",\"unacc\",\"unacc\",\"acc\",\"acc\",\"vgood\",\"unacc\",\"acc\",\"vgood\",\"unacc\",\"unacc\",\"unacc\",\"acc\",\"acc\",\"vgood\",\"acc\",\"vgood\",\"vgood\",\"unacc\",\"unacc\",\"unacc\",\"acc\",\"vgood\",\"vgood\",\"acc\",\"vgood\",\"vgood\",\"unacc\",\"unacc\",\"unacc\",\"acc\",\"vgood\",\"vgood\",\"acc\",\"vgood\",\"vgood\",\"unacc\",\"unacc\",\"unacc\",\"good\",\"good\",\"vgood\",\"unacc\",\"good\",\"vgood\",\"unacc\",\"unacc\",\"unacc\",\"good\",\"good\",\"vgood\",\"good\",\"vgood\",\"vgood\",\"unacc\",\"unacc\",\"unacc\",\"good\",\"vgood\",\"vgood\",\"good\",\"vgood\",\"vgood\",\"unacc\",\"unacc\",\"unacc\",\"good\",\"vgood\",\"vgood\",\"good\",\"vgood\",\"vgood\",\"unacc\",\"unacc\",\"unacc\",\"good\",\"good\",\"vgood\",\"unacc\",\"good\",\"vgood\",\"unacc\",\"unacc\",\"unacc\",\"good\",\"good\",\"vgood\",\"good\",\"vgood\",\"vgood\",\"unacc\",\"unacc\",\"unacc\",\"good\",\"vgood\",\"vgood\",\"good\",\"vgood\",\"vgood\",\"unacc\",\"unacc\",\"unacc\",\"good\",\"vgood\",\"vgood\",\"good\",\"vgood\",\"vgood\"]}],                        {\"height\":550,\"legend\":{\"font\":{\"color\":\"black\",\"family\":\"Arial\",\"size\":16}},\"template\":{\"data\":{\"bar\":[{\"error_x\":{\"color\":\"#2a3f5f\"},\"error_y\":{\"color\":\"#2a3f5f\"},\"marker\":{\"line\":{\"color\":\"#E5ECF6\",\"width\":0.5},\"pattern\":{\"fillmode\":\"overlay\",\"size\":10,\"solidity\":0.2}},\"type\":\"bar\"}],\"barpolar\":[{\"marker\":{\"line\":{\"color\":\"#E5ECF6\",\"width\":0.5},\"pattern\":{\"fillmode\":\"overlay\",\"size\":10,\"solidity\":0.2}},\"type\":\"barpolar\"}],\"carpet\":[{\"aaxis\":{\"endlinecolor\":\"#2a3f5f\",\"gridcolor\":\"white\",\"linecolor\":\"white\",\"minorgridcolor\":\"white\",\"startlinecolor\":\"#2a3f5f\"},\"baxis\":{\"endlinecolor\":\"#2a3f5f\",\"gridcolor\":\"white\",\"linecolor\":\"white\",\"minorgridcolor\":\"white\",\"startlinecolor\":\"#2a3f5f\"},\"type\":\"carpet\"}],\"choropleth\":[{\"colorbar\":{\"outlinewidth\":0,\"ticks\":\"\"},\"type\":\"choropleth\"}],\"contour\":[{\"colorbar\":{\"outlinewidth\":0,\"ticks\":\"\"},\"colorscale\":[[0.0,\"#0d0887\"],[0.1111111111111111,\"#46039f\"],[0.2222222222222222,\"#7201a8\"],[0.3333333333333333,\"#9c179e\"],[0.4444444444444444,\"#bd3786\"],[0.5555555555555556,\"#d8576b\"],[0.6666666666666666,\"#ed7953\"],[0.7777777777777778,\"#fb9f3a\"],[0.8888888888888888,\"#fdca26\"],[1.0,\"#f0f921\"]],\"type\":\"contour\"}],\"contourcarpet\":[{\"colorbar\":{\"outlinewidth\":0,\"ticks\":\"\"},\"type\":\"contourcarpet\"}],\"heatmap\":[{\"colorbar\":{\"outlinewidth\":0,\"ticks\":\"\"},\"colorscale\":[[0.0,\"#0d0887\"],[0.1111111111111111,\"#46039f\"],[0.2222222222222222,\"#7201a8\"],[0.3333333333333333,\"#9c179e\"],[0.4444444444444444,\"#bd3786\"],[0.5555555555555556,\"#d8576b\"],[0.6666666666666666,\"#ed7953\"],[0.7777777777777778,\"#fb9f3a\"],[0.8888888888888888,\"#fdca26\"],[1.0,\"#f0f921\"]],\"type\":\"heatmap\"}],\"heatmapgl\":[{\"colorbar\":{\"outlinewidth\":0,\"ticks\":\"\"},\"colorscale\":[[0.0,\"#0d0887\"],[0.1111111111111111,\"#46039f\"],[0.2222222222222222,\"#7201a8\"],[0.3333333333333333,\"#9c179e\"],[0.4444444444444444,\"#bd3786\"],[0.5555555555555556,\"#d8576b\"],[0.6666666666666666,\"#ed7953\"],[0.7777777777777778,\"#fb9f3a\"],[0.8888888888888888,\"#fdca26\"],[1.0,\"#f0f921\"]],\"type\":\"heatmapgl\"}],\"histogram\":[{\"marker\":{\"pattern\":{\"fillmode\":\"overlay\",\"size\":10,\"solidity\":0.2}},\"type\":\"histogram\"}],\"histogram2d\":[{\"colorbar\":{\"outlinewidth\":0,\"ticks\":\"\"},\"colorscale\":[[0.0,\"#0d0887\"],[0.1111111111111111,\"#46039f\"],[0.2222222222222222,\"#7201a8\"],[0.3333333333333333,\"#9c179e\"],[0.4444444444444444,\"#bd3786\"],[0.5555555555555556,\"#d8576b\"],[0.6666666666666666,\"#ed7953\"],[0.7777777777777778,\"#fb9f3a\"],[0.8888888888888888,\"#fdca26\"],[1.0,\"#f0f921\"]],\"type\":\"histogram2d\"}],\"histogram2dcontour\":[{\"colorbar\":{\"outlinewidth\":0,\"ticks\":\"\"},\"colorscale\":[[0.0,\"#0d0887\"],[0.1111111111111111,\"#46039f\"],[0.2222222222222222,\"#7201a8\"],[0.3333333333333333,\"#9c179e\"],[0.4444444444444444,\"#bd3786\"],[0.5555555555555556,\"#d8576b\"],[0.6666666666666666,\"#ed7953\"],[0.7777777777777778,\"#fb9f3a\"],[0.8888888888888888,\"#fdca26\"],[1.0,\"#f0f921\"]],\"type\":\"histogram2dcontour\"}],\"mesh3d\":[{\"colorbar\":{\"outlinewidth\":0,\"ticks\":\"\"},\"type\":\"mesh3d\"}],\"parcoords\":[{\"line\":{\"colorbar\":{\"outlinewidth\":0,\"ticks\":\"\"}},\"type\":\"parcoords\"}],\"pie\":[{\"automargin\":true,\"type\":\"pie\"}],\"scatter\":[{\"marker\":{\"colorbar\":{\"outlinewidth\":0,\"ticks\":\"\"}},\"type\":\"scatter\"}],\"scatter3d\":[{\"line\":{\"colorbar\":{\"outlinewidth\":0,\"ticks\":\"\"}},\"marker\":{\"colorbar\":{\"outlinewidth\":0,\"ticks\":\"\"}},\"type\":\"scatter3d\"}],\"scattercarpet\":[{\"marker\":{\"colorbar\":{\"outlinewidth\":0,\"ticks\":\"\"}},\"type\":\"scattercarpet\"}],\"scattergeo\":[{\"marker\":{\"colorbar\":{\"outlinewidth\":0,\"ticks\":\"\"}},\"type\":\"scattergeo\"}],\"scattergl\":[{\"marker\":{\"colorbar\":{\"outlinewidth\":0,\"ticks\":\"\"}},\"type\":\"scattergl\"}],\"scattermapbox\":[{\"marker\":{\"colorbar\":{\"outlinewidth\":0,\"ticks\":\"\"}},\"type\":\"scattermapbox\"}],\"scatterpolar\":[{\"marker\":{\"colorbar\":{\"outlinewidth\":0,\"ticks\":\"\"}},\"type\":\"scatterpolar\"}],\"scatterpolargl\":[{\"marker\":{\"colorbar\":{\"outlinewidth\":0,\"ticks\":\"\"}},\"type\":\"scatterpolargl\"}],\"scatterternary\":[{\"marker\":{\"colorbar\":{\"outlinewidth\":0,\"ticks\":\"\"}},\"type\":\"scatterternary\"}],\"surface\":[{\"colorbar\":{\"outlinewidth\":0,\"ticks\":\"\"},\"colorscale\":[[0.0,\"#0d0887\"],[0.1111111111111111,\"#46039f\"],[0.2222222222222222,\"#7201a8\"],[0.3333333333333333,\"#9c179e\"],[0.4444444444444444,\"#bd3786\"],[0.5555555555555556,\"#d8576b\"],[0.6666666666666666,\"#ed7953\"],[0.7777777777777778,\"#fb9f3a\"],[0.8888888888888888,\"#fdca26\"],[1.0,\"#f0f921\"]],\"type\":\"surface\"}],\"table\":[{\"cells\":{\"fill\":{\"color\":\"#EBF0F8\"},\"line\":{\"color\":\"white\"}},\"header\":{\"fill\":{\"color\":\"#C8D4E3\"},\"line\":{\"color\":\"white\"}},\"type\":\"table\"}]},\"layout\":{\"annotationdefaults\":{\"arrowcolor\":\"#2a3f5f\",\"arrowhead\":0,\"arrowwidth\":1},\"autotypenumbers\":\"strict\",\"coloraxis\":{\"colorbar\":{\"outlinewidth\":0,\"ticks\":\"\"}},\"colorscale\":{\"diverging\":[[0,\"#8e0152\"],[0.1,\"#c51b7d\"],[0.2,\"#de77ae\"],[0.3,\"#f1b6da\"],[0.4,\"#fde0ef\"],[0.5,\"#f7f7f7\"],[0.6,\"#e6f5d0\"],[0.7,\"#b8e186\"],[0.8,\"#7fbc41\"],[0.9,\"#4d9221\"],[1,\"#276419\"]],\"sequential\":[[0.0,\"#0d0887\"],[0.1111111111111111,\"#46039f\"],[0.2222222222222222,\"#7201a8\"],[0.3333333333333333,\"#9c179e\"],[0.4444444444444444,\"#bd3786\"],[0.5555555555555556,\"#d8576b\"],[0.6666666666666666,\"#ed7953\"],[0.7777777777777778,\"#fb9f3a\"],[0.8888888888888888,\"#fdca26\"],[1.0,\"#f0f921\"]],\"sequentialminus\":[[0.0,\"#0d0887\"],[0.1111111111111111,\"#46039f\"],[0.2222222222222222,\"#7201a8\"],[0.3333333333333333,\"#9c179e\"],[0.4444444444444444,\"#bd3786\"],[0.5555555555555556,\"#d8576b\"],[0.6666666666666666,\"#ed7953\"],[0.7777777777777778,\"#fb9f3a\"],[0.8888888888888888,\"#fdca26\"],[1.0,\"#f0f921\"]]},\"colorway\":[\"#636efa\",\"#EF553B\",\"#00cc96\",\"#ab63fa\",\"#FFA15A\",\"#19d3f3\",\"#FF6692\",\"#B6E880\",\"#FF97FF\",\"#FECB52\"],\"font\":{\"color\":\"#2a3f5f\"},\"geo\":{\"bgcolor\":\"white\",\"lakecolor\":\"white\",\"landcolor\":\"#E5ECF6\",\"showlakes\":true,\"showland\":true,\"subunitcolor\":\"white\"},\"hoverlabel\":{\"align\":\"left\"},\"hovermode\":\"closest\",\"mapbox\":{\"style\":\"light\"},\"paper_bgcolor\":\"white\",\"plot_bgcolor\":\"#E5ECF6\",\"polar\":{\"angularaxis\":{\"gridcolor\":\"white\",\"linecolor\":\"white\",\"ticks\":\"\"},\"bgcolor\":\"#E5ECF6\",\"radialaxis\":{\"gridcolor\":\"white\",\"linecolor\":\"white\",\"ticks\":\"\"}},\"scene\":{\"xaxis\":{\"backgroundcolor\":\"#E5ECF6\",\"gridcolor\":\"white\",\"gridwidth\":2,\"linecolor\":\"white\",\"showbackground\":true,\"ticks\":\"\",\"zerolinecolor\":\"white\"},\"yaxis\":{\"backgroundcolor\":\"#E5ECF6\",\"gridcolor\":\"white\",\"gridwidth\":2,\"linecolor\":\"white\",\"showbackground\":true,\"ticks\":\"\",\"zerolinecolor\":\"white\"},\"zaxis\":{\"backgroundcolor\":\"#E5ECF6\",\"gridcolor\":\"white\",\"gridwidth\":2,\"linecolor\":\"white\",\"showbackground\":true,\"ticks\":\"\",\"zerolinecolor\":\"white\"}},\"shapedefaults\":{\"line\":{\"color\":\"#2a3f5f\"}},\"ternary\":{\"aaxis\":{\"gridcolor\":\"white\",\"linecolor\":\"white\",\"ticks\":\"\"},\"baxis\":{\"gridcolor\":\"white\",\"linecolor\":\"white\",\"ticks\":\"\"},\"bgcolor\":\"#E5ECF6\",\"caxis\":{\"gridcolor\":\"white\",\"linecolor\":\"white\",\"ticks\":\"\"}},\"title\":{\"x\":0.05},\"xaxis\":{\"automargin\":true,\"gridcolor\":\"white\",\"linecolor\":\"white\",\"ticks\":\"\",\"title\":{\"standoff\":15},\"zerolinecolor\":\"white\",\"zerolinewidth\":2},\"yaxis\":{\"automargin\":true,\"gridcolor\":\"white\",\"linecolor\":\"white\",\"ticks\":\"\",\"title\":{\"standoff\":15},\"zerolinecolor\":\"white\",\"zerolinewidth\":2}}},\"title\":{\"font\":{\"color\":\"darkred\",\"family\":\"Arial\",\"size\":20},\"text\":\"Safety\",\"x\":0.45,\"y\":0.875},\"width\":800,\"xaxis\":{\"showticklabels\":true,\"tickfont\":{\"color\":\"black\",\"family\":\"Arial\",\"size\":16},\"tickmode\":\"array\",\"ticktext\":[\"Unacceptable\",\"Acceptable\",\"Good\",\"Very Good\"],\"tickvals\":[\"unacc\",\"acc\",\"good\",\"vgood\"],\"title\":{\"text\":\"Condition\"}},\"yaxis\":{\"tickfont\":{\"color\":\"black\",\"family\":\"Arial\",\"size\":16},\"title\":{\"text\":\"Number of Cars\"}}},                        {\"responsive\": true}                    ).then(function(){\n",
       "                            \n",
       "var gd = document.getElementById('4f63e166-e2bc-4d5f-908e-96880aeb726d');\n",
       "var x = new MutationObserver(function (mutations, observer) {{\n",
       "        var display = window.getComputedStyle(gd).display;\n",
       "        if (!display || display === 'none') {{\n",
       "            console.log([gd, 'removed!']);\n",
       "            Plotly.purge(gd);\n",
       "            observer.disconnect();\n",
       "        }}\n",
       "}});\n",
       "\n",
       "// Listen for the removal of the full notebook cells\n",
       "var notebookContainer = gd.closest('#notebook-container');\n",
       "if (notebookContainer) {{\n",
       "    x.observe(notebookContainer, {childList: true});\n",
       "}}\n",
       "\n",
       "// Listen for the clearing of the current output cell\n",
       "var outputEl = gd.closest('.output');\n",
       "if (outputEl) {{\n",
       "    x.observe(outputEl, {childList: true});\n",
       "}}\n",
       "\n",
       "                        })                };                });            </script>        </div>"
      ]
     },
     "metadata": {},
     "output_type": "display_data"
    }
   ],
   "source": [
    "fg5 = go.Figure(layout=go.Layout(height=550, width=800))\n",
    "\n",
    "fg5.add_trace(go.Histogram(x=car_df.loc[car_df.Safety==\"low\", \"Class\"],\n",
    "                           name = \"Low\",\n",
    "                           marker=dict(color=\"#fb9f3a\")))\n",
    "fg5.add_trace(go.Histogram(x=car_df.loc[car_df.Safety==\"med\", \"Class\"],\n",
    "                           name = \"Medium\",\n",
    "                           marker=dict(color=\"#d8576b\")))\n",
    "fg5.add_trace(go.Histogram(x=car_df.loc[car_df.Safety==\"high\", \"Class\"],\n",
    "                           name = \"High\",\n",
    "                           marker=dict(color=\"#9c179e\")))\n",
    "\n",
    "fg5.update_xaxes(title_text=\"Condition\", \n",
    "                 showticklabels=True, \n",
    "                 tickmode=\"array\",\n",
    "                 tickvals=[\"unacc\", \"acc\", \"good\", \"vgood\"],\n",
    "                 ticktext=[\"Unacceptable\", \"Acceptable\", \"Good\", \"Very Good\"],\n",
    "                 tickfont=dict(family=\"Arial\", size=16, color=\"black\"))\n",
    "\n",
    "fg5.update_yaxes(title_text=\"Number of Cars\", tickfont=dict(family=\"Arial\", size=16, color=\"black\"))\n",
    "\n",
    "fg5.update_layout(legend = dict(font = dict(family = \"Arial\", size = 16, color=\"black\")),\n",
    "                  title_text = 'Safety',\n",
    "                  title_font = dict(size=20, family='Arial', color='darkred'),\n",
    "                  title_x=0.45,\n",
    "                  title_y=0.875)\n",
    "\n",
    "fg5.show()"
   ]
  },
  {
   "cell_type": "code",
   "execution_count": 24,
   "metadata": {},
   "outputs": [],
   "source": [
    "df_enc = car_df.copy()\n",
    "\n",
    "price_map = dict({'vhigh':3,\n",
    "                  'high':2,\n",
    "                  'med':1,\n",
    "                  'low':0})\n",
    "df_enc.Price = car_df.Price.map(price_map)\n",
    "\n",
    "maintenance_map = dict({'vhigh':3,\n",
    "                        'high':2,\n",
    "                        'med':1,\n",
    "                        'low':0})\n",
    "df_enc.Maintenance = car_df.Maintenance.map(maintenance_map)\n",
    "\n",
    "numdoors_map = dict({'5more':3,\n",
    "                     '4':2,\n",
    "                     '3':1,\n",
    "                     '2':0})\n",
    "df_enc.NumDoors = car_df.NumDoors.map(numdoors_map)\n",
    "\n",
    "numpersons_map = dict({'more':2,\n",
    "                       '4':1,\n",
    "                       '2':0})\n",
    "df_enc.NumPersons = car_df.NumPersons.map(numpersons_map)\n",
    "\n",
    "lugboot_map = dict({'big':2,\n",
    "                    'med':1,\n",
    "                    'small':0})\n",
    "df_enc.LugBoot = car_df.LugBoot.map(lugboot_map)\n",
    "\n",
    "safety_map = dict({'high':2,\n",
    "                   'med':1,\n",
    "                   'low':0})\n",
    "df_enc.Safety = car_df.Safety.map(safety_map)\n",
    "\n",
    "le = LabelEncoder()\n",
    "df_enc.Class = le.fit_transform(df_enc.Class)"
   ]
  },
  {
   "cell_type": "code",
   "execution_count": 25,
   "metadata": {},
   "outputs": [
    {
     "data": {
      "text/plain": [
       "array([2, 2, 2, ..., 2, 1, 3])"
      ]
     },
     "execution_count": 25,
     "metadata": {},
     "output_type": "execute_result"
    }
   ],
   "source": [
    "enc_class = le.fit_transform(df_enc.Class)\n",
    "enc_class"
   ]
  },
  {
   "cell_type": "code",
   "execution_count": 26,
   "metadata": {},
   "outputs": [
    {
     "data": {
      "text/html": [
       "<div>\n",
       "<style scoped>\n",
       "    .dataframe tbody tr th:only-of-type {\n",
       "        vertical-align: middle;\n",
       "    }\n",
       "\n",
       "    .dataframe tbody tr th {\n",
       "        vertical-align: top;\n",
       "    }\n",
       "\n",
       "    .dataframe thead th {\n",
       "        text-align: right;\n",
       "    }\n",
       "</style>\n",
       "<table border=\"1\" class=\"dataframe\">\n",
       "  <thead>\n",
       "    <tr style=\"text-align: right;\">\n",
       "      <th></th>\n",
       "      <th>Price</th>\n",
       "      <th>Maintenance</th>\n",
       "      <th>NumDoors</th>\n",
       "      <th>NumPersons</th>\n",
       "      <th>LugBoot</th>\n",
       "      <th>Safety</th>\n",
       "      <th>Class</th>\n",
       "    </tr>\n",
       "  </thead>\n",
       "  <tbody>\n",
       "    <tr>\n",
       "      <th>0</th>\n",
       "      <td>3</td>\n",
       "      <td>3</td>\n",
       "      <td>0</td>\n",
       "      <td>0</td>\n",
       "      <td>0</td>\n",
       "      <td>0</td>\n",
       "      <td>2</td>\n",
       "    </tr>\n",
       "    <tr>\n",
       "      <th>1</th>\n",
       "      <td>3</td>\n",
       "      <td>3</td>\n",
       "      <td>0</td>\n",
       "      <td>0</td>\n",
       "      <td>0</td>\n",
       "      <td>1</td>\n",
       "      <td>2</td>\n",
       "    </tr>\n",
       "    <tr>\n",
       "      <th>2</th>\n",
       "      <td>3</td>\n",
       "      <td>3</td>\n",
       "      <td>0</td>\n",
       "      <td>0</td>\n",
       "      <td>0</td>\n",
       "      <td>2</td>\n",
       "      <td>2</td>\n",
       "    </tr>\n",
       "    <tr>\n",
       "      <th>3</th>\n",
       "      <td>3</td>\n",
       "      <td>3</td>\n",
       "      <td>0</td>\n",
       "      <td>0</td>\n",
       "      <td>1</td>\n",
       "      <td>0</td>\n",
       "      <td>2</td>\n",
       "    </tr>\n",
       "    <tr>\n",
       "      <th>4</th>\n",
       "      <td>3</td>\n",
       "      <td>3</td>\n",
       "      <td>0</td>\n",
       "      <td>0</td>\n",
       "      <td>1</td>\n",
       "      <td>1</td>\n",
       "      <td>2</td>\n",
       "    </tr>\n",
       "  </tbody>\n",
       "</table>\n",
       "</div>"
      ],
      "text/plain": [
       "   Price  Maintenance  NumDoors  NumPersons  LugBoot  Safety  Class\n",
       "0      3            3         0           0        0       0      2\n",
       "1      3            3         0           0        0       1      2\n",
       "2      3            3         0           0        0       2      2\n",
       "3      3            3         0           0        1       0      2\n",
       "4      3            3         0           0        1       1      2"
      ]
     },
     "execution_count": 26,
     "metadata": {},
     "output_type": "execute_result"
    }
   ],
   "source": [
    "df_enc.head()"
   ]
  },
  {
   "cell_type": "code",
   "execution_count": 27,
   "metadata": {},
   "outputs": [],
   "source": [
    "X_car = df_enc.iloc[:,:-1]\n",
    "t_car = df_enc.iloc[:,-1]"
   ]
  },
  {
   "cell_type": "code",
   "execution_count": 28,
   "metadata": {},
   "outputs": [],
   "source": [
    "def train_test(X, t, md=None, mss=2, mf=\"auto\", cr=\"gini\", msl=1):\n",
    "    # KFold object instantiation\n",
    "    kf = StratifiedKFold(6, shuffle=True)\n",
    "\n",
    "    # Decision Tree Model\n",
    "    model = RandomForestClassifier(n_estimators=100, max_depth=md, min_samples_split=mss, max_features=mf, criterion=cr, min_samples_leaf=msl)\n",
    "    dt = model.fit(X, t)\n",
    "    \n",
    "    # Model Performance Evaluation\n",
    "    mcc_scorer = make_scorer(matthews_corrcoef)\n",
    "    mcc_scores = cross_val_score(model, X, t, scoring=mcc_scorer, cv=kf)\n",
    "    acc_scores = cross_val_score(model, X, t, scoring=\"accuracy\", cv=kf)\n",
    "    \n",
    "    mean_mcc = np.mean(mcc_scores)\n",
    "    mean_acc = np.mean(acc_scores)\n",
    "    \n",
    "    d = dict({\"Accuracy score\":mean_acc,\n",
    "              \"MCC score\":mean_mcc,\n",
    "              })\n",
    "  \n",
    "    performance = pd.Series(d, index=d.keys())\n",
    " \n",
    "    return performance"
   ]
  },
  {
   "cell_type": "code",
   "execution_count": 29,
   "metadata": {},
   "outputs": [],
   "source": [
    "max_features = ['auto', 'sqrt', 'log2']\n",
    "\n",
    "max_depth = [6, 8, 10, 12]\n",
    "max_depth.append(None)\n",
    "\n",
    "min_samples_split = [2, 5, 10]\n",
    "\n",
    "min_samples_leaf = [1, 2, 4]\n",
    "\n",
    "crt = [\"gini\", \"entropy\"]\n",
    "\n",
    "# Create the random grid\n",
    "random_grid = {'max_depth': max_depth,\n",
    "               'max_features': max_features,\n",
    "               'min_samples_split': min_samples_split,\n",
    "               'min_samples_leaf': min_samples_leaf,\n",
    "               'criterion': crt}"
   ]
  },
  {
   "cell_type": "code",
   "execution_count": 30,
   "metadata": {},
   "outputs": [
    {
     "name": "stdout",
     "output_type": "stream",
     "text": [
      "Fitting 4 folds for each of 100 candidates, totalling 400 fits\n"
     ]
    }
   ],
   "source": [
    "from sklearn.model_selection import RandomizedSearchCV\n",
    "\n",
    "dt_model = RandomForestClassifier()\n",
    "kfd = StratifiedKFold(4, shuffle=True, random_state=1)\n",
    "\n",
    "mcc_scorer = make_scorer(matthews_corrcoef)\n",
    "dt_random = RandomizedSearchCV(estimator=dt_model, \n",
    "                               param_distributions=random_grid, \n",
    "                               n_iter = 100, \n",
    "                               scoring=mcc_scorer, \n",
    "                               cv = kfd, \n",
    "                               verbose=3,\n",
    "                               n_jobs=-1,\n",
    "                               random_state=42,  \n",
    "                               return_train_score=True)\n",
    "\n",
    "# Fit the random search model\n",
    "dt_random.fit(X_car, t_car);"
   ]
  },
  {
   "cell_type": "code",
   "execution_count": 31,
   "metadata": {},
   "outputs": [
    {
     "data": {
      "text/plain": [
       "{'min_samples_split': 2,\n",
       " 'min_samples_leaf': 1,\n",
       " 'max_features': 'log2',\n",
       " 'max_depth': None,\n",
       " 'criterion': 'gini'}"
      ]
     },
     "execution_count": 31,
     "metadata": {},
     "output_type": "execute_result"
    }
   ],
   "source": [
    "dt_random.best_params_"
   ]
  },
  {
   "cell_type": "code",
   "execution_count": 32,
   "metadata": {},
   "outputs": [
    {
     "data": {
      "text/plain": [
       "Accuracy score    0.980903\n",
       "MCC score         0.969069\n",
       "dtype: float64"
      ]
     },
     "execution_count": 32,
     "metadata": {},
     "output_type": "execute_result"
    }
   ],
   "source": [
    "train_test(X_car, t_car, cr=\"gini\", mf=\"sqrt\", md=12, mss=2, msl=1)"
   ]
  },
  {
   "cell_type": "code",
   "execution_count": null,
   "metadata": {},
   "outputs": [],
   "source": []
  }
 ],
 "metadata": {
  "kernelspec": {
   "display_name": "Python 3",
   "language": "python",
   "name": "python3"
  },
  "language_info": {
   "codemirror_mode": {
    "name": "ipython",
    "version": 3
   },
   "file_extension": ".py",
   "mimetype": "text/x-python",
   "name": "python",
   "nbconvert_exporter": "python",
   "pygments_lexer": "ipython3",
   "version": "3.6.13"
  }
 },
 "nbformat": 4,
 "nbformat_minor": 4
}
